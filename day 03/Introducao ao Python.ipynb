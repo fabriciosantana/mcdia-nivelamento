{
 "cells": [
  {
   "cell_type": "markdown",
   "id": "31f25970-1945-4166-8471-3730f6877495",
   "metadata": {
    "editable": true,
    "slideshow": {
     "slide_type": "slide"
    },
    "tags": []
   },
   "source": [
    "# Introdução ao Python"
   ]
  },
  {
   "cell_type": "markdown",
   "id": "37a5a8dd-d1d7-4358-a7a4-eb0d368c905d",
   "metadata": {
    "slideshow": {
     "slide_type": "-"
    }
   },
   "source": [
    "## Sumário da Aula"
   ]
  },
  {
   "cell_type": "markdown",
   "id": "1ee2a621-96b9-495f-bb80-f63c272bdcc3",
   "metadata": {
    "editable": true,
    "slideshow": {
     "slide_type": "-"
    },
    "tags": []
   },
   "source": [
    "<ul>\n",
    "    <li>Semântica da Linguagem 🐍</li>\n",
    "    <li>Tipos de Dados 🎲 Escalares 🪜</li>\n",
    "    <li>Controle 🕹️ de Fluxo 🔄</li>\n",
    "</ul>"
   ]
  },
  {
   "cell_type": "markdown",
   "id": "bd14db4a-d360-4e5b-968e-ee11a557539f",
   "metadata": {
    "slideshow": {
     "slide_type": "slide"
    }
   },
   "source": [
    "## Semântica da Linguagem 🐍"
   ]
  },
  {
   "cell_type": "markdown",
   "id": "ba76d07f-a0c3-4419-9e18-a9590f6407dd",
   "metadata": {
    "slideshow": {
     "slide_type": "-"
    }
   },
   "source": [
    "<pre>Python é uma linguagem desenhada para distingui-la das demais pela legibilidade, simplicidade e clareza</pre>"
   ]
  },
  {
   "cell_type": "markdown",
   "id": "ed20a170-032b-4059-9270-37b29dffe4c4",
   "metadata": {
    "slideshow": {
     "slide_type": "subslide"
    }
   },
   "source": [
    "### Indentação"
   ]
  },
  {
   "cell_type": "markdown",
   "id": "2fbe1278-2ff7-42d1-8939-25ea27d4674b",
   "metadata": {
    "slideshow": {
     "slide_type": "-"
    }
   },
   "source": [
    "<pre>Use espaços em branco (tab ou espaço) para estruturar o código\n",
    "\n",
    "Dois-pontos (<b>:</b>) serve para indicar o início de um bloco de código, que deve ser indentado exatamente igual</pre>\n",
    "\n",
    "👉 dica: o Jupyter notebook insere automaticamente 4 espaços em branco para novas linhas após um dois-pontos (<b>:</b>)"
   ]
  },
  {
   "cell_type": "code",
   "execution_count": 1,
   "id": "ca6fbaf3-3de3-4eee-bddd-34385bb90081",
   "metadata": {
    "slideshow": {
     "slide_type": "-"
    },
    "tags": []
   },
   "outputs": [
    {
     "name": "stdout",
     "output_type": "stream",
     "text": [
      "você não está aprovado\n"
     ]
    }
   ],
   "source": [
    "nota = 5.0\n",
    "\n",
    "if nota >= 7.0:\n",
    "    print('você está aprovado')\n",
    "else:\n",
    "    print('você não está aprovado')"
   ]
  },
  {
   "cell_type": "markdown",
   "id": "e0eb020e-0264-49d3-a567-c1b3bf52ac18",
   "metadata": {
    "slideshow": {
     "slide_type": "subslide"
    },
    "tags": []
   },
   "source": [
    "### Tudo é um objeto"
   ]
  },
  {
   "cell_type": "markdown",
   "id": "105dcbff-f146-4b83-86fa-cde0d4e450c0",
   "metadata": {
    "slideshow": {
     "slide_type": "-"
    }
   },
   "source": [
    "<pre>Tudo (número, string, estrutura de dados, função, etc.) no Python é \"objeto\"\n",
    "\n",
    "Cada objeto é associado com um tipo (ex. número, string, função) e dados internos</pre>"
   ]
  },
  {
   "cell_type": "code",
   "execution_count": 2,
   "id": "597597e9-51fc-488b-b31a-ae24e1396062",
   "metadata": {
    "slideshow": {
     "slide_type": "-"
    },
    "tags": []
   },
   "outputs": [],
   "source": [
    "a = 8"
   ]
  },
  {
   "cell_type": "code",
   "execution_count": 3,
   "id": "528741fc",
   "metadata": {
    "slideshow": {
     "slide_type": "-"
    }
   },
   "outputs": [],
   "source": [
    "a_flutuante = 8.1"
   ]
  },
  {
   "cell_type": "markdown",
   "id": "656de0f3-a49c-463a-a8fd-84ab38548b58",
   "metadata": {
    "slideshow": {
     "slide_type": "subslide"
    }
   },
   "source": [
    "<pre>Você pode ver o tipo associado a um objeto...</pre>"
   ]
  },
  {
   "cell_type": "code",
   "execution_count": 4,
   "id": "fc1028ba-9cc1-4ab2-a95c-973b7bba65d4",
   "metadata": {
    "slideshow": {
     "slide_type": "-"
    },
    "tags": []
   },
   "outputs": [
    {
     "data": {
      "text/plain": [
       "int"
      ]
     },
     "execution_count": 4,
     "metadata": {},
     "output_type": "execute_result"
    }
   ],
   "source": [
    "type(a)"
   ]
  },
  {
   "cell_type": "code",
   "execution_count": 5,
   "id": "cbd9544a",
   "metadata": {
    "slideshow": {
     "slide_type": "-"
    }
   },
   "outputs": [
    {
     "data": {
      "text/plain": [
       "float"
      ]
     },
     "execution_count": 5,
     "metadata": {},
     "output_type": "execute_result"
    }
   ],
   "source": [
    "type(a_flutuante)"
   ]
  },
  {
   "cell_type": "markdown",
   "id": "dde149c8-2d03-433a-8ceb-fda0135ccf9a",
   "metadata": {
    "slideshow": {
     "slide_type": "subslide"
    }
   },
   "source": [
    "<pre>Um objeto também pode ter funções associadas que acessam os dados do objeto</pre>"
   ]
  },
  {
   "cell_type": "code",
   "execution_count": 6,
   "id": "3cc50e3d-4ac3-4db6-907c-a80b15b2fc37",
   "metadata": {
    "slideshow": {
     "slide_type": "-"
    },
    "tags": []
   },
   "outputs": [
    {
     "data": {
      "text/plain": [
       "4"
      ]
     },
     "execution_count": 6,
     "metadata": {},
     "output_type": "execute_result"
    }
   ],
   "source": [
    "#quantos bits são necessários para representar o número (8) em binário\n",
    "a.bit_length()"
   ]
  },
  {
   "cell_type": "markdown",
   "id": "ba06aa57-377c-4f00-874c-9b1647dd9d47",
   "metadata": {
    "slideshow": {
     "slide_type": "-"
    }
   },
   "source": [
    "👉 dica: o Jupyter notebook apresenta os atributos e métodos com a.<b>tab</b></code>"
   ]
  },
  {
   "cell_type": "code",
   "execution_count": 7,
   "id": "f1250a75-983c-498c-aa9b-eb1f0da44321",
   "metadata": {
    "slideshow": {
     "slide_type": "-"
    },
    "tags": []
   },
   "outputs": [],
   "source": [
    "#a."
   ]
  },
  {
   "cell_type": "markdown",
   "id": "0440c1a4-78d8-4f62-adf2-557283989c9a",
   "metadata": {
    "slideshow": {
     "slide_type": "subslide"
    }
   },
   "source": [
    "👉 mais dica: veja que atributos e métodos podem variar dependendo do tipo associado ao objeto"
   ]
  },
  {
   "cell_type": "code",
   "execution_count": 8,
   "id": "cc6aad69-b7d8-4472-a095-5d37876dca00",
   "metadata": {
    "slideshow": {
     "slide_type": "-"
    },
    "tags": []
   },
   "outputs": [],
   "source": [
    "b = \"cadeia de caracteres\""
   ]
  },
  {
   "cell_type": "code",
   "execution_count": 9,
   "id": "e3fe64cd-40d1-4995-a7db-96574edb678d",
   "metadata": {
    "slideshow": {
     "slide_type": "-"
    },
    "tags": []
   },
   "outputs": [
    {
     "data": {
      "text/plain": [
       "str"
      ]
     },
     "execution_count": 9,
     "metadata": {},
     "output_type": "execute_result"
    }
   ],
   "source": [
    "type(b)"
   ]
  },
  {
   "cell_type": "code",
   "execution_count": 10,
   "id": "944a8f54-67d8-4917-af85-65e3afd3f88f",
   "metadata": {
    "slideshow": {
     "slide_type": "subslide"
    },
    "tags": []
   },
   "outputs": [
    {
     "data": {
      "text/plain": [
       "'Cadeia de caracteres'"
      ]
     },
     "execution_count": 10,
     "metadata": {},
     "output_type": "execute_result"
    }
   ],
   "source": [
    "b.capitalize()"
   ]
  },
  {
   "cell_type": "code",
   "execution_count": 11,
   "id": "19fe6050-2177-4bb6-a3c0-85c3931c3aeb",
   "metadata": {
    "slideshow": {
     "slide_type": "-"
    },
    "tags": []
   },
   "outputs": [
    {
     "data": {
      "text/plain": [
       "'CADEIA DE CARACTERES'"
      ]
     },
     "execution_count": 11,
     "metadata": {},
     "output_type": "execute_result"
    }
   ],
   "source": [
    "b.upper()"
   ]
  },
  {
   "cell_type": "markdown",
   "id": "861c19d8-527d-4989-a91d-c49ad4ac176a",
   "metadata": {
    "slideshow": {
     "slide_type": "subslide"
    }
   },
   "source": [
    "### Comentários"
   ]
  },
  {
   "cell_type": "markdown",
   "id": "7bfb5d2b-2624-48b4-b281-eced7945cacc",
   "metadata": {
    "slideshow": {
     "slide_type": "-"
    }
   },
   "source": [
    "<pre>Qualquer linha de código precedida por cerquilha/tralha (<b>#</b>) é ignorada</pre>\n",
    "\n",
    "👉 dica: o Jupyter notebook insere/remove cerquilha/tralha em múltiplas linhas caso as selecione e aperte <code>ctrl + /</code>\n",
    "\n",
    "👉 mais dica: Recomendamos o uso desse recurso para explicar seus códigos para consultas futuras ou compartilhamento."
   ]
  },
  {
   "cell_type": "code",
   "execution_count": 12,
   "id": "88e72a2c-cf2d-45a5-b16f-a65f63debdf8",
   "metadata": {
    "slideshow": {
     "slide_type": "-"
    }
   },
   "outputs": [
    {
     "data": {
      "text/plain": [
       "8"
      ]
     },
     "execution_count": 12,
     "metadata": {},
     "output_type": "execute_result"
    }
   ],
   "source": [
    "a = 8\n",
    "# a = 16\n",
    "a"
   ]
  },
  {
   "cell_type": "markdown",
   "id": "3c23a603-478e-48f9-a25e-42f015a30a2c",
   "metadata": {
    "slideshow": {
     "slide_type": "subslide"
    }
   },
   "source": [
    "### Chamadas de função e de métodos de objeto"
   ]
  },
  {
   "cell_type": "markdown",
   "id": "827e15c2-1058-45ed-8c68-d6703e92d583",
   "metadata": {
    "slideshow": {
     "slide_type": "-"
    }
   },
   "source": [
    "<pre>Você chama uma função usando parênteses com zero ou mais argumentos, separados por vírgula (<b>,</b>)</pre>\n",
    "\n"
   ]
  },
  {
   "cell_type": "markdown",
   "id": "93dac669-1389-49f5-bb9b-8e750aca8488",
   "metadata": {
    "slideshow": {
     "slide_type": "-"
    }
   },
   "source": [
    "<code>f()\n",
    "g(x, y, z)\n",
    "</code>"
   ]
  },
  {
   "cell_type": "code",
   "execution_count": 13,
   "id": "32dc7423-3ed8-4df3-a469-8a2644b8fcdf",
   "metadata": {
    "slideshow": {
     "slide_type": "-"
    },
    "tags": []
   },
   "outputs": [
    {
     "data": {
      "text/plain": [
       "int"
      ]
     },
     "execution_count": 13,
     "metadata": {},
     "output_type": "execute_result"
    }
   ],
   "source": [
    "type(a)"
   ]
  },
  {
   "cell_type": "markdown",
   "id": "d5371405-4fdc-452f-a598-cd4dc4a959c4",
   "metadata": {
    "slideshow": {
     "slide_type": "subslide"
    }
   },
   "source": [
    "<pre>opcionalmente, você pode atribuir um valor retornado pela função a uma variável</pre>"
   ]
  },
  {
   "cell_type": "markdown",
   "id": "cfd19376-62e6-46a5-8687-04280676a703",
   "metadata": {
    "slideshow": {
     "slide_type": "-"
    }
   },
   "source": [
    "<code>result = h(x, y, z)</code>"
   ]
  },
  {
   "cell_type": "code",
   "execution_count": 14,
   "id": "906cb381-2175-4fa4-8fec-8a4c0424f33e",
   "metadata": {
    "slideshow": {
     "slide_type": "-"
    },
    "tags": []
   },
   "outputs": [],
   "source": [
    "b = type(a)"
   ]
  },
  {
   "cell_type": "markdown",
   "id": "859b59c7-a6dc-4d27-885c-46563b940f2a",
   "metadata": {
    "slideshow": {
     "slide_type": "-"
    },
    "tags": []
   },
   "source": [
    "<pre>quase toda função tem função associada, mais comumente designado como <b>método</b>, que pode ser acessada com ponto (<b>.</b>)</pre>"
   ]
  },
  {
   "cell_type": "code",
   "execution_count": 15,
   "id": "1230ef4d-12b5-4c2c-8923-76329613538d",
   "metadata": {
    "slideshow": {
     "slide_type": "-"
    },
    "tags": []
   },
   "outputs": [
    {
     "data": {
      "text/plain": [
       "4"
      ]
     },
     "execution_count": 15,
     "metadata": {},
     "output_type": "execute_result"
    }
   ],
   "source": [
    "a.bit_length()"
   ]
  },
  {
   "cell_type": "markdown",
   "id": "682c1a58-4ccf-4672-b724-d89a197ba61d",
   "metadata": {
    "slideshow": {
     "slide_type": "subslide"
    }
   },
   "source": [
    "### Variáveis e Passagem de Argumentos"
   ]
  },
  {
   "cell_type": "markdown",
   "id": "075d82d1-8f4c-4b06-8cea-e53d17957a43",
   "metadata": {
    "slideshow": {
     "slide_type": "-"
    }
   },
   "source": [
    "<pre>Uma atribuição a uma variável é feita com = (<b>igual</b>).</pre>\n",
    "\n",
    "👉 Na prática, você está criando uma referência ao objeto do lado direito do sinal de igualdade"
   ]
  },
  {
   "cell_type": "markdown",
   "id": "30716ab7-55df-4c13-9d7a-34037dad2dbc",
   "metadata": {
    "slideshow": {
     "slide_type": "-"
    },
    "tags": []
   },
   "source": [
    "<img src='https://wesmckinney.com/book/images/pda3_0205.png' width=200 style=\"float: left;\">"
   ]
  },
  {
   "cell_type": "code",
   "execution_count": 16,
   "id": "e58542a4-7fbf-463e-84ec-2ffc9cf19cca",
   "metadata": {
    "slideshow": {
     "slide_type": "-"
    },
    "tags": []
   },
   "outputs": [],
   "source": [
    "a = [1, 2, 3]\n",
    "b = a"
   ]
  },
  {
   "cell_type": "code",
   "execution_count": 17,
   "id": "cd7a0cb6-7ede-44fe-9f5c-bc1ad21742f8",
   "metadata": {
    "slideshow": {
     "slide_type": "-"
    },
    "tags": []
   },
   "outputs": [],
   "source": [
    "a.append(4)"
   ]
  },
  {
   "cell_type": "code",
   "execution_count": 18,
   "id": "a32875ce-7b7f-47ac-8910-366f2a462b8c",
   "metadata": {
    "slideshow": {
     "slide_type": "-"
    },
    "tags": []
   },
   "outputs": [
    {
     "data": {
      "text/plain": [
       "[1, 2, 3, 4]"
      ]
     },
     "execution_count": 18,
     "metadata": {},
     "output_type": "execute_result"
    }
   ],
   "source": [
    "b"
   ]
  },
  {
   "cell_type": "markdown",
   "id": "d78467a4-e0bc-4c4d-9509-01b721d11dc4",
   "metadata": {
    "slideshow": {
     "slide_type": "subslide"
    }
   },
   "source": [
    "### Referência Dinâmica e Tipos Fortes"
   ]
  },
  {
   "cell_type": "markdown",
   "id": "3c01158e-990e-4e18-aa4e-2d305576c5ab",
   "metadata": {
    "slideshow": {
     "slide_type": "-"
    }
   },
   "source": [
    "<pre>Python é considerada fortemente <a href='https://en.wikipedia.org/wiki/Strong_and_weak_typing'>tipada<a></pre>"
   ]
  },
  {
   "cell_type": "markdown",
   "id": "b61dae12-e58f-437f-897e-07f29630cf51",
   "metadata": {
    "slideshow": {
     "slide_type": "-"
    }
   },
   "source": [
    "<pre>Você pode realizar conversões implícitas apenas quando for \"óbvio\"</pre>"
   ]
  },
  {
   "cell_type": "code",
   "execution_count": 19,
   "id": "6bb9eb66-75a5-4d2f-9b11-aa0d3a134325",
   "metadata": {
    "slideshow": {
     "slide_type": "subslide"
    }
   },
   "outputs": [
    {
     "data": {
      "text/plain": [
       "7.5"
      ]
     },
     "execution_count": 19,
     "metadata": {},
     "output_type": "execute_result"
    }
   ],
   "source": [
    "a = 3\n",
    "b = 4.5\n",
    "a + b"
   ]
  },
  {
   "cell_type": "code",
   "execution_count": 20,
   "id": "a6d030e6-97f2-47d1-8c65-03c04dee44ec",
   "metadata": {
    "slideshow": {
     "slide_type": "-"
    },
    "tags": []
   },
   "outputs": [],
   "source": [
    "# a = '3'\n",
    "# b = 4.5\n",
    "# a + b"
   ]
  },
  {
   "cell_type": "code",
   "execution_count": 21,
   "id": "44a8b98e-2f0e-48ff-b6cd-59f321c0dda3",
   "metadata": {
    "slideshow": {
     "slide_type": "-"
    },
    "tags": []
   },
   "outputs": [
    {
     "data": {
      "text/plain": [
       "(3, 1)"
      ]
     },
     "execution_count": 21,
     "metadata": {},
     "output_type": "execute_result"
    }
   ],
   "source": [
    "a = 3\n",
    "a.as_integer_ratio()"
   ]
  },
  {
   "cell_type": "markdown",
   "id": "455cd0f5-4d08-4cf8-b569-dd2e696bac53",
   "metadata": {
    "slideshow": {
     "slide_type": "subslide"
    }
   },
   "source": [
    "### Objetos Mutáveis e Imutáveis"
   ]
  },
  {
   "cell_type": "markdown",
   "id": "d6a42b58-b7a1-451a-b5e4-1bacfeeec3bb",
   "metadata": {
    "slideshow": {
     "slide_type": "-"
    }
   },
   "source": [
    "<pre>Um objeto é mutável quando você pode alterar os valores que ele contém</pre>"
   ]
  },
  {
   "cell_type": "code",
   "execution_count": 22,
   "id": "6cce9c4e-7de1-4001-b3d5-6ae6a9a7575c",
   "metadata": {
    "slideshow": {
     "slide_type": "-"
    }
   },
   "outputs": [
    {
     "data": {
      "text/plain": [
       "[2, 2]"
      ]
     },
     "execution_count": 22,
     "metadata": {},
     "output_type": "execute_result"
    }
   ],
   "source": [
    "a = [1, 2]\n",
    "a[0] = 2\n",
    "a"
   ]
  },
  {
   "cell_type": "markdown",
   "id": "4f8f9b49-8c17-4a2f-b0a2-8176ba03b512",
   "metadata": {
    "slideshow": {
     "slide_type": "-"
    }
   },
   "source": [
    "<pre>Caso contrário, ele é dito imutável</pre>\n",
    "\n",
    "<pre>Alguns tipos imutáveis: str, int, float, bool, tuplas...</pre>"
   ]
  },
  {
   "cell_type": "code",
   "execution_count": 23,
   "id": "c429694d-030f-49c1-9451-1d65c998206e",
   "metadata": {
    "slideshow": {
     "slide_type": "-"
    },
    "tags": []
   },
   "outputs": [],
   "source": [
    "# a = (1, 2)\n",
    "# a[0] = 2\n",
    "# a"
   ]
  },
  {
   "cell_type": "markdown",
   "id": "b7f7ccff-1621-467c-91bb-e6b4c5093159",
   "metadata": {
    "slideshow": {
     "slide_type": "-"
    }
   },
   "source": [
    "👉 dica: perceba que usamos um índice para acessar elementos em uma sequência, sendo o índice 0-indexado.\n",
    "\n",
    "Isto é, o primeiro elemento é acessado no índice 0, o segundo elemento no índice 1, e daí em diante."
   ]
  },
  {
   "cell_type": "markdown",
   "id": "553de0fa-0714-438d-a8f2-b8abf2e2fe0c",
   "metadata": {
    "slideshow": {
     "slide_type": "slide"
    },
    "tags": []
   },
   "source": [
    "## Tipos de Dados 🎲 Escalares 🪜"
   ]
  },
  {
   "cell_type": "markdown",
   "id": "0aa85804-470a-41b7-8271-3b957ee4ac95",
   "metadata": {
    "slideshow": {
     "slide_type": "-"
    },
    "tags": []
   },
   "source": [
    "### Sumário"
   ]
  },
  {
   "cell_type": "markdown",
   "id": "572b8d30-2e8a-42dc-8b6f-c3021bac7947",
   "metadata": {
    "slideshow": {
     "slide_type": "-"
    }
   },
   "source": [
    "Dados 🎲 Escalares 🪜 são tipos de dados que guardam valores únicos ou simples. \n",
    "\n",
    "Veja a <a href='https://docs.python.org/3/library/stdtypes.html'>documentação</a>."
   ]
  },
  {
   "cell_type": "markdown",
   "id": "d8fd3645-45e6-40bb-9e8b-08b613b2afd6",
   "metadata": {
    "slideshow": {
     "slide_type": "-"
    }
   },
   "source": [
    "<table>\n",
    "    <tr><th>Tipo</th><th>Descrição</th></tr>\n",
    "    <tr><td><b>int</b></td><td>Um número inteiro de precisão arbitrária</td></tr>\n",
    "    <tr><td><b>float</b></td><td>Número em formato de ponto flutuante de 64-bit (Exemplo: 3.1290)\n",
    "</td></tr>    \n",
    "    <tr><td><b>str</b></td><td>Cadeia de caracteres; guarda strings codificadas como Unicode</td></tr>\n",
    "    <tr><td><b>bool</b></td><td>Um valor <b>True</b> ou <b>False</b></td></tr>\n",
    "    <tr><td><b>None</b></td><td>A representação do valor nulo em Python</td></tr>\n",
    "</table>"
   ]
  },
  {
   "cell_type": "markdown",
   "id": "99d76062-f897-4ad1-bd63-28a10fe0c52b",
   "metadata": {
    "slideshow": {
     "slide_type": "subslide"
    },
    "tags": []
   },
   "source": [
    "### Tipos Numéricos (int e float)"
   ]
  },
  {
   "cell_type": "markdown",
   "id": "b27d6d85-a43b-4477-b265-d2779ebfa4cc",
   "metadata": {
    "slideshow": {
     "slide_type": "-"
    }
   },
   "source": [
    "<table>\n",
    "    <tr><th>Operação</th><th>Descrição</th></tr>\n",
    "    <tr><td><b>x + y</b></td><td>Soma x e y</td></tr>\n",
    "    <tr><td><b>x - y</b></td><td>Subtrai y de x</td></tr>\n",
    "    <tr><td><b>x * y</b></td><td>Multiplica x por y</td></tr>\n",
    "    <tr><td><b>x / y</b></td><td>Divide x por y</td></tr>\n",
    "    <tr><td><b>x // y</b></td><td>Divide x por y e descarta o resto da divisão</td></tr>\n",
    "    <tr><td><b>x % y</b></td><td>Divide x por y e descarta o quociente da divisão</td></tr>\n",
    "    <tr><td><b>x ** y</b></td><td>Potenciação com base x e expoente y</td></tr>\n",
    "</table>"
   ]
  },
  {
   "cell_type": "code",
   "execution_count": 24,
   "id": "2c101b35-78dd-4bbf-9263-e5994a8e3a29",
   "metadata": {
    "slideshow": {
     "slide_type": "subslide"
    }
   },
   "outputs": [],
   "source": [
    "a = 1_001\n",
    "b = 2"
   ]
  },
  {
   "cell_type": "code",
   "execution_count": 25,
   "id": "23c05593-b28b-4634-ab1a-226f10e84197",
   "metadata": {
    "slideshow": {
     "slide_type": "-"
    }
   },
   "outputs": [
    {
     "data": {
      "text/plain": [
       "1003"
      ]
     },
     "execution_count": 25,
     "metadata": {},
     "output_type": "execute_result"
    }
   ],
   "source": [
    "a+b"
   ]
  },
  {
   "cell_type": "code",
   "execution_count": 26,
   "id": "07e1c1bc-c898-4bba-9f2b-0d284f2a8af3",
   "metadata": {
    "slideshow": {
     "slide_type": "-"
    }
   },
   "outputs": [
    {
     "data": {
      "text/plain": [
       "999"
      ]
     },
     "execution_count": 26,
     "metadata": {},
     "output_type": "execute_result"
    }
   ],
   "source": [
    "a-b"
   ]
  },
  {
   "cell_type": "code",
   "execution_count": 27,
   "id": "8760b9e0-85a4-45a7-987d-f1bdc19f6055",
   "metadata": {
    "slideshow": {
     "slide_type": "-"
    }
   },
   "outputs": [
    {
     "data": {
      "text/plain": [
       "2002"
      ]
     },
     "execution_count": 27,
     "metadata": {},
     "output_type": "execute_result"
    }
   ],
   "source": [
    "a*b"
   ]
  },
  {
   "cell_type": "code",
   "execution_count": 28,
   "id": "f5b17350-3802-4c9e-93f8-d7f5b969b8ee",
   "metadata": {
    "slideshow": {
     "slide_type": "-"
    }
   },
   "outputs": [
    {
     "data": {
      "text/plain": [
       "500.5"
      ]
     },
     "execution_count": 28,
     "metadata": {},
     "output_type": "execute_result"
    }
   ],
   "source": [
    "a/b"
   ]
  },
  {
   "cell_type": "code",
   "execution_count": 29,
   "id": "8b72e637-8850-497e-9541-a79b4d2cd6b0",
   "metadata": {
    "slideshow": {
     "slide_type": "-"
    }
   },
   "outputs": [
    {
     "data": {
      "text/plain": [
       "500"
      ]
     },
     "execution_count": 29,
     "metadata": {},
     "output_type": "execute_result"
    }
   ],
   "source": [
    "a//b"
   ]
  },
  {
   "cell_type": "code",
   "execution_count": 30,
   "id": "dddd8c35-9bda-4c7a-baec-9a754818fd5c",
   "metadata": {
    "slideshow": {
     "slide_type": "-"
    }
   },
   "outputs": [
    {
     "data": {
      "text/plain": [
       "1002001"
      ]
     },
     "execution_count": 30,
     "metadata": {},
     "output_type": "execute_result"
    }
   ],
   "source": [
    "a**b"
   ]
  },
  {
   "cell_type": "code",
   "execution_count": 31,
   "id": "34f84ddd-cb36-4633-a3ef-1729de2ce0e2",
   "metadata": {
    "slideshow": {
     "slide_type": "subslide"
    }
   },
   "outputs": [],
   "source": [
    "#float pode ser expressado com notação científica"
   ]
  },
  {
   "cell_type": "code",
   "execution_count": 32,
   "id": "a6995279-20b1-4f8c-a411-668008a62bc5",
   "metadata": {},
   "outputs": [],
   "source": [
    "c = 0.0005"
   ]
  },
  {
   "cell_type": "code",
   "execution_count": 33,
   "id": "05314440-1d52-493e-a1c7-4b99107861b4",
   "metadata": {
    "slideshow": {
     "slide_type": "-"
    }
   },
   "outputs": [],
   "source": [
    "d = 5e-4"
   ]
  },
  {
   "cell_type": "code",
   "execution_count": 34,
   "id": "c2946a9d-2c38-4f95-894f-3c755087871f",
   "metadata": {
    "slideshow": {
     "slide_type": "-"
    }
   },
   "outputs": [
    {
     "data": {
      "text/plain": [
       "0.0005"
      ]
     },
     "execution_count": 34,
     "metadata": {},
     "output_type": "execute_result"
    }
   ],
   "source": [
    "c"
   ]
  },
  {
   "cell_type": "code",
   "execution_count": 35,
   "id": "427e5810-5389-4704-8947-b7bde54b1370",
   "metadata": {
    "slideshow": {
     "slide_type": "-"
    }
   },
   "outputs": [
    {
     "data": {
      "text/plain": [
       "0.0005"
      ]
     },
     "execution_count": 35,
     "metadata": {},
     "output_type": "execute_result"
    }
   ],
   "source": [
    "d"
   ]
  },
  {
   "cell_type": "markdown",
   "id": "33a19ad3-0bed-499e-a37d-d98f1671fd8d",
   "metadata": {
    "slideshow": {
     "slide_type": "subslide"
    },
    "tags": []
   },
   "source": [
    "### Cadeia de Caracteres (<i>str</i>)"
   ]
  },
  {
   "cell_type": "code",
   "execution_count": 36,
   "id": "9299d70e-0867-4fb0-9558-7c6e40f96539",
   "metadata": {},
   "outputs": [],
   "source": [
    "e = 'uma string' #podemos usar aspas simples ou duplas (mas mantenha a consistência: se usou ' no começo, use ' no final)"
   ]
  },
  {
   "cell_type": "code",
   "execution_count": 37,
   "id": "5d81fb9c-8570-4425-897d-8425b5abaf56",
   "metadata": {
    "slideshow": {
     "slide_type": "-"
    }
   },
   "outputs": [],
   "source": [
    "f = \"uma string\""
   ]
  },
  {
   "cell_type": "code",
   "execution_count": 38,
   "id": "74e82949-8738-4130-af11-92722a8f777e",
   "metadata": {
    "slideshow": {
     "slide_type": "-"
    }
   },
   "outputs": [],
   "source": [
    "g = \"\"\"uma string\n",
    "com 2 saltos de linhas\n",
    "em 3 linhas\"\"\""
   ]
  },
  {
   "cell_type": "code",
   "execution_count": 39,
   "id": "f46dd1e9-a49f-4425-ad36-6de31bc1abcb",
   "metadata": {
    "slideshow": {
     "slide_type": "-"
    }
   },
   "outputs": [
    {
     "data": {
      "text/plain": [
       "2"
      ]
     },
     "execution_count": 39,
     "metadata": {},
     "output_type": "execute_result"
    }
   ],
   "source": [
    "g.count('\\n')"
   ]
  },
  {
   "cell_type": "code",
   "execution_count": 40,
   "id": "6f3da3b3-e7c7-4a79-bb54-ce951bb14311",
   "metadata": {
    "slideshow": {
     "slide_type": "-"
    }
   },
   "outputs": [
    {
     "name": "stdout",
     "output_type": "stream",
     "text": [
      "uma string\n",
      "com 2 saltos de linhas\n",
      "em 3 linhas\n"
     ]
    }
   ],
   "source": [
    "print(g)"
   ]
  },
  {
   "cell_type": "markdown",
   "id": "de93cbd6-3385-4b97-8246-df86b9bd098e",
   "metadata": {
    "slideshow": {
     "slide_type": "subslide"
    }
   },
   "source": [
    "#### Imutável"
   ]
  },
  {
   "cell_type": "markdown",
   "id": "9219af7c-4809-4e08-83bb-c0e81af58c71",
   "metadata": {
    "slideshow": {
     "slide_type": "-"
    }
   },
   "source": [
    "uma string é imutável. \n",
    "i.e. você não pode modificar um elemento da string"
   ]
  },
  {
   "cell_type": "code",
   "execution_count": 41,
   "id": "49a38a5e-48a6-473c-9ab6-dfab2405ced3",
   "metadata": {
    "slideshow": {
     "slide_type": "-"
    }
   },
   "outputs": [],
   "source": [
    "#erro:\n",
    "#g[0] = 'a'"
   ]
  },
  {
   "cell_type": "code",
   "execution_count": 42,
   "id": "329e5a50-9a28-4901-820f-86cfdf48bf57",
   "metadata": {
    "slideshow": {
     "slide_type": "-"
    }
   },
   "outputs": [],
   "source": [
    "#as operações em strings geram uma nova string"
   ]
  },
  {
   "cell_type": "code",
   "execution_count": 43,
   "id": "4ce2ed14-a573-44fa-bfb6-098bc475c96a",
   "metadata": {
    "slideshow": {
     "slide_type": "-"
    }
   },
   "outputs": [],
   "source": [
    "h = g.replace('uma string', 'uma grande string')"
   ]
  },
  {
   "cell_type": "code",
   "execution_count": 44,
   "id": "5c70f3ec-a5d2-43b8-bd5d-ece9faafdeef",
   "metadata": {
    "slideshow": {
     "slide_type": "-"
    }
   },
   "outputs": [],
   "source": [
    "#g continua igual"
   ]
  },
  {
   "cell_type": "code",
   "execution_count": 45,
   "id": "063fe852-a20d-4a59-a5f8-de8a3352c744",
   "metadata": {
    "slideshow": {
     "slide_type": "-"
    }
   },
   "outputs": [
    {
     "data": {
      "text/plain": [
       "'uma string\\ncom 2 saltos de linhas\\nem 3 linhas'"
      ]
     },
     "execution_count": 45,
     "metadata": {},
     "output_type": "execute_result"
    }
   ],
   "source": [
    "g"
   ]
  },
  {
   "cell_type": "code",
   "execution_count": 46,
   "id": "a434abbe-7b10-46e2-98cd-02e07f959348",
   "metadata": {
    "slideshow": {
     "slide_type": "-"
    }
   },
   "outputs": [],
   "source": [
    "#h recebeu um novo valor"
   ]
  },
  {
   "cell_type": "code",
   "execution_count": 47,
   "id": "23ef38ee-edf8-43a0-9afe-722825282c71",
   "metadata": {
    "slideshow": {
     "slide_type": "-"
    }
   },
   "outputs": [
    {
     "data": {
      "text/plain": [
       "'uma grande string\\ncom 2 saltos de linhas\\nem 3 linhas'"
      ]
     },
     "execution_count": 47,
     "metadata": {},
     "output_type": "execute_result"
    }
   ],
   "source": [
    "h"
   ]
  },
  {
   "cell_type": "markdown",
   "id": "ed23eda3-c51b-439e-9a67-f2ee5e06b3d2",
   "metadata": {
    "slideshow": {
     "slide_type": "subslide"
    }
   },
   "source": [
    "#### Caracteres especiais"
   ]
  },
  {
   "cell_type": "markdown",
   "id": "8be2b5eb-fdbf-452e-be73-9d0d976ca887",
   "metadata": {
    "slideshow": {
     "slide_type": "-"
    }
   },
   "source": [
    "Caracteres especiais (e.g. \\) devem ser precedidos por contrabarra \\"
   ]
  },
  {
   "cell_type": "code",
   "execution_count": 48,
   "id": "714414ab-ad77-42fe-8583-077ee04895b6",
   "metadata": {
    "slideshow": {
     "slide_type": "-"
    }
   },
   "outputs": [],
   "source": [
    "i = '\\a'"
   ]
  },
  {
   "cell_type": "code",
   "execution_count": 49,
   "id": "420d2c12-9d87-4e17-970b-c31abde7e163",
   "metadata": {
    "slideshow": {
     "slide_type": "-"
    }
   },
   "outputs": [
    {
     "data": {
      "text/plain": [
       "'\\x07'"
      ]
     },
     "execution_count": 49,
     "metadata": {},
     "output_type": "execute_result"
    }
   ],
   "source": [
    "i"
   ]
  },
  {
   "cell_type": "code",
   "execution_count": 50,
   "id": "fdba032b-b174-4716-9b0c-d437fe3c6d7d",
   "metadata": {
    "slideshow": {
     "slide_type": "-"
    }
   },
   "outputs": [],
   "source": [
    "j = '\\\\a'"
   ]
  },
  {
   "cell_type": "code",
   "execution_count": 51,
   "id": "c34c9034-3d44-4f58-8ff7-44500300336d",
   "metadata": {
    "slideshow": {
     "slide_type": "-"
    }
   },
   "outputs": [
    {
     "data": {
      "text/plain": [
       "'\\\\a'"
      ]
     },
     "execution_count": 51,
     "metadata": {},
     "output_type": "execute_result"
    }
   ],
   "source": [
    "j"
   ]
  },
  {
   "cell_type": "markdown",
   "id": "ab6adb66-e663-4777-87da-0c458f5a2610",
   "metadata": {
    "slideshow": {
     "slide_type": "-"
    }
   },
   "source": [
    "Solução de contorno: usar <b>r</b> imediatamente antes da(s) primeira(s) aspa(s)"
   ]
  },
  {
   "cell_type": "code",
   "execution_count": 52,
   "id": "2ea4f570-1abd-4fcf-8c1f-1731bbe7f285",
   "metadata": {
    "slideshow": {
     "slide_type": "-"
    }
   },
   "outputs": [],
   "source": [
    "k = r'\\a'"
   ]
  },
  {
   "cell_type": "code",
   "execution_count": 53,
   "id": "bacd4e83-e2f6-41d6-a45a-383cf0084e5c",
   "metadata": {
    "slideshow": {
     "slide_type": "-"
    }
   },
   "outputs": [
    {
     "data": {
      "text/plain": [
       "'\\\\a'"
      ]
     },
     "execution_count": 53,
     "metadata": {},
     "output_type": "execute_result"
    }
   ],
   "source": [
    "k"
   ]
  },
  {
   "cell_type": "markdown",
   "id": "a1bb224a-7825-41f2-990f-686830c10055",
   "metadata": {
    "slideshow": {
     "slide_type": "subslide"
    }
   },
   "source": [
    "#### Concatenação"
   ]
  },
  {
   "cell_type": "markdown",
   "id": "d309fe63-1bc1-455b-bb79-57ffafbf33e4",
   "metadata": {
    "slideshow": {
     "slide_type": "-"
    }
   },
   "source": [
    "O sinal de <b>+</b> concatena duas strings"
   ]
  },
  {
   "cell_type": "code",
   "execution_count": 54,
   "id": "fd19c5a7-c08f-4c19-8b7e-0e6c9a2cfe6d",
   "metadata": {
    "slideshow": {
     "slide_type": "-"
    }
   },
   "outputs": [],
   "source": [
    "nome = \"joao\"\n",
    "sobrenome = \"silva\""
   ]
  },
  {
   "cell_type": "code",
   "execution_count": 55,
   "id": "81705f9a-b92e-45af-9ed8-c5b92522f379",
   "metadata": {
    "slideshow": {
     "slide_type": "-"
    }
   },
   "outputs": [
    {
     "name": "stdout",
     "output_type": "stream",
     "text": [
      "joao silva\n"
     ]
    }
   ],
   "source": [
    "print(nome + \" \" + sobrenome)"
   ]
  },
  {
   "cell_type": "code",
   "execution_count": 56,
   "id": "5828b797-448a-4e20-834a-11aea03a6d31",
   "metadata": {
    "slideshow": {
     "slide_type": "-"
    }
   },
   "outputs": [
    {
     "name": "stdout",
     "output_type": "stream",
     "text": [
      "Joao silva\n"
     ]
    }
   ],
   "source": [
    "print(nome.capitalize() + \" \" + sobrenome)"
   ]
  },
  {
   "cell_type": "code",
   "execution_count": 57,
   "id": "ea58c47b-5a41-47e4-b235-fcbd0b221d3e",
   "metadata": {
    "slideshow": {
     "slide_type": "-"
    }
   },
   "outputs": [],
   "source": [
    "nome = \"joao\"\n",
    "sobrenome = \"silva\"\n",
    "idade = 18"
   ]
  },
  {
   "cell_type": "code",
   "execution_count": 58,
   "id": "68a4b91d-58c0-46dc-b01a-3dd205ff71e8",
   "metadata": {
    "slideshow": {
     "slide_type": "-"
    }
   },
   "outputs": [],
   "source": [
    "# print (nome + \" \" + sobrenome + \" tem \" + idade + \" anos\") #fail"
   ]
  },
  {
   "cell_type": "code",
   "execution_count": 59,
   "id": "68d95c1a-b1d3-4dd5-a1c4-bd7f9fb9e5ae",
   "metadata": {
    "slideshow": {
     "slide_type": "-"
    }
   },
   "outputs": [
    {
     "name": "stdout",
     "output_type": "stream",
     "text": [
      "joao silva tem 18 anos\n"
     ]
    }
   ],
   "source": [
    "print (nome + \" \" + sobrenome + \" tem \" + str(idade) + \" anos\")"
   ]
  },
  {
   "cell_type": "markdown",
   "id": "faada40c-a3e6-4eb3-a22f-360c23a0b889",
   "metadata": {
    "slideshow": {
     "slide_type": "subslide"
    }
   },
   "source": [
    "#### Interpolação"
   ]
  },
  {
   "cell_type": "markdown",
   "id": "8d9dea53-36a7-4fec-b504-239fc60fce59",
   "metadata": {
    "slideshow": {
     "slide_type": "-"
    }
   },
   "source": [
    "usar <b>f</b> imediatamente antes da(s) primeira(s) aspa(s) permite interpretar variáveis dentro da string"
   ]
  },
  {
   "cell_type": "code",
   "execution_count": 60,
   "id": "3e7dbe7b-4e77-4bec-94ce-ef22b9ff76dc",
   "metadata": {
    "slideshow": {
     "slide_type": "-"
    }
   },
   "outputs": [
    {
     "data": {
      "text/plain": [
       "'1001 elevado a 2a. potência dá 1002001'"
      ]
     },
     "execution_count": 60,
     "metadata": {},
     "output_type": "execute_result"
    }
   ],
   "source": [
    "f'{a} elevado a {b}a. potência dá {a**b}'"
   ]
  },
  {
   "cell_type": "markdown",
   "id": "4c772b52-3ca5-4ccf-af8a-64b377baca0b",
   "metadata": {
    "slideshow": {
     "slide_type": "-"
    }
   },
   "source": [
    "é possível, inclusive, formatar o número a gosto do freguês"
   ]
  },
  {
   "cell_type": "code",
   "execution_count": 61,
   "id": "c05719d2-c3a4-4b3d-8ffd-01338222fad5",
   "metadata": {
    "slideshow": {
     "slide_type": "-"
    }
   },
   "outputs": [
    {
     "data": {
      "text/plain": [
       "'1001 divido por 2 dá 500.5'"
      ]
     },
     "execution_count": 61,
     "metadata": {},
     "output_type": "execute_result"
    }
   ],
   "source": [
    "f'{a} divido por {b} dá {a/b}'"
   ]
  },
  {
   "cell_type": "code",
   "execution_count": 62,
   "id": "7f7bf5cb-3ab2-4c4c-adf9-5de00c94cfee",
   "metadata": {
    "slideshow": {
     "slide_type": "-"
    }
   },
   "outputs": [
    {
     "data": {
      "text/plain": [
       "'1001 divido por 2 dá 500.500'"
      ]
     },
     "execution_count": 62,
     "metadata": {},
     "output_type": "execute_result"
    }
   ],
   "source": [
    "f'{a} divido por {b} dá {a/b:.3f}'"
   ]
  },
  {
   "cell_type": "code",
   "execution_count": 63,
   "id": "217b0423-a12b-4566-8690-6414f0bc4371",
   "metadata": {
    "slideshow": {
     "slide_type": "-"
    }
   },
   "outputs": [
    {
     "data": {
      "text/plain": [
       "'1001 divido por 2 dá 50050.000%'"
      ]
     },
     "execution_count": 63,
     "metadata": {},
     "output_type": "execute_result"
    }
   ],
   "source": [
    "f'{a} divido por {b} dá {a/b:.3%}'"
   ]
  },
  {
   "cell_type": "markdown",
   "id": "bf0b3aa0-c0c6-4edc-be55-cd7964416082",
   "metadata": {
    "slideshow": {
     "slide_type": "subslide"
    },
    "tags": []
   },
   "source": [
    "### Booleanos (<i>bool</i>)"
   ]
  },
  {
   "cell_type": "markdown",
   "id": "0ee9b91d-88a4-4e43-919d-b93073f6d44c",
   "metadata": {
    "slideshow": {
     "slide_type": "-"
    }
   },
   "source": [
    "<table>\n",
    "    <tr><th>Operação</th><th>Descrição</th></tr>\n",
    "    <tr><td><b>x and y</b></td><td>Conjunção de x com y</td></tr>\n",
    "    <tr><td><b>x or y</b></td><td>Disjunção de x com y</td></tr>\n",
    "    <tr><td><b>not x</b></td><td>Negação de x</td></tr>\n",
    "    <tr><td><b>x ^ y</b></td><td>Disjunção exclusiva entre x e y</td></tr>\n",
    "</table>"
   ]
  },
  {
   "cell_type": "code",
   "execution_count": 64,
   "id": "8d40530b-aa8a-476c-a161-16469005e843",
   "metadata": {
    "slideshow": {
     "slide_type": "subslide"
    }
   },
   "outputs": [],
   "source": [
    "k = True"
   ]
  },
  {
   "cell_type": "code",
   "execution_count": 65,
   "id": "734092f1-268c-4902-a6fa-c25e827095fd",
   "metadata": {
    "slideshow": {
     "slide_type": "-"
    }
   },
   "outputs": [
    {
     "data": {
      "text/plain": [
       "bool"
      ]
     },
     "execution_count": 65,
     "metadata": {},
     "output_type": "execute_result"
    }
   ],
   "source": [
    "type(k)"
   ]
  },
  {
   "cell_type": "code",
   "execution_count": 66,
   "id": "5f67f5c6-834d-42da-91b2-c3a0da29bf63",
   "metadata": {
    "slideshow": {
     "slide_type": "-"
    }
   },
   "outputs": [],
   "source": [
    "l = False"
   ]
  },
  {
   "cell_type": "code",
   "execution_count": 67,
   "id": "b7a54e61-841d-49eb-8470-8aa7d0426330",
   "metadata": {
    "slideshow": {
     "slide_type": "-"
    }
   },
   "outputs": [
    {
     "data": {
      "text/plain": [
       "bool"
      ]
     },
     "execution_count": 67,
     "metadata": {},
     "output_type": "execute_result"
    }
   ],
   "source": [
    "type(l)"
   ]
  },
  {
   "cell_type": "markdown",
   "id": "39d3f42c-5b73-4a85-87c8-a9de1a72ba5e",
   "metadata": {
    "slideshow": {
     "slide_type": "subslide"
    }
   },
   "source": [
    "#### Conjunção"
   ]
  },
  {
   "cell_type": "code",
   "execution_count": 68,
   "id": "34f45920-90f5-449d-aa18-306b8f1c9158",
   "metadata": {
    "slideshow": {
     "slide_type": "-"
    }
   },
   "outputs": [
    {
     "data": {
      "text/plain": [
       "True"
      ]
     },
     "execution_count": 68,
     "metadata": {},
     "output_type": "execute_result"
    }
   ],
   "source": [
    "True and True"
   ]
  },
  {
   "cell_type": "code",
   "execution_count": 69,
   "id": "04ecf66e-a505-4314-93f2-6bb2692014c4",
   "metadata": {
    "slideshow": {
     "slide_type": "-"
    }
   },
   "outputs": [
    {
     "data": {
      "text/plain": [
       "False"
      ]
     },
     "execution_count": 69,
     "metadata": {},
     "output_type": "execute_result"
    }
   ],
   "source": [
    "True and False"
   ]
  },
  {
   "cell_type": "code",
   "execution_count": 70,
   "id": "42701be4-ed7e-4865-ad2d-a10684a37516",
   "metadata": {
    "slideshow": {
     "slide_type": "-"
    }
   },
   "outputs": [
    {
     "data": {
      "text/plain": [
       "False"
      ]
     },
     "execution_count": 70,
     "metadata": {},
     "output_type": "execute_result"
    }
   ],
   "source": [
    "False and True"
   ]
  },
  {
   "cell_type": "code",
   "execution_count": 71,
   "id": "f2baa17c-80d9-4bc1-a2ef-5bbb47b861f7",
   "metadata": {
    "slideshow": {
     "slide_type": "-"
    }
   },
   "outputs": [
    {
     "data": {
      "text/plain": [
       "False"
      ]
     },
     "execution_count": 71,
     "metadata": {},
     "output_type": "execute_result"
    }
   ],
   "source": [
    "False and False"
   ]
  },
  {
   "cell_type": "markdown",
   "id": "94762ed7-839e-4c49-8dfc-4cb7591f707a",
   "metadata": {
    "slideshow": {
     "slide_type": "subslide"
    }
   },
   "source": [
    "#### Disjunção"
   ]
  },
  {
   "cell_type": "code",
   "execution_count": 72,
   "id": "b2f5db43-77a7-44c2-af2b-0c4ff858b67d",
   "metadata": {
    "slideshow": {
     "slide_type": "-"
    }
   },
   "outputs": [
    {
     "data": {
      "text/plain": [
       "True"
      ]
     },
     "execution_count": 72,
     "metadata": {},
     "output_type": "execute_result"
    }
   ],
   "source": [
    "True or True"
   ]
  },
  {
   "cell_type": "code",
   "execution_count": 73,
   "id": "8cb411c7-3e9f-4e17-b8df-6899e7c4752a",
   "metadata": {
    "slideshow": {
     "slide_type": "-"
    }
   },
   "outputs": [
    {
     "data": {
      "text/plain": [
       "True"
      ]
     },
     "execution_count": 73,
     "metadata": {},
     "output_type": "execute_result"
    }
   ],
   "source": [
    "True or False"
   ]
  },
  {
   "cell_type": "code",
   "execution_count": 74,
   "id": "05934046-6c23-4364-859a-67895945faee",
   "metadata": {
    "slideshow": {
     "slide_type": "-"
    }
   },
   "outputs": [
    {
     "data": {
      "text/plain": [
       "True"
      ]
     },
     "execution_count": 74,
     "metadata": {},
     "output_type": "execute_result"
    }
   ],
   "source": [
    "False or True"
   ]
  },
  {
   "cell_type": "code",
   "execution_count": 75,
   "id": "fbd6abb0-91d6-44b7-8bcb-948660e37084",
   "metadata": {
    "slideshow": {
     "slide_type": "-"
    }
   },
   "outputs": [
    {
     "data": {
      "text/plain": [
       "False"
      ]
     },
     "execution_count": 75,
     "metadata": {},
     "output_type": "execute_result"
    }
   ],
   "source": [
    "False or False"
   ]
  },
  {
   "cell_type": "markdown",
   "id": "8bde8616-9aed-48ee-b7db-f94e1ce70768",
   "metadata": {
    "slideshow": {
     "slide_type": "subslide"
    }
   },
   "source": [
    "#### Negação"
   ]
  },
  {
   "cell_type": "code",
   "execution_count": 76,
   "id": "c2e6be95-223b-481a-a027-71d96a12a25f",
   "metadata": {
    "slideshow": {
     "slide_type": "-"
    }
   },
   "outputs": [
    {
     "data": {
      "text/plain": [
       "False"
      ]
     },
     "execution_count": 76,
     "metadata": {},
     "output_type": "execute_result"
    }
   ],
   "source": [
    "not True"
   ]
  },
  {
   "cell_type": "code",
   "execution_count": 77,
   "id": "dc34439b-d999-4067-a80b-03dc2c7f66e7",
   "metadata": {
    "slideshow": {
     "slide_type": "-"
    }
   },
   "outputs": [
    {
     "data": {
      "text/plain": [
       "True"
      ]
     },
     "execution_count": 77,
     "metadata": {},
     "output_type": "execute_result"
    }
   ],
   "source": [
    "not False"
   ]
  },
  {
   "cell_type": "markdown",
   "id": "aa5e2df9",
   "metadata": {
    "slideshow": {
     "slide_type": "subslide"
    }
   },
   "source": [
    "#### Mutuamente exclusivo"
   ]
  },
  {
   "cell_type": "code",
   "execution_count": 78,
   "id": "9c887437-0af8-4a0f-ad9e-ae66f77cafde",
   "metadata": {
    "slideshow": {
     "slide_type": "-"
    }
   },
   "outputs": [
    {
     "data": {
      "text/plain": [
       "False"
      ]
     },
     "execution_count": 78,
     "metadata": {},
     "output_type": "execute_result"
    }
   ],
   "source": [
    "True ^ True"
   ]
  },
  {
   "cell_type": "code",
   "execution_count": 79,
   "id": "c563c251-7da2-4040-96c7-a89ac71078c4",
   "metadata": {
    "slideshow": {
     "slide_type": "-"
    }
   },
   "outputs": [
    {
     "data": {
      "text/plain": [
       "True"
      ]
     },
     "execution_count": 79,
     "metadata": {},
     "output_type": "execute_result"
    }
   ],
   "source": [
    "False ^ True"
   ]
  },
  {
   "cell_type": "code",
   "execution_count": 80,
   "id": "f71f9602-af55-477a-b093-6dddb9f950b8",
   "metadata": {
    "slideshow": {
     "slide_type": "-"
    }
   },
   "outputs": [
    {
     "data": {
      "text/plain": [
       "True"
      ]
     },
     "execution_count": 80,
     "metadata": {},
     "output_type": "execute_result"
    }
   ],
   "source": [
    "True ^ False"
   ]
  },
  {
   "cell_type": "code",
   "execution_count": 81,
   "id": "37474187-119c-407d-bcec-85acf9bc6a5c",
   "metadata": {
    "slideshow": {
     "slide_type": "-"
    }
   },
   "outputs": [
    {
     "data": {
      "text/plain": [
       "False"
      ]
     },
     "execution_count": 81,
     "metadata": {},
     "output_type": "execute_result"
    }
   ],
   "source": [
    "False ^ False"
   ]
  },
  {
   "cell_type": "markdown",
   "id": "5613ec63-aac8-4dab-8c0e-e7744558dc53",
   "metadata": {
    "slideshow": {
     "slide_type": "subslide"
    },
    "tags": []
   },
   "source": [
    "### Nulo (<i>None</i>)"
   ]
  },
  {
   "cell_type": "code",
   "execution_count": 82,
   "id": "591f00cb-3e51-48db-9187-e68a020be1e2",
   "metadata": {
    "slideshow": {
     "slide_type": "-"
    }
   },
   "outputs": [],
   "source": [
    "m = None"
   ]
  },
  {
   "cell_type": "code",
   "execution_count": 83,
   "id": "4ead5e1f-4e91-4abb-bf02-4497377096c4",
   "metadata": {
    "slideshow": {
     "slide_type": "-"
    }
   },
   "outputs": [
    {
     "data": {
      "text/plain": [
       "True"
      ]
     },
     "execution_count": 83,
     "metadata": {},
     "output_type": "execute_result"
    }
   ],
   "source": [
    "m is None"
   ]
  },
  {
   "cell_type": "code",
   "execution_count": 84,
   "id": "8ad426dd-eeb9-43fa-af4d-75153be61d62",
   "metadata": {
    "slideshow": {
     "slide_type": "-"
    }
   },
   "outputs": [
    {
     "data": {
      "text/plain": [
       "False"
      ]
     },
     "execution_count": 84,
     "metadata": {},
     "output_type": "execute_result"
    }
   ],
   "source": [
    "m is not None"
   ]
  },
  {
   "cell_type": "code",
   "execution_count": 85,
   "id": "6da1fe85-5fc6-4f4b-b6d2-a10feae2736b",
   "metadata": {
    "slideshow": {
     "slide_type": "-"
    }
   },
   "outputs": [],
   "source": [
    "n = 10"
   ]
  },
  {
   "cell_type": "code",
   "execution_count": 86,
   "id": "9a9f316c-4f9e-47fa-9ec2-8d97f49db870",
   "metadata": {
    "slideshow": {
     "slide_type": "-"
    }
   },
   "outputs": [
    {
     "data": {
      "text/plain": [
       "False"
      ]
     },
     "execution_count": 86,
     "metadata": {},
     "output_type": "execute_result"
    }
   ],
   "source": [
    "n is None"
   ]
  },
  {
   "cell_type": "code",
   "execution_count": 87,
   "id": "0c0a197f-a251-465a-89ef-add8161bc8cd",
   "metadata": {
    "slideshow": {
     "slide_type": "-"
    }
   },
   "outputs": [
    {
     "data": {
      "text/plain": [
       "True"
      ]
     },
     "execution_count": 87,
     "metadata": {},
     "output_type": "execute_result"
    }
   ],
   "source": [
    "n is not None"
   ]
  },
  {
   "cell_type": "markdown",
   "id": "087a347e-ac1c-43ee-ad64-342b876cdaab",
   "metadata": {
    "slideshow": {
     "slide_type": "subslide"
    },
    "tags": []
   },
   "source": [
    "### Conversão de Tipos de Dados"
   ]
  },
  {
   "cell_type": "markdown",
   "id": "3a9984b1-a3f0-43dc-91eb-3d51dcb3476d",
   "metadata": {
    "slideshow": {
     "slide_type": "-"
    },
    "tags": []
   },
   "source": [
    "#### str, bool, int e float"
   ]
  },
  {
   "cell_type": "markdown",
   "id": "46682d6e-216b-4799-a92c-f182d594850c",
   "metadata": {
    "slideshow": {
     "slide_type": "-"
    }
   },
   "source": [
    "Muitos tipos de dados podem ser convertidos para string com a função str, para booleano com a função bool, para inteiro com a função int e para ponto flutuante com a função float"
   ]
  },
  {
   "cell_type": "code",
   "execution_count": 88,
   "id": "7801759e-7166-4ff0-be8d-06c3eb3d1f07",
   "metadata": {
    "slideshow": {
     "slide_type": "-"
    }
   },
   "outputs": [
    {
     "data": {
      "text/plain": [
       "'True'"
      ]
     },
     "execution_count": 88,
     "metadata": {},
     "output_type": "execute_result"
    }
   ],
   "source": [
    "str(True)"
   ]
  },
  {
   "cell_type": "code",
   "execution_count": 89,
   "id": "1d6bb973-9cf3-4ace-9deb-19982dfc1b5b",
   "metadata": {
    "slideshow": {
     "slide_type": "-"
    }
   },
   "outputs": [
    {
     "data": {
      "text/plain": [
       "'False'"
      ]
     },
     "execution_count": 89,
     "metadata": {},
     "output_type": "execute_result"
    }
   ],
   "source": [
    "str(False)"
   ]
  },
  {
   "cell_type": "code",
   "execution_count": 90,
   "id": "cbd6a369-1231-4600-9036-acca3d7a0970",
   "metadata": {
    "slideshow": {
     "slide_type": "-"
    }
   },
   "outputs": [
    {
     "data": {
      "text/plain": [
       "'1'"
      ]
     },
     "execution_count": 90,
     "metadata": {},
     "output_type": "execute_result"
    }
   ],
   "source": [
    "str(1)"
   ]
  },
  {
   "cell_type": "code",
   "execution_count": 91,
   "id": "5fb105d4-85bb-485e-8ab9-360f6c12fa42",
   "metadata": {
    "slideshow": {
     "slide_type": "-"
    }
   },
   "outputs": [
    {
     "data": {
      "text/plain": [
       "'0.0005'"
      ]
     },
     "execution_count": 91,
     "metadata": {},
     "output_type": "execute_result"
    }
   ],
   "source": [
    "str(5e-4)"
   ]
  },
  {
   "cell_type": "code",
   "execution_count": 92,
   "id": "fecb2e8b-d969-41f0-b6d6-d4636a3ee32e",
   "metadata": {
    "slideshow": {
     "slide_type": "-"
    }
   },
   "outputs": [
    {
     "data": {
      "text/plain": [
       "'None'"
      ]
     },
     "execution_count": 92,
     "metadata": {},
     "output_type": "execute_result"
    }
   ],
   "source": [
    "str(None)"
   ]
  },
  {
   "cell_type": "code",
   "execution_count": 93,
   "id": "f2fb2a06-764e-473e-a43f-d3bb03097035",
   "metadata": {
    "slideshow": {
     "slide_type": "subslide"
    }
   },
   "outputs": [
    {
     "data": {
      "text/plain": [
       "False"
      ]
     },
     "execution_count": 93,
     "metadata": {},
     "output_type": "execute_result"
    }
   ],
   "source": [
    "bool('')"
   ]
  },
  {
   "cell_type": "code",
   "execution_count": 94,
   "id": "3ceff90c-6f0b-4b23-9eb5-4d94639c6ce4",
   "metadata": {
    "slideshow": {
     "slide_type": "-"
    }
   },
   "outputs": [
    {
     "data": {
      "text/plain": [
       "True"
      ]
     },
     "execution_count": 94,
     "metadata": {},
     "output_type": "execute_result"
    }
   ],
   "source": [
    "bool('a')"
   ]
  },
  {
   "cell_type": "code",
   "execution_count": 95,
   "id": "58ce3a6a-921f-4d38-8e45-0a755a720c88",
   "metadata": {
    "slideshow": {
     "slide_type": "-"
    }
   },
   "outputs": [
    {
     "data": {
      "text/plain": [
       "False"
      ]
     },
     "execution_count": 95,
     "metadata": {},
     "output_type": "execute_result"
    }
   ],
   "source": [
    "bool(0)"
   ]
  },
  {
   "cell_type": "code",
   "execution_count": 96,
   "id": "0f11222b-bf48-4010-b382-289e977da9bd",
   "metadata": {
    "slideshow": {
     "slide_type": "-"
    }
   },
   "outputs": [
    {
     "data": {
      "text/plain": [
       "True"
      ]
     },
     "execution_count": 96,
     "metadata": {},
     "output_type": "execute_result"
    }
   ],
   "source": [
    "bool(1)"
   ]
  },
  {
   "cell_type": "code",
   "execution_count": 97,
   "id": "05465237-843d-4c82-879e-e69f02859e10",
   "metadata": {
    "slideshow": {
     "slide_type": "-"
    }
   },
   "outputs": [
    {
     "data": {
      "text/plain": [
       "False"
      ]
     },
     "execution_count": 97,
     "metadata": {},
     "output_type": "execute_result"
    }
   ],
   "source": [
    "bool(0.0)"
   ]
  },
  {
   "cell_type": "code",
   "execution_count": 98,
   "id": "49401b6c-da24-4965-9142-da6f455dee28",
   "metadata": {
    "slideshow": {
     "slide_type": "-"
    }
   },
   "outputs": [
    {
     "data": {
      "text/plain": [
       "True"
      ]
     },
     "execution_count": 98,
     "metadata": {},
     "output_type": "execute_result"
    }
   ],
   "source": [
    "bool(5e-4)"
   ]
  },
  {
   "cell_type": "code",
   "execution_count": 99,
   "id": "d08a6afe-a926-4fc0-a69c-9864a413d2be",
   "metadata": {
    "slideshow": {
     "slide_type": "-"
    }
   },
   "outputs": [
    {
     "data": {
      "text/plain": [
       "False"
      ]
     },
     "execution_count": 99,
     "metadata": {},
     "output_type": "execute_result"
    }
   ],
   "source": [
    "bool(None)"
   ]
  },
  {
   "cell_type": "code",
   "execution_count": 100,
   "id": "e19ea42d-108d-47ac-81f3-870998e9e3e9",
   "metadata": {
    "slideshow": {
     "slide_type": "subslide"
    }
   },
   "outputs": [],
   "source": [
    "#int('5e-4') #erro"
   ]
  },
  {
   "cell_type": "code",
   "execution_count": 101,
   "id": "608871ba-e82a-442f-8f40-c0ffcba8c830",
   "metadata": {
    "slideshow": {
     "slide_type": "-"
    }
   },
   "outputs": [
    {
     "data": {
      "text/plain": [
       "1"
      ]
     },
     "execution_count": 101,
     "metadata": {},
     "output_type": "execute_result"
    }
   ],
   "source": [
    "int('1')"
   ]
  },
  {
   "cell_type": "code",
   "execution_count": 102,
   "id": "1a672730-6c1e-4597-a433-2bf0250b092e",
   "metadata": {
    "slideshow": {
     "slide_type": "-"
    }
   },
   "outputs": [
    {
     "data": {
      "text/plain": [
       "0"
      ]
     },
     "execution_count": 102,
     "metadata": {},
     "output_type": "execute_result"
    }
   ],
   "source": [
    "int(False)"
   ]
  },
  {
   "cell_type": "code",
   "execution_count": 103,
   "id": "87510642-a13f-4c3f-98f8-2596733487d7",
   "metadata": {
    "slideshow": {
     "slide_type": "-"
    }
   },
   "outputs": [
    {
     "data": {
      "text/plain": [
       "1"
      ]
     },
     "execution_count": 103,
     "metadata": {},
     "output_type": "execute_result"
    }
   ],
   "source": [
    "int(True)"
   ]
  },
  {
   "cell_type": "code",
   "execution_count": 104,
   "id": "fc0f9327-4918-4f6c-a769-72e943b372fe",
   "metadata": {
    "slideshow": {
     "slide_type": "-"
    }
   },
   "outputs": [
    {
     "data": {
      "text/plain": [
       "0"
      ]
     },
     "execution_count": 104,
     "metadata": {},
     "output_type": "execute_result"
    }
   ],
   "source": [
    "int(5e-4)"
   ]
  },
  {
   "cell_type": "code",
   "execution_count": 105,
   "id": "1be6196e-0548-43d7-94a1-6855a5ca4bb8",
   "metadata": {
    "slideshow": {
     "slide_type": "-"
    }
   },
   "outputs": [
    {
     "data": {
      "text/plain": [
       "1"
      ]
     },
     "execution_count": 105,
     "metadata": {},
     "output_type": "execute_result"
    }
   ],
   "source": [
    "int(1)"
   ]
  },
  {
   "cell_type": "code",
   "execution_count": 106,
   "id": "896dfea4-2bd4-4f66-93d4-62828a5ab4db",
   "metadata": {
    "slideshow": {
     "slide_type": "-"
    }
   },
   "outputs": [],
   "source": [
    "#int(None) #erro"
   ]
  },
  {
   "cell_type": "code",
   "execution_count": 107,
   "id": "4e2de0df-e045-4999-9459-3804b429c298",
   "metadata": {
    "slideshow": {
     "slide_type": "subslide"
    }
   },
   "outputs": [],
   "source": [
    "#float('a') #erro"
   ]
  },
  {
   "cell_type": "code",
   "execution_count": 108,
   "id": "701300c6-acda-4ab6-b36f-3c6808a3e3f4",
   "metadata": {
    "slideshow": {
     "slide_type": "-"
    }
   },
   "outputs": [
    {
     "data": {
      "text/plain": [
       "0.0005"
      ]
     },
     "execution_count": 108,
     "metadata": {},
     "output_type": "execute_result"
    }
   ],
   "source": [
    "float('5e-4')"
   ]
  },
  {
   "cell_type": "code",
   "execution_count": 109,
   "id": "c79d6bd7-425f-4e74-80e6-2a0a7df5e349",
   "metadata": {
    "slideshow": {
     "slide_type": "-"
    }
   },
   "outputs": [
    {
     "data": {
      "text/plain": [
       "1.0"
      ]
     },
     "execution_count": 109,
     "metadata": {},
     "output_type": "execute_result"
    }
   ],
   "source": [
    "float('1')"
   ]
  },
  {
   "cell_type": "code",
   "execution_count": 110,
   "id": "a3891cf2-fd91-425c-a847-6a8a942becff",
   "metadata": {
    "slideshow": {
     "slide_type": "-"
    }
   },
   "outputs": [
    {
     "data": {
      "text/plain": [
       "0.0"
      ]
     },
     "execution_count": 110,
     "metadata": {},
     "output_type": "execute_result"
    }
   ],
   "source": [
    "float(False)"
   ]
  },
  {
   "cell_type": "code",
   "execution_count": 111,
   "id": "0e152ae4-c864-4083-a95b-24c794f3ae0b",
   "metadata": {
    "slideshow": {
     "slide_type": "-"
    }
   },
   "outputs": [
    {
     "data": {
      "text/plain": [
       "1.0"
      ]
     },
     "execution_count": 111,
     "metadata": {},
     "output_type": "execute_result"
    }
   ],
   "source": [
    "float(True)"
   ]
  },
  {
   "cell_type": "code",
   "execution_count": 112,
   "id": "0efed410-2d7a-4db0-b225-1bc8a8e5728e",
   "metadata": {
    "slideshow": {
     "slide_type": "-"
    }
   },
   "outputs": [
    {
     "data": {
      "text/plain": [
       "0.0005"
      ]
     },
     "execution_count": 112,
     "metadata": {},
     "output_type": "execute_result"
    }
   ],
   "source": [
    "float(5e-4)"
   ]
  },
  {
   "cell_type": "code",
   "execution_count": 113,
   "id": "d2157281-881f-47fd-a534-ec9332b918c7",
   "metadata": {
    "slideshow": {
     "slide_type": "-"
    }
   },
   "outputs": [
    {
     "data": {
      "text/plain": [
       "1.0"
      ]
     },
     "execution_count": 113,
     "metadata": {},
     "output_type": "execute_result"
    }
   ],
   "source": [
    "float(1)"
   ]
  },
  {
   "cell_type": "code",
   "execution_count": 114,
   "id": "d6136ac1-bef1-4466-a4d2-72dd75381439",
   "metadata": {
    "slideshow": {
     "slide_type": "-"
    }
   },
   "outputs": [],
   "source": [
    "#float(None) #erro"
   ]
  },
  {
   "cell_type": "markdown",
   "id": "b024b59a-6d05-4895-a94f-2622ea339c69",
   "metadata": {
    "slideshow": {
     "slide_type": "subslide"
    },
    "tags": []
   },
   "source": [
    "### 🗞️ Extra! Date, time e datetime"
   ]
  },
  {
   "cell_type": "markdown",
   "id": "bfe2976e-c20f-4e20-ba19-6ee4ab4d26b5",
   "metadata": {
    "slideshow": {
     "slide_type": "-"
    },
    "tags": []
   },
   "source": [
    "#### Biblioteca Principal 📚: <a href='https://docs.python.org/3/library/datetime.html'>datetime</a>"
   ]
  },
  {
   "cell_type": "code",
   "execution_count": 115,
   "id": "1548c807-9787-49ef-a363-f26bb03f4373",
   "metadata": {
    "slideshow": {
     "slide_type": "-"
    }
   },
   "outputs": [],
   "source": [
    "from datetime import datetime, date, time"
   ]
  },
  {
   "cell_type": "code",
   "execution_count": 116,
   "id": "8b5545ef-31f1-4fe7-8f62-77d5c06876b9",
   "metadata": {
    "slideshow": {
     "slide_type": "subslide"
    }
   },
   "outputs": [],
   "source": [
    "r = datetime(2023, 3, 20, 1, 2, 3)"
   ]
  },
  {
   "cell_type": "code",
   "execution_count": 117,
   "id": "c365fff9-85a0-40a1-9fc7-26ad510c18a1",
   "metadata": {
    "slideshow": {
     "slide_type": "-"
    }
   },
   "outputs": [
    {
     "data": {
      "text/plain": [
       "2023"
      ]
     },
     "execution_count": 117,
     "metadata": {},
     "output_type": "execute_result"
    }
   ],
   "source": [
    "r.year"
   ]
  },
  {
   "cell_type": "code",
   "execution_count": 118,
   "id": "8f9f0ea9-0681-4354-a89b-83c656721d13",
   "metadata": {
    "slideshow": {
     "slide_type": "-"
    }
   },
   "outputs": [
    {
     "data": {
      "text/plain": [
       "3"
      ]
     },
     "execution_count": 118,
     "metadata": {},
     "output_type": "execute_result"
    }
   ],
   "source": [
    "r.month"
   ]
  },
  {
   "cell_type": "code",
   "execution_count": 119,
   "id": "c61760c3-5447-4214-a645-939a7f616644",
   "metadata": {
    "slideshow": {
     "slide_type": "-"
    }
   },
   "outputs": [
    {
     "data": {
      "text/plain": [
       "20"
      ]
     },
     "execution_count": 119,
     "metadata": {},
     "output_type": "execute_result"
    }
   ],
   "source": [
    "r.day"
   ]
  },
  {
   "cell_type": "code",
   "execution_count": 120,
   "id": "3781c4d8-b564-470d-bb62-0dfe7b7fd5ca",
   "metadata": {
    "slideshow": {
     "slide_type": "-"
    }
   },
   "outputs": [
    {
     "data": {
      "text/plain": [
       "1"
      ]
     },
     "execution_count": 120,
     "metadata": {},
     "output_type": "execute_result"
    }
   ],
   "source": [
    "r.hour"
   ]
  },
  {
   "cell_type": "code",
   "execution_count": 121,
   "id": "a1bbe5ab-dcb6-4632-a9d9-ce7a50fa0f5a",
   "metadata": {
    "slideshow": {
     "slide_type": "-"
    }
   },
   "outputs": [
    {
     "data": {
      "text/plain": [
       "2"
      ]
     },
     "execution_count": 121,
     "metadata": {},
     "output_type": "execute_result"
    }
   ],
   "source": [
    "r.minute"
   ]
  },
  {
   "cell_type": "code",
   "execution_count": 122,
   "id": "fbb44669-d4a0-4d86-9171-b8b2e10d2bfc",
   "metadata": {
    "slideshow": {
     "slide_type": "-"
    }
   },
   "outputs": [
    {
     "data": {
      "text/plain": [
       "3"
      ]
     },
     "execution_count": 122,
     "metadata": {},
     "output_type": "execute_result"
    }
   ],
   "source": [
    "r.second"
   ]
  },
  {
   "cell_type": "code",
   "execution_count": 123,
   "id": "39afa37a-6b0c-49bc-91ef-e62cc920fb75",
   "metadata": {
    "slideshow": {
     "slide_type": "subslide"
    }
   },
   "outputs": [
    {
     "data": {
      "text/plain": [
       "datetime.date(2023, 3, 20)"
      ]
     },
     "execution_count": 123,
     "metadata": {},
     "output_type": "execute_result"
    }
   ],
   "source": [
    "r.date()"
   ]
  },
  {
   "cell_type": "code",
   "execution_count": 124,
   "id": "35a309f4-698b-4ebc-9068-a0ef3c061a41",
   "metadata": {
    "slideshow": {
     "slide_type": "-"
    }
   },
   "outputs": [
    {
     "data": {
      "text/plain": [
       "datetime.time(1, 2, 3)"
      ]
     },
     "execution_count": 124,
     "metadata": {},
     "output_type": "execute_result"
    }
   ],
   "source": [
    "r.time()"
   ]
  },
  {
   "cell_type": "markdown",
   "id": "69ca6343-7fc8-42bb-a319-7c29ec963d33",
   "metadata": {
    "slideshow": {
     "slide_type": "-"
    }
   },
   "source": [
    "O método <b>replace</b> substitui os valores conforme os parâmetros"
   ]
  },
  {
   "cell_type": "code",
   "execution_count": 125,
   "id": "80d4ef41-30f5-4db1-9353-8cbf815a7130",
   "metadata": {
    "slideshow": {
     "slide_type": "-"
    }
   },
   "outputs": [],
   "source": [
    "s = r.replace(second=1)"
   ]
  },
  {
   "cell_type": "code",
   "execution_count": 126,
   "id": "57bde21e-96e0-486c-b48b-e611d12bff7b",
   "metadata": {
    "slideshow": {
     "slide_type": "-"
    }
   },
   "outputs": [
    {
     "data": {
      "text/plain": [
       "datetime.datetime(2023, 3, 20, 1, 2, 1)"
      ]
     },
     "execution_count": 126,
     "metadata": {},
     "output_type": "execute_result"
    }
   ],
   "source": [
    "s"
   ]
  },
  {
   "cell_type": "markdown",
   "id": "85774085-1da3-460b-b9ea-5618ea721e8b",
   "metadata": {
    "slideshow": {
     "slide_type": "-"
    }
   },
   "source": [
    "A operação de <b>+</b> (soma) e <b>-</b> (subtração) funcionam."
   ]
  },
  {
   "cell_type": "code",
   "execution_count": 127,
   "id": "4cfe68ae-d1d4-4994-bc84-1d433932f8d3",
   "metadata": {
    "slideshow": {
     "slide_type": "-"
    }
   },
   "outputs": [],
   "source": [
    "t = r - s"
   ]
  },
  {
   "cell_type": "code",
   "execution_count": 128,
   "id": "e1732e7f-76c6-4574-982f-8303a0283dcb",
   "metadata": {},
   "outputs": [
    {
     "data": {
      "text/plain": [
       "datetime.timedelta(seconds=2)"
      ]
     },
     "execution_count": 128,
     "metadata": {},
     "output_type": "execute_result"
    }
   ],
   "source": [
    "t"
   ]
  },
  {
   "cell_type": "markdown",
   "id": "5b34beaa-d5a0-4c2b-89ad-5fb752eb685e",
   "metadata": {
    "slideshow": {
     "slide_type": "subslide"
    },
    "tags": []
   },
   "source": [
    "#### Atenção ⚠️\n",
    "\n",
    "A soma não funciona entre datetime.datetime e datetime.datetime, mas funciona com datetime.datetime e datetime.timedelta"
   ]
  },
  {
   "cell_type": "code",
   "execution_count": 129,
   "id": "69fbf019-538d-4b1f-abb1-1ac455cd43ff",
   "metadata": {
    "slideshow": {
     "slide_type": "-"
    }
   },
   "outputs": [
    {
     "data": {
      "text/plain": [
       "datetime.datetime(2023, 3, 20, 1, 2, 3)"
      ]
     },
     "execution_count": 129,
     "metadata": {},
     "output_type": "execute_result"
    }
   ],
   "source": [
    "s + t"
   ]
  },
  {
   "cell_type": "markdown",
   "id": "0fa84c7c-4541-41ab-aa03-d45331a4394c",
   "metadata": {
    "slideshow": {
     "slide_type": "-"
    }
   },
   "source": [
    "O método <b>strftime</b> <b>f</b>ormata a data como string"
   ]
  },
  {
   "cell_type": "code",
   "execution_count": 130,
   "id": "5e01598b-33f3-47ee-940a-be932f53fbed",
   "metadata": {
    "slideshow": {
     "slide_type": "-"
    }
   },
   "outputs": [
    {
     "data": {
      "text/plain": [
       "'2023-03-20 01:02'"
      ]
     },
     "execution_count": 130,
     "metadata": {},
     "output_type": "execute_result"
    }
   ],
   "source": [
    "s.strftime(\"%Y-%m-%d %H:%M\")"
   ]
  },
  {
   "cell_type": "markdown",
   "id": "8b4334c8-003d-490e-8cf4-2b02fa8d6128",
   "metadata": {
    "slideshow": {
     "slide_type": "-"
    }
   },
   "source": [
    "O método <b>strptime</b> inter<b>p</b>reta (<b>p</b>arse) a string como data"
   ]
  },
  {
   "cell_type": "code",
   "execution_count": 131,
   "id": "e20df710-b6a3-4ba1-b20a-77c469ce90bb",
   "metadata": {
    "slideshow": {
     "slide_type": "-"
    }
   },
   "outputs": [
    {
     "data": {
      "text/plain": [
       "datetime.datetime(2023, 3, 20, 0, 0)"
      ]
     },
     "execution_count": 131,
     "metadata": {},
     "output_type": "execute_result"
    }
   ],
   "source": [
    "s.strptime(\"20230320\", \"%Y%m%d\")"
   ]
  },
  {
   "cell_type": "markdown",
   "id": "cfcd7540-a5b8-4d27-8fcc-249c532cf2e7",
   "metadata": {
    "slideshow": {
     "slide_type": "slide"
    },
    "tags": []
   },
   "source": [
    "## Controle 🕹️ de Fluxo 🔄"
   ]
  },
  {
   "cell_type": "markdown",
   "id": "9748b95d-a22c-4845-a643-15649b5e6f55",
   "metadata": {
    "slideshow": {
     "slide_type": "-"
    }
   },
   "source": [
    "Python tem palavras-chave para lógica condicional, laços e outros conceitos de controle de fluxo padrão"
   ]
  },
  {
   "cell_type": "markdown",
   "id": "c2b70610-44ff-4a1b-8133-785cdc0a971b",
   "metadata": {
    "slideshow": {
     "slide_type": "-"
    },
    "tags": []
   },
   "source": [
    "<table>\n",
    "    <tr><th>Operação</th><th>Descrição</th></tr>\n",
    "    <tr><td><b>x == y</b></td><td>x é igual a y?</td></tr>\n",
    "    <tr><td><b>x != y</b></td><td>x é diferente de y?</td></tr>\n",
    "    <tr><td><b>x &lt; y</b></td><td>x é menor que y?</td></tr>\n",
    "    <tr><td><b>x &lt;= y</b></td><td>x é menor ou igual a y?</td></tr>\n",
    "    <tr><td><b>x &gt; y</b></td><td>x é maior que y?</td></tr>\n",
    "    <tr><td><b>x &gt;= y</b></td><td>x é aior ou igual a y></td></tr>\n",
    "    <tr><td><b>x is y</b></td><td>x referencia o mesmo objeto que y?</td></tr>\n",
    "    <tr><td><b>x is not y</b></td><td>x não referencia o mesmo objeto que y?</td></tr>\n",
    "</table>"
   ]
  },
  {
   "cell_type": "markdown",
   "id": "8a96af7e-a653-4167-a32f-4fb8531a21ee",
   "metadata": {
    "slideshow": {
     "slide_type": "subslide"
    }
   },
   "source": [
    "### if, elif e else"
   ]
  },
  {
   "cell_type": "markdown",
   "id": "a6fc5742-ed8a-4b7a-9c63-c1f3b77070bd",
   "metadata": {
    "slideshow": {
     "slide_type": "-"
    }
   },
   "source": [
    "<pre>Você pode avaliar uma condição e, se for verdadeira, o bloco de instruções subsequente será executado</pre>"
   ]
  },
  {
   "cell_type": "code",
   "execution_count": 132,
   "id": "e7a3a0cc-80bd-4311-bc93-4d7b613db09a",
   "metadata": {
    "slideshow": {
     "slide_type": "-"
    }
   },
   "outputs": [
    {
     "name": "stdout",
     "output_type": "stream",
     "text": [
      "x é um número negativo\n"
     ]
    }
   ],
   "source": [
    "x = -5\n",
    "if x < 0:\n",
    "    print('x é um número negativo');"
   ]
  },
  {
   "cell_type": "markdown",
   "id": "2c4315e9-1beb-424e-bd3f-10cf8bdbccb7",
   "metadata": {
    "slideshow": {
     "slide_type": "subslide"
    }
   },
   "source": [
    "<pre>você pode, opcionalmente, inserir blocos <i>elif</i> e um bloco <i>else</i> para capturar os casos remanescentes</pre>"
   ]
  },
  {
   "cell_type": "code",
   "execution_count": 133,
   "id": "11eb9546-acb6-40d8-b2b8-ae209288e8f0",
   "metadata": {
    "slideshow": {
     "slide_type": "-"
    },
    "tags": []
   },
   "outputs": [
    {
     "name": "stdout",
     "output_type": "stream",
     "text": [
      "x é um número negativo\n"
     ]
    }
   ],
   "source": [
    "x = -5\n",
    "\n",
    "if x < 0:\n",
    "    print('x é um número negativo')\n",
    "elif x == 0:\n",
    "    print('x é igual a zero')\n",
    "elif 0 < x < 5:\n",
    "    print('x é um número positivo, mas menor do que 5')\n",
    "else:\n",
    "    print('x é um número positivo e igual ou maior a 5')"
   ]
  },
  {
   "cell_type": "markdown",
   "id": "eebed9b1-7f93-40fd-8fed-540e9451a9db",
   "metadata": {
    "slideshow": {
     "slide_type": "subslide"
    },
    "tags": []
   },
   "source": [
    "👉 dica: se qualquer condição acima for verdadeira, os blocos seguintes não serão executados\n",
    "\n",
    "👉 mais dica: se a condição for composta com <i>and</i> ou <i>or</i> as expressões são avaliadas da esquerda para direita"
   ]
  },
  {
   "cell_type": "code",
   "execution_count": 134,
   "id": "5fb07945-eaf5-400b-8b95-7a40dc9f4c48",
   "metadata": {
    "slideshow": {
     "slide_type": "-"
    },
    "tags": []
   },
   "outputs": [
    {
     "name": "stdout",
     "output_type": "stream",
     "text": [
      "a condição é verdadeira\n"
     ]
    }
   ],
   "source": [
    "a = 5; b = 7\n",
    "c = 8; d = 4\n",
    "\n",
    "if a < b or c > d:\n",
    "    print('a condição é verdadeira')"
   ]
  },
  {
   "cell_type": "markdown",
   "id": "0725b66b-ba1e-4d90-9637-dddf603aeec9",
   "metadata": {
    "slideshow": {
     "slide_type": "subslide"
    }
   },
   "source": [
    "### for"
   ]
  },
  {
   "cell_type": "markdown",
   "id": "e704da2e-0e90-4b55-99e4-82abcebf9343",
   "metadata": {
    "slideshow": {
     "slide_type": "-"
    }
   },
   "source": [
    "<pre>Você pode percorrer uma coleção de dados ou percorrer com um iterador</pre>"
   ]
  },
  {
   "cell_type": "code",
   "execution_count": 135,
   "id": "b68b1a9c-807c-45be-b4e2-eeee5879cc94",
   "metadata": {
    "slideshow": {
     "slide_type": "-"
    },
    "tags": []
   },
   "outputs": [
    {
     "name": "stdout",
     "output_type": "stream",
     "text": [
      "1\n",
      "2\n",
      "None\n",
      "4\n",
      "None\n",
      "5\n"
     ]
    }
   ],
   "source": [
    "sequence = [1, 2, None, 4, None, 5]\n",
    "\n",
    "for valor in sequence:\n",
    "    print(valor)"
   ]
  },
  {
   "cell_type": "markdown",
   "id": "529928aa-0b25-42d9-86f1-76b72a828517",
   "metadata": {
    "slideshow": {
     "slide_type": "subslide"
    }
   },
   "source": [
    "<pre>Você pode usar a palavra-chave <i>continue</i> para pular um laço</pre>"
   ]
  },
  {
   "cell_type": "code",
   "execution_count": 136,
   "id": "54faf9e5-633b-4bbf-92d6-4ee9c0c7f1de",
   "metadata": {
    "slideshow": {
     "slide_type": "-"
    },
    "tags": []
   },
   "outputs": [
    {
     "name": "stdout",
     "output_type": "stream",
     "text": [
      "1\n",
      "2\n"
     ]
    }
   ],
   "source": [
    "for valor in sequence:\n",
    "    if valor is None:\n",
    "        break\n",
    "    print(valor)"
   ]
  },
  {
   "cell_type": "markdown",
   "id": "b24c4634-00b3-45ef-a03e-ae8a1bc4b4f8",
   "metadata": {
    "slideshow": {
     "slide_type": "-"
    }
   },
   "source": [
    "<pre>Você pode usar a palavra-chave <i>break</i> para parar de percorrer com o <i>for</i></pre>"
   ]
  },
  {
   "cell_type": "code",
   "execution_count": 137,
   "id": "70ba4247-07fd-40ab-8f8d-322f0d8e3460",
   "metadata": {
    "slideshow": {
     "slide_type": "-"
    },
    "tags": []
   },
   "outputs": [
    {
     "name": "stdout",
     "output_type": "stream",
     "text": [
      "1\n",
      "2\n"
     ]
    }
   ],
   "source": [
    "for valor in sequence:\n",
    "    if valor is None:\n",
    "        break\n",
    "    print(valor)"
   ]
  },
  {
   "cell_type": "markdown",
   "id": "46844647-9dfa-42db-ab96-bf4ed8ea5be3",
   "metadata": {
    "slideshow": {
     "slide_type": "subslide"
    }
   },
   "source": [
    "👉 dica: se houver laços aninhados, a palavra-chave <i>break</i> apenas interrompe o laço mais interno"
   ]
  },
  {
   "cell_type": "code",
   "execution_count": 138,
   "id": "8fb84498-629b-4d38-b718-c68e591f5670",
   "metadata": {
    "slideshow": {
     "slide_type": "-"
    },
    "tags": []
   },
   "outputs": [
    {
     "name": "stdout",
     "output_type": "stream",
     "text": [
      "0 0\n",
      "1 0\n",
      "1 1\n",
      "2 0\n",
      "2 1\n",
      "2 2\n",
      "3 0\n",
      "3 1\n",
      "3 2\n",
      "3 3\n"
     ]
    }
   ],
   "source": [
    "for i in range(4):\n",
    "    for j in range(4):\n",
    "        if j > i:\n",
    "            break\n",
    "        print(i, j)"
   ]
  },
  {
   "cell_type": "markdown",
   "id": "bfbe5077-dd1a-418c-9961-79c7a5f87ac8",
   "metadata": {
    "slideshow": {
     "slide_type": "subslide"
    }
   },
   "source": [
    "### while"
   ]
  },
  {
   "cell_type": "markdown",
   "id": "c08c955e-2269-4cdf-95b5-af76e4754aa6",
   "metadata": {
    "slideshow": {
     "slide_type": "-"
    }
   },
   "source": [
    "<pre>Você pode executar um bloco de código até que uma determinada condição seja avaliada como False</pre>"
   ]
  },
  {
   "cell_type": "markdown",
   "id": "d4db1154-0936-4014-9a28-53db3433939f",
   "metadata": {
    "slideshow": {
     "slide_type": "-"
    }
   },
   "source": [
    "👉 dica: é igualmente possível usar as palavras-chave <i>continue</i> e <i>break</i> com <i>while</i>"
   ]
  },
  {
   "cell_type": "code",
   "execution_count": 139,
   "id": "b7abd6ce-462a-4f0d-b5d7-33519684068f",
   "metadata": {
    "slideshow": {
     "slide_type": "-"
    },
    "tags": []
   },
   "outputs": [
    {
     "name": "stdout",
     "output_type": "stream",
     "text": [
      "0\n",
      "1\n",
      "2\n",
      "3\n",
      "4\n"
     ]
    }
   ],
   "source": [
    "x = 0\n",
    "while x < 5:\n",
    "    print(x)\n",
    "    x+=1 "
   ]
  },
  {
   "cell_type": "markdown",
   "id": "377139dd-8ce5-4996-969a-5b690133a499",
   "metadata": {
    "slideshow": {
     "slide_type": "subslide"
    }
   },
   "source": [
    "### pass"
   ]
  },
  {
   "cell_type": "markdown",
   "id": "8f5675de-5f43-4507-8a45-47e42b366452",
   "metadata": {
    "slideshow": {
     "slide_type": "-"
    }
   },
   "source": [
    "<pre>Você pode utilizar uma palavra-chave que não executa nenhuma instrução</pre>"
   ]
  },
  {
   "cell_type": "markdown",
   "id": "79999fc5-6710-4136-9111-9b44d2b87ea4",
   "metadata": {
    "slideshow": {
     "slide_type": "-"
    }
   },
   "source": [
    "👉 dica: python usa espaços em branco para delimitar blocos; \n",
    "\n",
    "portanto, é usado como marcador para indicar código que ainda deve ser implementado"
   ]
  },
  {
   "cell_type": "code",
   "execution_count": 140,
   "id": "4b75c165-c3da-4c66-b50c-d1bea4ba8b67",
   "metadata": {
    "slideshow": {
     "slide_type": "-"
    }
   },
   "outputs": [],
   "source": [
    "# x = -5\n",
    "# if x < 0:\n",
    "#     #imprimir"
   ]
  },
  {
   "cell_type": "code",
   "execution_count": 141,
   "id": "c25ef3b1-1ad8-468d-9c98-3ff6ae257a09",
   "metadata": {
    "slideshow": {
     "slide_type": "-"
    },
    "tags": []
   },
   "outputs": [],
   "source": [
    "x = -5\n",
    "if x < 0:\n",
    "    pass #imprimir"
   ]
  },
  {
   "cell_type": "code",
   "execution_count": 142,
   "id": "6eaa237c-ef49-4e54-beb9-1544aa2f1fad",
   "metadata": {
    "slideshow": {
     "slide_type": "-"
    },
    "tags": []
   },
   "outputs": [
    {
     "name": "stdout",
     "output_type": "stream",
     "text": [
      "x é um número negativo\n"
     ]
    }
   ],
   "source": [
    "x = -5\n",
    "if x < 0:\n",
    "    print('x é um número negativo')"
   ]
  },
  {
   "cell_type": "markdown",
   "id": "2f8e0e00-ff31-472f-8bf1-790abe3e8983",
   "metadata": {
    "slideshow": {
     "slide_type": "subslide"
    }
   },
   "source": [
    "### range"
   ]
  },
  {
   "cell_type": "markdown",
   "id": "9622ccc9-4b38-437d-8208-827a938b9ca4",
   "metadata": {
    "slideshow": {
     "slide_type": "-"
    }
   },
   "source": [
    "<pre>Você pode gerar uma sequência de inteiros com espaçamentos iguais entre inteiros consecutivos</pre>"
   ]
  },
  {
   "cell_type": "markdown",
   "id": "ade56b3c-e4a3-42f9-9e74-a9021b05d6af",
   "metadata": {
    "slideshow": {
     "slide_type": "-"
    },
    "tags": []
   },
   "source": [
    "<code>range(inicio, fim, espaçamento)</code>, onde <code>início</code> está incluso, <code>fim</code> não está incluso e <code>espaçamento</code> pode ser negativo"
   ]
  },
  {
   "cell_type": "code",
   "execution_count": 143,
   "id": "5ef65d4d-9610-4658-bce1-fed217b645a0",
   "metadata": {
    "slideshow": {
     "slide_type": "-"
    },
    "tags": []
   },
   "outputs": [
    {
     "data": {
      "text/plain": [
       "range(0, 20, 2)"
      ]
     },
     "execution_count": 143,
     "metadata": {},
     "output_type": "execute_result"
    }
   ],
   "source": [
    "range(0, 20, 2)"
   ]
  },
  {
   "cell_type": "code",
   "execution_count": 144,
   "id": "e8ad02f2-9569-4fda-808e-af4a2c379abd",
   "metadata": {
    "slideshow": {
     "slide_type": "subslide"
    },
    "tags": []
   },
   "outputs": [
    {
     "name": "stdout",
     "output_type": "stream",
     "text": [
      "0\n",
      "2\n",
      "4\n",
      "6\n",
      "8\n",
      "10\n",
      "12\n",
      "14\n",
      "16\n",
      "18\n"
     ]
    }
   ],
   "source": [
    "for i in range(0, 20, 2):\n",
    "    print(i)"
   ]
  },
  {
   "cell_type": "code",
   "execution_count": 145,
   "id": "4f34c6aa-b29c-4ba1-8984-7337caaf4ad3",
   "metadata": {
    "slideshow": {
     "slide_type": "-"
    },
    "tags": []
   },
   "outputs": [
    {
     "name": "stdout",
     "output_type": "stream",
     "text": [
      "20\n",
      "19\n",
      "18\n",
      "17\n",
      "16\n",
      "15\n",
      "14\n",
      "13\n",
      "12\n",
      "11\n",
      "10\n",
      "9\n",
      "8\n",
      "7\n",
      "6\n",
      "5\n",
      "4\n",
      "3\n",
      "2\n",
      "1\n"
     ]
    }
   ],
   "source": [
    "for i in range(20, 0, -1):\n",
    "    print(i)"
   ]
  }
 ],
 "metadata": {
  "celltoolbar": "Slideshow",
  "kernelspec": {
   "display_name": "Python 3 (ipykernel)",
   "language": "python",
   "name": "python3"
  },
  "language_info": {
   "codemirror_mode": {
    "name": "ipython",
    "version": 3
   },
   "file_extension": ".py",
   "mimetype": "text/x-python",
   "name": "python",
   "nbconvert_exporter": "python",
   "pygments_lexer": "ipython3",
   "version": "3.12.4"
  },
  "toc": {
   "base_numbering": 1,
   "nav_menu": {},
   "number_sections": true,
   "sideBar": true,
   "skip_h1_title": false,
   "title_cell": "Table of Contents",
   "title_sidebar": "Contents",
   "toc_cell": false,
   "toc_position": {},
   "toc_section_display": true,
   "toc_window_display": false
  }
 },
 "nbformat": 4,
 "nbformat_minor": 5
}
