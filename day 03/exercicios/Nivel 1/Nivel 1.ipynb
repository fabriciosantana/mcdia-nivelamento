{
 "cells": [
  {
   "cell_type": "markdown",
   "id": "b6c70ad7-7f2f-43fe-bfd8-0fa57a7ae335",
   "metadata": {
    "editable": true,
    "slideshow": {
     "slide_type": "-"
    },
    "tags": []
   },
   "source": [
    "# Introdução ao Python"
   ]
  },
  {
   "cell_type": "markdown",
   "id": "9f47c41c-76b1-4120-8f86-9e03164d47c3",
   "metadata": {},
   "source": [
    "## Semântica da Linguagem 🐍"
   ]
  },
  {
   "cell_type": "markdown",
   "id": "755783c9-417b-4415-a6c1-d4d96ab71011",
   "metadata": {},
   "source": [
    "<pre>Crie uma variável de nome <b>país</b> e atribua a ela o nome de um país que você goste.</pre>"
   ]
  },
  {
   "cell_type": "markdown",
   "id": "c3b63b8f-a471-4db4-8c60-42c7ac05143f",
   "metadata": {},
   "source": [
    "<details>\n",
    "  <summary>Resposta</summary>\n",
    "\n",
    "<br/>\n",
    "\n",
    "```python\n",
    "país = \"EUA\"\n",
    "```\n",
    "\n",
    "<br/>\n",
    "\n",
    "`Racional`: Para atribuir uma cadeia de caracteres a uma variável, você deve usar o operador `=`.\n",
    "\n",
    "</details>"
   ]
  },
  {
   "cell_type": "code",
   "execution_count": null,
   "id": "e51f7961",
   "metadata": {},
   "outputs": [],
   "source": []
  },
  {
   "cell_type": "markdown",
   "id": "6effee80",
   "metadata": {},
   "source": [
    "<pre>Qual o tipo dessa variável <b>país</b>?</pre>"
   ]
  },
  {
   "cell_type": "markdown",
   "id": "b4a0eeb9-434c-499a-822b-080f2043113a",
   "metadata": {},
   "source": [
    "<details>\n",
    "  <summary>Resposta</summary>\n",
    "\n",
    "<br />\n",
    "\n",
    "```python\n",
    "type(país)\n",
    "```\n",
    "\n",
    "<br />\n",
    "\n",
    "`Racional`: Para saber o tipo de uma variável, use a função nativa `type()`.\n",
    "\n",
    "</details>"
   ]
  },
  {
   "cell_type": "code",
   "execution_count": null,
   "id": "7687ca83",
   "metadata": {},
   "outputs": [],
   "source": []
  },
  {
   "cell_type": "markdown",
   "id": "a73842e7",
   "metadata": {},
   "source": [
    "<pre>Crie uma variável de nome <b>idh</b> e atribua o Índice de Desenvolvimento Humano (IDH) do país escolhido a ela.</pre>\n",
    "👉 dica: procure o IDH desejado em uma ferramenta de busca, como o Google."
   ]
  },
  {
   "cell_type": "markdown",
   "id": "b4a7e1f6-fb2e-474f-935d-51ca4f23baad",
   "metadata": {},
   "source": [
    "<details>\n",
    "  <summary>Resposta</summary>\n",
    "\n",
    "<br />\n",
    "\n",
    "```python\n",
    "idh = 0.9\n",
    "```\n",
    "\n",
    "<br />\n",
    "\n",
    "`Racional`: Para atribuir uma cadeia de caracteres a uma variável, você deve usar o operador `=`. Além disso, números decimais devem utilizar a notação americana, com `.`separando a parte decimal da parte inteira.\n",
    "\n",
    "</details>"
   ]
  },
  {
   "cell_type": "code",
   "execution_count": null,
   "id": "57f5dd7e",
   "metadata": {},
   "outputs": [],
   "source": []
  },
  {
   "cell_type": "markdown",
   "id": "93caba8a",
   "metadata": {},
   "source": [
    "<pre>Qual o tipo dessa variável <b>idh</b>?</pre>"
   ]
  },
  {
   "cell_type": "markdown",
   "id": "5b4472b6-a73b-4cfc-b6d6-92cf0a31f3f3",
   "metadata": {},
   "source": [
    "<details>\n",
    "  <summary>Resposta</summary>\n",
    "\n",
    "<br />\n",
    "\n",
    "```python\n",
    "type(idh)\n",
    "```\n",
    "\n",
    "<br />\n",
    "\n",
    "`Racional`: Para saber o tipo de uma variável, use a função nativa `type()`.\n",
    "\n",
    "</details>"
   ]
  },
  {
   "cell_type": "code",
   "execution_count": null,
   "id": "493988b9",
   "metadata": {},
   "outputs": [],
   "source": []
  },
  {
   "cell_type": "markdown",
   "id": "9212b62f",
   "metadata": {},
   "source": [
    "<pre>Faça uma interpolação para formar a frase abaixo, com o nome do país e seu idh (escolhidos anteriormente), preenchendo os espaços sublinhados:\n",
    "\n",
    "O país ________ possui um IDH de ________</pre>"
   ]
  },
  {
   "cell_type": "markdown",
   "id": "e7e50d1e-589f-456f-b0b1-d4f4cfc44837",
   "metadata": {},
   "source": [
    "<details>\n",
    "  <summary>Resposta</summary>\n",
    "\n",
    "<br />\n",
    "\n",
    "```python\n",
    "f\"O país '{país} possui um IDH de {idh}\"\n",
    "```\n",
    "\n",
    "<br />\n",
    "\n",
    "`Racional`: Para realizar uma interpolação, use `f` de \"format\" precedendo a expressão entre aspas `\"\"`, bem como utilizando cada variável entre chaves `{}`.\n",
    "\n",
    "</details>"
   ]
  },
  {
   "cell_type": "code",
   "execution_count": null,
   "id": "b75c4fde-e488-4477-a92f-a6fb58df7ef1",
   "metadata": {},
   "outputs": [],
   "source": []
  },
  {
   "cell_type": "markdown",
   "id": "39bf17c5",
   "metadata": {},
   "source": [
    "## Tipos de Dados 🎲 Escalares 🪜\n",
    "\n",
    "<pre>Execute a célula abaixo e descubra os tipos de dados de cada uma das variáveis.</pre>"
   ]
  },
  {
   "cell_type": "code",
   "execution_count": 1,
   "id": "ebb5418b",
   "metadata": {},
   "outputs": [],
   "source": [
    "país = 'EUA'\n",
    "idh = 0.9\n",
    "pop_em_milhoes = 332\n",
    "idade = 18\n",
    "maior_de_idade = (idade >= 18)"
   ]
  },
  {
   "cell_type": "markdown",
   "id": "fa519bb5-32b1-4060-adbc-118f3c4ddaf6",
   "metadata": {},
   "source": [
    "<pre>Qual o tipo da variável <b>país</b>?</pre>"
   ]
  },
  {
   "cell_type": "markdown",
   "id": "fdd46b78-18f8-45e6-a900-eeef58bf8050",
   "metadata": {},
   "source": [
    "<details>\n",
    "  <summary>Resposta</summary>\n",
    "\n",
    "<br />\n",
    "\n",
    "```python\n",
    "type(país)\n",
    "```\n",
    "\n",
    "<br />\n",
    "\n",
    "`Racional`: Para saber o tipo de uma variável, use a função nativa `type()`.\n",
    "\n",
    "</details>"
   ]
  },
  {
   "cell_type": "code",
   "execution_count": null,
   "id": "930d3769",
   "metadata": {},
   "outputs": [],
   "source": []
  },
  {
   "cell_type": "markdown",
   "id": "1a53082c-04c0-41ed-9712-2b2075e6c5db",
   "metadata": {},
   "source": [
    "<pre>Qual o tipo da variável <b>idh</b>?</pre>"
   ]
  },
  {
   "cell_type": "markdown",
   "id": "f7a51972-a964-4d2f-9ac8-8cd0b09f54cd",
   "metadata": {},
   "source": [
    "<details>\n",
    "  <summary>Resposta</summary>\n",
    "\n",
    "<br />\n",
    "\n",
    "```python\n",
    "type(idh)\n",
    "```\n",
    "\n",
    "<br />\n",
    "\n",
    "`Racional`: Para saber o tipo de uma variável, use a função nativa `type()`.\n",
    "\n",
    "</details>"
   ]
  },
  {
   "cell_type": "code",
   "execution_count": null,
   "id": "86c19bd3",
   "metadata": {},
   "outputs": [],
   "source": []
  },
  {
   "cell_type": "markdown",
   "id": "0c5173f9-f30f-42de-bfbd-fc89d9a0ddd3",
   "metadata": {},
   "source": [
    "<pre>Qual o tipo da variável <b>pop_em_milhoes</b>?</pre>"
   ]
  },
  {
   "cell_type": "markdown",
   "id": "ec0499ac-0e2d-46a0-83fe-37c955be3707",
   "metadata": {},
   "source": [
    "<details>\n",
    "  <summary>Resposta</summary>\n",
    "\n",
    "<br />\n",
    "\n",
    "```python\n",
    "type(pop_em_milhoes)\n",
    "```\n",
    "\n",
    "<br />\n",
    "\n",
    "`Racional`: Para saber o tipo de uma variável, use a função nativa `type()`.\n",
    "\n",
    "</details>"
   ]
  },
  {
   "cell_type": "code",
   "execution_count": null,
   "id": "faeb37d0",
   "metadata": {},
   "outputs": [],
   "source": []
  },
  {
   "cell_type": "markdown",
   "id": "52140301-2029-4460-a0b6-6bec9b2062d3",
   "metadata": {},
   "source": [
    "<pre>Qual o tipo da variável <b>maior_de_idade</b>?</pre>"
   ]
  },
  {
   "cell_type": "markdown",
   "id": "1785c5ec-f9bd-4174-8abe-d76196515d9c",
   "metadata": {},
   "source": [
    "<details>\n",
    "  <summary>Resposta</summary>\n",
    "\n",
    "<br />\n",
    "\n",
    "```python\n",
    "type(maior_de_idade)\n",
    "```\n",
    "\n",
    "<br />\n",
    "\n",
    "`Racional`: Para saber o tipo de uma variável, use a função nativa `type()`.\n",
    "\n",
    "</details>"
   ]
  },
  {
   "cell_type": "code",
   "execution_count": null,
   "id": "497e23bc",
   "metadata": {},
   "outputs": [],
   "source": []
  },
  {
   "cell_type": "markdown",
   "id": "c94050b4",
   "metadata": {},
   "source": [
    "## Controle 🕹️ de Fluxo 🔄"
   ]
  },
  {
   "cell_type": "markdown",
   "id": "0ad2b761-c4cb-4485-b2ce-5fcf30603d2f",
   "metadata": {},
   "source": [
    "## `if`, `elif` e `else`"
   ]
  },
  {
   "cell_type": "markdown",
   "id": "a741165b-58a0-41cf-a0ed-b2a75c8a7b80",
   "metadata": {},
   "source": [
    "<pre>Crie um código que recebe do usuário -- por meio da função <b>input()</b> -- o número do órgão/entidade de determinado orçamento -- conforme tabela abaixo -- e imprima para o usuário o nome do seu órgão superior.</pre>"
   ]
  },
  {
   "cell_type": "markdown",
   "id": "523c59ca-7648-4676-b26e-e4ab8aeb2ab3",
   "metadata": {},
   "source": [
    " <pre>Isto é,\n",
    " - se o numero do órgão/entidade começa com 26: imprima <b>Ministério da Educação</b>;\n",
    " - se o numero do órgão/entidade começa com 36: imprima <b>Ministério da Saúde</b>;\n",
    " - se o numero do órgão/entidade começa com 25: imprima <b>Ministério da Fazenda</b>;\n",
    " - qualquer outro: imprima <b>outros</b>.</pre>"
   ]
  },
  {
   "cell_type": "markdown",
   "id": "6de2c693-0269-4a2a-8ae5-ca94a556ff13",
   "metadata": {},
   "source": [
    "<details>\n",
    "  <summary>Resposta</summary>\n",
    "\n",
    "<br />\n",
    "\n",
    "```python\n",
    "numero = input('Qual é o número do órgão/entidade vinculado/vinculada que deseja encontrar? ')\n",
    "if numero.startswith('26'):\n",
    "    print(\"Ministério da Educação\")\n",
    "elif numero.startswith('36'):\n",
    "    print(\"Ministério da Saúde\")\n",
    "elif numero.startswith('25'):\n",
    "    print(\"Ministério da Fazenda\")\n",
    "else:\n",
    "    print('outros')\n",
    "```\n",
    "\n",
    "<br />\n",
    "\n",
    "`Racional`: Você pode avaliar uma condição com `if` e, se for verdadeira, o bloco de instruções subsequente será executado. Você pode, opcionalmente, inserir blocos `elif` e um bloco `else` para capturar os casos remanescentes. Além disso, para verificar se uma cadeia de caracteres começa com outra cadeia de caracteres, utilize o método `.startswith()`.\n",
    "\n",
    "</details>"
   ]
  },
  {
   "cell_type": "markdown",
   "id": "5bf22ba5-b5dc-4db1-b8a3-b9352af7c079",
   "metadata": {},
   "source": [
    "<img src=\"figs/financeiro_orgaos.png\" width=800px></img>"
   ]
  },
  {
   "cell_type": "code",
   "execution_count": null,
   "id": "446556cd-a84f-4172-9009-9e23dc5c6426",
   "metadata": {},
   "outputs": [],
   "source": []
  },
  {
   "cell_type": "markdown",
   "id": "ac0e58be-919e-43cf-b979-3a41fcc11046",
   "metadata": {},
   "source": [
    "## `for` e `range`"
   ]
  },
  {
   "cell_type": "markdown",
   "id": "85464379-0117-45dc-945c-6c01bca2a358",
   "metadata": {},
   "source": [
    "<pre>Calcule a soma de todos os números positivos inteiros múltiplos de 3 ou de 5 que são menores que 1000.</pre>"
   ]
  },
  {
   "cell_type": "markdown",
   "id": "a2940b48-c0b3-45a9-a784-4b8a802547d4",
   "metadata": {},
   "source": [
    "<details>\n",
    "  <summary>Resposta</summary>\n",
    "\n",
    "<br />\n",
    "\n",
    "```python\n",
    "total = 0\n",
    "for i in range(1, 1000):\n",
    "    if i % 3 == 0 or i % 5 == 0:\n",
    "        total += i\n",
    "print(total)\n",
    "```\n",
    "\n",
    "<br />\n",
    "\n",
    "`Racional`: Você pode percorrer com `for` uma sequência de inteiros com espaçamentos iguais entre inteiros consecutivos usando `range()`, em que `range(inicio, fim)` inicia no `inicio + 1`-ésimo elemento e termina no `fim`-ésimo elemento, lembrando que a linguagem de programação começa do índice `0`. Ademais, o operador `%` calcula o resto da operação de divisão entre o operador à esquerda e o operador à direita.\n",
    "\n",
    "</details>"
   ]
  },
  {
   "cell_type": "code",
   "execution_count": null,
   "id": "c9f97ce6",
   "metadata": {},
   "outputs": [],
   "source": []
  }
 ],
 "metadata": {
  "kernelspec": {
   "display_name": "Python 3 (ipykernel)",
   "language": "python",
   "name": "python3"
  },
  "language_info": {
   "codemirror_mode": {
    "name": "ipython",
    "version": 3
   },
   "file_extension": ".py",
   "mimetype": "text/x-python",
   "name": "python",
   "nbconvert_exporter": "python",
   "pygments_lexer": "ipython3",
   "version": "3.12.4"
  },
  "toc": {
   "base_numbering": 1
  }
 },
 "nbformat": 4,
 "nbformat_minor": 5
}
