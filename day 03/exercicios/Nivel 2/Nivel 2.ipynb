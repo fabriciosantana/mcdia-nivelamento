{
 "cells": [
  {
   "cell_type": "markdown",
   "id": "8d785f3a-1ea6-49b0-a3b4-b9caea872663",
   "metadata": {
    "editable": true,
    "slideshow": {
     "slide_type": "-"
    },
    "tags": []
   },
   "source": [
    "# Introdução ao Python"
   ]
  },
  {
   "cell_type": "markdown",
   "id": "1171b878",
   "metadata": {},
   "source": [
    "## Tipos de Dados 🎲 Escalares 🪜"
   ]
  },
  {
   "cell_type": "markdown",
   "id": "9350f353",
   "metadata": {},
   "source": [
    "<pre>Avalie as expressões abaixo e tente prever os resultados antes de executar as células.</pre>"
   ]
  },
  {
   "cell_type": "markdown",
   "id": "de5e154c-da17-45b4-9b39-f6fededb8a0f",
   "metadata": {},
   "source": [
    "<details>\n",
    "  <summary>Resposta</summary>\n",
    "\n",
    "<br/>\n",
    "\n",
    "```python\n",
    "True\n",
    "```\n",
    "\n",
    "<br/>\n",
    "\n",
    "`Racional`: A disjunção `or` sempre retornará `True` se ao menos uma das expressões for verdadeira. Caso contrário, retornará `False`.\n",
    "\n",
    "</details>"
   ]
  },
  {
   "cell_type": "code",
   "execution_count": 1,
   "id": "ae5882b1",
   "metadata": {},
   "outputs": [
    {
     "data": {
      "text/plain": [
       "True"
      ]
     },
     "execution_count": 1,
     "metadata": {},
     "output_type": "execute_result"
    }
   ],
   "source": [
    "(2 > 3) or (15 < 20)"
   ]
  },
  {
   "cell_type": "markdown",
   "id": "9fa0126b-ddfb-4d0f-9f4b-ab88e0016ff5",
   "metadata": {},
   "source": [
    "<details>\n",
    "  <summary>Resposta</summary>\n",
    "\n",
    "<br/>\n",
    "\n",
    "```python\n",
    "False\n",
    "```\n",
    "\n",
    "<br/>\n",
    "\n",
    "`Racional`: A conjunção `and` sempre retornará `True` se ambas as expressões forem verdadeiras. Caso contrário, retornará `False`.\n",
    "\n",
    "</details>"
   ]
  },
  {
   "cell_type": "code",
   "execution_count": 2,
   "id": "3e7969bf",
   "metadata": {},
   "outputs": [
    {
     "data": {
      "text/plain": [
       "False"
      ]
     },
     "execution_count": 2,
     "metadata": {},
     "output_type": "execute_result"
    }
   ],
   "source": [
    "(3 == 3.0) and (10 >= 11)"
   ]
  },
  {
   "cell_type": "markdown",
   "id": "05bbe178-e5f7-4d24-a8bb-a60ff204b3df",
   "metadata": {},
   "source": [
    "<details>\n",
    "  <summary>Resposta</summary>\n",
    "\n",
    "<br/>\n",
    "\n",
    "```python\n",
    "False\n",
    "```\n",
    "\n",
    "<br/>\n",
    "\n",
    "`Racional`: A negação `not` sempre retornará `True` se o operando for `False`. Caso contrário, retornará `True`. A disjunção exclusiva `^` sempre retornará `True` se um e apenas um dos operandos for `True`. Caso contrário, retornará `False`.\n",
    "\n",
    "</details>"
   ]
  },
  {
   "cell_type": "code",
   "execution_count": null,
   "id": "d16c8d34",
   "metadata": {
    "scrolled": true
   },
   "outputs": [],
   "source": [
    "(not False) ^ (True)"
   ]
  },
  {
   "cell_type": "markdown",
   "id": "9b1f66f4-0cf5-4f8b-baa1-9aba4fe2ee79",
   "metadata": {},
   "source": [
    "<details>\n",
    "  <summary>Resposta</summary>\n",
    "\n",
    "<br/>\n",
    "\n",
    "```python\n",
    "Alô!\n",
    "Olá!\n",
    "```\n",
    "\n",
    "<br/>\n",
    "\n",
    "`Racional`: Alguns valores que não são <b>booleano</b> podem ser avaliados como <b>boolenanos</b> `True` ou `False` no contexto de uma condição. Por exemplo, `0`, `0.0`, `''` (string vazia), `[]` (lista vazia), `{}` (dicionário ou conjunto vazio) são considerados equivalentes a `False`.\n",
    "\n",
    "</details>"
   ]
  },
  {
   "cell_type": "code",
   "execution_count": null,
   "id": "f59d2e40",
   "metadata": {},
   "outputs": [],
   "source": [
    "if (1):\n",
    "    print(\"Alô!\")\n",
    "\n",
    "if (0):\n",
    "    print(\"Oi!\")\n",
    "    \n",
    "if([]):\n",
    "    print(\"Ei!\")  \n",
    "    \n",
    "if not (''):\n",
    "    print(\"Olá!\")  "
   ]
  },
  {
   "cell_type": "markdown",
   "id": "683553ce-ab70-4969-9f12-b1191f4b9225",
   "metadata": {},
   "source": [
    "<details>\n",
    "  <summary>Resposta</summary>\n",
    "\n",
    "<br/>\n",
    "\n",
    "```python\n",
    "[2, 4, 8]\n",
    "```\n",
    "\n",
    "<br/>\n",
    "\n",
    "`Racional`: Ao criarmos a lista `[2, 4, 6, 8]`, o nome (`lista_a`) aponta para esse objeto na memória. Em `lista_b = lista_a`, atribuímos mais um nome (`lista_b`) apontando para o mesmo objeto, <i>i.e.</i> não criamos uma cópia dele. Portanto, alterando o objeto apontado por `lista_a`, também alteramos o objeto apontado por `lista_b`.\n",
    "\n",
    "</details>"
   ]
  },
  {
   "cell_type": "code",
   "execution_count": null,
   "id": "8f254bd0",
   "metadata": {
    "scrolled": true
   },
   "outputs": [],
   "source": [
    "lista_a = [2, 4, 6, 8]\n",
    "lista_b = lista_a\n",
    "lista_a.remove(6)\n",
    "lista_b"
   ]
  },
  {
   "cell_type": "markdown",
   "id": "4f2da5b4-0ea2-40ac-ac14-6881ead7cb6a",
   "metadata": {},
   "source": [
    "<details>\n",
    "  <summary>Resposta</summary>\n",
    "\n",
    "<br/>\n",
    "\n",
    "```python\n",
    "(20, 15)\n",
    "```\n",
    "\n",
    "<br/>\n",
    "\n",
    "`Racional`: ao atribuirmos novos valores a `a` e a `b` na segunda linha, o interpretador primeiro computa as expressões no lado direito da atribuição e, em seguida, atualiza os valores das variáveis no lado esquerdo da atribuição. Portanto, o `a` na expressão `a + b` é avaliado com o valor atribuído na linha imediatamanete acima (`5`).\n",
    "\n",
    "</details>"
   ]
  },
  {
   "cell_type": "code",
   "execution_count": 3,
   "id": "ca56ee1a",
   "metadata": {
    "scrolled": true
   },
   "outputs": [
    {
     "data": {
      "text/plain": [
       "(20, 15)"
      ]
     },
     "execution_count": 3,
     "metadata": {},
     "output_type": "execute_result"
    }
   ],
   "source": [
    "a, b = 5, 10\n",
    "a, b = 20, a + b\n",
    "a, b"
   ]
  },
  {
   "cell_type": "markdown",
   "id": "30d88d85-6508-4b02-8b07-d9250cf67dec",
   "metadata": {},
   "source": [
    "## Controle 🕹️ de Fluxo 🔄"
   ]
  },
  {
   "cell_type": "markdown",
   "id": "ba01c4c1",
   "metadata": {},
   "source": [
    "### `for` e `while`"
   ]
  },
  {
   "cell_type": "markdown",
   "id": "9b06921e",
   "metadata": {},
   "source": [
    "<pre>Crie código que percorra todos os números de <b>1</b> a <b>100</b> e imprima aqueles que são divisíveis por <b>7</b>, usando <b>for</b> e, em seguida, usando <b>while</b>.</pre>"
   ]
  },
  {
   "cell_type": "markdown",
   "id": "6599c2dc-789c-42f1-aa31-ac8360e84ad8",
   "metadata": {},
   "source": [
    "👉 dica: a função `print()` aceita o argumento `end`, que pode alterar o padrão do comando `print` (que insere uma quebra de linha (`\\n`) ao final da impressão)."
   ]
  },
  {
   "cell_type": "markdown",
   "id": "76e77108-5b64-4a85-86b9-d4208341dd63",
   "metadata": {},
   "source": [
    "<details>\n",
    "  <summary>Resposta 1</summary>\n",
    "\n",
    "<br/>\n",
    "\n",
    "```python\n",
    "for n in range(1, 101):\n",
    "    if n % 7 == 0:\n",
    "        print(n, end = \" \")\n",
    "```\n",
    "\n",
    "<br/>\n",
    "\n",
    "`Racional`: O `range()` cria uma sequência de inteiros com espaçamentos iguais entre inteiros consecutivos, em que `range(inicio, fim)` inicia no `inicio + 1`-ésimo elemento e termina no `fim`-ésimo elemento, lembrando que a linguagem de programação começa do índice `0`. Ademais, o operador `%` calcula o resto da operação de divisão entre o operador à esquerda e o operador à direita.\n",
    "</details>"
   ]
  },
  {
   "cell_type": "code",
   "execution_count": null,
   "id": "66599c7a-a625-446b-ac0a-a1a2136aa8f9",
   "metadata": {},
   "outputs": [],
   "source": []
  },
  {
   "cell_type": "markdown",
   "id": "ee51680a-6407-4a77-8226-c163765a86a5",
   "metadata": {},
   "source": [
    "<details>\n",
    "  <summary>Resposta 2</summary>\n",
    "\n",
    "<br/>\n",
    "\n",
    "```python\n",
    "n = 1\n",
    "while n <= 100:\n",
    "    if n % 7 == 0:\n",
    "        print(n, end = \" \")\n",
    "    n += 1\n",
    "```\n",
    "\n",
    "<br/>\n",
    "\n",
    "`Racional`: com `while`, você pode executar um bloco de código até que uma determinada condição seja avaliada como `False`. Ademais, o operador `%` calcula o resto da operação de divisão entre o operador à esquerda e o operador à direita.\n",
    "</details>"
   ]
  },
  {
   "cell_type": "code",
   "execution_count": null,
   "id": "0b542eab",
   "metadata": {
    "scrolled": true
   },
   "outputs": [],
   "source": []
  },
  {
   "cell_type": "markdown",
   "id": "92d96e6d",
   "metadata": {},
   "source": [
    "<pre>Crie código que reproduza o padrão de números a seguir.</pre>"
   ]
  },
  {
   "cell_type": "markdown",
   "id": "625b6678-7a9e-4e5c-82e6-b7418defbd35",
   "metadata": {},
   "source": [
    "👉 dica: lembre-se que você pode usar um `for` dentro de outro `for`. "
   ]
  },
  {
   "cell_type": "markdown",
   "id": "32096fd4-ce11-44e1-9f64-1d29cf40e244",
   "metadata": {},
   "source": [
    "<details>\n",
    "  <summary>Resposta</summary>\n",
    "\n",
    "<br/>\n",
    "\n",
    "```python\n",
    "for i in range(5, -1, -1):\n",
    "    for j in range(i, -1, -1):\n",
    "            print(j, end = \" \")\n",
    "    print(\"\")\n",
    "```\n",
    "\n",
    "<br/>\n",
    "\n",
    "`Racional`: O `range()` cria uma sequência de inteiros com espaçamentos iguais entre inteiros consecutivos, em que `range(inicio, fim, espaçamento)` inicia no `inicio + 1`-ésimo elemento, termina no `fim`-ésimo elemento e `espaçamento` pode ser negativo, lembrando que a linguagem de programação começa do índice `0`.\n",
    "</details>"
   ]
  },
  {
   "cell_type": "markdown",
   "id": "9c9c5dfc",
   "metadata": {},
   "source": [
    "5 4 3 2 1 0 <br />\n",
    "4 3 2 1 0 <br />\n",
    "3 2 1 0 <br />\n",
    "2 1 0 <br />\n",
    "1 0 <br />\n",
    "0 <br />"
   ]
  },
  {
   "cell_type": "code",
   "execution_count": null,
   "id": "68500779",
   "metadata": {
    "scrolled": true
   },
   "outputs": [],
   "source": []
  },
  {
   "cell_type": "markdown",
   "id": "67328dc2-6718-4311-985b-e2b765554bc2",
   "metadata": {},
   "source": [
    "## Desafio ⚡️"
   ]
  },
  {
   "cell_type": "markdown",
   "id": "b55b7df4",
   "metadata": {},
   "source": [
    "### Explorando as estatísticas brasileiras de comércio exterior"
   ]
  },
  {
   "cell_type": "markdown",
   "id": "f695105b-fb44-4965-9dca-1ec3febe9b4a",
   "metadata": {},
   "source": [
    "<pre>A ferramenta <a href=\"http://comexstat.mdic.gov.br/pt/geral\">ComexStat</a> permite a criação de consultas aos dados de comércio exterior em diversos níveis de detalhamento.</pre>"
   ]
  },
  {
   "cell_type": "markdown",
   "id": "712f900b-9108-4c69-bc44-856cd12a797a",
   "metadata": {},
   "source": [
    "<pre>Podemos, por exemplo, verificar os principais destinos das exportações brasileiras.</pre>"
   ]
  },
  {
   "cell_type": "code",
   "execution_count": null,
   "id": "8b6d3522",
   "metadata": {},
   "outputs": [],
   "source": [
    "# Dados de 2022\n",
    "paises_destino = [\"China\", \"Estados Unidos\", \"Argentina\", \"Países Baixos (Holanda)\", \"Espanha\"]\n",
    "valor_bilhoes_usd = [89.427, 37.437, 15.344, 11.927, 9.747]"
   ]
  },
  {
   "cell_type": "markdown",
   "id": "e79a8797-3eaa-4fd2-a298-08dddcf47568",
   "metadata": {},
   "source": [
    "<pre>Vamos escrever um ranking dos principais destinos das exportações brasileiras em 2022.</pre>"
   ]
  },
  {
   "cell_type": "markdown",
   "id": "30d021da-a0ab-4659-9147-4175ef5b0f42",
   "metadata": {},
   "source": [
    "<pre>Crie código que retorne, para cada país da lista, a expressão \"[posição] lugar: [país] - US$ [valor] bilhões\", usando uma casa decimal. \n",
    "    \n",
    "    Exemplo: \"1º lugar: China - US$ 89.4 bilhões\".</pre>"
   ]
  },
  {
   "cell_type": "markdown",
   "id": "7b996d4e-019c-4af9-a551-78f76526f705",
   "metadata": {},
   "source": [
    "<details>\n",
    "  <summary>Resposta</summary>\n",
    "\n",
    "<br/>\n",
    "\n",
    "```python\n",
    "for i in range(len(paises_destino)):\n",
    "    print(f\"{i + 1}º lugar: {paises_destino[i]} - US$ {valor_bilhoes_usd[i]:.1f} bilhões\")\n",
    "```\n",
    "\n",
    "<br/>\n",
    "\n",
    "`Racional`: A função `len()` retorna o número de elementos da estrutura de dados passada como parâmetro. Para realizar uma interpolação, use `f` de \"format\" precedendo a expressão entre aspas `\"\"`, bem como utilizando cada variável entre chaves `{}`.\n",
    "</details>"
   ]
  },
  {
   "cell_type": "code",
   "execution_count": null,
   "id": "5d080c74",
   "metadata": {
    "scrolled": true
   },
   "outputs": [],
   "source": []
  }
 ],
 "metadata": {
  "kernelspec": {
   "display_name": "Python 3 (ipykernel)",
   "language": "python",
   "name": "python3"
  },
  "language_info": {
   "codemirror_mode": {
    "name": "ipython",
    "version": 3
   },
   "file_extension": ".py",
   "mimetype": "text/x-python",
   "name": "python",
   "nbconvert_exporter": "python",
   "pygments_lexer": "ipython3",
   "version": "3.12.4"
  },
  "toc": {
   "base_numbering": 1,
   "nav_menu": {},
   "number_sections": true,
   "sideBar": true,
   "skip_h1_title": false,
   "title_cell": "Table of Contents",
   "title_sidebar": "Contents",
   "toc_cell": false,
   "toc_position": {},
   "toc_section_display": true,
   "toc_window_display": false
  }
 },
 "nbformat": 4,
 "nbformat_minor": 5
}
