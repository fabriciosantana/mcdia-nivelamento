{
 "cells": [
  {
   "cell_type": "markdown",
   "id": "8595563f-4ec5-4b6e-8583-0ba8eead34b6",
   "metadata": {
    "editable": true,
    "slideshow": {
     "slide_type": ""
    },
    "tags": []
   },
   "source": [
    "# Introdução ao Python (cont'd) 🐍"
   ]
  },
  {
   "cell_type": "markdown",
   "id": "6511fcc1-0e18-4c02-8d55-c21ebe76370f",
   "metadata": {},
   "source": [
    "## Estruturas de Dados 🏛️ 🎲"
   ]
  },
  {
   "cell_type": "markdown",
   "id": "4d6f0f3b",
   "metadata": {},
   "source": [
    "### Listas"
   ]
  },
  {
   "cell_type": "markdown",
   "id": "49585d3a-91f8-47ac-a0b7-21c635aa68d8",
   "metadata": {},
   "source": [
    "<pre>Crie uma lista de nome <b>maiores_PIBs</b> com os nomes dos 4 países que apresentam os maiores PIBs do mundo.</pre>"
   ]
  },
  {
   "cell_type": "markdown",
   "id": "feb3c1d3-ad46-4ff7-8d00-ff48066e19f2",
   "metadata": {},
   "source": [
    "👉 dica: pesquise no Google, quando necessário."
   ]
  },
  {
   "cell_type": "markdown",
   "id": "709b97e1-2a0d-4da6-82af-206f2147edff",
   "metadata": {},
   "source": [
    "<details>\n",
    "  <summary>Resposta</summary>\n",
    "\n",
    "<br/>\n",
    "\n",
    "```python\n",
    "maiores_PIBs = ['EUA', 'China', 'Japão', 'Alemanha']\n",
    "```\n",
    "\n",
    "<br/>\n",
    "\n",
    "`Racional`: para criar uma lista, use colchetes <b>[]</b> e separe os elementos por vírgula(<b>,</b>).\n",
    "\n",
    "</details>"
   ]
  },
  {
   "cell_type": "code",
   "execution_count": null,
   "id": "0e0e99b7",
   "metadata": {},
   "outputs": [],
   "source": []
  },
  {
   "cell_type": "markdown",
   "id": "4adc6447",
   "metadata": {},
   "source": [
    "<pre>Adicione na lista o 5° país com maior PIB.</pre>"
   ]
  },
  {
   "cell_type": "markdown",
   "id": "b821cc6e-370c-40c9-be1c-cfbd29bc2be4",
   "metadata": {},
   "source": [
    "<details>\n",
    "  <summary>Resposta</summary>\n",
    "\n",
    "<br/>\n",
    "\n",
    "```python\n",
    "maiores_PIBs.append('Reino Unido')\n",
    "```\n",
    "\n",
    "<br/>\n",
    "\n",
    "`Racional`: use o método `append()` para adicionar um objeto à lista.\n",
    "\n",
    "</details>"
   ]
  },
  {
   "cell_type": "code",
   "execution_count": null,
   "id": "27336c90",
   "metadata": {},
   "outputs": [],
   "source": []
  },
  {
   "cell_type": "markdown",
   "id": "e9239633",
   "metadata": {},
   "source": [
    "<pre>Suponha que o Brasil passou a ser o 5° país com maior PIB. Substitua o último elemento da lista por <b>Brasil</b>.</pre>"
   ]
  },
  {
   "cell_type": "markdown",
   "id": "dccc2ba8-3eab-4cd2-9342-bdf26f05ed9a",
   "metadata": {},
   "source": [
    "<details>\n",
    "  <summary>Resposta</summary>\n",
    "\n",
    "<br/>\n",
    "\n",
    "```python\n",
    "maiores_PIBs[4] = 'Brasil'\n",
    "```\n",
    "\n",
    "<br />Equivalentemente,\n",
    "\n",
    "```python\n",
    "maiores_PIBs[-1] = 'Brasil'\n",
    "```\n",
    "<br/>\n",
    "\n",
    "`Racional`: a lista permite alterar um elemento, basta designar um elemento com <b>=</b> ao 5° elemento (equivalentemente, índice `4`, pois Python é 0-indexado). O índice `-1` pode igualmente ser utilizado, uma vez que acessa o último elemento da lista.\n",
    "\n",
    "</details>"
   ]
  },
  {
   "cell_type": "markdown",
   "id": "8f2a7df4",
   "metadata": {},
   "source": [
    "<pre>Agora, volte a armazenar apenas os 4 países que apresentam os maiores PIBs do mundo, excluindo o <b>Brasil</b>.</pre>"
   ]
  },
  {
   "cell_type": "markdown",
   "id": "01943093-2adc-4835-8dc6-de9d7365abf5",
   "metadata": {},
   "source": [
    "<details>\n",
    "  <summary>Resposta</summary>\n",
    "\n",
    "<br/>\n",
    "\n",
    "```python\n",
    "maiores_PIBs.remove('Brasil')\n",
    "```\n",
    "\n",
    "<br/>\n",
    "\n",
    "`Racional`: o método `remove()` busca o elemento passado como parâmetro e o remove da lista.\n",
    "\n",
    "</details>"
   ]
  },
  {
   "cell_type": "markdown",
   "id": "2c726ac5-e792-43b3-bbba-65a7b7512d38",
   "metadata": {},
   "source": []
  },
  {
   "cell_type": "markdown",
   "id": "bde392c6",
   "metadata": {},
   "source": [
    "### Dicionários"
   ]
  },
  {
   "cell_type": "markdown",
   "id": "0c818caf-c0d0-4a16-b30b-bb46585c2f59",
   "metadata": {},
   "source": [
    "<pre>Crie a variável 'país' com um dicionário contendo informações sobre os EUA.</pre>"
   ]
  },
  {
   "cell_type": "markdown",
   "id": "13d60da2-e780-4787-9a6a-c2ab94f997d7",
   "metadata": {},
   "source": [
    "<pre>O dicionário deve conter:\n",
    " - A chave <b>nome</b> com o nome do país sendo seu valor associado; e\n",
    " - a chave <b>idh</b> com o idh do país sendo seu valor associado.</pre>"
   ]
  },
  {
   "cell_type": "markdown",
   "id": "7dadf763-c727-4a21-884d-45c2aec68296",
   "metadata": {},
   "source": [
    "<details>\n",
    "  <summary>Resposta</summary>\n",
    "\n",
    "<br/>\n",
    "\n",
    "```python\n",
    "país = {'nome': 'EUA', 'idh': 0.9}\n",
    "```\n",
    "\n",
    "<br/>\n",
    "\n",
    "`Racional`: para criar um dicionário, use chaves <b>{}</b> e separe os elementos por vírgula (<b>,</b>). Lembre-se que os elementos dos dicionários são pares chave-valor em que a chave é separada do valor por dois pontos (<b>:</b>).\n",
    "\n",
    "</details>"
   ]
  },
  {
   "cell_type": "code",
   "execution_count": null,
   "id": "6e1787b0",
   "metadata": {},
   "outputs": [],
   "source": []
  },
  {
   "cell_type": "markdown",
   "id": "cbfd9cf9",
   "metadata": {},
   "source": [
    "<pre>Adicione a chave <b>pibpc</b> ao dicionário com o valor do pib <i>per capita</i> do país.</pre>"
   ]
  },
  {
   "cell_type": "markdown",
   "id": "e2adbafb-ada2-411e-b64e-a7be78e6cecd",
   "metadata": {},
   "source": [
    "<details>\n",
    "  <summary>Resposta</summary>\n",
    "\n",
    "<br/>\n",
    "\n",
    "```python\n",
    "país['pibpc'] = 63123\n",
    "```\n",
    "\n",
    "<br/>\n",
    "\n",
    "`Racional`: para adicionar um par chave-valor no dicionário, basta realizar uma designação em que a chave aparece como índice do dicionário e o valor associado será designado com sinal de igualdade (<b>=</b>).\n",
    "\n",
    "</details>"
   ]
  },
  {
   "cell_type": "code",
   "execution_count": null,
   "id": "c49672a0",
   "metadata": {},
   "outputs": [],
   "source": []
  },
  {
   "cell_type": "markdown",
   "id": "b5b169f5",
   "metadata": {},
   "source": [
    "<pre>Agora, crie uma lista vazia de nome <b>países</b>.</pre>"
   ]
  },
  {
   "cell_type": "markdown",
   "id": "e71dbe14-0179-425d-acb0-c49f555d657a",
   "metadata": {},
   "source": [
    "<details>\n",
    "  <summary>Resposta</summary>\n",
    "\n",
    "<br/>\n",
    "\n",
    "```python\n",
    "países = []\n",
    "```\n",
    "\n",
    "<br/>\n",
    "\n",
    "`Racional`:  para criar uma lista vazia, use colchetes <b>[]</b> sem nenhum elemento.\n",
    "\n",
    "</details>"
   ]
  },
  {
   "cell_type": "code",
   "execution_count": null,
   "id": "24fd297d",
   "metadata": {},
   "outputs": [],
   "source": []
  },
  {
   "cell_type": "markdown",
   "id": "365fbbd7",
   "metadata": {},
   "source": [
    "<pre>Adicione a variável <b>país</b> criada na lista <b>países</b>.</pre>"
   ]
  },
  {
   "cell_type": "markdown",
   "id": "e41f23ee-88e5-4a62-93de-54253f47cf4d",
   "metadata": {},
   "source": [
    "<details>\n",
    "  <summary>Resposta</summary>\n",
    "\n",
    "<br/>\n",
    "\n",
    "```python\n",
    "países.append(país)\n",
    "```\n",
    "\n",
    "<br/>\n",
    "\n",
    "`Racional`: use o método `append()` para adicionar um objeto à lista..\n",
    "\n",
    "</details>"
   ]
  },
  {
   "cell_type": "code",
   "execution_count": null,
   "id": "63276883",
   "metadata": {},
   "outputs": [],
   "source": []
  },
  {
   "cell_type": "markdown",
   "id": "e62325f7",
   "metadata": {},
   "source": [
    "<pre>Crie uma nova variável <b>país</b> com um dicionário contendo informações sobre o Brasil, com as chaves <b>nome</b>, <b>idh</b> e <b>pibpc</b> com os dados correspondentes ao Brasil, conforme instruções acima.</pre>"
   ]
  },
  {
   "cell_type": "markdown",
   "id": "dd72cdcc-9e79-4d2d-9345-377a7880875c",
   "metadata": {},
   "source": [
    "<details>\n",
    "  <summary>Resposta</summary>\n",
    "\n",
    "<br/>\n",
    "\n",
    "```python\n",
    "país = {'nome': 'Brasil', 'idh': 0.77, 'pibpc': 6797}\n",
    "```\n",
    "\n",
    "<br/>\n",
    "\n",
    "`Racional`: revisão do conteúdo visto anteriormente.\n",
    "\n",
    "</details>"
   ]
  },
  {
   "cell_type": "code",
   "execution_count": null,
   "id": "a1c71a82-43c0-4413-bbbc-7cdd96f6c4ba",
   "metadata": {},
   "outputs": [],
   "source": []
  },
  {
   "cell_type": "markdown",
   "id": "0b6e2924-9eca-47eb-9c09-b434fbf0ead9",
   "metadata": {},
   "source": [
    "<pre>Adicione a nova variável <b>país</b> criada na lista <b>países</b>.</pre>"
   ]
  },
  {
   "cell_type": "markdown",
   "id": "73cb1d1d-e9a8-4990-b426-0aed69019ef1",
   "metadata": {},
   "source": [
    "<details>\n",
    "  <summary>Resposta</summary>\n",
    "\n",
    "<br/>\n",
    "\n",
    "```python\n",
    "países.append(país)\n",
    "```\n",
    "\n",
    "<br/>\n",
    "\n",
    "`Racional`: revisão do conteúdo visto anteriormente.\n",
    "\n",
    "</details>"
   ]
  },
  {
   "cell_type": "code",
   "execution_count": null,
   "id": "4072b494-1d54-4638-ace6-f8e9604c9311",
   "metadata": {},
   "outputs": [],
   "source": []
  },
  {
   "cell_type": "markdown",
   "id": "22bc50ad-0a3b-4857-91b7-e3013f7ac699",
   "metadata": {},
   "source": [
    "<pre>Imprima o conteúdo armazenado na variável <b>países</b> com <b>print()</b>. Deve ser apresentado o seguinte conteúdo:</pre>\n",
    "```python\n",
    "[{'nome': 'EUA', 'idh': 0.9, 'pibpc': 63123},\n",
    " {'nome': 'Brasil', 'idh': 0.77, 'pibpc': 6797}]\n",
    "```"
   ]
  },
  {
   "cell_type": "code",
   "execution_count": null,
   "id": "abc10279",
   "metadata": {},
   "outputs": [],
   "source": []
  },
  {
   "cell_type": "markdown",
   "id": "74f10501",
   "metadata": {},
   "source": [
    "<pre>Usando <b>for</b>, para cada país, imprima o conteúdo do dicionário conforme o modelo a seguir, substituindo a chave em negrito pelo seu valor associado.</pre>\n",
    "\n",
    "* `nome` é um país com PIB per capita de `pibpc` e IDH igual a `idh`"
   ]
  },
  {
   "cell_type": "markdown",
   "id": "c8547360-8e3b-48f8-8ebe-254e0de5cfe2",
   "metadata": {},
   "source": [
    "<details>\n",
    "  <summary>Resposta</summary>\n",
    "\n",
    "<br/>\n",
    "\n",
    "```python\n",
    "for país in países:\n",
    "    print(f\"{país['nome']} é um país com PIB per capita de {país['pibpc']} e IDH igual a {país['idh']}\")\n",
    "```\n",
    "\n",
    "<br/>\n",
    "\n",
    "`Racional`: ao utilizar `for`, o `for` percorre a lista de `países`, atribuindo cada país à variável `país`, que armazenará o dicionário contendo os dados correspondentes do país. No laço, para acessar os elementos do dicionário, basta passar a chave como índice do dicionário e usar interpolação para compor a frase que será impressa, conforme o modelo. Observe que a chave terá que ser passada por aspas simples quando utilizar aspas duplas na interpolação.\n",
    "\n",
    "</details>"
   ]
  },
  {
   "cell_type": "code",
   "execution_count": null,
   "id": "8040879b",
   "metadata": {},
   "outputs": [],
   "source": []
  },
  {
   "cell_type": "markdown",
   "id": "4d04ea99",
   "metadata": {},
   "source": [
    "### Tipos de Dados 🎲 Estruturas 🪜"
   ]
  },
  {
   "cell_type": "markdown",
   "id": "51b5a99c",
   "metadata": {},
   "source": [
    "<pre>Qual o tipo de dados das variáveis criadas (<b>país</b> e <b>países</b>)?</pre>"
   ]
  },
  {
   "cell_type": "markdown",
   "id": "ca0a1ace-5d7e-4313-9976-c2c2fa8e4cd4",
   "metadata": {},
   "source": [
    "<details>\n",
    "  <summary>Resposta</summary>\n",
    "\n",
    "<br/>\n",
    "\n",
    "```python\n",
    "type(país)\n",
    "```\n",
    "\n",
    "<br/>\n",
    "\n",
    "`Racional`: revisão da aula anterior.\n",
    "\n",
    "</details>"
   ]
  },
  {
   "cell_type": "code",
   "execution_count": null,
   "id": "1deceffe",
   "metadata": {},
   "outputs": [],
   "source": []
  },
  {
   "cell_type": "markdown",
   "id": "fe1269a9-6964-46d8-9af6-286cffb4d505",
   "metadata": {},
   "source": [
    "<details>\n",
    "  <summary>Resposta</summary>\n",
    "\n",
    "<br/>\n",
    "\n",
    "```python\n",
    "type(países)\n",
    "```\n",
    "\n",
    "<br/>\n",
    "\n",
    "`Racional`: revisão da aula anterior.\n",
    "\n",
    "</details>"
   ]
  },
  {
   "cell_type": "code",
   "execution_count": null,
   "id": "6ac7210a",
   "metadata": {},
   "outputs": [],
   "source": []
  },
  {
   "cell_type": "markdown",
   "id": "7cad953e",
   "metadata": {},
   "source": [
    "### Funções🧑🏽‍🔧"
   ]
  },
  {
   "cell_type": "markdown",
   "id": "6b809766-e70f-4b78-a00f-5e871957a81c",
   "metadata": {},
   "source": [
    "<pre>Crie uma função <b>imposto</b> que calcula o preço do imposto de determinado produto, supondo que o imposto equivale a 28% do valor do produto.</pre>"
   ]
  },
  {
   "cell_type": "markdown",
   "id": "598a601b-c811-471f-bfd4-4afca98c0043",
   "metadata": {},
   "source": [
    "<details>\n",
    "  <summary>Resposta</summary>\n",
    "\n",
    "<br/>\n",
    "\n",
    "```python\n",
    "def imposto (preco_produto):\n",
    "    return preco_produto * 0.28\n",
    "```\n",
    "\n",
    "<br/>\n",
    "\n",
    "`Racional`: para criar uma função, utilize a palavra reservada `def` seguida do nome `imposto` da função sendo criada e o parâmetro `preco_produto` entre parênteses. Na linha seguinte, com indentação, retorne com a palavra reservada `return` o preço do produto armazenado pela variável `preco_produto` multiplicado por 0.28.\n",
    "\n",
    "</details>"
   ]
  },
  {
   "cell_type": "code",
   "execution_count": null,
   "id": "5199acbd-4e30-4981-b52e-34d3974954cf",
   "metadata": {},
   "outputs": [],
   "source": []
  },
  {
   "cell_type": "markdown",
   "id": "ee90783a-2730-411e-afe3-904537040160",
   "metadata": {},
   "source": [
    "<pre>Suponha que o preço do produto é 1000, qual seria seu imposto?</pre>"
   ]
  },
  {
   "cell_type": "markdown",
   "id": "4e853365-7061-4261-826d-1efe7aa24fd3",
   "metadata": {},
   "source": [
    "<details>\n",
    "  <summary>Resposta</summary>\n",
    "\n",
    "<br/>\n",
    "\n",
    "```python\n",
    "imposto (1000)\n",
    "```\n",
    "\n",
    "<br/>\n",
    "\n",
    "`Racional`: para usar uma função, basta escrever o nome dela e passar o parâmetro entre parênteses.\n",
    "\n",
    "</details>"
   ]
  },
  {
   "cell_type": "code",
   "execution_count": null,
   "id": "28c7db0c-9a24-4988-9a14-29bb41467d43",
   "metadata": {},
   "outputs": [],
   "source": []
  },
  {
   "cell_type": "markdown",
   "id": "79bca4bc-3285-41bd-8978-4e296ad0f48c",
   "metadata": {},
   "source": [
    "### Funções anônimas/lambda 🥷🏽"
   ]
  },
  {
   "cell_type": "markdown",
   "id": "a4a4697b",
   "metadata": {},
   "source": [
    "<pre>Você utilizou a função <b>lambda</b> para as orientações acima? Se não, como ficaria seu código usando a função <b>lambda</b>?</pre>"
   ]
  },
  {
   "cell_type": "markdown",
   "id": "dcb2527a-efa9-4c4a-9c96-7a64ae7ad956",
   "metadata": {},
   "source": [
    "<details>\n",
    "  <summary>Resposta</summary>\n",
    "\n",
    "<br/>\n",
    "\n",
    "```python\n",
    "imposto = lambda preco_produto: preco_produto * 0.28 \n",
    "```\n",
    "\n",
    "<br/>\n",
    "\n",
    "`Racional`: para criar uma função lambda, use a palavra reservada `lambda`, seguida do parâmetro. O retorno da função será dado sem a palavra reservada `return`, basta colocar a expressão de retorno desejada após o parâmetro, seguido de dois pontos (<b>:</b>).\n",
    "\n",
    "</details>"
   ]
  },
  {
   "cell_type": "code",
   "execution_count": null,
   "id": "015870ab",
   "metadata": {},
   "outputs": [],
   "source": []
  },
  {
   "cell_type": "markdown",
   "id": "966d8de3-d9d1-456e-bba4-d55f5334fc73",
   "metadata": {},
   "source": [
    "<pre>Agora, calcule o imposto da lista de preços abaixo, utilizando <b>for</b>:</pre>"
   ]
  },
  {
   "cell_type": "code",
   "execution_count": 1,
   "id": "9468c216-9b68-4e21-a61a-a3d35bcac418",
   "metadata": {},
   "outputs": [],
   "source": [
    "precos_produtos = [1000, 500, 280, 360]"
   ]
  },
  {
   "cell_type": "markdown",
   "id": "dabe5f45-bb5a-459d-9ab1-3b66397c0848",
   "metadata": {},
   "source": [
    "<details>\n",
    "  <summary>Resposta</summary>\n",
    "\n",
    "<br/>\n",
    "\n",
    "```python\n",
    "for preco_produto in precos_produtos:\n",
    "    print(f\"O produto com preço {preco_produto} tem imposto incidente de {imposto(preco_produto)}\")\n",
    "```\n",
    "\n",
    "<br/>\n",
    "\n",
    "`Racional`: revisão do conteúdo visto anteriormente.\n",
    "\n",
    "</details>"
   ]
  },
  {
   "cell_type": "code",
   "execution_count": null,
   "id": "a562cbf0-1f5b-4143-9e97-a62020e58226",
   "metadata": {},
   "outputs": [],
   "source": []
  },
  {
   "cell_type": "markdown",
   "id": "0677285d-7496-4ec3-b1bc-6527b62216ae",
   "metadata": {},
   "source": [
    "#### 🗞️ Extra! Função <b>map</b>"
   ]
  },
  {
   "cell_type": "markdown",
   "id": "32fc01c9-b7f5-40bc-8ba6-2c309bd57826",
   "metadata": {},
   "source": [
    "👉 dica: você pode usar a função <a href='https://www.w3schools.com/python/ref_func_map.asp'>map</a>. Leia sua documentação para entender como usar."
   ]
  },
  {
   "cell_type": "markdown",
   "id": "c6907be5-7651-438c-949e-b31fd51f3eb9",
   "metadata": {},
   "source": [
    "<pre>Veja como ficaria seu uso agregado com função <b>lambda</b>.</pre>"
   ]
  },
  {
   "cell_type": "code",
   "execution_count": null,
   "id": "aa145639-f848-4dd4-b525-42df79a4b3cb",
   "metadata": {},
   "outputs": [],
   "source": [
    "modelo_de_frase = lambda preco_produto: f\"O produto com preço {preco_produto} tem imposto incidente de {preco_produto*0.28}\"\n",
    "\n",
    "precos_produtos = [1000, 500, 280, 360]\n",
    "\n",
    "for frase in map(modelo_de_frase, precos_produtos):\n",
    "    print(frase)"
   ]
  }
 ],
 "metadata": {
  "kernelspec": {
   "display_name": "Python 3 (ipykernel)",
   "language": "python",
   "name": "python3"
  },
  "language_info": {
   "codemirror_mode": {
    "name": "ipython",
    "version": 3
   },
   "file_extension": ".py",
   "mimetype": "text/x-python",
   "name": "python",
   "nbconvert_exporter": "python",
   "pygments_lexer": "ipython3",
   "version": "3.12.4"
  },
  "toc": {
   "base_numbering": 1
  }
 },
 "nbformat": 4,
 "nbformat_minor": 5
}
