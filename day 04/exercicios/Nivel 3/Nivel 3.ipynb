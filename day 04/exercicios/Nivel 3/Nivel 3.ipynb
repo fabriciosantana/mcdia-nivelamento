{
 "cells": [
  {
   "cell_type": "markdown",
   "id": "8fbca703-b0c3-4461-a489-0fcd2dbf7c87",
   "metadata": {},
   "source": [
    "# Introdução ao Python"
   ]
  },
  {
   "cell_type": "markdown",
   "id": "31f25970-1945-4166-8471-3730f6877495",
   "metadata": {},
   "source": [
    "## Semântica da Linguagem 🐍"
   ]
  },
  {
   "cell_type": "markdown",
   "id": "b4d4eac1-2dc2-48ab-a8a3-4d9f914d64e8",
   "metadata": {},
   "source": [
    "### A função `dir()`"
   ]
  },
  {
   "cell_type": "markdown",
   "id": "ba39fb6a-082d-41a4-b9e0-1d33754f2d67",
   "metadata": {},
   "source": [
    "<pre>Alguns tipos de objetos em Python foram apresentados na aula:</pre>\n",
    "\n",
    "<table>\n",
    "    <tr><th>Nome</th><th>Tipo de Dados</th></tr>\n",
    "    <tr><td><b>str</b></td><td>Cadeia de caracteres (ex: \"Penso, logo existo\")</td></tr>\n",
    "    <tr><td><b>int</b></td><td>Números inteiros (ex: 2023)</td></tr>\n",
    "    <tr><td><b>float</b></td><td>Números não-inteiros. (ex: 3,1416)</td></tr>    \n",
    "</table>"
   ]
  },
  {
   "cell_type": "markdown",
   "id": "50d7a81f-a4b8-40ec-a5dd-cb558a2b1e7d",
   "metadata": {},
   "source": [
    "<pre>Defina uma variável <b>nome</b> do tipo <b>str</b> e liste seus métodos disponíveis.</pre>"
   ]
  },
  {
   "cell_type": "markdown",
   "id": "a95fa499-d1cd-447e-966d-77a9706f4f82",
   "metadata": {},
   "source": [
    "👉 dica: a função `dir()` pode ser utilizada para listar os métodos disponíveis para uma variável."
   ]
  },
  {
   "cell_type": "markdown",
   "id": "ec22c9d9-8f61-4a91-a0b1-8cded737b100",
   "metadata": {},
   "source": [
    "<details>\n",
    "  <summary>Resposta</summary>\n",
    "\n",
    "<br/>\n",
    "\n",
    "```python\n",
    "nome = \"texto\"\n",
    "dir(nome)\n",
    "```\n",
    "\n",
    "<br/>\n",
    "</details>"
   ]
  },
  {
   "cell_type": "code",
   "execution_count": null,
   "id": "407f2dda-32b6-4e55-8a79-cfb7350f15a0",
   "metadata": {
    "tags": []
   },
   "outputs": [],
   "source": []
  },
  {
   "cell_type": "markdown",
   "id": "7a591773-c24e-46cc-8151-171e54ff209d",
   "metadata": {
    "tags": []
   },
   "source": [
    "### A função `help()`"
   ]
  },
  {
   "cell_type": "markdown",
   "id": "e55d49b6-998a-4191-b608-f325ed032032",
   "metadata": {
    "tags": []
   },
   "source": [
    "<pre>Dentre os métodos listados para um objeto do tipo <b>str</b>, existe um método chamado <b>startswith()</b>.</pre>"
   ]
  },
  {
   "cell_type": "markdown",
   "id": "ec72ec75-35a2-4b7f-a10f-f5ec8d8a35c9",
   "metadata": {
    "tags": []
   },
   "source": [
    "<pre>Utilize a função <b>help()</b> para exibir instruções sobre o funcionamento do método <b>nome.startswith</b>.</pre>"
   ]
  },
  {
   "cell_type": "markdown",
   "id": "68be49a5-947d-41bf-8578-8c11ce3956f8",
   "metadata": {},
   "source": [
    "<details>\n",
    "  <summary>Resposta</summary>\n",
    "\n",
    "<br/>\n",
    "\n",
    "```python\n",
    "help(nome.startswith)\n",
    "```\n",
    "\n",
    "<br/>\n",
    "</details>"
   ]
  },
  {
   "cell_type": "code",
   "execution_count": null,
   "id": "68183b18-29aa-491d-a577-d300ffe4d7c8",
   "metadata": {},
   "outputs": [],
   "source": []
  },
  {
   "cell_type": "markdown",
   "id": "7a0d344e-cd21-4d47-bc20-8e490e0d0d44",
   "metadata": {},
   "source": [
    "## Controle 🕹️ de Fluxo 🔄"
   ]
  },
  {
   "cell_type": "markdown",
   "id": "d078bbb8-a726-43a5-827f-2a2b3eb7bf72",
   "metadata": {
    "tags": []
   },
   "source": [
    "<pre>Como visto, a função <b>startswith()</b> retorna verdadeiro caso a string testada inicie com o prefixo informado no parâmetro.\n",
    "\n",
    "Por exemplo:</pre>"
   ]
  },
  {
   "cell_type": "code",
   "execution_count": 1,
   "id": "e1fff089-96ef-447c-8fe8-fbf6f1979ca1",
   "metadata": {},
   "outputs": [
    {
     "data": {
      "text/plain": [
       "True"
      ]
     },
     "execution_count": 1,
     "metadata": {},
     "output_type": "execute_result"
    }
   ],
   "source": [
    "país = \"Brasil\"\n",
    "país.startswith(\"B\")"
   ]
  },
  {
   "cell_type": "markdown",
   "id": "7a916369-81c3-4aaf-b6da-11b30e56dd5c",
   "metadata": {
    "tags": []
   },
   "source": [
    "### `for`"
   ]
  },
  {
   "cell_type": "markdown",
   "id": "99fb6209-7cf8-4af6-ba8d-8fe20c7a6739",
   "metadata": {
    "tags": []
   },
   "source": [
    "<pre>Em Python, é possível percorrer uma coleção utilizando um iterador:</pre>"
   ]
  },
  {
   "cell_type": "markdown",
   "id": "8a988fe7-53b2-4199-aa09-55850ae14d32",
   "metadata": {
    "tags": []
   },
   "source": [
    "```python\n",
    "for item in [1, 2, 3, 4, 5]: #Para cada número de 1 a 5:\n",
    "    print(item**2) ## Imprime o número (no laço corrente) ao quadrado\n",
    "```"
   ]
  },
  {
   "cell_type": "markdown",
   "id": "3833b11a-18ef-4cd5-befa-e2401d415427",
   "metadata": {},
   "source": [
    "### `if`, `elif` e `else`"
   ]
  },
  {
   "cell_type": "markdown",
   "id": "5f9a9ddf-36ed-42a3-bf44-9fd75fa07e69",
   "metadata": {
    "tags": []
   },
   "source": [
    "<pre>O fluxo do programa pode ser modificado com base em uma condição por meio das palavras-chave <b>if/then/else</b>.</pre>"
   ]
  },
  {
   "cell_type": "markdown",
   "id": "b7d5cf24-63c7-45c6-92fa-d66bffe5aa37",
   "metadata": {
    "tags": []
   },
   "source": [
    "<pre>Sabendo que o método <b>dir()</b> retorna uma coleção de strings, percorra uma coleção com um iterador <b>for</b> para imprimir somente os métodos da classe string cujos nomes são iniciados pelo prefixo \"s\", usando <b>if</b> e <b>startswith</b>.</pre>"
   ]
  },
  {
   "cell_type": "markdown",
   "id": "180658cb-2502-4245-aba8-4626ab2710d2",
   "metadata": {},
   "source": [
    "<details>\n",
    "  <summary>Resposta</summary>\n",
    "\n",
    "<br/>\n",
    "\n",
    "```python\n",
    "for item in dir(\"a\"):\n",
    "    if item.startswith(\"s\"):\n",
    "        print(item)\n",
    "```\n",
    "\n",
    "<br/>\n",
    "</details>"
   ]
  },
  {
   "cell_type": "code",
   "execution_count": null,
   "id": "b792e887-3cc2-40d1-8501-c198ce3d1c5a",
   "metadata": {
    "tags": []
   },
   "outputs": [],
   "source": []
  },
  {
   "cell_type": "markdown",
   "id": "087a347e-ac1c-43ee-ad64-342b876cdaab",
   "metadata": {
    "tags": []
   },
   "source": [
    "## Conversão de Tipos de Dados"
   ]
  },
  {
   "cell_type": "markdown",
   "id": "31276b8f-43c7-4039-9749-3db1ac63db32",
   "metadata": {
    "tags": []
   },
   "source": [
    "<pre>O tipo do dado define quais operações podem ser realizadas com determinado objeto, além do comportamento dos operadores sobre os objetos.</pre>"
   ]
  },
  {
   "cell_type": "markdown",
   "id": "7208b109-47b0-4bad-b078-cf9a24a2e3e3",
   "metadata": {
    "tags": []
   },
   "source": [
    "<pre>Por essa razão, é importante que os dados, que normalmente são disponibilizados em formato de texto, sejam convertidos para os tipos corretos.</pre>"
   ]
  },
  {
   "cell_type": "markdown",
   "id": "69ec1f87-ad57-4c53-ae7a-0f2c48e642e0",
   "metadata": {
    "tags": []
   },
   "source": [
    "<pre>Execute os códigos abaixo e observe o comportamento dos operadores em diferentes tipos de dados.</pre>"
   ]
  },
  {
   "cell_type": "code",
   "execution_count": 2,
   "id": "55cf520d-e6e9-4baf-87a5-bba3f9987c20",
   "metadata": {
    "tags": []
   },
   "outputs": [
    {
     "data": {
      "text/plain": [
       "'123'"
      ]
     },
     "execution_count": 2,
     "metadata": {},
     "output_type": "execute_result"
    }
   ],
   "source": [
    "txt = \"123\"\n",
    "txt"
   ]
  },
  {
   "cell_type": "code",
   "execution_count": 3,
   "id": "8976d71c-acd0-44ec-a0b6-1334d52e193a",
   "metadata": {
    "tags": []
   },
   "outputs": [
    {
     "data": {
      "text/plain": [
       "123"
      ]
     },
     "execution_count": 3,
     "metadata": {},
     "output_type": "execute_result"
    }
   ],
   "source": [
    "num = 123\n",
    "num"
   ]
  },
  {
   "cell_type": "code",
   "execution_count": 4,
   "id": "f35449cd-29ef-4d50-9709-a1d03e416f96",
   "metadata": {
    "tags": []
   },
   "outputs": [
    {
     "data": {
      "text/plain": [
       "'Tipo Textual'"
      ]
     },
     "execution_count": 4,
     "metadata": {},
     "output_type": "execute_result"
    }
   ],
   "source": [
    "'Tipo Textual'"
   ]
  },
  {
   "cell_type": "code",
   "execution_count": 5,
   "id": "162643b5-624d-4a70-8663-f45742333f8d",
   "metadata": {
    "tags": []
   },
   "outputs": [
    {
     "data": {
      "text/plain": [
       "'txt+txt = 123123'"
      ]
     },
     "execution_count": 5,
     "metadata": {},
     "output_type": "execute_result"
    }
   ],
   "source": [
    "f'txt+txt = {txt+txt}'"
   ]
  },
  {
   "cell_type": "code",
   "execution_count": 6,
   "id": "f118ef06-d606-4f45-a2cb-62a691a3c25e",
   "metadata": {
    "tags": []
   },
   "outputs": [
    {
     "data": {
      "text/plain": [
       "'txt*3 = 123123123'"
      ]
     },
     "execution_count": 6,
     "metadata": {},
     "output_type": "execute_result"
    }
   ],
   "source": [
    "f'txt*3 = {txt*3}'"
   ]
  },
  {
   "cell_type": "code",
   "execution_count": 7,
   "id": "7295545a-cb41-4465-a8d6-30e5ddfc5ceb",
   "metadata": {
    "tags": []
   },
   "outputs": [
    {
     "data": {
      "text/plain": [
       "'\\nTipo Numérico'"
      ]
     },
     "execution_count": 7,
     "metadata": {},
     "output_type": "execute_result"
    }
   ],
   "source": [
    "'\\nTipo Numérico'"
   ]
  },
  {
   "cell_type": "code",
   "execution_count": 8,
   "id": "551c0f17-7775-41ae-af7a-b44a7397445b",
   "metadata": {
    "tags": []
   },
   "outputs": [
    {
     "data": {
      "text/plain": [
       "'num+num: 246'"
      ]
     },
     "execution_count": 8,
     "metadata": {},
     "output_type": "execute_result"
    }
   ],
   "source": [
    "f'num+num: {num+num}'"
   ]
  },
  {
   "cell_type": "code",
   "execution_count": 9,
   "id": "01e30972-9315-4c45-a289-b63afce0cdcc",
   "metadata": {
    "tags": []
   },
   "outputs": [
    {
     "data": {
      "text/plain": [
       "'num*3: 369'"
      ]
     },
     "execution_count": 9,
     "metadata": {},
     "output_type": "execute_result"
    }
   ],
   "source": [
    "f'num*3: {num*3}'"
   ]
  },
  {
   "cell_type": "markdown",
   "id": "0bd3e04a-f69d-4942-8a60-d3b70ccde3c4",
   "metadata": {},
   "source": [
    "### <code>CSV</code>"
   ]
  },
  {
   "cell_type": "markdown",
   "id": "2c01dcc5-ea9c-4b70-bcf8-855937dde31c",
   "metadata": {
    "tags": []
   },
   "source": [
    "<pre>Um dos formatos de dados frequentemente utilizados na troca de dados é o texto separado por vírgulas, normalmente referido pela sigla em inglês CSV (<i>comma-separated values</i>).</pre>"
   ]
  },
  {
   "cell_type": "code",
   "execution_count": 10,
   "id": "d0e06116-c203-431b-b6cf-6572a4bc10b8",
   "metadata": {},
   "outputs": [],
   "source": [
    "linha = '14,58,134,8,22,54,73,91'"
   ]
  },
  {
   "cell_type": "markdown",
   "id": "ad00d87c-31c5-43bb-a6b5-56e5e4cd6f7e",
   "metadata": {
    "tags": []
   },
   "source": [
    "<pre>O método <b>split()</b> permite converter um texto delimitado em uma coleção de valores para serem processados.\n",
    "\n",
    "Por exemplo:</pre>"
   ]
  },
  {
   "cell_type": "code",
   "execution_count": 11,
   "id": "c8581a65-b7d4-42c1-b474-35d71970011f",
   "metadata": {},
   "outputs": [
    {
     "data": {
      "text/plain": [
       "['14', '58', '134', '8', '22', '54', '73', '91']"
      ]
     },
     "execution_count": 11,
     "metadata": {},
     "output_type": "execute_result"
    }
   ],
   "source": [
    "linha.split(',')"
   ]
  },
  {
   "cell_type": "markdown",
   "id": "a078f365-1f9e-43e5-8f0a-f0b02a6be802",
   "metadata": {
    "tags": []
   },
   "source": [
    "<pre>Dada a variável de texto <b>linha</b> acima, escreva um código para calcular a soma dos números nela presentes.</pre>"
   ]
  },
  {
   "cell_type": "markdown",
   "id": "54ce7c1e-8ba9-4e2d-b375-6e59a9a25473",
   "metadata": {
    "tags": []
   },
   "source": [
    "👉 dicas: Utilize a função `split()`, um iterador (<i>e.g.</i> `for`) e realize a conversão dos valores para o tipo adequado (`int`) antes de realizar o processamento desejado."
   ]
  },
  {
   "cell_type": "markdown",
   "id": "8294bb89-1d6b-4bf9-9301-55a4817cf83e",
   "metadata": {},
   "source": [
    "<details>\n",
    "  <summary>Resposta</summary>\n",
    "\n",
    "<br/>\n",
    "\n",
    "```python\n",
    "soma = 0\n",
    "for n in linha.split(','):\n",
    "    soma += int(n)\n",
    "soma\n",
    "```\n",
    "\n",
    "<br/>\n",
    "</details>"
   ]
  },
  {
   "cell_type": "code",
   "execution_count": null,
   "id": "32c3fdbe-7951-4572-9d63-b55abb8d64b2",
   "metadata": {
    "tags": []
   },
   "outputs": [],
   "source": []
  },
  {
   "cell_type": "markdown",
   "id": "8e2f04fa-8bfd-4055-9438-906caa234a48",
   "metadata": {
    "tags": []
   },
   "source": [
    "<pre>É bastante comum que as bases de dados em formato de texto possuam valores ausentes ou nulos.</pre>"
   ]
  },
  {
   "cell_type": "markdown",
   "id": "0800e712-e802-4496-b509-d49313699431",
   "metadata": {
    "tags": []
   },
   "source": [
    "<pre>Os valores ausentes podem ser representados de diversas maneiras, <i>e.g.</i> 'N/A', 'NULL', ' ', entre outros.</pre> "
   ]
  },
  {
   "cell_type": "markdown",
   "id": "9c13b1c2-e795-4050-84fc-fc6623363d55",
   "metadata": {
    "tags": []
   },
   "source": [
    "<pre>Modifique o código do exercício imediatamente acima, de modo que a soma seja realizada ainda que haja presença de valores nulos, com a nova variável <b>linnha</b> a seguir.</pre>"
   ]
  },
  {
   "cell_type": "markdown",
   "id": "e9709be2-ab30-4cb7-9e2c-6e7e5379da9f",
   "metadata": {
    "tags": []
   },
   "source": [
    "👉 dica: utilize o método `isdigit()`."
   ]
  },
  {
   "cell_type": "code",
   "execution_count": 12,
   "id": "9d84cc0b-5f4e-490b-96eb-f854f9905352",
   "metadata": {},
   "outputs": [],
   "source": [
    "linha = '14,58,N/A,134,8,NULL,22,54,\" \",73,91'"
   ]
  },
  {
   "cell_type": "markdown",
   "id": "ab6fec53-e7d5-41b7-b918-d5b91c533bc7",
   "metadata": {},
   "source": [
    "<details>\n",
    "  <summary>Resposta</summary>\n",
    "\n",
    "<br/>\n",
    "\n",
    "```python\n",
    "soma = 0\n",
    "for n in linha.split(','):\n",
    "    if(n.isdigit()):\n",
    "        soma += int(n)\n",
    "        \n",
    "soma\n",
    "```\n",
    "\n",
    "<br/>\n",
    "</details>"
   ]
  },
  {
   "cell_type": "markdown",
   "id": "80964445-40f2-4ee3-b21d-7a0d6a0724e6",
   "metadata": {},
   "source": [
    "<pre>Agora, modifique o código do exercício imediatamente acima para imprimir a média dos valores presentes.</pre>"
   ]
  },
  {
   "cell_type": "markdown",
   "id": "67654c6e-0605-499d-a4aa-7737c191961f",
   "metadata": {},
   "source": [
    "<details>\n",
    "  <summary>Resposta</summary>\n",
    "\n",
    "<br/>\n",
    "\n",
    "```python\n",
    "soma = 0\n",
    "quantidade_de_numeros = 0\n",
    "for n in linha.split(','):\n",
    "    if(n.isdigit()):\n",
    "        soma += int(n)\n",
    "        quantidade_de_numeros += 1\n",
    "        \n",
    "soma/quantidade_de_numeros\n",
    "```\n",
    "\n",
    "<br/>\n",
    "</details>"
   ]
  },
  {
   "cell_type": "code",
   "execution_count": null,
   "id": "33b6c1c5-ccea-43ec-be69-1367d517689c",
   "metadata": {},
   "outputs": [],
   "source": []
  },
  {
   "cell_type": "markdown",
   "id": "9b79dab6-ff54-47f9-adae-d7afff571839",
   "metadata": {
    "tags": []
   },
   "source": [
    "## 🗞️ Extra! Date, time e datetime"
   ]
  },
  {
   "cell_type": "markdown",
   "id": "fa46d110-a2bd-4ee9-9691-f8f65814fa32",
   "metadata": {
    "tags": []
   },
   "source": [
    "### Anos Bissextos"
   ]
  },
  {
   "cell_type": "markdown",
   "id": "2aa72f8a-1c3f-4908-b39c-8bd947f653ec",
   "metadata": {
    "tags": []
   },
   "source": [
    "<pre>As operações envolvendo intervalos de tempo e datas seguem regras próprias, que envolvem calendário, finais de semana, fuso-horário, e diversas unidades de tempo simultaneamente como anos, meses, dias, horas, minutos e segundos.</pre>"
   ]
  },
  {
   "cell_type": "markdown",
   "id": "3b5455e2-7e21-4212-ae93-2817aaeb26be",
   "metadata": {
    "tags": []
   },
   "source": [
    "<pre>Ademais, um ano é bissexto se:\n",
    "    - for divisível por 400; ou\n",
    "    - se for divisível por 4 mas não por 100.</pre>"
   ]
  },
  {
   "cell_type": "markdown",
   "id": "b9657eff-9119-4aeb-b1b3-9e3443dc4452",
   "metadata": {
    "tags": []
   },
   "source": [
    "<pre>\n",
    "Por exemplo: 2004, 2020, 2024, 2000, 2400.\n",
    "Não são exemplos: 1900, 2100, 2200, 2001, 2002, 2003.\n",
    "</pre>"
   ]
  },
  {
   "cell_type": "markdown",
   "id": "bccc1ceb-783a-497f-b6d0-aa538ee65e96",
   "metadata": {
    "tags": []
   },
   "source": [
    "<pre>Escreva um código para imprimir os anos bissextos da lista abaixo.</pre>"
   ]
  },
  {
   "cell_type": "code",
   "execution_count": 13,
   "id": "e13ff708-9533-43a1-a2e2-d3a1ed9710b0",
   "metadata": {},
   "outputs": [],
   "source": [
    "anos = [1900, 2000, 2004, 2100, 2200, 2400]"
   ]
  },
  {
   "cell_type": "markdown",
   "id": "a496f501-7705-4bc5-a5d5-1353164d4a8b",
   "metadata": {},
   "source": [
    "<details>\n",
    "  <summary>Resposta</summary>\n",
    "\n",
    "<br/>\n",
    "\n",
    "```python\n",
    "for n in anos:\n",
    "    if n % 400 == 0:\n",
    "        print(n)\n",
    "    elif n % 4 == 0 and not n % 100 == 0:\n",
    "        print(n)\n",
    "```\n",
    "\n",
    "<br/>\n",
    "</details>"
   ]
  },
  {
   "cell_type": "code",
   "execution_count": null,
   "id": "4495c076-2d0a-4397-b424-86c3d0c59f7f",
   "metadata": {},
   "outputs": [],
   "source": []
  },
  {
   "cell_type": "markdown",
   "id": "7be87697-1cbb-4cb1-9751-ad8631a1f124",
   "metadata": {},
   "source": [
    "### Tempo de Vida"
   ]
  },
  {
   "cell_type": "markdown",
   "id": "d79b94e6-36ea-49e7-b8be-9886ad5dfb70",
   "metadata": {},
   "source": [
    "<pre>O cálculo do número de dias entre duas datas deve considerar a presença de anos bissextos.</pre>"
   ]
  },
  {
   "cell_type": "markdown",
   "id": "6c3d8646-22e8-4cb7-a49a-0193c8c824a6",
   "metadata": {},
   "source": [
    "<pre>Para lidar com essas e outras complexidades, existe o módulo <b>datetime</b>.</pre>"
   ]
  },
  {
   "cell_type": "markdown",
   "id": "e631e77a-0e75-415c-84fa-53f8b6c664f5",
   "metadata": {},
   "source": [
    "<pre>Importe os tipos <b>date</b> e <b>deltatime</b> do módulo <b>datetime</b> para os próximos exercícios.</pre>"
   ]
  },
  {
   "cell_type": "code",
   "execution_count": 14,
   "id": "2f7862b7-b14b-44a2-8575-39aad957b80c",
   "metadata": {},
   "outputs": [],
   "source": [
    "from datetime import date, timedelta"
   ]
  },
  {
   "cell_type": "markdown",
   "id": "7827f67e-a5c7-44bd-8c91-5744214e20bc",
   "metadata": {},
   "source": [
    "<pre>Utilizando os métodos do módulo (tais como a que retorna a data atual e a que converte datas no formato ISO), calcule o total de dias vividos por você desde seu nascimento.</pre>"
   ]
  },
  {
   "cell_type": "markdown",
   "id": "b2ccdd7a-1893-4488-8ea8-08e823a95ce3",
   "metadata": {},
   "source": [
    "👉 referência: <a href='https://docs.python.org/3/library/datetime.html'>datetime</a>"
   ]
  },
  {
   "cell_type": "markdown",
   "id": "1bd8125c-ddec-4945-abbc-f0d7c6831e7d",
   "metadata": {},
   "source": [
    "<details>\n",
    "  <summary>Resposta</summary>\n",
    "\n",
    "<br/>\n",
    "\n",
    "```python\n",
    "from datetime import date, timedelta, datetime\n",
    "\n",
    "hoje = datetime.now()\n",
    "\n",
    "nascimento = datetime.fromisoformat('2023-01-01')\n",
    "\n",
    "diferenca = hoje - nascimento\n",
    "\n",
    "diferenca\n",
    "```\n",
    "\n",
    "<br/>\n",
    "</details>"
   ]
  },
  {
   "cell_type": "markdown",
   "id": "55252e8e-302e-42ef-8649-32f0558f7249",
   "metadata": {
    "scrolled": true,
    "tags": []
   },
   "source": [
    "<pre>Agora, calcule o total de segundos vividos por você desde seu nascimento.</pre>"
   ]
  },
  {
   "cell_type": "markdown",
   "id": "51a4a721-36e5-4d72-8da2-d4a42091e7f7",
   "metadata": {},
   "source": [
    "<details>\n",
    "  <summary>Resposta</summary>\n",
    "\n",
    "<br/>\n",
    "\n",
    "```python\n",
    "diferenca.total_seconds()\n",
    "```\n",
    "\n",
    "<br/>\n",
    "</details>"
   ]
  },
  {
   "cell_type": "code",
   "execution_count": null,
   "id": "fef3d48c-061a-4dab-99fa-16650fd3f399",
   "metadata": {},
   "outputs": [],
   "source": []
  },
  {
   "cell_type": "markdown",
   "id": "f31b347e-1c39-4c57-b949-9acf7287c208",
   "metadata": {},
   "source": [
    "### Terremotos"
   ]
  },
  {
   "cell_type": "markdown",
   "id": "b67c1291-b4ae-4497-8dc0-facbd13aead0",
   "metadata": {},
   "source": [
    "<pre>A Califórnia é um estado americano com <a href='https://en.wikipedia.org/wiki/List_of_earthquakes_in_California'>intensa atividade sísmica</a>.</pre>"
   ]
  },
  {
   "cell_type": "markdown",
   "id": "86a18458-7e2b-4ae4-b898-21154192a49b",
   "metadata": {},
   "source": [
    "<pre>Dada a lista de datas de terremotos a seguir, ordenada decrescentemente, imprima o intervalo de tempo (em dias) entre eles.</pre>"
   ]
  },
  {
   "cell_type": "code",
   "execution_count": 15,
   "id": "046e4161-3bb2-4e92-a7f4-de7129c81661",
   "metadata": {
    "tags": []
   },
   "outputs": [],
   "source": [
    "datas_csv = '2022-12-20,2019-07-05,2019-07-04,2014-08-24,2014-03-28,2010-04-04,2010-01-09,2008-07-29,2007-10-30,\\\n",
    "2003-12-22,2000-09-03,1999-10-16,1994-01-17,1992-06-28,1992-06-28,1992-04-26,1992-04-26,1992-04-25,\\\n",
    "1992-04-22,1991-06-28,1990-02-28,1989-10-17,1989-08-08,1987-11-24,1987-11-23,1987-10-01,1986-07-21,\\\n",
    "1986-07-13,1986-07-08,1984-04-24,1983-05-02,1981-04-26,1980-11-08,1980-05-25,1980-01-26,1980-01-24,\\\n",
    "1979-10-15,1979-08-06,1978-08-13,1975-08-01,1973-02-21,1971-02-09,1969-10-01,1969-10-01,1968-04-08,\\\n",
    "1957-03-22,1954-12-21,1952-08-22,1952-07-21,1948-12-04,1941-11-14,1941-06-30,1940-05-18,1933-03-10,\\\n",
    "1932-06-06,1927-11-04,1925-06-29,1923-01-22,1920-06-21,1918-04-21,1915-06-22,1906-04-18'"
   ]
  },
  {
   "cell_type": "markdown",
   "id": "0ff97bdf-166f-4933-9f3d-5b35080f5530",
   "metadata": {},
   "source": [
    "<details>\n",
    "  <summary>Resposta</summary>\n",
    "\n",
    "<br/>\n",
    "\n",
    "```python\n",
    "from datetime import date, timedelta\n",
    "\n",
    "inicial = 0\n",
    "intervalos = []\n",
    "\n",
    "for data in datas_csv.split(','):\n",
    "    data = date.fromisoformat(data)\n",
    "    if inicial != 0:\n",
    "        delta = inicial - data\n",
    "        intervalos.append(delta.days)\n",
    "    inicial = data\n",
    "\n",
    "intervalos\n",
    "```\n",
    "\n",
    "<br/>\n",
    "</details>"
   ]
  },
  {
   "cell_type": "code",
   "execution_count": null,
   "id": "33bbfabb-3073-4708-8314-1d0ef4b6d395",
   "metadata": {
    "tags": []
   },
   "outputs": [],
   "source": []
  },
  {
   "cell_type": "markdown",
   "id": "20b55606-1785-4c83-ac42-ea19588f376c",
   "metadata": {},
   "source": [
    "<pre>Agora, calcule e imprima o tempo médio (em dias) entre os terremotos.</pre>"
   ]
  },
  {
   "cell_type": "markdown",
   "id": "b63dcbfd-cfe2-4ebd-bb0c-e4cc0bcc9998",
   "metadata": {},
   "source": [
    "<details>\n",
    "  <summary>Resposta</summary>\n",
    "\n",
    "<br/>\n",
    "\n",
    "```python\n",
    "from datetime import date, timedelta\n",
    "\n",
    "inicial = 0\n",
    "intervalos = []\n",
    "\n",
    "for data in datas_csv.split(','):\n",
    "    data = date.fromisoformat(data)\n",
    "    if inicial != 0:\n",
    "        delta = inicial - data\n",
    "        intervalos.append(delta.days)\n",
    "    inicial = data\n",
    "\n",
    "f'Intervalo Médio: {sum(intervalos)/len(intervalos)} dias'\n",
    "```\n",
    "\n",
    "<br/>\n",
    "</details>"
   ]
  },
  {
   "cell_type": "code",
   "execution_count": null,
   "id": "9816bec1-18c2-44ed-9345-cc4bc4149ffa",
   "metadata": {},
   "outputs": [],
   "source": []
  },
  {
   "cell_type": "markdown",
   "id": "ae8ab604-065d-4a6d-b961-d5edb2c591d7",
   "metadata": {
    "tags": []
   },
   "source": [
    "<pre>Por fim, calcule quantos dias se passaram entre o último terremoto e hoje.</pre>"
   ]
  },
  {
   "cell_type": "markdown",
   "id": "6ed3333a-7fdc-46f8-a3a6-c2bb865597df",
   "metadata": {},
   "source": [
    "<details>\n",
    "  <summary>Resposta</summary>\n",
    "\n",
    "<br/>\n",
    "\n",
    "```python\n",
    "datas = datas_csv.split(',')\n",
    "\n",
    "ultimo_terremoto = date.fromisoformat(datas[0])\n",
    "\n",
    "(date.today() - ultimo_terremoto).days\n",
    "```\n",
    "\n",
    "<br/>\n",
    "</details>"
   ]
  },
  {
   "cell_type": "code",
   "execution_count": null,
   "id": "f48e1ae5-731e-4ff8-932a-85fb0c3f6829",
   "metadata": {
    "tags": []
   },
   "outputs": [],
   "source": []
  }
 ],
 "metadata": {
  "kernelspec": {
   "display_name": "Python 3 (ipykernel)",
   "language": "python",
   "name": "python3"
  },
  "language_info": {
   "codemirror_mode": {
    "name": "ipython",
    "version": 3
   },
   "file_extension": ".py",
   "mimetype": "text/x-python",
   "name": "python",
   "nbconvert_exporter": "python",
   "pygments_lexer": "ipython3",
   "version": "3.12.4"
  }
 },
 "nbformat": 4,
 "nbformat_minor": 5
}
