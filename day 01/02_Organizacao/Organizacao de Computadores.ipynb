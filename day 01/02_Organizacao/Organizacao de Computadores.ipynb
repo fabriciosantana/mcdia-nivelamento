{
 "cells": [
  {
   "cell_type": "code",
   "execution_count": 1,
   "id": "e2ab091d-984a-4e54-8ff8-c77ec79887bd",
   "metadata": {
    "editable": true,
    "slideshow": {
     "slide_type": "skip"
    },
    "tags": []
   },
   "outputs": [],
   "source": [
    "import random"
   ]
  },
  {
   "cell_type": "markdown",
   "id": "d45b186a-7fc1-4516-921e-c092a97b2dfa",
   "metadata": {
    "editable": true,
    "slideshow": {
     "slide_type": ""
    },
    "tags": []
   },
   "source": [
    "# Organização de Computadores 💻"
   ]
  },
  {
   "cell_type": "markdown",
   "id": "badd4c6f-f5f7-4251-adf9-9ff32c86eea0",
   "metadata": {
    "editable": true,
    "slideshow": {
     "slide_type": "subslide"
    },
    "tags": []
   },
   "source": [
    "## Sumário da Aula"
   ]
  },
  {
   "cell_type": "markdown",
   "id": "bbc8d8d4-bbb2-4889-a168-f587c4be6e22",
   "metadata": {
    "editable": true,
    "slideshow": {
     "slide_type": ""
    },
    "tags": []
   },
   "source": [
    "<ul>\n",
    "    <li>Componentes de um computador 💻;</li>\n",
    "    <li>Barramento do Sistema;</li>\n",
    "    <li>Memória 🧠;</li>\n",
    "    <ul>\n",
    "        <li>Hierarquia de Memória 🧠;</li>\n",
    "        <li>Memória Principal e Cache;</li>\n",
    "        <li>Memória Secundária (HDD vs. SSD).</li>\n",
    "    </ul>\n",
    "    <li>Processador;</li>\n",
    "    <ul>\n",
    "        <li>Arquiteturas;</li>\n",
    "        <li>Multicore ;</li>\n",
    "        <li>Unidade Lógica e Aritmética 🧮.</li>\n",
    "    </ul>\n",
    "    <li>Entrada ⌨️🖱️ e Saída 🖥️;</li>\n",
    "</ul>"
   ]
  },
  {
   "cell_type": "markdown",
   "id": "17d452b6-18bc-46b5-a692-c784618539f9",
   "metadata": {
    "editable": true,
    "slideshow": {
     "slide_type": "slide"
    },
    "tags": []
   },
   "source": [
    "## Componentes de um Computador 💻"
   ]
  },
  {
   "cell_type": "markdown",
   "id": "2d76ec9a-b09b-4113-b995-a698cc30af85",
   "metadata": {
    "editable": true,
    "slideshow": {
     "slide_type": ""
    },
    "tags": []
   },
   "source": [
    "Um computador é um conjunto de recursos para a movimentação, armazenamento e processamento de dados."
   ]
  },
  {
   "cell_type": "markdown",
   "id": "1eee0db1-87d2-4899-825f-2000ffcf5765",
   "metadata": {
    "editable": true,
    "slideshow": {
     "slide_type": ""
    },
    "tags": []
   },
   "source": [
    "<center><img src=\"figs/componentes.png\" width=450></center>"
   ]
  },
  {
   "cell_type": "markdown",
   "id": "a3ab54a2-b60c-4f99-aa97-5140b2a9e83c",
   "metadata": {
    "editable": true,
    "slideshow": {
     "slide_type": "subslide"
    },
    "tags": []
   },
   "source": [
    "Em síntese, temos:\n",
    "1. Um ou mais processadores;\n",
    "2. Memória principal;\n",
    "3. Discos rígidos ou dispositivos flash;\n",
    "4. Impressoras;\n",
    "5. Teclado;\n",
    "6. Mouse;\n",
    "7. Monitor;\n",
    "8. Interfaces de rede;\n",
    "9. Outros dispositivos de Entrada/Saída."
   ]
  },
  {
   "cell_type": "markdown",
   "id": "09400f9e-4989-4c40-83cb-7dfb3a80694e",
   "metadata": {
    "editable": true,
    "slideshow": {
     "slide_type": ""
    },
    "tags": []
   },
   "source": [
    "Se todo programador tivesse que entender tudo isso em detalhe, nenhum código seria escrito."
   ]
  },
  {
   "cell_type": "markdown",
   "id": "cc02526f-49c5-4279-87af-d0d9a78e450e",
   "metadata": {
    "editable": true,
    "slideshow": {
     "slide_type": ""
    },
    "tags": []
   },
   "source": [
    "Há uma camada de software chamada de <b>sistemal operacional</b> para lidar com esses componentes."
   ]
  },
  {
   "cell_type": "markdown",
   "id": "effb5bcf-ddf3-4def-af1c-7d66f97066fe",
   "metadata": {
    "editable": true,
    "slideshow": {
     "slide_type": ""
    },
    "tags": []
   },
   "source": [
    "Portanto, nosso papel é compreender como esses componentes interoperam."
   ]
  },
  {
   "cell_type": "markdown",
   "id": "86b96a27-bcc0-4367-8e5c-7ce6294c80b9",
   "metadata": {
    "editable": true,
    "slideshow": {
     "slide_type": "slide"
    },
    "tags": []
   },
   "source": [
    "## Barramento do Sistema"
   ]
  },
  {
   "cell_type": "markdown",
   "id": "6412d5a0-b771-4abe-976d-c4032e89ee81",
   "metadata": {},
   "source": [
    "<b>Processador</b>. Controla a operação do sistema."
   ]
  },
  {
   "cell_type": "markdown",
   "id": "037d382a-daaa-4142-b0d2-db84320f304e",
   "metadata": {},
   "source": [
    "<b>Barramento do Sistema</b>. Facilita comunicação entre processadores, memória principal e módulos de E/S."
   ]
  },
  {
   "cell_type": "markdown",
   "id": "0099420a-496c-4c0c-b2ad-750293a7bd88",
   "metadata": {},
   "source": [
    "<b>Módulos de E/S</b>. Movimenta dados entre computador e o ambiente externo, como disco rígido, monitor, teclado, etc."
   ]
  },
  {
   "cell_type": "markdown",
   "id": "9b54805d-c9bd-41a9-972b-019f855294fb",
   "metadata": {
    "editable": true,
    "slideshow": {
     "slide_type": "subslide"
    },
    "tags": []
   },
   "source": [
    "<table>\n",
    "    <tr><th>Barramento Tradicional</th><th>(Múltiplo) Barramento Moderno</th></tr>\n",
    "    <tr><td><img src=\"figs/barramento_antes.png\" width=450></td><td><img src=\"figs/barramento_depois.png\" width=450></td></tr>\n",
    "</table>"
   ]
  },
  {
   "cell_type": "markdown",
   "id": "91b30cbc-5f6e-4ab1-a1f7-42bd7cdc0659",
   "metadata": {
    "editable": true,
    "slideshow": {
     "slide_type": "slide"
    },
    "tags": []
   },
   "source": [
    "### Hierarquia de Memória"
   ]
  },
  {
   "cell_type": "markdown",
   "id": "b9b155b8-a72f-46b7-a301-3bc2469d742e",
   "metadata": {},
   "source": [
    "<b>Hierarquia de Memória</b>. Primária, Secundária e Terciária."
   ]
  },
  {
   "cell_type": "markdown",
   "id": "1b71561d-775f-4195-afdd-6533a586a0d9",
   "metadata": {
    "tags": []
   },
   "source": [
    "<table>\n",
    "    <tr><th>Hierarquia de Memória</th><th>Tempos de Acesso e Armazenamento de Memórias</th></tr>\n",
    "    <tr><td><img src=\"figs/memoria.png\" width=450></td><td><img src=\"figs/memoria_dados.png\" width=450></td></tr>\n",
    "</table>"
   ]
  },
  {
   "cell_type": "markdown",
   "id": "cc2fbf52-849e-4b5c-8c81-eef91ea4eca5",
   "metadata": {
    "editable": true,
    "slideshow": {
     "slide_type": "subslide"
    },
    "tags": []
   },
   "source": [
    "<b>Registradores da CPU</b>. Acesso em um ciclo de relógio."
   ]
  },
  {
   "cell_type": "markdown",
   "id": "e6c72900-2a0f-4931-bd41-371043ec86e0",
   "metadata": {},
   "source": [
    "<b>Cache</b>. Invisível ao sistema operacional, explorando o princípio da localidade."
   ]
  },
  {
   "cell_type": "markdown",
   "id": "e414583b-2405-4e28-9c78-d8a09549d0d0",
   "metadata": {
    "editable": true,
    "slideshow": {
     "slide_type": ""
    },
    "tags": []
   },
   "source": [
    "<b>Memória Primária</b>. Volátil."
   ]
  },
  {
   "cell_type": "markdown",
   "id": "1dba5618-2243-497c-a39b-1a428d367cb8",
   "metadata": {
    "editable": true,
    "slideshow": {
     "slide_type": ""
    },
    "tags": []
   },
   "source": [
    "<b>Memória Secundária</b>. Geralmente externa, não volátil e usada para programas e arquivos."
   ]
  },
  {
   "cell_type": "markdown",
   "id": "9c557a2c-2d3b-4952-b38b-ae3a4157d4d1",
   "metadata": {
    "editable": true,
    "slideshow": {
     "slide_type": "subslide"
    },
    "tags": []
   },
   "source": [
    "#### Memória Principal e Cache"
   ]
  },
  {
   "cell_type": "markdown",
   "id": "7f254fd5-3d41-43b1-a053-fd450b9988c6",
   "metadata": {
    "editable": true,
    "slideshow": {
     "slide_type": ""
    },
    "tags": []
   },
   "source": [
    "<b>Memória principal</b>. Volátil, armazena dados e programas."
   ]
  },
  {
   "cell_type": "markdown",
   "id": "c129c104-c813-4b2f-a835-88ca5ac371ee",
   "metadata": {},
   "source": [
    "<table>\n",
    "    <tr><th>Funcionamento entre Cache e Memória Principal</th><th>Fluxograma da Leitura de Acesso ao Cache</th></tr>\n",
    "    <tr><td><img src=\"figs/cache.png\" width=450></td><td><img src=\"figs/cache_fluxograma.png\" width=450></td></tr>\n",
    "</table>"
   ]
  },
  {
   "cell_type": "markdown",
   "id": "9658602a-34a0-45fe-9108-946acc006e1a",
   "metadata": {
    "editable": true,
    "slideshow": {
     "slide_type": "subslide"
    },
    "tags": []
   },
   "source": [
    "#### Memória Secundária"
   ]
  },
  {
   "cell_type": "markdown",
   "id": "01920e7e-d2c8-4e69-9b8e-18983b9bc252",
   "metadata": {},
   "source": [
    "<table>\n",
    "    <tr><th>Disco Rígido</th><th>Disco Rígido vs. Solid State Disk</th></tr>\n",
    "    <tr><td><img src=\"figs/hdd.png\" width=450></td><td><img src=\"https://www.diskmfr.com/wp-content/uploads/2022/04/HDD-SSD-Inside.png\" width=450></td></tr>\n",
    "</table>"
   ]
  },
  {
   "cell_type": "markdown",
   "id": "b35ad210-f691-4d4d-9e5a-e9b36905ef06",
   "metadata": {
    "editable": true,
    "slideshow": {
     "slide_type": "slide"
    },
    "tags": []
   },
   "source": [
    "## Processador"
   ]
  },
  {
   "cell_type": "markdown",
   "id": "6ae205dd-c251-4d40-8c23-f7cde464dd18",
   "metadata": {},
   "source": [
    "Um microprocessador é um processador cujos elementos foram miniaturizados em um ou poucos circuitos integrados."
   ]
  },
  {
   "cell_type": "markdown",
   "id": "0231d979-721f-4172-a02c-39fa3f78854e",
   "metadata": {},
   "source": [
    "Cada microprocessador inclui:\n",
    "1. registradores; \n",
    "2. uma unidade lógica e aritmética (ALU); e \n",
    "3. uma espécie de unidade de controle/lógica."
   ]
  },
  {
   "cell_type": "markdown",
   "id": "b3c6b0a8-88f0-4dcc-82aa-53fe16f362ee",
   "metadata": {
    "editable": true,
    "slideshow": {
     "slide_type": "subslide"
    },
    "tags": []
   },
   "source": [
    "<table>\n",
    "    <tr><th>Ciclo típico de instrução</th><th>Programa em Execução (Lê A, Soma B, Armazena C)</th></tr>\n",
    "    <tr><td><img src=\"figs/processador_ciclo.png\" width=450></td><td><img src=\"figs/processador_executando.png\" width=450></td></tr>\n",
    "</table>"
   ]
  },
  {
   "cell_type": "markdown",
   "id": "d372dadc-66b0-4f89-877c-3c0e70e3c06e",
   "metadata": {
    "editable": true,
    "slideshow": {
     "slide_type": "subslide"
    },
    "tags": []
   },
   "source": [
    "### Arquiteturas"
   ]
  },
  {
   "cell_type": "markdown",
   "id": "ee25dd4c-2368-42d8-a659-a925da7b8f5f",
   "metadata": {},
   "source": [
    "<b>Mutiprocessamento Simétrico</b>. 2+ processadores similares (em capacidade), compartilhando memória principal e E/S."
   ]
  },
  {
   "cell_type": "markdown",
   "id": "47eff450-2546-492d-be24-3650fe258cb8",
   "metadata": {},
   "source": [
    "<center><img src=\"figs/multiprocessor.png\" width=450></center>"
   ]
  },
  {
   "cell_type": "markdown",
   "id": "5df03591-a5af-4613-8648-ab06696c2817",
   "metadata": {
    "editable": true,
    "slideshow": {
     "slide_type": "subslide"
    },
    "tags": []
   },
   "source": [
    "<b>Multicore</b>. 2+ processadores (cores) em um único chip, cada um com unidade de execução, registradores e cache local."
   ]
  },
  {
   "cell_type": "markdown",
   "id": "9c54c60e-c69a-4d0c-8320-5e040bd3f29a",
   "metadata": {},
   "source": [
    "<table>\n",
    "    <tr><th>Diagrama de Processador Multicore</th><th>Chip de Processador Multicore</th></tr>\n",
    "    <tr><td><img src=\"figs/chip_diagrama.png\" width=450></td><td><img src=\"figs/chip_fisico.png\" width=450></td></tr>\n",
    "</table>"
   ]
  },
  {
   "cell_type": "markdown",
   "id": "25216dc8-ad95-447e-8fae-29b037a511bc",
   "metadata": {
    "editable": true,
    "slideshow": {
     "slide_type": "subslide"
    },
    "tags": []
   },
   "source": [
    "### Multicore"
   ]
  },
  {
   "cell_type": "markdown",
   "id": "ecc66846-8962-4542-b249-6aa032b82b3b",
   "metadata": {},
   "source": [
    "No passado recente, tornou-se possível aidcionar memória e outros processadores, chamados de <b>core</b>, em um mesmo chip."
   ]
  },
  {
   "cell_type": "markdown",
   "id": "3a69a47c-df7b-4daa-ad34-ac2f7ba03692",
   "metadata": {},
   "source": [
    "<center><img src=\"figs/core.png\" width=450></center>"
   ]
  },
  {
   "cell_type": "markdown",
   "id": "f1fd06fd-754d-4b75-ab2e-0b361ad2b13e",
   "metadata": {
    "editable": true,
    "slideshow": {
     "slide_type": "subslide"
    },
    "tags": []
   },
   "source": [
    "### Unidade Lógica e Aritmética"
   ]
  },
  {
   "cell_type": "markdown",
   "id": "699ae37d-9309-4277-b5c5-949802a26745",
   "metadata": {
    "editable": true,
    "slideshow": {
     "slide_type": ""
    },
    "tags": []
   },
   "source": [
    "A Unidade Lógica e Aritmética recebe entradas dos registradores e executa:\n",
    "1. Funções Lógicas, como <b>not</b>, <b>and</b>, <b>or</b>, <b>xor</b>, nas entradas; ou\n",
    "2. Funções aritméticas, como soma e subtração."
   ]
  },
  {
   "cell_type": "markdown",
   "id": "c2c7ce1e-0aac-44ab-b77d-b3f2866f321e",
   "metadata": {
    "editable": true,
    "slideshow": {
     "slide_type": "subslide"
    },
    "tags": []
   },
   "source": [
    "#### Tabela-Verdade das Funções Lógicas"
   ]
  },
  {
   "cell_type": "markdown",
   "id": "f0fbc654-242c-40b8-b71c-5c6107695f1c",
   "metadata": {},
   "source": [
    "<table>\n",
    "    <tr><th colspan=2>Entradas</th><th>Função Lógica Unária</th><th colspan=3>Funções Lógicas Binárias</th></tr>\n",
    "    <tr><th>A</th><th>B</th><th><i>not</i> A</th><th>A <i>and</i> B</th><th>A <i>or</i> B</th><th>A <i>xor</i> B</th></tr>\n",
    "    <tr><td>Falso</td><td>Falso</td><td rowspan=2>Verdadeiro</td><td>Falso</td><td>Falso</td><td>Falso</td></tr>\n",
    "    <tr><td>Falso</td><td>Verdadeiro</td><td>Falso</td><td>Verdadeiro</td><td>Verdadeiro</td></tr>\n",
    "    <tr><td>Verdadeiro</td><td>Falso</td><td rowspan=2>Falso</td><td>Falso</td><td>Verdadeiro</td><td>Verdadeiro</td></tr>\n",
    "    <tr><td>Verdadeiro</td><td>Verdadeiro</td><td>Verdadeiro</td><td>Verdadeiro</td><td>Falso</td></tr>\n",
    "</table>"
   ]
  },
  {
   "cell_type": "markdown",
   "id": "ad47fdff-7b07-4bf7-87d5-42db04b6da61",
   "metadata": {
    "editable": true,
    "slideshow": {
     "slide_type": "subslide"
    },
    "tags": []
   },
   "source": [
    "Vamos simular na prática,"
   ]
  },
  {
   "cell_type": "code",
   "execution_count": 2,
   "id": "fd15cc2b-1325-4c9d-b496-ef8c9e906387",
   "metadata": {
    "editable": true,
    "slideshow": {
     "slide_type": ""
    },
    "tags": []
   },
   "outputs": [
    {
     "data": {
      "text/plain": [
       "'Atribuímos o seguinte valor a A: True'"
      ]
     },
     "execution_count": 2,
     "metadata": {},
     "output_type": "execute_result"
    }
   ],
   "source": [
    "A = bool(random.getrandbits(1))\n",
    "f\"Atribuímos o seguinte valor a A: {A}\""
   ]
  },
  {
   "cell_type": "code",
   "execution_count": 3,
   "id": "3604b1f7-bf5d-4460-a6b3-d9824b40ff4d",
   "metadata": {
    "editable": true,
    "slideshow": {
     "slide_type": ""
    },
    "tags": []
   },
   "outputs": [
    {
     "data": {
      "text/plain": [
       "'Atribuímos o seguinte valor a B: True'"
      ]
     },
     "execution_count": 3,
     "metadata": {},
     "output_type": "execute_result"
    }
   ],
   "source": [
    "B = bool(random.getrandbits(1))\n",
    "f\"Atribuímos o seguinte valor a B: {B}\""
   ]
  },
  {
   "cell_type": "code",
   "execution_count": 4,
   "id": "7b87d418-b3f3-428b-9a2d-5eba3e786d2e",
   "metadata": {
    "editable": true,
    "slideshow": {
     "slide_type": ""
    },
    "tags": []
   },
   "outputs": [
    {
     "data": {
      "text/plain": [
       "True"
      ]
     },
     "execution_count": 4,
     "metadata": {},
     "output_type": "execute_result"
    }
   ],
   "source": [
    "A and B"
   ]
  },
  {
   "cell_type": "code",
   "execution_count": 5,
   "id": "88921218-2562-41f6-8119-c30d184865f1",
   "metadata": {},
   "outputs": [
    {
     "data": {
      "text/plain": [
       "True"
      ]
     },
     "execution_count": 5,
     "metadata": {},
     "output_type": "execute_result"
    }
   ],
   "source": [
    "A or B"
   ]
  },
  {
   "cell_type": "code",
   "execution_count": 6,
   "id": "f80efe5e-a02d-4940-bf44-aa7dcd6bd77b",
   "metadata": {
    "editable": true,
    "slideshow": {
     "slide_type": ""
    },
    "tags": []
   },
   "outputs": [
    {
     "data": {
      "text/plain": [
       "False"
      ]
     },
     "execution_count": 6,
     "metadata": {},
     "output_type": "execute_result"
    }
   ],
   "source": [
    "A ^ B"
   ]
  },
  {
   "cell_type": "markdown",
   "id": "ca1eea46-5f34-48bb-91e7-c48a2965b1b3",
   "metadata": {
    "editable": true,
    "slideshow": {
     "slide_type": "subslide"
    },
    "tags": []
   },
   "source": [
    "#### Sentenças Se/Então"
   ]
  },
  {
   "cell_type": "markdown",
   "id": "854a95fe-ec92-499e-b6de-718d4f9fb312",
   "metadata": {
    "editable": true,
    "slideshow": {
     "slide_type": ""
    },
    "tags": []
   },
   "source": [
    "Por fim, na programação, o uso das operações lógicas são combinadas com a sentença <b>if/then</b> (<b>se/então</b>)"
   ]
  },
  {
   "cell_type": "code",
   "execution_count": 7,
   "id": "665ea3d9-8dc2-42ac-ba5c-ccb76065f193",
   "metadata": {},
   "outputs": [
    {
     "name": "stdout",
     "output_type": "stream",
     "text": [
      "Esse código\n"
     ]
    }
   ],
   "source": [
    "if A:\n",
    "    print(\"Esse código\")\n",
    "else:\n",
    "    print(\"Aquele código\")"
   ]
  },
  {
   "cell_type": "code",
   "execution_count": 8,
   "id": "1f72c378-5b7e-4b19-befd-84c6b7c5390e",
   "metadata": {},
   "outputs": [
    {
     "name": "stdout",
     "output_type": "stream",
     "text": [
      "Aquele código\n"
     ]
    }
   ],
   "source": [
    "if not A:\n",
    "    print(\"Esse código\")\n",
    "else:\n",
    "    print(\"Aquele código\")"
   ]
  },
  {
   "cell_type": "code",
   "execution_count": 9,
   "id": "0d1074d2-02cf-4333-b6ad-be58ccfac287",
   "metadata": {
    "editable": true,
    "slideshow": {
     "slide_type": "subslide"
    },
    "tags": []
   },
   "outputs": [
    {
     "name": "stdout",
     "output_type": "stream",
     "text": [
      "Esse código\n"
     ]
    }
   ],
   "source": [
    "if A and B:\n",
    "    print(\"Esse código\")\n",
    "else:\n",
    "    print(\"Aquele código\")"
   ]
  },
  {
   "cell_type": "code",
   "execution_count": 10,
   "id": "b31a1ac2-803f-44a4-a170-6b89daac7266",
   "metadata": {},
   "outputs": [
    {
     "name": "stdout",
     "output_type": "stream",
     "text": [
      "Esse código\n"
     ]
    }
   ],
   "source": [
    "if A or B:\n",
    "    print(\"Esse código\")\n",
    "else:\n",
    "    print(\"Aquele código\")"
   ]
  },
  {
   "cell_type": "code",
   "execution_count": 11,
   "id": "e5e3de5f-1936-4d71-92ea-31993a2f62f8",
   "metadata": {},
   "outputs": [
    {
     "name": "stdout",
     "output_type": "stream",
     "text": [
      "Aquele código\n"
     ]
    }
   ],
   "source": [
    "if A ^ B:\n",
    "    print(\"Esse código\")\n",
    "else:\n",
    "    print(\"Aquele código\")"
   ]
  },
  {
   "cell_type": "markdown",
   "id": "5d294fd4-a99f-46ba-8ad3-728832548680",
   "metadata": {
    "editable": true,
    "slideshow": {
     "slide_type": "slide"
    },
    "tags": []
   },
   "source": [
    "## Entrada/Saída"
   ]
  },
  {
   "cell_type": "markdown",
   "id": "e12ba55f-95ca-4a76-9d9f-5ea72c0dceec",
   "metadata": {},
   "source": [
    "<b>E/S programada</b>. O processador pergunta sempre o status do módulo de E/S. Desempenho ruim."
   ]
  },
  {
   "cell_type": "markdown",
   "id": "adb641d3-5dc8-49e8-878c-4460151b140a",
   "metadata": {},
   "source": [
    "<b>E/S dirigida a interrupções</b>. Módulo de E/S interrompe o processador quando realizou a transferência. Desempenho não muito ruim."
   ]
  },
  {
   "cell_type": "markdown",
   "id": "09d9e224-e390-4c0a-b068-67e6c65f7d6f",
   "metadata": {},
   "source": [
    "<b>Acesso Direto à Memória</b>. Módulo independente transfere entre memória e E/S sem passar pelo processador. Desempenho mais eficiente."
   ]
  },
  {
   "cell_type": "markdown",
   "id": "4901d9b9-7cdc-4002-939b-2541915b2872",
   "metadata": {
    "editable": true,
    "slideshow": {
     "slide_type": "slide"
    },
    "tags": []
   },
   "source": [
    "Tudo isso é gerenciado pelo sistema operacional para nos dedicarmos às atividades indispensáveis."
   ]
  },
  {
   "cell_type": "markdown",
   "id": "0e4f4c3b-48ef-4033-933e-686860dd7c96",
   "metadata": {},
   "source": [
    "<center><img src=\"https://imgs.xkcd.com/comics/mac_pc.png\" width=200></center>"
   ]
  }
 ],
 "metadata": {
  "kernelspec": {
   "display_name": "Python 3 (ipykernel)",
   "language": "python",
   "name": "python3"
  },
  "language_info": {
   "codemirror_mode": {
    "name": "ipython",
    "version": 3
   },
   "file_extension": ".py",
   "mimetype": "text/x-python",
   "name": "python",
   "nbconvert_exporter": "python",
   "pygments_lexer": "ipython3",
   "version": "3.12.4"
  }
 },
 "nbformat": 4,
 "nbformat_minor": 5
}
