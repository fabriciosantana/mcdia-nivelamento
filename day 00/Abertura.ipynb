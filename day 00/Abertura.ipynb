{
 "cells": [
  {
   "attachments": {},
   "cell_type": "markdown",
   "id": "998f097d",
   "metadata": {
    "editable": true,
    "slideshow": {
     "slide_type": "slide"
    },
    "tags": []
   },
   "source": [
    "# Mestrado em Administração Pública: Ciência de Dados e Inteligência Artificial no Setor Público"
   ]
  },
  {
   "cell_type": "markdown",
   "id": "2823304e-9f89-4414-b3f5-2f390cf5978a",
   "metadata": {
    "editable": true,
    "slideshow": {
     "slide_type": "-"
    },
    "tags": []
   },
   "source": [
    "## Nivelamento"
   ]
  },
  {
   "attachments": {},
   "cell_type": "markdown",
   "id": "fa00a296",
   "metadata": {
    "editable": true,
    "slideshow": {
     "slide_type": "subslide"
    },
    "tags": []
   },
   "source": [
    "### Sumário"
   ]
  },
  {
   "cell_type": "markdown",
   "id": "2ad817b7",
   "metadata": {
    "editable": true,
    "slideshow": {
     "slide_type": "-"
    },
    "tags": []
   },
   "source": [
    "<ul>\n",
    "    <li>Instrutor</li>\n",
    "    <li>Principais Aspectos do Programa</li>\n",
    "    <ul>\n",
    "        <li>Objetivo Geral</li>\n",
    "        <li>Ementa</li>\n",
    "        <li>Cronograma</li>\n",
    "        <li>Ferramentas</li>\n",
    "        <li>Avaliação de Aprendizagem</li>\n",
    "        <li>Bibliografia</li>\n",
    "    </ul>\n",
    "</ul>"
   ]
  },
  {
   "cell_type": "markdown",
   "id": "e51bfcba-f2a3-458b-a4fa-174c0b887f2a",
   "metadata": {
    "editable": true,
    "slideshow": {
     "slide_type": "subslide"
    },
    "tags": []
   },
   "source": [
    "### Instrutor"
   ]
  },
  {
   "cell_type": "markdown",
   "id": "341626b6-676f-461e-94de-90fc439b5202",
   "metadata": {
    "editable": true,
    "slideshow": {
     "slide_type": "-"
    },
    "tags": []
   },
   "source": [
    "<table align='center'>\n",
    "    <tr align='center'>\n",
    "        <td align='center'>Hélio Bomfim de Macêdo Filho</td>\n",
    "        <td align='center'>Alex Pereira Lopes</td>\n",
    "    </tr>\n",
    "    <tr align='center'>\n",
    "        <td align='center'><img src='figs/Helio.png' width=150></td>\n",
    "        <td align='center'><img src='figs/Alex.png' width=150></td>\n",
    "    </tr>\n",
    "    <tr align='center'>\n",
    "        <td align='center'>DSc., Eng. de Sistemas e Computação, UFRJ<br />Auditor<br/>Banco Central do Brasil</td>\n",
    "        <td align='center'>DSc., Eng. Eletrônica e Computação, ITA<br />Analista de Planejamento e Orçamento<br/>Secretaria de Governo Digital</td>\n",
    "    </tr>\n",
    "</table>"
   ]
  },
  {
   "cell_type": "markdown",
   "id": "4f7d9445-2d19-496c-9fa7-c8b21a96ba89",
   "metadata": {
    "editable": true,
    "slideshow": {
     "slide_type": "slide"
    },
    "tags": []
   },
   "source": [
    "# Principais Aspectos do Programa"
   ]
  },
  {
   "cell_type": "markdown",
   "id": "93688df8-1bea-402d-9280-b47955e2029e",
   "metadata": {
    "editable": true,
    "slideshow": {
     "slide_type": "subslide"
    },
    "tags": []
   },
   "source": [
    "## Objetivo Geral"
   ]
  },
  {
   "attachments": {},
   "cell_type": "markdown",
   "id": "8bfe6e07-561f-4b32-aa72-de3f6a3a5b04",
   "metadata": {
    "editable": true,
    "slideshow": {
     "slide_type": "-"
    },
    "tags": []
   },
   "source": [
    "A preencher."
   ]
  },
  {
   "cell_type": "markdown",
   "id": "edc1eef1-f8b6-4b71-b192-6ea92e615ef6",
   "metadata": {
    "editable": true,
    "slideshow": {
     "slide_type": "subslide"
    },
    "tags": []
   },
   "source": [
    "<table align='center'>\n",
    "    <tr>\n",
    "        <th>Data</td><td>29 de agosto a XX de setembro de 2025</td>\n",
    "    </tr>\n",
    "    <tr>\n",
    "        <th>Horário</td><td>Xh às Yh, com intervalo de 15 min</td>\n",
    "    </tr>\n",
    "    <tr>\n",
    "        <th>Carga Horária</td><td>30 horas</td>\n",
    "    </tr>\n",
    "    <tr>\n",
    "        <th>Nível de Formação</td><td>Mestrado</td>\n",
    "    </tr>\n",
    "    <tr>\n",
    "        <th>Site</td><td>https://www.idp.edu.br/mestrado/profissional-em-ciencia-de-dados/</td>\n",
    "    </tr>\n",
    "</table>"
   ]
  },
  {
   "cell_type": "markdown",
   "id": "aecf62a5-e317-484a-9a1b-a1ca0be16752",
   "metadata": {
    "editable": true,
    "slideshow": {
     "slide_type": "subslide"
    },
    "tags": []
   },
   "source": [
    "## Ementa"
   ]
  },
  {
   "attachments": {},
   "cell_type": "markdown",
   "id": "6c5bdb09-419f-4e46-92e3-4daccfaf7502",
   "metadata": {
    "editable": true,
    "slideshow": {
     "slide_type": "-"
    },
    "tags": []
   },
   "source": [
    "<ol>\n",
    "    <li>Introdução ao Ambiente de Trabalho;</li>\n",
    "    <li>Lógica de Programação;</li>\n",
    "    <li>Conceitos Básicos de Programação;</li>\n",
    "    <li>Estruturas de Controle;</li>\n",
    "    <li>Funções Básicas em Python;</li>\n",
    "    <li>Manipulação Simples de Arquivos;</li>\n",
    "    <li>Junçao e Agregação de Tabelas;</li>\n",
    "    <li>APIs e requisições HTTP.</li>\n",
    "</ol>"
   ]
  },
  {
   "cell_type": "markdown",
   "id": "47957a9e-4278-4298-8061-8444840f4462",
   "metadata": {
    "editable": true,
    "slideshow": {
     "slide_type": "subslide"
    },
    "tags": []
   },
   "source": [
    "## Cronograma"
   ]
  },
  {
   "cell_type": "markdown",
   "id": "7e1b4d5a-16bb-4a80-80e7-3fc0d0e62b11",
   "metadata": {
    "editable": true,
    "slideshow": {
     "slide_type": "-"
    },
    "tags": []
   },
   "source": [
    "<table align='center' width='100%'>\n",
    "    <tr align='center'>\n",
    "        <th align='center'></th>\n",
    "        <th align='center'></th>\n",
    "        <th align='center'>29 de agosto de 2025</th>\n",
    "    </tr>\n",
    "    <tr align='center'>\n",
    "        <td align='center'></td>\n",
    "        <td align='center'></td>\n",
    "        <td align='center'>Introdução...</td>\n",
    "    </tr>\n",
    "    <tr align='center'>\n",
    "        <th align='center'>X de setembro de 2025</th>\n",
    "        <th align='center'>Y de setembro de 2025</th>\n",
    "        <th align='center'>Z de setembro de 2025</th>\n",
    "    </tr>\n",
    "    <tr align='center'>\n",
    "        <td align='center'>...</td>\n",
    "        <td align='center'>...</td>\n",
    "        <td align='center'>...</td>\n",
    "    </tr>\n",
    "</table>"
   ]
  },
  {
   "cell_type": "markdown",
   "id": "bf6c37f8-c4d6-483c-a386-9c56a912db24",
   "metadata": {
    "editable": true,
    "slideshow": {
     "slide_type": "subslide"
    },
    "tags": []
   },
   "source": [
    "## Ferramentas"
   ]
  },
  {
   "cell_type": "markdown",
   "id": "4175f841-f643-4a88-a64e-27bbaeb758eb",
   "metadata": {
    "editable": true,
    "slideshow": {
     "slide_type": ""
    },
    "tags": []
   },
   "source": [
    "### Inteligência Artificial e Ciência de Dados"
   ]
  },
  {
   "cell_type": "markdown",
   "id": "b7fc0e99-7c06-4714-9227-8c3483a75c25",
   "metadata": {
    "editable": true,
    "slideshow": {
     "slide_type": "-"
    },
    "tags": []
   },
   "source": [
    "<table align='center' width='100%'>\n",
    "    <tr align='center'>\n",
    "        <td align='center'><img src='figs/logo-jupyter.png' width=50></td>\n",
    "        <td align='center'><img src='figs/logo-python.png' width=100></td>\n",
    "        <td align='center'><img src='figs/logo-numpy.png' width=100></td>\n",
    "        <td align='center'><img src='figs/logo-pandas.png' width=100></td>\n",
    "        <td align='center'><img src='figs/logo-matplotlib.png' width=100></td>\n",
    "    </tr>\n",
    "    <tr align='center'>\n",
    "        <td align='center'>Jupyter Lab</td>\n",
    "        <td align='center'>Python</td>\n",
    "        <td align='center'>NumPy</td>\n",
    "        <td align='center'>Pandas</td>\n",
    "        <td align='center'>Matplotlib</td>\n",
    "    </tr>\n",
    "</table>"
   ]
  },
  {
   "cell_type": "markdown",
   "id": "d3967d04-8479-48c6-83ef-5578096360d1",
   "metadata": {
    "editable": true,
    "slideshow": {
     "slide_type": "subslide"
    },
    "tags": []
   },
   "source": [
    "### Apoio"
   ]
  },
  {
   "cell_type": "markdown",
   "id": "d11c3569-f239-4a31-a79a-6c72796e57ad",
   "metadata": {
    "editable": true,
    "slideshow": {
     "slide_type": "-"
    },
    "tags": []
   },
   "source": [
    "<table align='center' width='100%'>\n",
    "    <tr align='center'>\n",
    "        <td align='center'><img src='figs/logo-zoom.svg' width=100></td>\n",
    "        <td align='center'><img src='https://www.idp.edu.br/wp-content/themes/idp_principal_2020/img/logo-idp-whatsapp.png' width=100></td>\n",
    "    </tr>\n",
    "    <tr align='center'>\n",
    "        <td align='center'>Zoom</td>\n",
    "        <td align='center'>IDP</td>\n",
    "    </tr>\n",
    "</table>"
   ]
  },
  {
   "cell_type": "markdown",
   "id": "a388df4e-07ff-490c-bb88-a47a28365c45",
   "metadata": {
    "editable": true,
    "slideshow": {
     "slide_type": "subslide"
    },
    "tags": []
   },
   "source": [
    "## Avaliação da Aprendizagem"
   ]
  },
  {
   "cell_type": "markdown",
   "id": "109a3dd0-7607-44e2-9bfd-4cdddca922cc",
   "metadata": {
    "editable": true,
    "slideshow": {
     "slide_type": "-"
    },
    "tags": []
   },
   "source": [
    "A avaliação da aprendizagem será composta por ..."
   ]
  },
  {
   "cell_type": "markdown",
   "id": "c29662c9-70b9-4d35-abf5-321cef869478",
   "metadata": {
    "editable": true,
    "slideshow": {
     "slide_type": "subslide"
    },
    "tags": []
   },
   "source": [
    "## Bibliografia"
   ]
  },
  {
   "cell_type": "markdown",
   "id": "86e72a93-90c1-47be-b798-2edbf23666c7",
   "metadata": {
    "editable": true,
    "slideshow": {
     "slide_type": ""
    },
    "tags": []
   },
   "source": [
    "### Bibliografia Basica"
   ]
  },
  {
   "cell_type": "markdown",
   "id": "7420f36e-2893-43a1-9564-c9ef64e29538",
   "metadata": {
    "editable": true,
    "slideshow": {
     "slide_type": ""
    },
    "tags": []
   },
   "source": [
    "McKinney W. Python Para Análise de Dados: Tratamento de Dados com Pandas, NumPy & Jupyter, Terceira Edição. 2023. O'Reilly Media, Inc."
   ]
  },
  {
   "cell_type": "markdown",
   "id": "fd18ec66-b083-4cac-98ea-e2f3b54cb12a",
   "metadata": {
    "editable": true,
    "slideshow": {
     "slide_type": ""
    },
    "tags": []
   },
   "source": [
    "### Bibliografia Complementar"
   ]
  },
  {
   "cell_type": "markdown",
   "id": "e43d206c-a819-4dc6-8563-8654e8b754d4",
   "metadata": {
    "editable": true,
    "slideshow": {
     "slide_type": ""
    },
    "tags": []
   },
   "source": [
    "John V. Guttag. Introduction to Computation and Programming Using Python: With Application to Computational Modeling and Understanding Data. 2021. The MIT Press"
   ]
  },
  {
   "cell_type": "markdown",
   "id": "16364ad5-795b-4b53-936e-bde5c199829e",
   "metadata": {
    "editable": true,
    "slideshow": {
     "slide_type": "subslide"
    },
    "tags": []
   },
   "source": [
    "<font size=7><center><code>Bom curso a todos</code></center></font>"
   ]
  }
 ],
 "metadata": {
  "celltoolbar": "Slideshow",
  "kernelspec": {
   "display_name": "Python 3 (ipykernel)",
   "language": "python",
   "name": "python3"
  },
  "language_info": {
   "codemirror_mode": {
    "name": "ipython",
    "version": 3
   },
   "file_extension": ".py",
   "mimetype": "text/x-python",
   "name": "python",
   "nbconvert_exporter": "python",
   "pygments_lexer": "ipython3",
   "version": "3.12.4"
  },
  "toc": {
   "base_numbering": 1,
   "nav_menu": {},
   "number_sections": true,
   "sideBar": true,
   "skip_h1_title": false,
   "title_cell": "Table of Contents",
   "title_sidebar": "Contents",
   "toc_cell": false,
   "toc_position": {},
   "toc_section_display": true,
   "toc_window_display": false
  }
 },
 "nbformat": 4,
 "nbformat_minor": 5
}
