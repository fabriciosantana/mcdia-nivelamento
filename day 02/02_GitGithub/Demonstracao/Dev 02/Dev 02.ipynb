{
 "cells": [
  {
   "cell_type": "code",
   "execution_count": 1,
   "id": "8364a08f-b649-4548-a2c0-880f7e6bf4fd",
   "metadata": {
    "editable": true,
    "slideshow": {
     "slide_type": "skip"
    },
    "tags": []
   },
   "outputs": [],
   "source": [
    "!rm -rf .git aula"
   ]
  },
  {
   "cell_type": "markdown",
   "id": "6bbc506e-edec-41a1-bee6-9878b9e971ae",
   "metadata": {
    "editable": true,
    "slideshow": {
     "slide_type": ""
    },
    "tags": []
   },
   "source": [
    "# Versionamento de Projeto pelo Parceiro 🧑🏽‍💻"
   ]
  },
  {
   "cell_type": "markdown",
   "id": "d2e47f3f-e1dd-4067-a53f-8882b2b51480",
   "metadata": {
    "editable": true,
    "slideshow": {
     "slide_type": "subslide"
    },
    "tags": []
   },
   "source": [
    "## Nosso percurso como Parceiro 🧑🏽‍💻"
   ]
  },
  {
   "cell_type": "markdown",
   "id": "7b6a6709-f59b-4447-ae31-e1ff5eada76f",
   "metadata": {
    "editable": true,
    "slideshow": {
     "slide_type": ""
    },
    "tags": []
   },
   "source": [
    "```\n",
    "* 4a51680 (HEAD -> main) último snapshot: TCC.py\n",
    "* 8eddf84 (origin/main, origin/HEAD) Create TCC.py\n",
    "*   f99f7a5 Merge branch 'bootcamp'\n",
    "|\\  \n",
    "| * 2430329 branch paralelo: bootcamp.py\n",
    "* | 1c63d21 branch paralelo: evolução MBA.py\n",
    "|/  \n",
    "* 6baf36e terceiro snapshot: MBA.py\n",
    "* 0e2aba4 segundo snapshot: ola.txt modificado\n",
    "* 071c439 primeiro snapshot: ola.txt\n",
    "```"
   ]
  },
  {
   "cell_type": "markdown",
   "id": "e49c98fd-d7f6-4547-ab80-75d3108ad827",
   "metadata": {
    "editable": true,
    "slideshow": {
     "slide_type": "subslide"
    },
    "tags": []
   },
   "source": [
    "## Roteiro"
   ]
  },
  {
   "cell_type": "markdown",
   "id": "94e4afa3-db2b-4702-8db2-c7cd94191717",
   "metadata": {
    "editable": true,
    "slideshow": {
     "slide_type": ""
    },
    "tags": []
   },
   "source": [
    "<ul>\n",
    "    <li>Clonando um Repositório Existente (<i>git clone</i>);</li>\n",
    "    <li>Recebendo Modificações do Repositório Remoto (<i>git pull</i>);</li>\n",
    "    <li>Modificando um Repositório Remoto (<i>git push</i>).</li>\n",
    "</ul>"
   ]
  },
  {
   "cell_type": "markdown",
   "id": "a9e6bf60-96cd-450f-81ee-63f3aed7a967",
   "metadata": {
    "editable": true,
    "slideshow": {
     "slide_type": "slide"
    },
    "tags": []
   },
   "source": [
    "## Clonando um Repositório Existente<br />(<i>git clone</i>)"
   ]
  },
  {
   "cell_type": "markdown",
   "id": "4958382a-f2c5-45ba-8173-3cfc19ce3ecd",
   "metadata": {
    "editable": true,
    "slideshow": {
     "slide_type": ""
    },
    "tags": []
   },
   "source": [
    "Podemos clonar um repositório remoto com `git clone <url>`."
   ]
  },
  {
   "cell_type": "markdown",
   "id": "fcdcbed4-8ab7-464d-b861-54ba3c6101cf",
   "metadata": {
    "editable": true,
    "slideshow": {
     "slide_type": ""
    },
    "tags": []
   },
   "source": [
    "👉 dica: no nosso caso, criamos um repositório remoto no GitHub (e.g., heliomacedofilho/aula)."
   ]
  },
  {
   "cell_type": "code",
   "execution_count": 2,
   "id": "5c47a21a-5cf5-4769-8fa2-c320f9d8ae56",
   "metadata": {
    "editable": true,
    "slideshow": {
     "slide_type": ""
    },
    "tags": []
   },
   "outputs": [
    {
     "name": "stdout",
     "output_type": "stream",
     "text": [
      "Cloning into 'aula'...\n",
      "remote: Enumerating objects: 17, done.\u001b[K\n",
      "remote: Counting objects: 100% (17/17), done.\u001b[K\n",
      "remote: Compressing objects: 100% (9/9), done.\u001b[K\n",
      "remote: Total 17 (delta 1), reused 17 (delta 1), pack-reused 0 (from 0)\u001b[K\n",
      "Receiving objects: 100% (17/17), done.\n",
      "Resolving deltas: 100% (1/1), done.\n"
     ]
    }
   ],
   "source": [
    "!git clone git@github.com:heliomacedofilho/aula.git"
   ]
  },
  {
   "cell_type": "markdown",
   "id": "3bf55d49-5754-4c88-b759-be7d882471d0",
   "metadata": {
    "editable": true,
    "slideshow": {
     "slide_type": ""
    },
    "tags": []
   },
   "source": [
    "🚨 O `git clone` será necessário uma única vez. Doravante, com o repositório criado, apenas será necessário `git pull`. 🚨"
   ]
  },
  {
   "cell_type": "markdown",
   "id": "48981748-5fcc-4493-8a35-7f9a4ce5c88d",
   "metadata": {
    "editable": true,
    "slideshow": {
     "slide_type": "subslide"
    },
    "tags": []
   },
   "source": [
    "Veja o histórico/log de snapshots completo com `git log --all --graph --decorate --oneline`."
   ]
  },
  {
   "cell_type": "code",
   "execution_count": 3,
   "id": "100c3f54-4798-49f9-893a-d7e1d67d2bc0",
   "metadata": {
    "editable": true,
    "slideshow": {
     "slide_type": ""
    },
    "tags": []
   },
   "outputs": [
    {
     "name": "stdout",
     "output_type": "stream",
     "text": [
      "*   \u001b[33mf99f7a5\u001b[m\u001b[33m (\u001b[m\u001b[1;36mHEAD\u001b[m\u001b[33m -> \u001b[m\u001b[1;32mmain\u001b[m\u001b[33m, \u001b[m\u001b[1;31morigin/main\u001b[m\u001b[33m, \u001b[m\u001b[1;31morigin/HEAD\u001b[m\u001b[33m)\u001b[m Merge branch 'bootcamp'\n",
      "\u001b[31m|\u001b[m\u001b[32m\\\u001b[m  \n",
      "\u001b[31m|\u001b[m * \u001b[33m2430329\u001b[m branch paralelo: bootcamp.py\n",
      "* \u001b[32m|\u001b[m \u001b[33m1c63d21\u001b[m branch paralelo: evolução MBA.py\n",
      "\u001b[32m|\u001b[m\u001b[32m/\u001b[m  \n",
      "* \u001b[33m6baf36e\u001b[m terceiro snapshot: MBA.py\n",
      "* \u001b[33m0e2aba4\u001b[m segundo snapshot: ola.txt modificado\n",
      "* \u001b[33m071c439\u001b[m primeiro snapshot: ola.txt\n"
     ]
    }
   ],
   "source": [
    "!cd aula && git log --all --graph --decorate --oneline"
   ]
  },
  {
   "cell_type": "markdown",
   "id": "b601ce7e-1d37-42fa-ae7b-419b5b8ba646",
   "metadata": {
    "editable": true,
    "slideshow": {
     "slide_type": "slide"
    },
    "tags": []
   },
   "source": [
    "## Recebendo Modificações do Repositório Remoto<br />(<i>git pull</i>);"
   ]
  },
  {
   "cell_type": "markdown",
   "id": "8ffd2c85-3302-46e2-a44a-ffb6882b0b2d",
   "metadata": {
    "editable": true,
    "slideshow": {
     "slide_type": ""
    },
    "tags": []
   },
   "source": [
    "👉 Antes de começar, carregue um arquivo vazio chamado <b>TCC.py</b> na raiz do repositório remoto."
   ]
  },
  {
   "cell_type": "markdown",
   "id": "82fd890d-f653-42ec-ab8b-ab9673890e5a",
   "metadata": {
    "editable": true,
    "slideshow": {
     "slide_type": ""
    },
    "tags": []
   },
   "source": [
    "Acesse a pasta em que o repositório foi clonado e descarregue as atualizações com `git pull`."
   ]
  },
  {
   "cell_type": "code",
   "execution_count": 4,
   "id": "4a95cdb4-f988-4ca9-8b51-d44f880d773e",
   "metadata": {
    "editable": true,
    "slideshow": {
     "slide_type": ""
    },
    "tags": []
   },
   "outputs": [
    {
     "name": "stdout",
     "output_type": "stream",
     "text": [
      "remote: Enumerating objects: 4, done.\u001b[K\n",
      "remote: Counting objects: 100% (4/4), done.\u001b[K\n",
      "remote: Compressing objects: 100% (2/2), done.\u001b[K\n",
      "remote: Total 3 (delta 0), reused 0 (delta 0), pack-reused 0 (from 0)\u001b[K\n",
      "Unpacking objects: 100% (3/3), 997 bytes | 199.00 KiB/s, done.\n",
      "From github.com:heliomacedofilho/aula\n",
      "   f99f7a5..8eddf84  main       -> origin/main\n",
      "Updating f99f7a5..8eddf84\n",
      "Fast-forward\n",
      " TCC.py | 1 \u001b[32m+\u001b[m\n",
      " 1 file changed, 1 insertion(+)\n",
      " create mode 100644 TCC.py\n"
     ]
    }
   ],
   "source": [
    "!cd aula && git pull"
   ]
  },
  {
   "cell_type": "markdown",
   "id": "e6f3722c-3b0e-4c74-a30d-563343f1b363",
   "metadata": {
    "editable": true,
    "slideshow": {
     "slide_type": ""
    },
    "tags": []
   },
   "source": [
    "🚨 A partir daí, um segundo desenvolvedor pode trabalhar em paralelo com o primeiro desenvolvedor 🚨 "
   ]
  },
  {
   "cell_type": "markdown",
   "id": "2e33c249-73fd-4834-8ec8-d6c92d001fd0",
   "metadata": {
    "editable": true,
    "slideshow": {
     "slide_type": "subslide"
    },
    "tags": []
   },
   "source": [
    "Veja o histórico/log de snapshots completo com `git log --all --graph --decorate --oneline`."
   ]
  },
  {
   "cell_type": "code",
   "execution_count": 5,
   "id": "6d322292-40a8-4390-9ac1-20200236a902",
   "metadata": {
    "editable": true,
    "slideshow": {
     "slide_type": ""
    },
    "tags": []
   },
   "outputs": [
    {
     "name": "stdout",
     "output_type": "stream",
     "text": [
      "* \u001b[33m8eddf84\u001b[m\u001b[33m (\u001b[m\u001b[1;36mHEAD\u001b[m\u001b[33m -> \u001b[m\u001b[1;32mmain\u001b[m\u001b[33m, \u001b[m\u001b[1;31morigin/main\u001b[m\u001b[33m, \u001b[m\u001b[1;31morigin/HEAD\u001b[m\u001b[33m)\u001b[m Create TCC.py\n",
      "*   \u001b[33mf99f7a5\u001b[m Merge branch 'bootcamp'\n",
      "\u001b[32m|\u001b[m\u001b[33m\\\u001b[m  \n",
      "\u001b[32m|\u001b[m * \u001b[33m2430329\u001b[m branch paralelo: bootcamp.py\n",
      "* \u001b[33m|\u001b[m \u001b[33m1c63d21\u001b[m branch paralelo: evolução MBA.py\n",
      "\u001b[33m|\u001b[m\u001b[33m/\u001b[m  \n",
      "* \u001b[33m6baf36e\u001b[m terceiro snapshot: MBA.py\n",
      "* \u001b[33m0e2aba4\u001b[m segundo snapshot: ola.txt modificado\n",
      "* \u001b[33m071c439\u001b[m primeiro snapshot: ola.txt\n"
     ]
    }
   ],
   "source": [
    "!cd aula && git log --all --graph --decorate --oneline"
   ]
  },
  {
   "cell_type": "markdown",
   "id": "73714876-f51c-4575-b73c-1cf8cb7c8a71",
   "metadata": {
    "editable": true,
    "slideshow": {
     "slide_type": "slide"
    },
    "tags": []
   },
   "source": [
    "## Modificando um Repositório Remoto<br />(<i>git push</i>)"
   ]
  },
  {
   "cell_type": "markdown",
   "id": "d568decf-50e6-4456-a558-83be930ee4db",
   "metadata": {
    "editable": true,
    "slideshow": {
     "slide_type": ""
    },
    "tags": []
   },
   "source": [
    "Vamos realizar uma modificação no arquivo <b>TCC.py</b>."
   ]
  },
  {
   "cell_type": "code",
   "execution_count": 6,
   "id": "a11ae95c-2e8d-480f-8bf5-5d632ced9f6a",
   "metadata": {
    "editable": true,
    "slideshow": {
     "slide_type": ""
    },
    "tags": []
   },
   "outputs": [],
   "source": [
    "!echo \"print('TCC')\" >> aula/TCC.py"
   ]
  },
  {
   "cell_type": "markdown",
   "id": "8f9eab0b-5257-4db3-935f-b8bb454572f0",
   "metadata": {
    "editable": true,
    "slideshow": {
     "slide_type": ""
    },
    "tags": []
   },
   "source": [
    "Certique-se de que o arquivo está funcional."
   ]
  },
  {
   "cell_type": "code",
   "execution_count": 7,
   "id": "b9db2d3b-2bce-4681-99a9-9f8638cf5ec9",
   "metadata": {
    "editable": true,
    "slideshow": {
     "slide_type": ""
    },
    "tags": []
   },
   "outputs": [
    {
     "name": "stdout",
     "output_type": "stream",
     "text": [
      "TCC\n"
     ]
    }
   ],
   "source": [
    "!python aula/TCC.py"
   ]
  },
  {
   "cell_type": "markdown",
   "id": "8a6d6f56-3ed1-4c3d-8c23-118798f28015",
   "metadata": {
    "editable": true,
    "slideshow": {
     "slide_type": "subslide"
    },
    "tags": []
   },
   "source": [
    "Agora, adicione-o ao <i>staging area</i> com `git add`."
   ]
  },
  {
   "cell_type": "code",
   "execution_count": 8,
   "id": "d8023bb6-16f7-4eda-9324-6d36aadde1bf",
   "metadata": {
    "editable": true,
    "slideshow": {
     "slide_type": ""
    },
    "tags": []
   },
   "outputs": [],
   "source": [
    "!cd aula && git add TCC.py"
   ]
  },
  {
   "cell_type": "markdown",
   "id": "76032617-ad3b-4965-bfa0-79e45b97c4e7",
   "metadata": {
    "editable": true,
    "slideshow": {
     "slide_type": ""
    },
    "tags": []
   },
   "source": [
    "Consolide o arquivo em um novo <i>snapshot</i> com `git commit`."
   ]
  },
  {
   "cell_type": "code",
   "execution_count": 9,
   "id": "bca23d1e-85c9-4284-b7af-978e3a4319e0",
   "metadata": {
    "editable": true,
    "slideshow": {
     "slide_type": ""
    },
    "tags": []
   },
   "outputs": [
    {
     "name": "stdout",
     "output_type": "stream",
     "text": [
      "[main 4a51680] último snapshot: TCC.py\n",
      " 1 file changed, 1 insertion(+)\n"
     ]
    }
   ],
   "source": [
    "!cd aula && git commit -m \"último snapshot: TCC.py\""
   ]
  },
  {
   "cell_type": "markdown",
   "id": "2c51d863-1c3e-43a4-87d6-728822e2fc9c",
   "metadata": {
    "editable": true,
    "slideshow": {
     "slide_type": "subslide"
    },
    "tags": []
   },
   "source": [
    "Veja o histórico/log de snapshots completo com `git log --all --graph --decorate --oneline`."
   ]
  },
  {
   "cell_type": "code",
   "execution_count": 10,
   "id": "fd211ffb-daae-46fa-b843-43f5c47f82c9",
   "metadata": {
    "editable": true,
    "slideshow": {
     "slide_type": ""
    },
    "tags": []
   },
   "outputs": [
    {
     "name": "stdout",
     "output_type": "stream",
     "text": [
      "* \u001b[33m4a51680\u001b[m\u001b[33m (\u001b[m\u001b[1;36mHEAD\u001b[m\u001b[33m -> \u001b[m\u001b[1;32mmain\u001b[m\u001b[33m)\u001b[m último snapshot: TCC.py\n",
      "* \u001b[33m8eddf84\u001b[m\u001b[33m (\u001b[m\u001b[1;31morigin/main\u001b[m\u001b[33m, \u001b[m\u001b[1;31morigin/HEAD\u001b[m\u001b[33m)\u001b[m Create TCC.py\n",
      "*   \u001b[33mf99f7a5\u001b[m Merge branch 'bootcamp'\n",
      "\u001b[32m|\u001b[m\u001b[33m\\\u001b[m  \n",
      "\u001b[32m|\u001b[m * \u001b[33m2430329\u001b[m branch paralelo: bootcamp.py\n",
      "* \u001b[33m|\u001b[m \u001b[33m1c63d21\u001b[m branch paralelo: evolução MBA.py\n",
      "\u001b[33m|\u001b[m\u001b[33m/\u001b[m  \n",
      "* \u001b[33m6baf36e\u001b[m terceiro snapshot: MBA.py\n",
      "* \u001b[33m0e2aba4\u001b[m segundo snapshot: ola.txt modificado\n",
      "* \u001b[33m071c439\u001b[m primeiro snapshot: ola.txt\n"
     ]
    }
   ],
   "source": [
    "!cd aula && git log --all --graph --decorate --oneline"
   ]
  },
  {
   "cell_type": "markdown",
   "id": "1fb02e37-d3ae-4484-9ab6-52f04d37a1d5",
   "metadata": {
    "editable": true,
    "slideshow": {
     "slide_type": "subslide"
    },
    "tags": []
   },
   "source": [
    "Submeta o arquivo ao repositório remoto com `git push`."
   ]
  },
  {
   "cell_type": "code",
   "execution_count": 11,
   "id": "636ca32f-be9c-4924-a05f-a8932ea0ae11",
   "metadata": {
    "editable": true,
    "slideshow": {
     "slide_type": ""
    },
    "tags": []
   },
   "outputs": [
    {
     "name": "stdout",
     "output_type": "stream",
     "text": [
      "Enumerating objects: 5, done.\n",
      "Counting objects: 100% (5/5), done.\n",
      "Delta compression using up to 8 threads\n",
      "Compressing objects: 100% (2/2), done.\n",
      "Writing objects: 100% (3/3), 375 bytes | 375.00 KiB/s, done.\n",
      "Total 3 (delta 0), reused 0 (delta 0), pack-reused 0 (from 0)\n",
      "To github.com:heliomacedofilho/aula.git\n",
      "   8eddf84..4a51680  main -> main\n"
     ]
    }
   ],
   "source": [
    "!cd aula && git push"
   ]
  }
 ],
 "metadata": {
  "kernelspec": {
   "display_name": "Python 3 (ipykernel)",
   "language": "python",
   "name": "python3"
  },
  "language_info": {
   "codemirror_mode": {
    "name": "ipython",
    "version": 3
   },
   "file_extension": ".py",
   "mimetype": "text/x-python",
   "name": "python",
   "nbconvert_exporter": "python",
   "pygments_lexer": "ipython3",
   "version": "3.12.4"
  }
 },
 "nbformat": 4,
 "nbformat_minor": 5
}
