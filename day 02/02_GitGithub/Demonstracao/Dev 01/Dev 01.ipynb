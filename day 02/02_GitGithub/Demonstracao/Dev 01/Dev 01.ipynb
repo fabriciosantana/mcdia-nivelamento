{
 "cells": [
  {
   "cell_type": "code",
   "execution_count": 1,
   "id": "edc62d1a-242c-443c-9351-b1b626d75bd7",
   "metadata": {
    "editable": true,
    "slideshow": {
     "slide_type": "skip"
    },
    "tags": []
   },
   "outputs": [],
   "source": [
    "!rm -rf .git\n",
    "!rm -rf .ipynb_checkpoints\n",
    "!rm -rf ola.txt MBA.py bootcamp.py"
   ]
  },
  {
   "cell_type": "markdown",
   "id": "b5818a25-4ed5-430f-8aad-ab2a0d8f1a30",
   "metadata": {
    "editable": true,
    "slideshow": {
     "slide_type": "slide"
    },
    "tags": []
   },
   "source": [
    "# Versionamento de Projeto pelo Líder 👨🏻‍🍳"
   ]
  },
  {
   "cell_type": "markdown",
   "id": "1fb9f62d-0e9f-4dd3-83b5-48cc909e655d",
   "metadata": {
    "editable": true,
    "slideshow": {
     "slide_type": "subslide"
    },
    "tags": []
   },
   "source": [
    "## Nosso percurso como Líder 👨🏻‍🍳"
   ]
  },
  {
   "cell_type": "markdown",
   "id": "1fa09882-39e0-4846-853b-0634cba8897a",
   "metadata": {
    "editable": true,
    "slideshow": {
     "slide_type": ""
    },
    "tags": []
   },
   "source": [
    "```\n",
    "*   f99f7a5 (HEAD -> master) Merge branch 'bootcamp'\n",
    "|\\  \n",
    "| * 2430329 (bootcamp) branch paralelo: bootcamp.py\n",
    "* | 1c63d21 (MBA) branch paralelo: MBA.py modificado\n",
    "|/  \n",
    "* 6baf36e terceiro snapshot: MBA.py\n",
    "* 0e2aba4 segundo snapshot: ola.txt modificado\n",
    "* 071c439 primeiro snapshot: ola.txt\n",
    "```"
   ]
  },
  {
   "cell_type": "markdown",
   "id": "635f39c5-19cc-4d1f-a596-433aa4740821",
   "metadata": {
    "editable": true,
    "slideshow": {
     "slide_type": "slide"
    },
    "tags": []
   },
   "source": [
    "## Roteiro"
   ]
  },
  {
   "cell_type": "markdown",
   "id": "d56d4221-946c-42b1-b318-1f6e04f7306a",
   "metadata": {
    "editable": true,
    "slideshow": {
     "slide_type": ""
    },
    "tags": []
   },
   "source": [
    "<ul>\n",
    "    <li>Novo Repositório (<i>git init</i>);</li>\n",
    "    <li>Versionamento (<i>git add</i>, <i>git commit</i>);</li>\n",
    "    <li>Histórico (<i>git log</i>);</li>\n",
    "    <li>Mudanças entre Versões (<i>git diff</i>);</li>\n",
    "    <li>Desenvolvendo Funcionalidades em Paralelo (<i>git branch</i>);</li>\n",
    "    <li>Mesclando Desenvolvimentos em Paralelo (<i>git merge</i>);</li>\n",
    "    <li>Conectando a um Repositório Remoto (<i>git remote</i>);</li>\n",
    "    <li>Enviando Modificações ao GitHub (<i>git push</i>).</li>\n",
    "    <li>Ajuda do Git (<i>git help</i>);</li>\n",
    "</ul>"
   ]
  },
  {
   "cell_type": "markdown",
   "id": "e25c62f7-2908-4015-82b8-4e10e2f31ef8",
   "metadata": {
    "editable": true,
    "slideshow": {
     "slide_type": "slide"
    },
    "tags": []
   },
   "source": [
    "## Novo Repositório<br />(<i>git init</i>)"
   ]
  },
  {
   "cell_type": "markdown",
   "id": "24e0fd33-d575-43a3-b289-a31fb4607815",
   "metadata": {
    "editable": true,
    "slideshow": {
     "slide_type": ""
    },
    "tags": []
   },
   "source": [
    "Você pode começar um repositório com `git init`."
   ]
  },
  {
   "cell_type": "markdown",
   "id": "5b78d3a0-2799-4db7-b561-fb4467d01f4d",
   "metadata": {
    "editable": true,
    "slideshow": {
     "slide_type": ""
    },
    "tags": []
   },
   "source": [
    "👉 Ele estará somente no seu computador!"
   ]
  },
  {
   "cell_type": "code",
   "execution_count": 2,
   "id": "982193f8-06c8-402b-a773-9a65a2e39cae",
   "metadata": {
    "editable": true,
    "slideshow": {
     "slide_type": ""
    },
    "tags": []
   },
   "outputs": [
    {
     "name": "stdout",
     "output_type": "stream",
     "text": [
      "Initialized empty Git repository in /Users/heliomacedofilho/code/heliomacedofilho/enap/ciencia_da_computacao/day 03/Demonstração/Dev 01/.git/\n"
     ]
    }
   ],
   "source": [
    "!git init"
   ]
  },
  {
   "cell_type": "markdown",
   "id": "9083e748-9ea7-445b-ad32-3531d6a19d22",
   "metadata": {
    "editable": true,
    "slideshow": {
     "slide_type": ""
    },
    "tags": []
   },
   "source": [
    "Liste o diretório para ver que não há outros arquivos."
   ]
  },
  {
   "cell_type": "code",
   "execution_count": 3,
   "id": "9355e03f-cc10-4453-bdff-a110c4cf43bc",
   "metadata": {
    "editable": true,
    "slideshow": {
     "slide_type": ""
    },
    "tags": []
   },
   "outputs": [
    {
     "name": "stdout",
     "output_type": "stream",
     "text": [
      "Dev 01.ipynb       Dev 01.slides.html\n"
     ]
    }
   ],
   "source": [
    "!ls"
   ]
  },
  {
   "cell_type": "markdown",
   "id": "210ce6b1-d76c-42bf-b62d-375d136e343e",
   "metadata": {
    "editable": true,
    "slideshow": {
     "slide_type": "subslide"
    },
    "tags": []
   },
   "source": [
    "Liste o diretório <b>.git</b> para ver os arquivos criados para manter o repositório."
   ]
  },
  {
   "cell_type": "code",
   "execution_count": 4,
   "id": "7cc1df00-9397-4b50-bda9-04f6e47d3a19",
   "metadata": {
    "editable": true,
    "slideshow": {
     "slide_type": ""
    },
    "tags": []
   },
   "outputs": [
    {
     "name": "stdout",
     "output_type": "stream",
     "text": [
      "HEAD        description \u001b[1m\u001b[36minfo\u001b[m\u001b[m        \u001b[1m\u001b[36mrefs\u001b[m\u001b[m\n",
      "config      \u001b[1m\u001b[36mhooks\u001b[m\u001b[m       \u001b[1m\u001b[36mobjects\u001b[m\u001b[m\n"
     ]
    }
   ],
   "source": [
    "!ls .git"
   ]
  },
  {
   "cell_type": "markdown",
   "id": "f26018d8-4064-4aaa-b1f9-2f0d1d428210",
   "metadata": {
    "editable": true,
    "slideshow": {
     "slide_type": "slide"
    },
    "tags": []
   },
   "source": [
    "## Versionamento<br />(<i>git add</i>, <i>git commit</i>)"
   ]
  },
  {
   "cell_type": "markdown",
   "id": "6122097c-b903-4339-95a8-3178ac8a7db2",
   "metadata": {
    "editable": true,
    "slideshow": {
     "slide_type": ""
    },
    "tags": []
   },
   "source": [
    "Vamos verificar que o repositório está vazio com `git status`."
   ]
  },
  {
   "cell_type": "code",
   "execution_count": 5,
   "id": "aeb56876-a725-4dfd-9b87-f0ade322ec11",
   "metadata": {
    "editable": true,
    "slideshow": {
     "slide_type": ""
    },
    "tags": []
   },
   "outputs": [
    {
     "name": "stdout",
     "output_type": "stream",
     "text": [
      "On branch master\n",
      "\n",
      "No commits yet\n",
      "\n",
      "nothing to commit (create/copy files and use \"git add\" to track)\n"
     ]
    }
   ],
   "source": [
    "!git status"
   ]
  },
  {
   "cell_type": "markdown",
   "id": "4766550f-7cd6-491b-b430-88ad0364b8f1",
   "metadata": {
    "editable": true,
    "slideshow": {
     "slide_type": "subslide"
    },
    "tags": []
   },
   "source": [
    "Vamos criar um arquivo <b>ola.txt</b>."
   ]
  },
  {
   "cell_type": "code",
   "execution_count": 6,
   "id": "eed0e9b1-ed66-4b0c-be30-ad57181606f8",
   "metadata": {
    "editable": true,
    "slideshow": {
     "slide_type": ""
    },
    "tags": []
   },
   "outputs": [],
   "source": [
    "!echo \"olá\" > ola.txt"
   ]
  },
  {
   "cell_type": "markdown",
   "id": "4e880fd5-2859-495f-98ab-29030e5fe489",
   "metadata": {
    "editable": true,
    "slideshow": {
     "slide_type": ""
    },
    "tags": []
   },
   "source": [
    "Veja, com `git status`, que o arquivo não está sendo monitorado."
   ]
  },
  {
   "cell_type": "code",
   "execution_count": 7,
   "id": "1a9ed565-a671-432b-8fbf-5cd27db83ec5",
   "metadata": {
    "editable": true,
    "slideshow": {
     "slide_type": ""
    },
    "tags": []
   },
   "outputs": [
    {
     "name": "stdout",
     "output_type": "stream",
     "text": [
      "On branch master\n",
      "\n",
      "No commits yet\n",
      "\n",
      "Untracked files:\n",
      "  (use \"git add <file>...\" to include in what will be committed)\n",
      "\t\u001b[31mola.txt\u001b[m\n",
      "\n",
      "nothing added to commit but untracked files present (use \"git add\" to track)\n"
     ]
    }
   ],
   "source": [
    "!git status"
   ]
  },
  {
   "cell_type": "markdown",
   "id": "0e9deb2e-a245-4ee7-8b07-340e9bc56fd9",
   "metadata": {
    "editable": true,
    "slideshow": {
     "slide_type": "subslide"
    },
    "tags": []
   },
   "source": [
    "Adicione o arquivo na <b>staging area</b> com `git add <arquivo>`."
   ]
  },
  {
   "cell_type": "code",
   "execution_count": 8,
   "id": "6e2e20c0-1d25-41d2-adda-1699c42d324e",
   "metadata": {
    "editable": true,
    "slideshow": {
     "slide_type": ""
    },
    "tags": []
   },
   "outputs": [],
   "source": [
    "!git add ola.txt"
   ]
  },
  {
   "cell_type": "markdown",
   "id": "1166fedf-ded1-4ba1-8b21-4ccc319a87c9",
   "metadata": {
    "editable": true,
    "slideshow": {
     "slide_type": ""
    },
    "tags": []
   },
   "source": [
    "Veja que o arquivo está na <b>staging area</b> com `git status`."
   ]
  },
  {
   "cell_type": "code",
   "execution_count": 9,
   "id": "137cf9a8-c3cf-4b4c-b07a-93ed7b611406",
   "metadata": {
    "editable": true,
    "slideshow": {
     "slide_type": ""
    },
    "tags": []
   },
   "outputs": [
    {
     "name": "stdout",
     "output_type": "stream",
     "text": [
      "On branch master\n",
      "\n",
      "No commits yet\n",
      "\n",
      "Changes to be committed:\n",
      "  (use \"git rm --cached <file>...\" to unstage)\n",
      "\t\u001b[32mnew file:   ola.txt\u001b[m\n",
      "\n"
     ]
    }
   ],
   "source": [
    "!git status"
   ]
  },
  {
   "cell_type": "markdown",
   "id": "ad85d8f8-221e-4139-93f6-c52e731d8c54",
   "metadata": {
    "editable": true,
    "slideshow": {
     "slide_type": "subslide"
    },
    "tags": []
   },
   "source": [
    "Consolide o primeiro <i>snapshot</i> com `git commit`."
   ]
  },
  {
   "cell_type": "code",
   "execution_count": 10,
   "id": "d7bdfd7d-0a41-4ff7-a60e-3183fd3e5296",
   "metadata": {
    "editable": true,
    "slideshow": {
     "slide_type": ""
    },
    "tags": []
   },
   "outputs": [
    {
     "name": "stdout",
     "output_type": "stream",
     "text": [
      "[master (root-commit) 071c439] primeiro snapshot: ola.txt\n",
      " 1 file changed, 1 insertion(+)\n",
      " create mode 100644 ola.txt\n"
     ]
    }
   ],
   "source": [
    "!git commit -m \"primeiro snapshot: ola.txt\""
   ]
  },
  {
   "cell_type": "markdown",
   "id": "2bccb3ef-4779-4e82-83ad-303fbf1f9f58",
   "metadata": {
    "editable": true,
    "slideshow": {
     "slide_type": "slide"
    },
    "tags": []
   },
   "source": [
    "## Histórico<br />(<i>git log</i>)"
   ]
  },
  {
   "cell_type": "markdown",
   "id": "b5d9675c-886f-4012-b5df-8492e3b8f0c9",
   "metadata": {
    "editable": true,
    "slideshow": {
     "slide_type": ""
    },
    "tags": []
   },
   "source": [
    "Veja o histórico/<i>log</li> de snapshots com `git log`."
   ]
  },
  {
   "cell_type": "code",
   "execution_count": 11,
   "id": "78b31228-407d-4750-9f81-38e46f66f3ed",
   "metadata": {
    "editable": true,
    "slideshow": {
     "slide_type": ""
    },
    "tags": []
   },
   "outputs": [
    {
     "name": "stdout",
     "output_type": "stream",
     "text": [
      "\u001b[33mcommit 071c439fdadc95b2a6c146c9bb67519f9eab9860\u001b[m\u001b[33m (\u001b[m\u001b[1;36mHEAD\u001b[m\u001b[33m -> \u001b[m\u001b[1;32mmaster\u001b[m\u001b[33m)\u001b[m\n",
      "Author: Helio Macedo Filho <heliomacedofilho@gmail.com>\n",
      "Date:   Sat Nov 16 18:10:01 2024 -0300\n",
      "\n",
      "    primeiro snapshot: ola.txt\n"
     ]
    }
   ],
   "source": [
    "!git log"
   ]
  },
  {
   "cell_type": "markdown",
   "id": "f7579889-ca18-4446-88e1-9d44615f8540",
   "metadata": {
    "editable": true,
    "slideshow": {
     "slide_type": "subslide"
    },
    "tags": []
   },
   "source": [
    "É possível saber, com precisão, o que foi realizado em um <i>snapshot</i> com `git cat-file -p <hash>`."
   ]
  },
  {
   "cell_type": "code",
   "execution_count": 12,
   "id": "5b15e617-3723-48d4-950e-ac7847262cee",
   "metadata": {
    "editable": true,
    "slideshow": {
     "slide_type": ""
    },
    "tags": []
   },
   "outputs": [
    {
     "name": "stdout",
     "output_type": "stream",
     "text": [
      "tree c84a3f51d4462cd7a0e18fd2a172f9d72859f13a\n",
      "author Helio Macedo Filho <heliomacedofilho@gmail.com> 1731791401 -0300\n",
      "committer Helio Macedo Filho <heliomacedofilho@gmail.com> 1731791401 -0300\n",
      "\n",
      "primeiro snapshot: ola.txt\n"
     ]
    }
   ],
   "source": [
    "!git cat-file -p 071c439fdadc95b2a6c146c9bb67519f9eab9860"
   ]
  },
  {
   "cell_type": "markdown",
   "id": "7193425d-7db7-44b2-aabd-3fb6ca229ade",
   "metadata": {
    "editable": true,
    "slideshow": {
     "slide_type": "subslide"
    },
    "tags": []
   },
   "source": [
    "Veja o histórico/log de snapshots completo com `git log --all --graph --decorate`."
   ]
  },
  {
   "cell_type": "code",
   "execution_count": 13,
   "id": "759ccf08-7b40-4345-88f2-979f2de692a8",
   "metadata": {
    "editable": true,
    "slideshow": {
     "slide_type": ""
    },
    "tags": []
   },
   "outputs": [
    {
     "name": "stdout",
     "output_type": "stream",
     "text": [
      "* \u001b[33mcommit 071c439fdadc95b2a6c146c9bb67519f9eab9860\u001b[m\u001b[33m (\u001b[m\u001b[1;36mHEAD\u001b[m\u001b[33m -> \u001b[m\u001b[1;32mmaster\u001b[m\u001b[33m)\u001b[m\n",
      "  Author: Helio Macedo Filho <heliomacedofilho@gmail.com>\n",
      "  Date:   Sat Nov 16 18:10:01 2024 -0300\n",
      "  \n",
      "      primeiro snapshot: ola.txt\n"
     ]
    }
   ],
   "source": [
    "!git log --all --graph --decorate"
   ]
  },
  {
   "cell_type": "markdown",
   "id": "4a6387fc-1dd7-4ae2-9eb3-35be6769f552",
   "metadata": {
    "editable": true,
    "slideshow": {
     "slide_type": "subslide"
    },
    "tags": []
   },
   "source": [
    "Vamos modificar o arquivo ola.txt para ver a transição entre <i>snapshots</i>."
   ]
  },
  {
   "cell_type": "code",
   "execution_count": 14,
   "id": "7e2ca19e-dc71-4503-ba2d-fe68c7777591",
   "metadata": {
    "editable": true,
    "slideshow": {
     "slide_type": ""
    },
    "tags": []
   },
   "outputs": [],
   "source": [
    "!echo \"outro olá\" >> ola.txt"
   ]
  },
  {
   "cell_type": "markdown",
   "id": "6f42d063-a79f-450e-b7fb-a0bb080be4f6",
   "metadata": {
    "editable": true,
    "slideshow": {
     "slide_type": ""
    },
    "tags": []
   },
   "source": [
    "Visualize que o arquivo foi modificado."
   ]
  },
  {
   "cell_type": "code",
   "execution_count": 15,
   "id": "530f0f56-48d9-402e-ab4f-5f0c5b72826c",
   "metadata": {
    "editable": true,
    "slideshow": {
     "slide_type": ""
    },
    "tags": []
   },
   "outputs": [
    {
     "name": "stdout",
     "output_type": "stream",
     "text": [
      "olá\n",
      "outro olá\n"
     ]
    }
   ],
   "source": [
    "!cat ola.txt"
   ]
  },
  {
   "cell_type": "markdown",
   "id": "c6efbf51-ff87-4a1d-a7e1-74dfedd8afa4",
   "metadata": {
    "editable": true,
    "slideshow": {
     "slide_type": "subslide"
    },
    "tags": []
   },
   "source": [
    "🚨 Veja que não é possível consolidar a modificação em um <i>snapshot</i> sem antes colocar a modificação na <i>staging area</i> 🚨"
   ]
  },
  {
   "cell_type": "code",
   "execution_count": 16,
   "id": "23a4a9f5-c3d9-4441-bb8f-41ef577337b0",
   "metadata": {
    "editable": true,
    "slideshow": {
     "slide_type": ""
    },
    "tags": []
   },
   "outputs": [
    {
     "name": "stdout",
     "output_type": "stream",
     "text": [
      "On branch master\n",
      "Changes not staged for commit:\n",
      "  (use \"git add <file>...\" to update what will be committed)\n",
      "  (use \"git restore <file>...\" to discard changes in working directory)\n",
      "\t\u001b[31mmodified:   ola.txt\u001b[m\n",
      "\n",
      "no changes added to commit (use \"git add\" and/or \"git commit -a\")\n"
     ]
    }
   ],
   "source": [
    "!git commit"
   ]
  },
  {
   "cell_type": "markdown",
   "id": "9e9d0963-b18d-4099-9ae8-069ffc7bd8bd",
   "metadata": {
    "editable": true,
    "slideshow": {
     "slide_type": "subslide"
    },
    "tags": []
   },
   "source": [
    "Adicione o arquivo modificado na <i>staging area</i> com `git add`."
   ]
  },
  {
   "cell_type": "code",
   "execution_count": 17,
   "id": "1883ec5f-bbd8-4ebb-84bf-00a43c1cad75",
   "metadata": {
    "editable": true,
    "slideshow": {
     "slide_type": ""
    },
    "tags": []
   },
   "outputs": [],
   "source": [
    "!git add ola.txt"
   ]
  },
  {
   "cell_type": "markdown",
   "id": "05ef9f9b-fd6e-4581-84f8-5640d82eb6de",
   "metadata": {
    "editable": true,
    "slideshow": {
     "slide_type": ""
    },
    "tags": []
   },
   "source": [
    "Consolide o segundo <i>snapshot</i> com `git commit`."
   ]
  },
  {
   "cell_type": "code",
   "execution_count": 18,
   "id": "284e8b9a-4f03-4a0d-9fdb-33891a612c74",
   "metadata": {
    "editable": true,
    "slideshow": {
     "slide_type": ""
    },
    "tags": []
   },
   "outputs": [
    {
     "name": "stdout",
     "output_type": "stream",
     "text": [
      "[master 0e2aba4] segundo snapshot: ola.txt modificado\n",
      " 1 file changed, 1 insertion(+)\n"
     ]
    }
   ],
   "source": [
    "!git commit -m \"segundo snapshot: ola.txt modificado\""
   ]
  },
  {
   "cell_type": "markdown",
   "id": "3c22805f-3eb2-45ce-9923-174d50157647",
   "metadata": {
    "editable": true,
    "slideshow": {
     "slide_type": ""
    },
    "tags": []
   },
   "source": [
    "Veja, com `git status`, que o arquivo consolidado gerou um novo <i>snapshot</i>."
   ]
  },
  {
   "cell_type": "code",
   "execution_count": 19,
   "id": "834c3bf0-9149-4b92-8bf5-8ae7c0a79daa",
   "metadata": {
    "editable": true,
    "slideshow": {
     "slide_type": ""
    },
    "tags": []
   },
   "outputs": [
    {
     "name": "stdout",
     "output_type": "stream",
     "text": [
      "On branch master\n",
      "nothing to commit, working tree clean\n"
     ]
    }
   ],
   "source": [
    "!git status"
   ]
  },
  {
   "cell_type": "markdown",
   "id": "4cacee70-55c7-44ca-a930-825e54a78582",
   "metadata": {
    "editable": true,
    "slideshow": {
     "slide_type": "subslide"
    },
    "tags": []
   },
   "source": [
    "Veja o histórico/log de snapshots completo com `git log --all --graph --decorate`."
   ]
  },
  {
   "cell_type": "code",
   "execution_count": 20,
   "id": "774b371c-6cfb-48f9-ad09-5411477ba96a",
   "metadata": {
    "editable": true,
    "slideshow": {
     "slide_type": ""
    },
    "tags": []
   },
   "outputs": [
    {
     "name": "stdout",
     "output_type": "stream",
     "text": [
      "* \u001b[33mcommit 0e2aba439d2421175c32ae1655549bddcdacd1c1\u001b[m\u001b[33m (\u001b[m\u001b[1;36mHEAD\u001b[m\u001b[33m -> \u001b[m\u001b[1;32mmaster\u001b[m\u001b[33m)\u001b[m\n",
      "\u001b[31m|\u001b[m Author: Helio Macedo Filho <heliomacedofilho@gmail.com>\n",
      "\u001b[31m|\u001b[m Date:   Sat Nov 16 18:10:26 2024 -0300\n",
      "\u001b[31m|\u001b[m \n",
      "\u001b[31m|\u001b[m     segundo snapshot: ola.txt modificado\n",
      "\u001b[31m|\u001b[m \n",
      "* \u001b[33mcommit 071c439fdadc95b2a6c146c9bb67519f9eab9860\u001b[m\n",
      "  Author: Helio Macedo Filho <heliomacedofilho@gmail.com>\n",
      "  Date:   Sat Nov 16 18:10:01 2024 -0300\n",
      "  \n",
      "      primeiro snapshot: ola.txt\n"
     ]
    }
   ],
   "source": [
    "!git log --all --graph --decorate"
   ]
  },
  {
   "cell_type": "markdown",
   "id": "e84716e8-b1c1-4e35-a9d9-98d597407b2c",
   "metadata": {
    "editable": true,
    "slideshow": {
     "slide_type": "subslide"
    },
    "tags": []
   },
   "source": [
    "Veja o arquivo modificado."
   ]
  },
  {
   "cell_type": "code",
   "execution_count": 21,
   "id": "86fdc0fb-2b95-4e79-a6b6-22955bb5923a",
   "metadata": {
    "editable": true,
    "slideshow": {
     "slide_type": ""
    },
    "tags": []
   },
   "outputs": [
    {
     "name": "stdout",
     "output_type": "stream",
     "text": [
      "olá\n",
      "outro olá\n"
     ]
    }
   ],
   "source": [
    "!cat ola.txt"
   ]
  },
  {
   "cell_type": "markdown",
   "id": "9b3018f4-ddab-449d-96af-162c4984804c",
   "metadata": {
    "editable": true,
    "slideshow": {
     "slide_type": "subslide"
    },
    "tags": []
   },
   "source": [
    "Saia do <i>snapshot</i> corrente e vá para o <i>snapshot</i> anterior com `git checkout <hash>`."
   ]
  },
  {
   "cell_type": "markdown",
   "id": "7ad24a02-088a-4818-992b-876983924195",
   "metadata": {
    "editable": true,
    "slideshow": {
     "slide_type": ""
    },
    "tags": []
   },
   "source": [
    "👉 assim, veremos o arquivo <b>ola.txt</b> como estava no primeiro <i>snapshot</i>"
   ]
  },
  {
   "cell_type": "code",
   "execution_count": 22,
   "id": "900b538a-add5-4cc2-946c-c2952250085c",
   "metadata": {
    "editable": true,
    "slideshow": {
     "slide_type": ""
    },
    "tags": []
   },
   "outputs": [
    {
     "name": "stdout",
     "output_type": "stream",
     "text": [
      "Note: switching to '071c439fdadc95b2a6c146c9bb67519f9eab9860'.\n",
      "\n",
      "You are in 'detached HEAD' state. You can look around, make experimental\n",
      "changes and commit them, and you can discard any commits you make in this\n",
      "state without impacting any branches by switching back to a branch.\n",
      "\n",
      "If you want to create a new branch to retain commits you create, you may\n",
      "do so (now or later) by using -c with the switch command. Example:\n",
      "\n",
      "  git switch -c <new-branch-name>\n",
      "\n",
      "Or undo this operation with:\n",
      "\n",
      "  git switch -\n",
      "\n",
      "Turn off this advice by setting config variable advice.detachedHead to false\n",
      "\n",
      "HEAD is now at 071c439 primeiro snapshot: ola.txt\n"
     ]
    }
   ],
   "source": [
    "!git checkout 071c439fdadc95b2a6c146c9bb67519f9eab9860"
   ]
  },
  {
   "cell_type": "markdown",
   "id": "36e66bcd-058c-4a70-b3c0-6c444b20e198",
   "metadata": {
    "editable": true,
    "slideshow": {
     "slide_type": "subslide"
    },
    "tags": []
   },
   "source": [
    "🚨 Veja o arquivo sem a modificação, uma vez que voltamos para o primeiro <i>snapshot</i> 🚨"
   ]
  },
  {
   "cell_type": "code",
   "execution_count": 23,
   "id": "6f965b80-6de3-4830-b00d-1d1b301a11fa",
   "metadata": {
    "editable": true,
    "slideshow": {
     "slide_type": ""
    },
    "tags": []
   },
   "outputs": [
    {
     "name": "stdout",
     "output_type": "stream",
     "text": [
      "olá\n"
     ]
    }
   ],
   "source": [
    "!cat ola.txt"
   ]
  },
  {
   "cell_type": "markdown",
   "id": "ee344571-7cb9-4a25-9cb2-5fac02590445",
   "metadata": {
    "editable": true,
    "slideshow": {
     "slide_type": "subslide"
    },
    "tags": []
   },
   "source": [
    "Veja o histórico/log de snapshots completo com `git log --all --graph --decorate`."
   ]
  },
  {
   "cell_type": "markdown",
   "id": "db0bd67c-f207-4ea8-bacb-981ee16deca5",
   "metadata": {
    "editable": true,
    "slideshow": {
     "slide_type": ""
    },
    "tags": []
   },
   "source": [
    "👉 <b>HEAD</b> é o apontamento para o <i>snapshot</i> em que nos encontramos."
   ]
  },
  {
   "cell_type": "code",
   "execution_count": 24,
   "id": "a4e91c17-6c6e-47a1-83a9-ba57d1e9e0cc",
   "metadata": {
    "editable": true,
    "slideshow": {
     "slide_type": ""
    },
    "tags": []
   },
   "outputs": [
    {
     "name": "stdout",
     "output_type": "stream",
     "text": [
      "* \u001b[33mcommit 0e2aba439d2421175c32ae1655549bddcdacd1c1\u001b[m\u001b[33m (\u001b[m\u001b[1;32mmaster\u001b[m\u001b[33m)\u001b[m\n",
      "\u001b[31m|\u001b[m Author: Helio Macedo Filho <heliomacedofilho@gmail.com>\n",
      "\u001b[31m|\u001b[m Date:   Sat Nov 16 18:10:26 2024 -0300\n",
      "\u001b[31m|\u001b[m \n",
      "\u001b[31m|\u001b[m     segundo snapshot: ola.txt modificado\n",
      "\u001b[31m|\u001b[m \n",
      "* \u001b[33mcommit 071c439fdadc95b2a6c146c9bb67519f9eab9860\u001b[m\u001b[33m (\u001b[m\u001b[1;36mHEAD\u001b[m\u001b[33m)\u001b[m\n",
      "  Author: Helio Macedo Filho <heliomacedofilho@gmail.com>\n",
      "  Date:   Sat Nov 16 18:10:01 2024 -0300\n",
      "  \n",
      "      primeiro snapshot: ola.txt\n"
     ]
    }
   ],
   "source": [
    "!git log --all --graph --decorate"
   ]
  },
  {
   "cell_type": "markdown",
   "id": "19c2c27e-f1be-4816-9577-e7a891247923",
   "metadata": {
    "editable": true,
    "slideshow": {
     "slide_type": ""
    },
    "tags": []
   },
   "source": [
    "🚨 Repare que o HEAD (agora) aponta para o primeiro <i>snapshot</i> 🚨"
   ]
  },
  {
   "cell_type": "markdown",
   "id": "b092cc3d-0ef8-46c2-a3b0-e953cca12087",
   "metadata": {
    "editable": true,
    "slideshow": {
     "slide_type": "subslide"
    },
    "tags": []
   },
   "source": [
    "Vamos voltar para o segundo <i>snapshot</i> com `git checkout master`."
   ]
  },
  {
   "cell_type": "markdown",
   "id": "b08ca6e2-8140-4ac9-8354-465c1a5469e1",
   "metadata": {
    "editable": true,
    "slideshow": {
     "slide_type": ""
    },
    "tags": []
   },
   "source": [
    "👉 <b>master</b> é o apontamento para o <i>snapshot</i> do estado-da-arte do repositório."
   ]
  },
  {
   "cell_type": "code",
   "execution_count": 25,
   "id": "c7b0b5ce-f7e3-4ea2-9c71-3d23a730a4ca",
   "metadata": {
    "editable": true,
    "slideshow": {
     "slide_type": ""
    },
    "tags": []
   },
   "outputs": [
    {
     "name": "stdout",
     "output_type": "stream",
     "text": [
      "Previous HEAD position was 071c439 primeiro snapshot: ola.txt\n",
      "Switched to branch 'master'\n"
     ]
    }
   ],
   "source": [
    "!git checkout master"
   ]
  },
  {
   "cell_type": "markdown",
   "id": "9702b891-ec07-4bcf-b661-926bf8b234bc",
   "metadata": {
    "editable": true,
    "slideshow": {
     "slide_type": ""
    },
    "tags": []
   },
   "source": [
    "🚨 Veja que o arquivo voltou a ser modificado 🚨"
   ]
  },
  {
   "cell_type": "code",
   "execution_count": 26,
   "id": "7c3633a1-1882-4190-a4ea-98f31c727014",
   "metadata": {
    "editable": true,
    "slideshow": {
     "slide_type": ""
    },
    "tags": []
   },
   "outputs": [
    {
     "name": "stdout",
     "output_type": "stream",
     "text": [
      "olá\n",
      "outro olá\n"
     ]
    }
   ],
   "source": [
    "!cat ola.txt"
   ]
  },
  {
   "cell_type": "markdown",
   "id": "009f5fb7-fad2-4e11-b6d0-85abb0ba9ea8",
   "metadata": {
    "editable": true,
    "slideshow": {
     "slide_type": ""
    },
    "tags": []
   },
   "source": [
    "🚨 cuidado ao mudar de <i>snapshot</i> porque você pode perder suas modificações 🚨"
   ]
  },
  {
   "cell_type": "markdown",
   "id": "5994a989-f756-456c-82b2-e7920dd0b233",
   "metadata": {
    "editable": true,
    "slideshow": {
     "slide_type": ""
    },
    "tags": []
   },
   "source": [
    "Vamos realizar uma segunda modificação no arquivo."
   ]
  },
  {
   "cell_type": "code",
   "execution_count": 27,
   "id": "f4b59b31-2a0d-4f3a-8a86-668d7daafd2a",
   "metadata": {
    "editable": true,
    "slideshow": {
     "slide_type": ""
    },
    "tags": []
   },
   "outputs": [],
   "source": [
    "!echo \"mais olá\" >> ola.txt"
   ]
  },
  {
   "cell_type": "markdown",
   "id": "de35a30d-03a6-49fd-9d81-6e95ccb8cf7c",
   "metadata": {
    "editable": true,
    "slideshow": {
     "slide_type": ""
    },
    "tags": []
   },
   "source": [
    "Veja o conteúdo do arquivo."
   ]
  },
  {
   "cell_type": "code",
   "execution_count": 28,
   "id": "26c0e3b3-00bb-40e6-b0d6-5e19141b701a",
   "metadata": {
    "editable": true,
    "slideshow": {
     "slide_type": ""
    },
    "tags": []
   },
   "outputs": [
    {
     "name": "stdout",
     "output_type": "stream",
     "text": [
      "olá\n",
      "outro olá\n",
      "mais olá\n"
     ]
    }
   ],
   "source": [
    "!cat ola.txt"
   ]
  },
  {
   "cell_type": "markdown",
   "id": "2ef81f3f-df2d-4572-b8c9-bdf82a117718",
   "metadata": {
    "editable": true,
    "slideshow": {
     "slide_type": "subslide"
    },
    "tags": []
   },
   "source": [
    "Você pode descartar as modificações do arquivo ao realizar um `git checkout <arquivo>`."
   ]
  },
  {
   "cell_type": "code",
   "execution_count": 29,
   "id": "02d976bd-26e0-498a-9803-8bc12d55d350",
   "metadata": {
    "editable": true,
    "slideshow": {
     "slide_type": ""
    },
    "tags": []
   },
   "outputs": [
    {
     "name": "stdout",
     "output_type": "stream",
     "text": [
      "Updated 1 path from the index\n"
     ]
    }
   ],
   "source": [
    "!git checkout ola.txt"
   ]
  },
  {
   "cell_type": "markdown",
   "id": "faadeff6-889f-4bb1-81a2-dcf02f8f2124",
   "metadata": {
    "editable": true,
    "slideshow": {
     "slide_type": ""
    },
    "tags": []
   },
   "source": [
    "Veja o conteúdo do arquivo (com as modificações descartadas)."
   ]
  },
  {
   "cell_type": "code",
   "execution_count": 30,
   "id": "a99ecb4d-c868-4db4-8012-9db772285e67",
   "metadata": {
    "editable": true,
    "slideshow": {
     "slide_type": ""
    },
    "tags": []
   },
   "outputs": [
    {
     "name": "stdout",
     "output_type": "stream",
     "text": [
      "olá\n",
      "outro olá\n"
     ]
    }
   ],
   "source": [
    "!cat ola.txt"
   ]
  },
  {
   "cell_type": "markdown",
   "id": "33b7fe2e-fbad-435e-a124-9c0e53579a0d",
   "metadata": {
    "editable": true,
    "slideshow": {
     "slide_type": "slide"
    },
    "tags": []
   },
   "source": [
    "## Mudanças entre Versões<br />(<i>git diff</i>)"
   ]
  },
  {
   "cell_type": "markdown",
   "id": "f6b2c7dc-060f-42f9-bfb7-d576611739b9",
   "metadata": {
    "editable": true,
    "slideshow": {
     "slide_type": ""
    },
    "tags": []
   },
   "source": [
    "É possível verificar as modificações do arquivo entre o <i>snapshot</i> corrente e outro <i>snapshot</i> $X$ com `git diff <hash X> <arquivo>`."
   ]
  },
  {
   "cell_type": "code",
   "execution_count": 31,
   "id": "70f945d5-4804-40e2-95f9-a0abae9714c4",
   "metadata": {
    "editable": true,
    "slideshow": {
     "slide_type": ""
    },
    "tags": []
   },
   "outputs": [
    {
     "name": "stdout",
     "output_type": "stream",
     "text": [
      "\u001b[1mdiff --git a/ola.txt b/ola.txt\u001b[m\n",
      "\u001b[1mindex b30aa6d..10bdbae 100644\u001b[m\n",
      "\u001b[1m--- a/ola.txt\u001b[m\n",
      "\u001b[1m+++ b/ola.txt\u001b[m\n",
      "\u001b[36m@@ -1 +1,2 @@\u001b[m\n",
      " olá\u001b[m\n",
      "\u001b[32m+\u001b[m\u001b[32moutro olá\u001b[m\n"
     ]
    }
   ],
   "source": [
    "!git diff 071c439fdadc95b2a6c146c9bb67519f9eab9860 ola.txt"
   ]
  },
  {
   "cell_type": "markdown",
   "id": "9d59ece9-fd27-4769-a373-94479a4aa23d",
   "metadata": {
    "editable": true,
    "slideshow": {
     "slide_type": "subslide"
    },
    "tags": []
   },
   "source": [
    "Similarmente, é possível verificar as modificações do arquivo entre o <i>snapshot $X$</i> e outro <i>snapshot $Y$</i> com `git diff <hash X> <hash_Y> <arquivo>`."
   ]
  },
  {
   "cell_type": "code",
   "execution_count": 32,
   "id": "135361a9-7632-4a89-9be4-5bef185228f8",
   "metadata": {
    "editable": true,
    "slideshow": {
     "slide_type": ""
    },
    "tags": []
   },
   "outputs": [
    {
     "name": "stdout",
     "output_type": "stream",
     "text": [
      "\u001b[1mdiff --git a/ola.txt b/ola.txt\u001b[m\n",
      "\u001b[1mindex b30aa6d..10bdbae 100644\u001b[m\n",
      "\u001b[1m--- a/ola.txt\u001b[m\n",
      "\u001b[1m+++ b/ola.txt\u001b[m\n",
      "\u001b[36m@@ -1 +1,2 @@\u001b[m\n",
      " olá\u001b[m\n",
      "\u001b[32m+\u001b[m\u001b[32moutro olá\u001b[m\n"
     ]
    }
   ],
   "source": [
    "!git diff 071c439fdadc95b2a6c146c9bb67519f9eab9860 0e2aba439d2421175c32ae1655549bddcdacd1c1 ola.txt"
   ]
  },
  {
   "cell_type": "markdown",
   "id": "e4cefac5-c1d8-4f6e-9e26-2ce3ad2ae6a6",
   "metadata": {
    "editable": true,
    "slideshow": {
     "slide_type": "slide"
    },
    "tags": []
   },
   "source": [
    "## Desenvolvendo Funcionalidades em Paralelo<br />(<i>git branch</i>) - <i>Branch</i> MBA"
   ]
  },
  {
   "cell_type": "markdown",
   "id": "1774eae6-23ef-4045-b4ae-2e015462f4e3",
   "metadata": {
    "editable": true,
    "slideshow": {
     "slide_type": ""
    },
    "tags": []
   },
   "source": [
    "Vamos criar um arquivo em python chamado MBA.py."
   ]
  },
  {
   "cell_type": "code",
   "execution_count": 33,
   "id": "7903412d-f132-42c4-b5d8-60fb70ade0ee",
   "metadata": {
    "editable": true,
    "slideshow": {
     "slide_type": ""
    },
    "tags": []
   },
   "outputs": [],
   "source": [
    "!echo \"print('MBA')\" > MBA.py"
   ]
  },
  {
   "cell_type": "markdown",
   "id": "dd9225b6-f538-457c-ac9d-6814604c036d",
   "metadata": {
    "editable": true,
    "slideshow": {
     "slide_type": ""
    },
    "tags": []
   },
   "source": [
    "Vamos executá-lo para vê-lo funcionando."
   ]
  },
  {
   "cell_type": "code",
   "execution_count": 34,
   "id": "20a56489-50e8-4b69-9f7a-f5defd072d3d",
   "metadata": {
    "editable": true,
    "slideshow": {
     "slide_type": ""
    },
    "tags": []
   },
   "outputs": [
    {
     "name": "stdout",
     "output_type": "stream",
     "text": [
      "MBA\n"
     ]
    }
   ],
   "source": [
    "!python MBA.py"
   ]
  },
  {
   "cell_type": "markdown",
   "id": "95640aba-a43c-4389-b5bb-6805a0c39615",
   "metadata": {
    "editable": true,
    "slideshow": {
     "slide_type": "subslide"
    },
    "tags": []
   },
   "source": [
    "Adicione o arquivo na <i>staging area</i> com `git add <arquivo>`."
   ]
  },
  {
   "cell_type": "code",
   "execution_count": 35,
   "id": "40602b51-9751-4c1e-957a-78b82fe1b9f7",
   "metadata": {
    "editable": true,
    "slideshow": {
     "slide_type": ""
    },
    "tags": []
   },
   "outputs": [],
   "source": [
    "!git add MBA.py"
   ]
  },
  {
   "cell_type": "markdown",
   "id": "d5c55799-9d9c-4341-beda-057d62c787c6",
   "metadata": {
    "editable": true,
    "slideshow": {
     "slide_type": ""
    },
    "tags": []
   },
   "source": [
    "Consolide as modificações em um novo <i>snapshot</i> com `git commit`."
   ]
  },
  {
   "cell_type": "code",
   "execution_count": 36,
   "id": "c3d2ec34-0a6a-420c-80d4-a604fd6a88c4",
   "metadata": {
    "editable": true,
    "slideshow": {
     "slide_type": ""
    },
    "tags": []
   },
   "outputs": [
    {
     "name": "stdout",
     "output_type": "stream",
     "text": [
      "[master 6baf36e] terceiro snapshot: MBA.py\n",
      " 1 file changed, 1 insertion(+)\n",
      " create mode 100644 MBA.py\n"
     ]
    }
   ],
   "source": [
    "!git commit -m \"terceiro snapshot: MBA.py\""
   ]
  },
  {
   "cell_type": "markdown",
   "id": "9fc0adc9-485f-4215-949c-de2b439f1607",
   "metadata": {
    "editable": true,
    "slideshow": {
     "slide_type": "subslide"
    },
    "tags": []
   },
   "source": [
    "Veja o histórico/log de snapshots completo com `git log --all --graph --decorate`"
   ]
  },
  {
   "cell_type": "code",
   "execution_count": 37,
   "id": "58cff374-d1e4-4478-beed-cac45946df34",
   "metadata": {
    "editable": true,
    "slideshow": {
     "slide_type": ""
    },
    "tags": []
   },
   "outputs": [
    {
     "name": "stdout",
     "output_type": "stream",
     "text": [
      "* \u001b[33mcommit 6baf36e36737b2c0c00cf7cf7c4a9275708f943d\u001b[m\u001b[33m (\u001b[m\u001b[1;36mHEAD\u001b[m\u001b[33m -> \u001b[m\u001b[1;32mmaster\u001b[m\u001b[33m)\u001b[m\n",
      "\u001b[31m|\u001b[m Author: Helio Macedo Filho <heliomacedofilho@gmail.com>\n",
      "\u001b[31m|\u001b[m Date:   Sat Nov 16 18:11:20 2024 -0300\n",
      "\u001b[31m|\u001b[m \n",
      "\u001b[31m|\u001b[m     terceiro snapshot: MBA.py\n",
      "\u001b[31m|\u001b[m \n",
      "* \u001b[33mcommit 0e2aba439d2421175c32ae1655549bddcdacd1c1\u001b[m\n",
      "\u001b[31m|\u001b[m Author: Helio Macedo Filho <heliomacedofilho@gmail.com>\n",
      "\u001b[31m|\u001b[m Date:   Sat Nov 16 18:10:26 2024 -0300\n",
      "\u001b[31m|\u001b[m \n",
      "\u001b[31m|\u001b[m     segundo snapshot: ola.txt modificado\n",
      "\u001b[31m|\u001b[m \n",
      "* \u001b[33mcommit 071c439fdadc95b2a6c146c9bb67519f9eab9860\u001b[m\n",
      "  Author: Helio Macedo Filho <heliomacedofilho@gmail.com>\n",
      "  Date:   Sat Nov 16 18:10:01 2024 -0300\n",
      "  \n",
      "      primeiro snapshot: ola.txt\n"
     ]
    }
   ],
   "source": [
    "!git log --all --graph --decorate"
   ]
  },
  {
   "cell_type": "markdown",
   "id": "06333540-c74a-4274-98c0-4f7ac8108232",
   "metadata": {
    "editable": true,
    "slideshow": {
     "slide_type": "subslide"
    },
    "tags": []
   },
   "source": [
    "Vamos listar os <i>branches</i> com `git branch`."
   ]
  },
  {
   "cell_type": "code",
   "execution_count": 38,
   "id": "67088462-41b9-4a73-8a82-ea41406630f5",
   "metadata": {
    "editable": true,
    "slideshow": {
     "slide_type": ""
    },
    "tags": []
   },
   "outputs": [
    {
     "name": "stdout",
     "output_type": "stream",
     "text": [
      "* \u001b[32mmaster\u001b[m\n"
     ]
    }
   ],
   "source": [
    "!git branch"
   ]
  },
  {
   "cell_type": "markdown",
   "id": "f60cd6cf-b23d-40a4-a46a-019663d90126",
   "metadata": {
    "editable": true,
    "slideshow": {
     "slide_type": ""
    },
    "tags": []
   },
   "source": [
    "👉 dica: se precisar de mais informações, use o parâmetro vv (`git branch -vv`)."
   ]
  },
  {
   "cell_type": "code",
   "execution_count": 39,
   "id": "899513c7-f27d-43d4-b93e-1dc1f9d2de3a",
   "metadata": {
    "editable": true,
    "slideshow": {
     "slide_type": ""
    },
    "tags": []
   },
   "outputs": [
    {
     "name": "stdout",
     "output_type": "stream",
     "text": [
      "* \u001b[32mmaster\u001b[m 6baf36e terceiro snapshot: MBA.py\n"
     ]
    }
   ],
   "source": [
    "!git branch -vv"
   ]
  },
  {
   "cell_type": "markdown",
   "id": "ffc0b24b-0a96-4071-83fe-d762299cb7eb",
   "metadata": {
    "editable": true,
    "slideshow": {
     "slide_type": "subslide"
    },
    "tags": []
   },
   "source": [
    "Vamos criar, com `git branch <nome>`, um <i>branch</i> de nome <b>MBA</b> que indicará o <i>snapshot</i> em que esse código começou a ser desenvolvido."
   ]
  },
  {
   "cell_type": "code",
   "execution_count": 40,
   "id": "c111476a-f30b-4ceb-a690-e1f20f91acd6",
   "metadata": {
    "editable": true,
    "slideshow": {
     "slide_type": ""
    },
    "tags": []
   },
   "outputs": [],
   "source": [
    "!git branch MBA"
   ]
  },
  {
   "cell_type": "markdown",
   "id": "77be1423-90ba-42d9-a399-60077b12b9c0",
   "metadata": {
    "editable": true,
    "slideshow": {
     "slide_type": ""
    },
    "tags": []
   },
   "source": [
    "Vamos listar os <i>branches</i> com `git branch` em mais detalhes."
   ]
  },
  {
   "cell_type": "code",
   "execution_count": 41,
   "id": "30ffcf07-891e-4d4c-9c82-266e3e3baba5",
   "metadata": {
    "editable": true,
    "slideshow": {
     "slide_type": ""
    },
    "tags": []
   },
   "outputs": [
    {
     "name": "stdout",
     "output_type": "stream",
     "text": [
      "  MBA   \u001b[m 6baf36e terceiro snapshot: MBA.py\n",
      "* \u001b[32mmaster\u001b[m 6baf36e terceiro snapshot: MBA.py\n"
     ]
    }
   ],
   "source": [
    "!git branch -vv"
   ]
  },
  {
   "cell_type": "markdown",
   "id": "3b19d2f4-ddc0-4de0-bf03-5766271cb13f",
   "metadata": {
    "editable": true,
    "slideshow": {
     "slide_type": "subslide"
    },
    "tags": []
   },
   "source": [
    "Veja o histórico/log de <i>snapshots</i> completo com `git log --all --graph --decorate`."
   ]
  },
  {
   "cell_type": "code",
   "execution_count": 42,
   "id": "ef7ff47e-7274-4347-8c43-426ecf219d9f",
   "metadata": {
    "editable": true,
    "slideshow": {
     "slide_type": ""
    },
    "tags": []
   },
   "outputs": [
    {
     "name": "stdout",
     "output_type": "stream",
     "text": [
      "* \u001b[33mcommit 6baf36e36737b2c0c00cf7cf7c4a9275708f943d\u001b[m\u001b[33m (\u001b[m\u001b[1;36mHEAD\u001b[m\u001b[33m -> \u001b[m\u001b[1;32mmaster\u001b[m\u001b[33m, \u001b[m\u001b[1;32mMBA\u001b[m\u001b[33m)\u001b[m\n",
      "\u001b[31m|\u001b[m Author: Helio Macedo Filho <heliomacedofilho@gmail.com>\n",
      "\u001b[31m|\u001b[m Date:   Sat Nov 16 18:11:20 2024 -0300\n",
      "\u001b[31m|\u001b[m \n",
      "\u001b[31m|\u001b[m     terceiro snapshot: MBA.py\n",
      "\u001b[31m|\u001b[m \n",
      "* \u001b[33mcommit 0e2aba439d2421175c32ae1655549bddcdacd1c1\u001b[m\n",
      "\u001b[31m|\u001b[m Author: Helio Macedo Filho <heliomacedofilho@gmail.com>\n",
      "\u001b[31m|\u001b[m Date:   Sat Nov 16 18:10:26 2024 -0300\n",
      "\u001b[31m|\u001b[m \n",
      "\u001b[31m|\u001b[m     segundo snapshot: ola.txt modificado\n",
      "\u001b[31m|\u001b[m \n",
      "* \u001b[33mcommit 071c439fdadc95b2a6c146c9bb67519f9eab9860\u001b[m\n",
      "  Author: Helio Macedo Filho <heliomacedofilho@gmail.com>\n",
      "  Date:   Sat Nov 16 18:10:01 2024 -0300\n",
      "  \n",
      "      primeiro snapshot: ola.txt\n"
     ]
    }
   ],
   "source": [
    "!git log --all --graph --decorate"
   ]
  },
  {
   "cell_type": "markdown",
   "id": "0c6ba938-2c92-4aa7-9cce-e91b75aec6e5",
   "metadata": {
    "editable": true,
    "slideshow": {
     "slide_type": "subslide"
    },
    "tags": []
   },
   "source": [
    "Vamos mudar do <i>branch</i> <b>master</b> para o <i>branch</i> <b>MBA</b> com `git checkout <nome>`."
   ]
  },
  {
   "cell_type": "code",
   "execution_count": 43,
   "id": "5cea0b32-1292-4941-ad91-fb729f88f988",
   "metadata": {
    "editable": true,
    "slideshow": {
     "slide_type": ""
    },
    "tags": []
   },
   "outputs": [
    {
     "name": "stdout",
     "output_type": "stream",
     "text": [
      "Switched to branch 'MBA'\n"
     ]
    }
   ],
   "source": [
    "!git checkout MBA"
   ]
  },
  {
   "cell_type": "markdown",
   "id": "89b5ea43-70ab-4ced-a58f-7def68b5818a",
   "metadata": {
    "editable": true,
    "slideshow": {
     "slide_type": "subslide"
    },
    "tags": []
   },
   "source": [
    "🚨 Agora, veja que a seta do <b>HEAD</b> aponta para <b>MBA</b> e não mais para o <b>master</b> 🚨"
   ]
  },
  {
   "cell_type": "code",
   "execution_count": 44,
   "id": "e9f8f474-de71-47b1-890d-44ed7c7e8d9c",
   "metadata": {
    "editable": true,
    "slideshow": {
     "slide_type": ""
    },
    "tags": []
   },
   "outputs": [
    {
     "name": "stdout",
     "output_type": "stream",
     "text": [
      "* \u001b[33mcommit 6baf36e36737b2c0c00cf7cf7c4a9275708f943d\u001b[m\u001b[33m (\u001b[m\u001b[1;36mHEAD\u001b[m\u001b[33m -> \u001b[m\u001b[1;32mMBA\u001b[m\u001b[33m, \u001b[m\u001b[1;32mmaster\u001b[m\u001b[33m)\u001b[m\n",
      "\u001b[31m|\u001b[m Author: Helio Macedo Filho <heliomacedofilho@gmail.com>\n",
      "\u001b[31m|\u001b[m Date:   Sat Nov 16 18:11:20 2024 -0300\n",
      "\u001b[31m|\u001b[m \n",
      "\u001b[31m|\u001b[m     terceiro snapshot: MBA.py\n",
      "\u001b[31m|\u001b[m \n",
      "* \u001b[33mcommit 0e2aba439d2421175c32ae1655549bddcdacd1c1\u001b[m\n",
      "\u001b[31m|\u001b[m Author: Helio Macedo Filho <heliomacedofilho@gmail.com>\n",
      "\u001b[31m|\u001b[m Date:   Sat Nov 16 18:10:26 2024 -0300\n",
      "\u001b[31m|\u001b[m \n",
      "\u001b[31m|\u001b[m     segundo snapshot: ola.txt modificado\n",
      "\u001b[31m|\u001b[m \n",
      "* \u001b[33mcommit 071c439fdadc95b2a6c146c9bb67519f9eab9860\u001b[m\n",
      "  Author: Helio Macedo Filho <heliomacedofilho@gmail.com>\n",
      "  Date:   Sat Nov 16 18:10:01 2024 -0300\n",
      "  \n",
      "      primeiro snapshot: ola.txt\n"
     ]
    }
   ],
   "source": [
    "!git log --all --graph --decorate"
   ]
  },
  {
   "cell_type": "markdown",
   "id": "f78aa237-963a-433f-a02a-63c1837ab25b",
   "metadata": {
    "editable": true,
    "slideshow": {
     "slide_type": "subslide"
    },
    "tags": []
   },
   "source": [
    "Vamos modificar nosso MBA.py, simulando que estamos evoluindo o código fonte."
   ]
  },
  {
   "cell_type": "code",
   "execution_count": 45,
   "id": "9b628d3b-de7f-418f-b64d-d95e0b2fd745",
   "metadata": {
    "editable": true,
    "slideshow": {
     "slide_type": ""
    },
    "tags": []
   },
   "outputs": [],
   "source": [
    "!echo \"print('mais MBA')\" >> MBA.py"
   ]
  },
  {
   "cell_type": "markdown",
   "id": "cfb0aee5-8b8f-4288-947d-6641bb0f0a79",
   "metadata": {
    "editable": true,
    "slideshow": {
     "slide_type": ""
    },
    "tags": []
   },
   "source": [
    "Adicione a modificação ao código do MBA.py ao <i>staging area</i> com `git add`."
   ]
  },
  {
   "cell_type": "code",
   "execution_count": 46,
   "id": "e3eebf9f-cac5-45a4-ada8-a3ddb212db40",
   "metadata": {
    "editable": true,
    "slideshow": {
     "slide_type": ""
    },
    "tags": []
   },
   "outputs": [],
   "source": [
    "!git add MBA.py"
   ]
  },
  {
   "cell_type": "markdown",
   "id": "f5ee04b9-87e5-45a1-95ec-442ec52a9343",
   "metadata": {
    "editable": true,
    "slideshow": {
     "slide_type": ""
    },
    "tags": []
   },
   "source": [
    "Consolide a modificação a um novo <i>snapshot</i> com `git commit`."
   ]
  },
  {
   "cell_type": "code",
   "execution_count": 47,
   "id": "6dc30a7f-cc5d-40ba-b90c-d15497f8b967",
   "metadata": {
    "editable": true,
    "slideshow": {
     "slide_type": ""
    },
    "tags": []
   },
   "outputs": [
    {
     "name": "stdout",
     "output_type": "stream",
     "text": [
      "[MBA 1c63d21] branch paralelo: evolução MBA.py\n",
      " 1 file changed, 1 insertion(+)\n"
     ]
    }
   ],
   "source": [
    "!git commit -m \"branch paralelo: MBA.py modificado\""
   ]
  },
  {
   "cell_type": "markdown",
   "id": "7887dbff-d341-4f2d-8969-21f0cdab947b",
   "metadata": {
    "editable": true,
    "slideshow": {
     "slide_type": "subslide"
    },
    "tags": []
   },
   "source": [
    "Agora, veja que a seta do <b>HEAD</b> continua apontando para <b>MBA</b> e foi criado um novo <i>snapshot</i> para o <b>MBA</b> e não para o <b>master</b>."
   ]
  },
  {
   "cell_type": "code",
   "execution_count": 48,
   "id": "9bea691b-bf22-4c77-8ecf-2f966d0a16f5",
   "metadata": {
    "editable": true,
    "slideshow": {
     "slide_type": ""
    },
    "tags": []
   },
   "outputs": [
    {
     "name": "stdout",
     "output_type": "stream",
     "text": [
      "* \u001b[33mcommit 1c63d21dc09fe5b90c8609bda8e3af033f719f45\u001b[m\u001b[33m (\u001b[m\u001b[1;36mHEAD\u001b[m\u001b[33m -> \u001b[m\u001b[1;32mMBA\u001b[m\u001b[33m)\u001b[m\n",
      "\u001b[31m|\u001b[m Author: Helio Macedo Filho <heliomacedofilho@gmail.com>\n",
      "\u001b[31m|\u001b[m Date:   Sat Nov 16 18:11:39 2024 -0300\n",
      "\u001b[31m|\u001b[m \n",
      "\u001b[31m|\u001b[m     branch paralelo: evolução MBA.py\n",
      "\u001b[31m|\u001b[m \n",
      "* \u001b[33mcommit 6baf36e36737b2c0c00cf7cf7c4a9275708f943d\u001b[m\u001b[33m (\u001b[m\u001b[1;32mmaster\u001b[m\u001b[33m)\u001b[m\n",
      "\u001b[31m|\u001b[m Author: Helio Macedo Filho <heliomacedofilho@gmail.com>\n",
      "\u001b[31m|\u001b[m Date:   Sat Nov 16 18:11:20 2024 -0300\n",
      "\u001b[31m|\u001b[m \n",
      "\u001b[31m|\u001b[m     terceiro snapshot: MBA.py\n",
      "\u001b[31m|\u001b[m \n",
      "* \u001b[33mcommit 0e2aba439d2421175c32ae1655549bddcdacd1c1\u001b[m\n",
      "\u001b[31m|\u001b[m Author: Helio Macedo Filho <heliomacedofilho@gmail.com>\n",
      "\u001b[31m|\u001b[m Date:   Sat Nov 16 18:10:26 2024 -0300\n",
      "\u001b[31m|\u001b[m \n",
      "\u001b[31m|\u001b[m     segundo snapshot: ola.txt modificado\n",
      "\u001b[31m|\u001b[m \n",
      "* \u001b[33mcommit 071c439fdadc95b2a6c146c9bb67519f9eab9860\u001b[m\n",
      "  Author: Helio Macedo Filho <heliomacedofilho@gmail.com>\n",
      "  Date:   Sat Nov 16 18:10:01 2024 -0300\n",
      "  \n",
      "      primeiro snapshot: ola.txt\n"
     ]
    }
   ],
   "source": [
    "!git log --all --graph --decorate"
   ]
  },
  {
   "cell_type": "markdown",
   "id": "8742c5c9-6d54-4a61-bdac-bfff67b7d332",
   "metadata": {
    "editable": true,
    "slideshow": {
     "slide_type": "slide"
    },
    "tags": []
   },
   "source": [
    "## Desenvolvendo Funcionalidades em Paralelo<br />(<i>git branch</i>) - <i>Branch</i> Bootcamp"
   ]
  },
  {
   "cell_type": "markdown",
   "id": "465a7b70-9062-4e02-a190-8a81d798863a",
   "metadata": {
    "editable": true,
    "slideshow": {
     "slide_type": ""
    },
    "tags": []
   },
   "source": [
    "Vamos para o <i>snapshot</i> anterior ao <i>snapshot</i> da criação do MBA.py com `git checkout <hash>`."
   ]
  },
  {
   "cell_type": "code",
   "execution_count": 50,
   "id": "5db95892-861d-43c2-b1ca-f1adb76fb26d",
   "metadata": {
    "editable": true,
    "slideshow": {
     "slide_type": ""
    },
    "tags": []
   },
   "outputs": [
    {
     "name": "stdout",
     "output_type": "stream",
     "text": [
      "Note: switching to '6baf36e36737b2c0c00cf7cf7c4a9275708f943d'.\n",
      "\n",
      "You are in 'detached HEAD' state. You can look around, make experimental\n",
      "changes and commit them, and you can discard any commits you make in this\n",
      "state without impacting any branches by switching back to a branch.\n",
      "\n",
      "If you want to create a new branch to retain commits you create, you may\n",
      "do so (now or later) by using -c with the switch command. Example:\n",
      "\n",
      "  git switch -c <new-branch-name>\n",
      "\n",
      "Or undo this operation with:\n",
      "\n",
      "  git switch -\n",
      "\n",
      "Turn off this advice by setting config variable advice.detachedHead to false\n",
      "\n",
      "HEAD is now at 6baf36e terceiro snapshot: MBA.py\n"
     ]
    }
   ],
   "source": [
    "!git checkout 6baf36e36737b2c0c00cf7cf7c4a9275708f943d"
   ]
  },
  {
   "cell_type": "markdown",
   "id": "75a94aa4-fdc5-4986-aeef-ba10ffa1acd8",
   "metadata": {
    "editable": true,
    "slideshow": {
     "slide_type": "subslide"
    },
    "tags": []
   },
   "source": [
    "Nos certificaremos que estamos no <i>snapshot</i> certo ao listar os arquivos e encontrar o <b>MBA.py</b> em sua primeira versão."
   ]
  },
  {
   "cell_type": "code",
   "execution_count": 77,
   "id": "80e6c453-b324-40ec-8763-7f7ed31ec422",
   "metadata": {
    "editable": true,
    "slideshow": {
     "slide_type": ""
    },
    "tags": []
   },
   "outputs": [
    {
     "name": "stdout",
     "output_type": "stream",
     "text": [
      "MBA.py\n"
     ]
    }
   ],
   "source": [
    "!ls MBA.py"
   ]
  },
  {
   "cell_type": "code",
   "execution_count": 78,
   "id": "964653a2-605c-4ad2-a237-c0ec6618f5e6",
   "metadata": {
    "editable": true,
    "slideshow": {
     "slide_type": ""
    },
    "tags": []
   },
   "outputs": [
    {
     "name": "stdout",
     "output_type": "stream",
     "text": [
      "print('MBA')\n",
      "print('mais MBA')\n"
     ]
    }
   ],
   "source": [
    "!cat MBA.py"
   ]
  },
  {
   "cell_type": "markdown",
   "id": "ae5a03f6-218b-451d-b6ae-045c6eaf6fa5",
   "metadata": {
    "editable": true,
    "slideshow": {
     "slide_type": "subslide"
    },
    "tags": []
   },
   "source": [
    "Vamos criar um arquivo em python chamado <b>bootcamp.py</b>."
   ]
  },
  {
   "cell_type": "code",
   "execution_count": 52,
   "id": "5fea447e-a9cd-4856-9a80-55c6c276370f",
   "metadata": {
    "editable": true,
    "slideshow": {
     "slide_type": ""
    },
    "tags": []
   },
   "outputs": [],
   "source": [
    "!echo \"print('bootcamp')\" > bootcamp.py"
   ]
  },
  {
   "cell_type": "markdown",
   "id": "5e3f9963-42d4-4236-8925-56f258f469dd",
   "metadata": {
    "editable": true,
    "slideshow": {
     "slide_type": ""
    },
    "tags": []
   },
   "source": [
    "Adicione o arquivo na <i>staging area</i> com `git add <arquivo>`."
   ]
  },
  {
   "cell_type": "code",
   "execution_count": 53,
   "id": "5e33263e-f51f-42f6-99df-00a1ca17aab3",
   "metadata": {
    "editable": true,
    "slideshow": {
     "slide_type": ""
    },
    "tags": []
   },
   "outputs": [],
   "source": [
    "!git add bootcamp.py"
   ]
  },
  {
   "cell_type": "markdown",
   "id": "2f102825-b204-4a55-99ae-962ca8440390",
   "metadata": {
    "editable": true,
    "slideshow": {
     "slide_type": ""
    },
    "tags": []
   },
   "source": [
    "Consolide as modificações em um novo <i>snapshot</i> com `git commit`."
   ]
  },
  {
   "cell_type": "code",
   "execution_count": 54,
   "id": "3d43dd1b-3545-4548-a935-cf86c0b10a4b",
   "metadata": {
    "editable": true,
    "slideshow": {
     "slide_type": ""
    },
    "tags": []
   },
   "outputs": [
    {
     "name": "stdout",
     "output_type": "stream",
     "text": [
      "[detached HEAD 2430329] branch paralelo: bootcamp.py\n",
      " 1 file changed, 1 insertion(+)\n",
      " create mode 100644 bootcamp.py\n"
     ]
    }
   ],
   "source": [
    "!git commit -m \"branch paralelo: bootcamp.py\""
   ]
  },
  {
   "cell_type": "markdown",
   "id": "50b3b7f0-1b53-443c-ad01-820dbf1ba564",
   "metadata": {
    "editable": true,
    "slideshow": {
     "slide_type": "subslide"
    },
    "tags": []
   },
   "source": [
    "Veja o histórico/log de snapshots completo com `git log --all --graph --decorate --oneline`."
   ]
  },
  {
   "cell_type": "markdown",
   "id": "e28f5849-5513-4e82-b7af-73d0ee24fb74",
   "metadata": {
    "editable": true,
    "slideshow": {
     "slide_type": ""
    },
    "tags": []
   },
   "source": [
    "👉 adicionamos o parâmetro `--oneline` para ficar menos poluído."
   ]
  },
  {
   "cell_type": "code",
   "execution_count": 55,
   "id": "87c67cd2-17cc-4cb0-9e66-82ec2ac8a615",
   "metadata": {
    "editable": true,
    "slideshow": {
     "slide_type": ""
    },
    "tags": []
   },
   "outputs": [
    {
     "name": "stdout",
     "output_type": "stream",
     "text": [
      "* \u001b[33m2430329\u001b[m\u001b[33m (\u001b[m\u001b[1;36mHEAD\u001b[m\u001b[33m)\u001b[m branch paralelo: bootcamp.py\n",
      "\u001b[31m|\u001b[m * \u001b[33m1c63d21\u001b[m\u001b[33m (\u001b[m\u001b[1;32mMBA\u001b[m\u001b[33m)\u001b[m branch paralelo: evolução MBA.py\n",
      "\u001b[31m|\u001b[m\u001b[31m/\u001b[m  \n",
      "* \u001b[33m6baf36e\u001b[m\u001b[33m (\u001b[m\u001b[1;32mmaster\u001b[m\u001b[33m)\u001b[m terceiro snapshot: MBA.py\n",
      "* \u001b[33m0e2aba4\u001b[m segundo snapshot: ola.txt modificado\n",
      "* \u001b[33m071c439\u001b[m primeiro snapshot: ola.txt\n"
     ]
    }
   ],
   "source": [
    "!git log --all --graph --decorate --oneline"
   ]
  },
  {
   "cell_type": "markdown",
   "id": "4168cc30-3930-4e44-a1f0-e739b179344a",
   "metadata": {
    "editable": true,
    "slideshow": {
     "slide_type": "subslide"
    },
    "tags": []
   },
   "source": [
    "Vamos mudar do <i>snapshot</i> corrente para um novo <i>branch</i> <b>bootcamp</b> com `git checkout -b <nome>`."
   ]
  },
  {
   "cell_type": "markdown",
   "id": "9e2c8969-4ab7-40c3-8413-e3a5a0f42b53",
   "metadata": {
    "editable": true,
    "slideshow": {
     "slide_type": ""
    },
    "tags": []
   },
   "source": [
    "👉 dica: o parâmetro `-b` cria o <i>branch</i> e muda para esse <i>branch</i> concomitantemente."
   ]
  },
  {
   "cell_type": "code",
   "execution_count": 56,
   "id": "e09f0f8a-ae82-4c43-9834-181dc4bab135",
   "metadata": {
    "editable": true,
    "slideshow": {
     "slide_type": ""
    },
    "tags": []
   },
   "outputs": [
    {
     "name": "stdout",
     "output_type": "stream",
     "text": [
      "Switched to a new branch 'bootcamp'\n"
     ]
    }
   ],
   "source": [
    "!git checkout -b bootcamp"
   ]
  },
  {
   "cell_type": "markdown",
   "id": "00ecf506-37de-498f-82c1-c956b0311694",
   "metadata": {
    "editable": true,
    "slideshow": {
     "slide_type": "subslide"
    },
    "tags": []
   },
   "source": [
    "Veja o histórico/log de snapshots completo com `git log --all --graph --decorate --oneline`."
   ]
  },
  {
   "cell_type": "code",
   "execution_count": 57,
   "id": "6ae5be51-6c4d-4406-91c5-7edac8d0e90d",
   "metadata": {
    "editable": true,
    "slideshow": {
     "slide_type": ""
    },
    "tags": []
   },
   "outputs": [
    {
     "name": "stdout",
     "output_type": "stream",
     "text": [
      "* \u001b[33m2430329\u001b[m\u001b[33m (\u001b[m\u001b[1;36mHEAD\u001b[m\u001b[33m -> \u001b[m\u001b[1;32mbootcamp\u001b[m\u001b[33m)\u001b[m branch paralelo: bootcamp.py\n",
      "\u001b[31m|\u001b[m * \u001b[33m1c63d21\u001b[m\u001b[33m (\u001b[m\u001b[1;32mMBA\u001b[m\u001b[33m)\u001b[m branch paralelo: evolução MBA.py\n",
      "\u001b[31m|\u001b[m\u001b[31m/\u001b[m  \n",
      "* \u001b[33m6baf36e\u001b[m\u001b[33m (\u001b[m\u001b[1;32mmaster\u001b[m\u001b[33m)\u001b[m terceiro snapshot: MBA.py\n",
      "* \u001b[33m0e2aba4\u001b[m segundo snapshot: ola.txt modificado\n",
      "* \u001b[33m071c439\u001b[m primeiro snapshot: ola.txt\n"
     ]
    }
   ],
   "source": [
    "!git log --all --graph --decorate --oneline"
   ]
  },
  {
   "cell_type": "markdown",
   "id": "4c49eb9f-a467-46f2-9590-2b4df824f305",
   "metadata": {
    "editable": true,
    "slideshow": {
     "slide_type": "subslide"
    },
    "tags": []
   },
   "source": [
    "Vamos listar os <i>branches</i> com `git branch` em mais detalhes."
   ]
  },
  {
   "cell_type": "code",
   "execution_count": 58,
   "id": "e32cdfdc-ecc5-4ece-b51c-dc8ce479145a",
   "metadata": {
    "editable": true,
    "slideshow": {
     "slide_type": ""
    },
    "tags": []
   },
   "outputs": [
    {
     "name": "stdout",
     "output_type": "stream",
     "text": [
      "  MBA     \u001b[m 1c63d21 branch paralelo: evolução MBA.py\n",
      "* \u001b[32mbootcamp\u001b[m 2430329 branch paralelo: bootcamp.py\n",
      "  master  \u001b[m 6baf36e terceiro snapshot: MBA.py\n"
     ]
    }
   ],
   "source": [
    "!git branch -vv"
   ]
  },
  {
   "cell_type": "markdown",
   "id": "79ec9b3e-abfe-494a-9fac-cece80740a71",
   "metadata": {
    "editable": true,
    "slideshow": {
     "slide_type": "slide"
    },
    "tags": []
   },
   "source": [
    "## Mesclando Desenvolvimentos em Paralelo<br />(<i>git merge</i>) - Branches MBA + Bootcamp"
   ]
  },
  {
   "cell_type": "markdown",
   "id": "37005ea0-3d70-44c2-88bc-2ebba76663d0",
   "metadata": {
    "editable": true,
    "slideshow": {
     "slide_type": ""
    },
    "tags": []
   },
   "source": [
    "Suponha que ambos os desenvolvimentos paralelos estão maduros e precisamos incorporá-los ao <b>master</b>."
   ]
  },
  {
   "cell_type": "markdown",
   "id": "8bc4815f-af5d-48f8-b49b-73ca93e5868b",
   "metadata": {
    "editable": true,
    "slideshow": {
     "slide_type": ""
    },
    "tags": []
   },
   "source": [
    "Inicialmente, estamos no <i>branch</i> <b>bootcamp</b>."
   ]
  },
  {
   "cell_type": "code",
   "execution_count": 59,
   "id": "b006e669-d1df-4216-ad5c-9b1b9cf1d21e",
   "metadata": {
    "editable": true,
    "slideshow": {
     "slide_type": ""
    },
    "tags": []
   },
   "outputs": [
    {
     "name": "stdout",
     "output_type": "stream",
     "text": [
      "bootcamp.py\n"
     ]
    }
   ],
   "source": [
    "!ls bootcamp.py"
   ]
  },
  {
   "cell_type": "markdown",
   "id": "56bcbabd-577b-427d-bdc0-10c11d91e72f",
   "metadata": {
    "editable": true,
    "slideshow": {
     "slide_type": "subslide"
    },
    "tags": []
   },
   "source": [
    "Vamos para o <i>branch</i> <b>master</b> com `git checkout master`."
   ]
  },
  {
   "cell_type": "code",
   "execution_count": 60,
   "id": "ed67d0d4-2e51-46c6-8024-ba9a78d9c20a",
   "metadata": {
    "editable": true,
    "slideshow": {
     "slide_type": ""
    },
    "tags": []
   },
   "outputs": [
    {
     "name": "stdout",
     "output_type": "stream",
     "text": [
      "Switched to branch 'master'\n"
     ]
    }
   ],
   "source": [
    "!git checkout master"
   ]
  },
  {
   "cell_type": "markdown",
   "id": "09c7b93e-9c83-46b2-a709-7e9e717fd6ec",
   "metadata": {
    "editable": true,
    "slideshow": {
     "slide_type": ""
    },
    "tags": []
   },
   "source": [
    "Agora, verificamos que estamos no <b>master</b>, ainda com a primeira versão do MBA.py."
   ]
  },
  {
   "cell_type": "code",
   "execution_count": 61,
   "id": "5e1f59bc-a86f-4283-a6d3-8ec60a15c1f3",
   "metadata": {
    "editable": true,
    "slideshow": {
     "slide_type": ""
    },
    "tags": []
   },
   "outputs": [
    {
     "name": "stdout",
     "output_type": "stream",
     "text": [
      "MBA.py\n"
     ]
    }
   ],
   "source": [
    "!ls MBA.py"
   ]
  },
  {
   "cell_type": "code",
   "execution_count": 62,
   "id": "8d321088-e938-476b-a245-94a8cbfbbe16",
   "metadata": {
    "editable": true,
    "slideshow": {
     "slide_type": ""
    },
    "tags": []
   },
   "outputs": [
    {
     "name": "stdout",
     "output_type": "stream",
     "text": [
      "MBA\n"
     ]
    }
   ],
   "source": [
    "!python MBA.py"
   ]
  },
  {
   "cell_type": "markdown",
   "id": "fb384ad4-522e-4216-a748-071ad994946c",
   "metadata": {
    "editable": true,
    "slideshow": {
     "slide_type": "subslide"
    },
    "tags": []
   },
   "source": [
    "Vamos mesclar o <b>master</b> com o <i>branch</i> <b>MBA</b> com `git merge <branch>`."
   ]
  },
  {
   "cell_type": "code",
   "execution_count": 63,
   "id": "122cc69a-876a-489a-aa51-8662480ee623",
   "metadata": {
    "editable": true,
    "slideshow": {
     "slide_type": ""
    },
    "tags": []
   },
   "outputs": [
    {
     "name": "stdout",
     "output_type": "stream",
     "text": [
      "Updating 6baf36e..1c63d21\n",
      "Fast-forward\n",
      " MBA.py | 1 \u001b[32m+\u001b[m\n",
      " 1 file changed, 1 insertion(+)\n"
     ]
    }
   ],
   "source": [
    "!git merge MBA"
   ]
  },
  {
   "cell_type": "markdown",
   "id": "63a4f7a7-26e6-47ee-bca0-c9d3433be54b",
   "metadata": {
    "editable": true,
    "slideshow": {
     "slide_type": "subslide"
    },
    "tags": []
   },
   "source": [
    "Vamos listar os <i>branches</i> com `git branch` em mais detalhes."
   ]
  },
  {
   "cell_type": "markdown",
   "id": "3452e178-8e59-4b34-a298-3efbc4bfb89c",
   "metadata": {
    "editable": true,
    "slideshow": {
     "slide_type": ""
    },
    "tags": []
   },
   "source": [
    "👉 compare a mensagem de <i>commit</i> do <b>master</b> agora e como estava no último `git branch -vv`."
   ]
  },
  {
   "cell_type": "code",
   "execution_count": 64,
   "id": "ce8eb4c7-f593-447f-b7a6-e70d738c85b8",
   "metadata": {
    "editable": true,
    "slideshow": {
     "slide_type": ""
    },
    "tags": []
   },
   "outputs": [
    {
     "name": "stdout",
     "output_type": "stream",
     "text": [
      "  MBA     \u001b[m 1c63d21 branch paralelo: evolução MBA.py\n",
      "  bootcamp\u001b[m 2430329 branch paralelo: bootcamp.py\n",
      "* \u001b[32mmaster  \u001b[m 1c63d21 branch paralelo: evolução MBA.py\n"
     ]
    }
   ],
   "source": [
    "!git branch -vv"
   ]
  },
  {
   "cell_type": "markdown",
   "id": "43fa30f2-e16b-469b-9fbf-5b5ccde45449",
   "metadata": {
    "editable": true,
    "slideshow": {
     "slide_type": "subslide"
    },
    "tags": []
   },
   "source": [
    "Veja o histórico/log de snapshots completo com `git log --all --graph --decorate --oneline`."
   ]
  },
  {
   "cell_type": "code",
   "execution_count": 65,
   "id": "7bd9476f-0435-4e16-a245-1fa93c2e8d53",
   "metadata": {
    "editable": true,
    "slideshow": {
     "slide_type": ""
    },
    "tags": []
   },
   "outputs": [
    {
     "name": "stdout",
     "output_type": "stream",
     "text": [
      "* \u001b[33m2430329\u001b[m\u001b[33m (\u001b[m\u001b[1;32mbootcamp\u001b[m\u001b[33m)\u001b[m branch paralelo: bootcamp.py\n",
      "\u001b[31m|\u001b[m * \u001b[33m1c63d21\u001b[m\u001b[33m (\u001b[m\u001b[1;36mHEAD\u001b[m\u001b[33m -> \u001b[m\u001b[1;32mmaster\u001b[m\u001b[33m, \u001b[m\u001b[1;32mMBA\u001b[m\u001b[33m)\u001b[m branch paralelo: evolução MBA.py\n",
      "\u001b[31m|\u001b[m\u001b[31m/\u001b[m  \n",
      "* \u001b[33m6baf36e\u001b[m terceiro snapshot: MBA.py\n",
      "* \u001b[33m0e2aba4\u001b[m segundo snapshot: ola.txt modificado\n",
      "* \u001b[33m071c439\u001b[m primeiro snapshot: ola.txt\n"
     ]
    }
   ],
   "source": [
    "!git log --all --graph --decorate --oneline"
   ]
  },
  {
   "cell_type": "markdown",
   "id": "b620c377-39f0-4409-a239-da1a3034b58e",
   "metadata": {
    "editable": true,
    "slideshow": {
     "slide_type": "subslide"
    },
    "tags": []
   },
   "source": [
    "🚨 Veja que estamos agora com a versão modificada do MBA.py. 🚨 "
   ]
  },
  {
   "cell_type": "code",
   "execution_count": 66,
   "id": "241d3b10-0e12-4955-ae8c-3ed10c28e4e3",
   "metadata": {
    "editable": true,
    "slideshow": {
     "slide_type": ""
    },
    "tags": []
   },
   "outputs": [
    {
     "name": "stdout",
     "output_type": "stream",
     "text": [
      "MBA\n",
      "mais MBA\n"
     ]
    }
   ],
   "source": [
    "!python MBA.py"
   ]
  },
  {
   "cell_type": "markdown",
   "id": "7c77f958-dcdc-4654-8763-ad91f7f1d2f8",
   "metadata": {
    "editable": true,
    "slideshow": {
     "slide_type": "subslide"
    },
    "tags": []
   },
   "source": [
    "Continuaremos mesclando todas as modificações. "
   ]
  },
  {
   "attachments": {},
   "cell_type": "markdown",
   "id": "fa0a3ecb-302a-4aad-8536-4db6240b727a",
   "metadata": {
    "editable": true,
    "slideshow": {
     "slide_type": ""
    },
    "tags": []
   },
   "source": [
    "Agora, mesclaremos com o <i>branch</i> <b>bootcamp</b> com `git merge bootcamp`."
   ]
  },
  {
   "cell_type": "code",
   "execution_count": 67,
   "id": "af5d7552-eee6-4f81-81be-b7f10a406daa",
   "metadata": {
    "editable": true,
    "slideshow": {
     "slide_type": ""
    },
    "tags": []
   },
   "outputs": [
    {
     "name": "stdout",
     "output_type": "stream",
     "text": [
      "Merge made by the 'ort' strategy.\n",
      " bootcamp.py | 1 \u001b[32m+\u001b[m\n",
      " 1 file changed, 1 insertion(+)\n",
      " create mode 100644 bootcamp.py\n"
     ]
    }
   ],
   "source": [
    "!git merge bootcamp"
   ]
  },
  {
   "cell_type": "markdown",
   "id": "7d5d72b4-1798-45af-97d4-4d576eed8118",
   "metadata": {
    "editable": true,
    "slideshow": {
     "slide_type": "subslide"
    },
    "tags": []
   },
   "source": [
    "Veja o histórico/log de snapshots completo com `git log --all --graph --decorate --oneline`."
   ]
  },
  {
   "cell_type": "code",
   "execution_count": 68,
   "id": "96cd51ed-5c11-4686-a5a3-3e54b6f0f9e4",
   "metadata": {
    "editable": true,
    "slideshow": {
     "slide_type": ""
    },
    "tags": []
   },
   "outputs": [
    {
     "name": "stdout",
     "output_type": "stream",
     "text": [
      "*   \u001b[33mf99f7a5\u001b[m\u001b[33m (\u001b[m\u001b[1;36mHEAD\u001b[m\u001b[33m -> \u001b[m\u001b[1;32mmaster\u001b[m\u001b[33m)\u001b[m Merge branch 'bootcamp'\n",
      "\u001b[31m|\u001b[m\u001b[32m\\\u001b[m  \n",
      "\u001b[31m|\u001b[m * \u001b[33m2430329\u001b[m\u001b[33m (\u001b[m\u001b[1;32mbootcamp\u001b[m\u001b[33m)\u001b[m branch paralelo: bootcamp.py\n",
      "* \u001b[32m|\u001b[m \u001b[33m1c63d21\u001b[m\u001b[33m (\u001b[m\u001b[1;32mMBA\u001b[m\u001b[33m)\u001b[m branch paralelo: evolução MBA.py\n",
      "\u001b[32m|\u001b[m\u001b[32m/\u001b[m  \n",
      "* \u001b[33m6baf36e\u001b[m terceiro snapshot: MBA.py\n",
      "* \u001b[33m0e2aba4\u001b[m segundo snapshot: ola.txt modificado\n",
      "* \u001b[33m071c439\u001b[m primeiro snapshot: ola.txt\n"
     ]
    }
   ],
   "source": [
    "!git log --all --graph --decorate --oneline"
   ]
  },
  {
   "cell_type": "markdown",
   "id": "73bee6b6-ecdd-4f4c-bdec-0f98bc301e61",
   "metadata": {
    "editable": true,
    "slideshow": {
     "slide_type": "subslide"
    },
    "tags": []
   },
   "source": [
    "Veja que os arquivos que antes só existiam individualmente, ambos aparecem na listagem."
   ]
  },
  {
   "cell_type": "code",
   "execution_count": 69,
   "id": "dd6dba5d-48c9-4071-bc36-25978f32d1ee",
   "metadata": {
    "editable": true,
    "slideshow": {
     "slide_type": ""
    },
    "tags": []
   },
   "outputs": [
    {
     "name": "stdout",
     "output_type": "stream",
     "text": [
      "MBA.py      bootcamp.py\n"
     ]
    }
   ],
   "source": [
    "!ls MBA.py bootcamp.py"
   ]
  },
  {
   "cell_type": "markdown",
   "id": "2654ff52-eebd-4b93-990f-863bbd3eecda",
   "metadata": {
    "editable": true,
    "slideshow": {
     "slide_type": ""
    },
    "tags": []
   },
   "source": [
    "Inclusive, incorporando as evoluções do <i>branch</i> <b>MBA</b>..."
   ]
  },
  {
   "cell_type": "code",
   "execution_count": 70,
   "id": "3e8db34b-46b8-4bf3-ad5f-607361cd9c73",
   "metadata": {
    "editable": true,
    "slideshow": {
     "slide_type": ""
    },
    "tags": []
   },
   "outputs": [
    {
     "name": "stdout",
     "output_type": "stream",
     "text": [
      "MBA\n",
      "mais MBA\n"
     ]
    }
   ],
   "source": [
    "!python MBA.py"
   ]
  },
  {
   "cell_type": "markdown",
   "id": "8f1ba79b-f0df-4738-87db-0b5a3e437d3a",
   "metadata": {
    "editable": true,
    "slideshow": {
     "slide_type": ""
    },
    "tags": []
   },
   "source": [
    "... e o código do <i>branch</i> <b>bootcamp</b>."
   ]
  },
  {
   "cell_type": "code",
   "execution_count": 79,
   "id": "9c409c46-7c31-4330-ab8f-7249468c991f",
   "metadata": {
    "editable": true,
    "slideshow": {
     "slide_type": ""
    },
    "tags": []
   },
   "outputs": [
    {
     "name": "stdout",
     "output_type": "stream",
     "text": [
      "bootcamp\n"
     ]
    }
   ],
   "source": [
    "!python bootcamp.py"
   ]
  },
  {
   "cell_type": "markdown",
   "id": "259d31a7-3cfa-43f7-8a14-079517acc8d0",
   "metadata": {
    "editable": true,
    "slideshow": {
     "slide_type": "slide"
    },
    "tags": []
   },
   "source": [
    "## Conetando a um Repositório Remoto<br />(<i>git remote</i>)"
   ]
  },
  {
   "cell_type": "markdown",
   "id": "aa4bbb29-9b27-4d62-aaf0-d3ae9471a5ee",
   "metadata": {
    "editable": true,
    "slideshow": {
     "slide_type": ""
    },
    "tags": []
   },
   "source": [
    "Até agora, vínhamos apenas trabalhando localmente."
   ]
  },
  {
   "cell_type": "code",
   "execution_count": 71,
   "id": "0ca60370-dd34-47c6-9cdb-0bbc0e0aec37",
   "metadata": {
    "editable": true,
    "slideshow": {
     "slide_type": ""
    },
    "tags": []
   },
   "outputs": [],
   "source": [
    "!git remote"
   ]
  },
  {
   "cell_type": "markdown",
   "id": "084338e3-efa4-43fe-a504-92fee85915a1",
   "metadata": {
    "editable": true,
    "slideshow": {
     "slide_type": ""
    },
    "tags": []
   },
   "source": [
    "Podemos adicionar um repositório remoto com `git remote add origin <url>`."
   ]
  },
  {
   "cell_type": "markdown",
   "id": "5e73aaf6-4aa6-4d9e-b23a-98989abe3e88",
   "metadata": {
    "editable": true,
    "slideshow": {
     "slide_type": ""
    },
    "tags": []
   },
   "source": [
    "👉 dica: crie um repositório remoto no GitHub (<i>e.g.</i>, <b>heliomacedofilho/aula</b>)."
   ]
  },
  {
   "cell_type": "code",
   "execution_count": 72,
   "id": "78a5e179-2f96-48bd-8900-a2669511bc86",
   "metadata": {
    "editable": true,
    "slideshow": {
     "slide_type": ""
    },
    "tags": []
   },
   "outputs": [],
   "source": [
    "!git remote add origin git@github.com:heliomacedofilho/aula.git"
   ]
  },
  {
   "cell_type": "markdown",
   "id": "f77f256d-5fb3-4620-a85e-5b28b93ae8e3",
   "metadata": {
    "editable": true,
    "slideshow": {
     "slide_type": "slide"
    },
    "tags": []
   },
   "source": [
    "## Enviando Modificações ao GitHub<br />(<i>git push</i>)"
   ]
  },
  {
   "cell_type": "markdown",
   "id": "8f6c4b49-04b6-4447-aec3-bda02f32a4e9",
   "metadata": {
    "editable": true,
    "slideshow": {
     "slide_type": ""
    },
    "tags": []
   },
   "source": [
    "O <b>GitHub</b> exige que o nome <b>master</b> seja renomeado para <b>main</b> com `git branch -M main`."
   ]
  },
  {
   "cell_type": "markdown",
   "id": "ff2dbd8a-c5a8-4ed8-9384-1de254008f56",
   "metadata": {
    "editable": true,
    "slideshow": {
     "slide_type": ""
    },
    "tags": []
   },
   "source": [
    "👉 Você deve estar no <i>branch</i> <b>master</b>."
   ]
  },
  {
   "cell_type": "code",
   "execution_count": 73,
   "id": "bb5e22e5-99bb-4c15-98a1-82c1e3d5c792",
   "metadata": {
    "editable": true,
    "slideshow": {
     "slide_type": ""
    },
    "tags": []
   },
   "outputs": [],
   "source": [
    "!git branch -M main"
   ]
  },
  {
   "cell_type": "markdown",
   "id": "2424074d-03cb-4cad-8eed-004ac1864874",
   "metadata": {
    "editable": true,
    "slideshow": {
     "slide_type": ""
    },
    "tags": []
   },
   "source": [
    "Certifique-se de que o <b>master</b> tenha sido renomeado para <b>main</b> com `git branch -vv`."
   ]
  },
  {
   "cell_type": "code",
   "execution_count": 74,
   "id": "2b33a499-6854-4c0b-a5bf-28c3d8922f7c",
   "metadata": {
    "editable": true,
    "slideshow": {
     "slide_type": ""
    },
    "tags": []
   },
   "outputs": [
    {
     "name": "stdout",
     "output_type": "stream",
     "text": [
      "  MBA     \u001b[m 1c63d21 branch paralelo: evolução MBA.py\n",
      "  bootcamp\u001b[m 2430329 branch paralelo: bootcamp.py\n",
      "* \u001b[32mmain    \u001b[m f99f7a5 Merge branch 'bootcamp'\n"
     ]
    }
   ],
   "source": [
    "!git branch -vv"
   ]
  },
  {
   "cell_type": "markdown",
   "id": "3cf34e9e-6f2d-48d2-b6b2-2e77a84e0491",
   "metadata": {
    "editable": true,
    "slideshow": {
     "slide_type": "subslide"
    },
    "tags": []
   },
   "source": [
    "Envie todas suas modificações para o <b>GitHub</b> com `git push origin main`."
   ]
  },
  {
   "cell_type": "markdown",
   "id": "2f660460-16be-4378-aa4a-26b8e9427970",
   "metadata": {
    "editable": true,
    "slideshow": {
     "slide_type": ""
    },
    "tags": []
   },
   "source": [
    "👉 Vá no GitHub e veja que o seu repositório foi enviado para lá."
   ]
  },
  {
   "cell_type": "code",
   "execution_count": 84,
   "id": "dea10ae0-3098-42b5-b5f2-86b3efae5521",
   "metadata": {
    "editable": true,
    "slideshow": {
     "slide_type": ""
    },
    "tags": []
   },
   "outputs": [
    {
     "name": "stdout",
     "output_type": "stream",
     "text": [
      "Enumerating objects: 17, done.\n",
      "Counting objects: 100% (17/17), done.\n",
      "Delta compression using up to 8 threads\n",
      "Compressing objects: 100% (10/10), done.\n",
      "Writing objects: 100% (17/17), 1.58 KiB | 1.58 MiB/s, done.\n",
      "Total 17 (delta 1), reused 0 (delta 0), pack-reused 0 (from 0)\n",
      "remote: Resolving deltas: 100% (1/1), done.\u001b[K\n",
      "To github.com:heliomacedofilho/aula.git\n",
      " * [new branch]      main -> main\n"
     ]
    }
   ],
   "source": [
    "!git push origin main"
   ]
  },
  {
   "cell_type": "markdown",
   "id": "8006edd5-1e03-4755-a4df-8bd8733df964",
   "metadata": {
    "editable": true,
    "slideshow": {
     "slide_type": "slide"
    },
    "tags": []
   },
   "source": [
    "## Ajuda do Git<br />(<i>git help</i>)"
   ]
  },
  {
   "cell_type": "markdown",
   "id": "1572deb0-ee21-43dc-be9f-0df3695d35d9",
   "metadata": {
    "editable": true,
    "slideshow": {
     "slide_type": ""
    },
    "tags": []
   },
   "source": [
    "Você pode usar um <i>help</i> de cada comando do git com `git help <comando>`."
   ]
  },
  {
   "cell_type": "code",
   "execution_count": 76,
   "id": "1fc83051-5d96-4293-93cd-f93b335d2f67",
   "metadata": {
    "editable": true,
    "slideshow": {
     "slide_type": ""
    },
    "tags": []
   },
   "outputs": [
    {
     "name": "stdout",
     "output_type": "stream",
     "text": [
      "GIT-INIT(1)                       Git Manual                       GIT-INIT(1)\n",
      "\n",
      "NAME\n",
      "       git-init - Create an empty Git repository or reinitialize an existing\n",
      "       one\n",
      "\n",
      "SYNOPSIS\n",
      "       git init [-q | --quiet] [--bare] [--template=<template-directory>]\n",
      "                 [--separate-git-dir <git-dir>] [--object-format=<format>]\n",
      "                 [--ref-format=<format>]\n",
      "                 [-b <branch-name> | --initial-branch=<branch-name>]\n",
      "                 [--shared[=<permissions>]] [<directory>]\n",
      "\n",
      "\n",
      "DESCRIPTION\n",
      "       This command creates an empty Git repository - basically a .git\n",
      "       directory with subdirectories for objects, refs/heads, refs/tags, and\n",
      "       template files. An initial branch without any commits will be created\n",
      "       (see the --initial-branch option below for its name).\n",
      "\n",
      "       If the $GIT_DIR environment variable is set then it specifies a path to\n",
      "       use instead of ./.git for the base of the repository.\n",
      "\n",
      "       If the object storage directory is specified via the\n",
      "       $GIT_OBJECT_DIRECTORY environment variable then the sha1 directories\n",
      "       are created underneath; otherwise, the default $GIT_DIR/objects\n",
      "       directory is used.\n",
      "\n",
      "       Running git init in an existing repository is safe. It will not\n",
      "       overwrite things that are already there. The primary reason for\n",
      "       rerunning git init is to pick up newly added templates (or to move the\n",
      "       repository to another place if --separate-git-dir is given).\n",
      "\n",
      "OPTIONS\n",
      "       -q, --quiet\n",
      "           Only print error and warning messages; all other output will be\n",
      "           suppressed.\n",
      "\n",
      "       --bare\n",
      "           Create a bare repository. If GIT_DIR environment is not set, it is\n",
      "           set to the current working directory.\n",
      "\n",
      "       --object-format=<format>\n",
      "           Specify the given object <format> (hash algorithm) for the\n",
      "           repository. The valid values are sha1 and (if enabled) sha256.\n",
      "           sha1 is the default.\n",
      "\n",
      "           Note: At present, there is no interoperability between SHA-256\n",
      "           repositories and SHA-1 repositories.\n",
      "\n",
      "       Historically, we warned that SHA-256 repositories may later need\n",
      "       backward incompatible changes when we introduce such interoperability\n",
      "       features. Today, we only expect compatible changes. Furthermore, if\n",
      "       such changes prove to be necessary, it can be expected that SHA-256\n",
      "       repositories created with today’s Git will be usable by future versions\n",
      "       of Git without data loss.\n",
      "\n",
      "       --ref-format=<format>\n",
      "           Specify the given ref storage <format> for the repository. The\n",
      "           valid values are:\n",
      "\n",
      "           •   files for loose files with packed-refs. This is the default.\n",
      "\n",
      "           •   reftable for the reftable format. This format is experimental\n",
      "               and its internals are subject to change.\n",
      "\n",
      "       --template=<template-directory>\n",
      "           Specify the directory from which templates will be used. (See the\n",
      "           \"TEMPLATE DIRECTORY\" section below.)\n",
      "\n",
      "       --separate-git-dir=<git-dir>\n",
      "           Instead of initializing the repository as a directory to either\n",
      "           $GIT_DIR or ./.git/, create a text file there containing the path\n",
      "           to the actual repository. This file acts as a filesystem-agnostic\n",
      "           Git symbolic link to the repository.\n",
      "\n",
      "           If this is a reinitialization, the repository will be moved to the\n",
      "           specified path.\n",
      "\n",
      "       -b <branch-name>, --initial-branch=<branch-name>\n",
      "           Use <branch-name> for the initial branch in the newly created\n",
      "           repository. If not specified, fall back to the default name\n",
      "           (currently master, but this is subject to change in the future; the\n",
      "           name can be customized via the init.defaultBranch configuration\n",
      "           variable).\n",
      "\n",
      "       --shared[=(false|true|umask|group|all|world|everybody|<perm>)]\n",
      "           Specify that the Git repository is to be shared amongst several\n",
      "           users. This allows users belonging to the same group to push into\n",
      "           that repository. When specified, the config variable\n",
      "           core.sharedRepository is set so that files and directories under\n",
      "           $GIT_DIR are created with the requested permissions. When not\n",
      "           specified, Git will use permissions reported by umask(2).\n",
      "\n",
      "           The option can have the following values, defaulting to group if no\n",
      "           value is given:\n",
      "\n",
      "           umask, false\n",
      "               Use permissions reported by umask(2). The default, when\n",
      "               --shared is not specified.\n",
      "\n",
      "           group, true\n",
      "               Make the repository group-writable, (and g+sx, since the git\n",
      "               group may not be the primary group of all users). This is used\n",
      "               to loosen the permissions of an otherwise safe umask(2) value.\n",
      "               Note that the umask still applies to the other permission bits\n",
      "               (e.g. if umask is 0022, using group will not remove read\n",
      "               privileges from other (non-group) users). See 0xxx for how to\n",
      "               exactly specify the repository permissions.\n",
      "\n",
      "           all, world, everybody\n",
      "               Same as group, but make the repository readable by all users.\n",
      "\n",
      "           <perm>\n",
      "               <perm> is a 3-digit octal number prefixed with ‘0` and each\n",
      "               file will have mode <perm>.  <perm> will override users’\n",
      "               umask(2) value (and not only loosen permissions as group and\n",
      "               all do).  0640 will create a repository which is\n",
      "               group-readable, but not group-writable or accessible to others.\n",
      "               0660 will create a repo that is readable and writable to the\n",
      "               current user and group, but inaccessible to others (directories\n",
      "               and executable files get their x bit from the r bit for\n",
      "               corresponding classes of users).\n",
      "\n",
      "       By default, the configuration flag receive.denyNonFastForwards is\n",
      "       enabled in shared repositories, so that you cannot force a non\n",
      "       fast-forwarding push into it.\n",
      "\n",
      "       If you provide a <directory>, the command is run inside it. If this\n",
      "       directory does not exist, it will be created.\n",
      "\n",
      "TEMPLATE DIRECTORY\n",
      "       Files and directories in the template directory whose name do not start\n",
      "       with a dot will be copied to the $GIT_DIR after it is created.\n",
      "\n",
      "       The template directory will be one of the following (in order):\n",
      "\n",
      "       •   the argument given with the --template option;\n",
      "\n",
      "       •   the contents of the $GIT_TEMPLATE_DIR environment variable;\n",
      "\n",
      "       •   the init.templateDir configuration variable; or\n",
      "\n",
      "       •   the default template directory: /usr/share/git-core/templates.\n",
      "\n",
      "       The default template directory includes some directory structure,\n",
      "       suggested \"exclude patterns\" (see gitignore(5)), and sample hook files.\n",
      "\n",
      "       The sample hooks are all disabled by default. To enable one of the\n",
      "       sample hooks rename it by removing its .sample suffix.\n",
      "\n",
      "       See githooks(5) for more general info on hook execution.\n",
      "\n",
      "EXAMPLES\n",
      "       Start a new Git repository for an existing code base\n",
      "\n",
      "               $ cd /path/to/my/codebase\n",
      "               $ git init      (1)\n",
      "               $ git add .     (2)\n",
      "               $ git commit    (3)\n",
      "\n",
      "\n",
      "           1.   Create a\n",
      "                /path/to/my/codebase/.git\n",
      "                directory.\n",
      "           2.   Add all existing files to\n",
      "                the index.\n",
      "           3.   Record the pristine state\n",
      "                as the first commit in the\n",
      "                history.\n",
      "\n",
      "CONFIGURATION\n",
      "       Everything below this line in this section is selectively included from\n",
      "       the git-config(1) documentation. The content is the same as what’s\n",
      "       found there:\n",
      "\n",
      "       init.templateDir\n",
      "           Specify the directory from which templates will be copied.\n",
      "\n",
      "       init.defaultBranch\n",
      "           Allows overriding the default branch name e.g. when initializing a\n",
      "           new repository.\n",
      "\n",
      "GIT\n",
      "       Part of the git(1) suite\n",
      "\n",
      "Git 2.45.2                        2024-05-30                       GIT-INIT(1)\n"
     ]
    }
   ],
   "source": [
    "!git help init"
   ]
  }
 ],
 "metadata": {
  "kernelspec": {
   "display_name": "Python 3 (ipykernel)",
   "language": "python",
   "name": "python3"
  },
  "language_info": {
   "codemirror_mode": {
    "name": "ipython",
    "version": 3
   },
   "file_extension": ".py",
   "mimetype": "text/x-python",
   "name": "python",
   "nbconvert_exporter": "python",
   "pygments_lexer": "ipython3",
   "version": "3.12.4"
  }
 },
 "nbformat": 4,
 "nbformat_minor": 5
}
