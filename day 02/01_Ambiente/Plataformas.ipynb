{
 "cells": [
  {
   "attachments": {},
   "cell_type": "markdown",
   "id": "23458501-0092-4a8a-9b35-706b3c30588e",
   "metadata": {
    "editable": true,
    "slideshow": {
     "slide_type": "-"
    },
    "tags": []
   },
   "source": [
    "# Plataformas para desenvolvimento em Python 🔬"
   ]
  },
  {
   "cell_type": "markdown",
   "id": "b96ad71b-1f14-4ff0-bc50-846a441c812d",
   "metadata": {
    "slideshow": {
     "slide_type": "-"
    }
   },
   "source": [
    "## Sumário da Aula"
   ]
  },
  {
   "cell_type": "markdown",
   "id": "e5774fa0-3720-4e43-a4c9-aa60e700194d",
   "metadata": {
    "slideshow": {
     "slide_type": "-"
    }
   },
   "source": [
    "<ul>\n",
    "    <li>Python 🐍</li>\n",
    "    <li>Jupyter Lab 🔬</li>\n",
    "    <li>Google Colab 📋</li>\n",
    "    <li>Mais Ambientes de Desenvolvimento 🔬</li>\n",
    "</ul>"
   ]
  },
  {
   "cell_type": "markdown",
   "id": "af3e8026-b350-429f-a4c9-13fe3a797eed",
   "metadata": {
    "slideshow": {
     "slide_type": "slide"
    },
    "tags": []
   },
   "source": [
    "## Python 🐍"
   ]
  },
  {
   "cell_type": "markdown",
   "id": "0d1c8a26-ca18-45c7-9b48-729541966a0b",
   "metadata": {
    "slideshow": {
     "slide_type": "-"
    }
   },
   "source": [
    "\"Python is a programming language that lets you work more quickly and integrate your systems more effectively.\""
   ]
  },
  {
   "cell_type": "markdown",
   "id": "0849a0f9-6710-4e3e-8f0a-768e65d3c015",
   "metadata": {
    "slideshow": {
     "slide_type": "-"
    }
   },
   "source": [
    "<img src=\"https://www.python.org/static/img/python-logo@2x.png\" width=\"100\" style=\"float: right;\">"
   ]
  },
  {
   "cell_type": "markdown",
   "id": "aa87b161-ee21-4141-b4f5-8f037f7ea1a9",
   "metadata": {
    "slideshow": {
     "slide_type": "-"
    }
   },
   "source": [
    "👉 Faça a Instalação: <a href='https://www.python.org/downloads/'>python.org</a>"
   ]
  },
  {
   "cell_type": "markdown",
   "id": "813bb480-03a9-48b3-b119-2f3647468916",
   "metadata": {
    "slideshow": {
     "slide_type": "-"
    }
   },
   "source": [
    "👉 Python <a href='https://www.pythoncheatsheet.org/'>cheat sheets</a>"
   ]
  },
  {
   "cell_type": "markdown",
   "id": "0c08bd46-67f1-4cb0-a5b8-5da24f656823",
   "metadata": {
    "slideshow": {
     "slide_type": "-"
    }
   },
   "source": [
    "👉 <a href='https://automatetheboringstuff.com/'>Automate the Boring Stuff with Python</a>"
   ]
  },
  {
   "cell_type": "code",
   "execution_count": null,
   "id": "1931da4e-2661-43ee-ade9-c10675300887",
   "metadata": {
    "slideshow": {
     "slide_type": "subslide"
    }
   },
   "outputs": [],
   "source": [
    "from IPython.display import YouTubeVideo\n",
    "YouTubeVideo(id='8HM0nfgGVX0', width='100%')"
   ]
  },
  {
   "cell_type": "markdown",
   "id": "edcdf048-a4a8-4411-be14-52cbd7be93cb",
   "metadata": {
    "slideshow": {
     "slide_type": "slide"
    },
    "tags": []
   },
   "source": [
    "## Jupyter Lab 🔬"
   ]
  },
  {
   "cell_type": "markdown",
   "id": "d8844e7f-b586-4138-b34c-3a608d2df7f6",
   "metadata": {
    "slideshow": {
     "slide_type": "-"
    }
   },
   "source": [
    "\"JupyterLab is the latest web-based interactive development environment for notebooks, code, and data. Its flexible interface allows users to configure and arrange workflows in data science, scientific computing, computational journalism, and machine learning.\""
   ]
  },
  {
   "cell_type": "markdown",
   "id": "b144a398-b8b2-4cbb-8c7c-52203d0a58be",
   "metadata": {
    "slideshow": {
     "slide_type": "-"
    }
   },
   "source": [
    "O Jupyter foi listado na Nature como um dos dez projetos de computação que transformaram a ciência.\n",
    "\n",
    "👉 referência: <a href='https://www.nature.com/articles/d41586-021-00075-2'>nature</a>"
   ]
  },
  {
   "cell_type": "markdown",
   "id": "01b514f5-172a-40d1-b76b-178134835f93",
   "metadata": {
    "slideshow": {
     "slide_type": "-"
    }
   },
   "source": [
    "<img src=\"https://docs.jupyter.org/en/latest/_static/jupyter.svg\" width=\"100\" style=\"float: right;\">"
   ]
  },
  {
   "cell_type": "markdown",
   "id": "f08a27f1-b118-400b-8652-cf047cac855d",
   "metadata": {
    "slideshow": {
     "slide_type": "-"
    }
   },
   "source": [
    "👉 Faça a Instalação: <a href='https://jupyter.org/install'>jupyter.org</a>"
   ]
  },
  {
   "cell_type": "markdown",
   "id": "b5b5fbe9-3628-48cb-a82f-e455b8fe756b",
   "metadata": {
    "slideshow": {
     "slide_type": "-"
    }
   },
   "source": [
    "<pre>Você pode fazer a instalação executando a linha abaixo no jupyter notebook instalado acima 👆</pre>"
   ]
  },
  {
   "cell_type": "code",
   "execution_count": null,
   "id": "42da1789-d1de-44d8-b0e4-f3ac8b250573",
   "metadata": {
    "slideshow": {
     "slide_type": "-"
    }
   },
   "outputs": [],
   "source": [
    "!pip install --upgrade jupyterlab --quiet"
   ]
  },
  {
   "cell_type": "markdown",
   "id": "65e63fa2-5b35-4c7b-aa5f-6fdb2fbff265",
   "metadata": {
    "slideshow": {
     "slide_type": "subslide"
    }
   },
   "source": [
    "<pre>Você pode estilizar seus cadernos com essas dicas [utilizadas nas aulas deste curso]:</pre>\n",
    "\n",
    "<ul>\n",
    "    <li>Use markdown para tudo 👉 Markdown <a href='https://github.com/adam-p/markdown-here/wiki/Markdown-Cheatsheet'>cheat sheet</a>;</li>\n",
    "    <li>Use HTML para estilo e imagens 👉 HTML <a href='https://htmlcheatsheet.com/'>cheat sheet</a>;</li>\n",
    "    <li>Use LaTeX para matemática! 👉 LaTeX <a href='https://wch.github.io/latexsheet/latexsheet-a4.pdf'>cheat sheet</a>;</li>\n",
    "    <li>Use emojis para suavizar o conteúdo. MacOS: <code>Ctrl-Cmd-Space</code>, Windows: <code>Win-.</code>.\n",
    "</ul>"
   ]
  },
  {
   "cell_type": "markdown",
   "id": "e5702fcf-837a-4b52-903b-1e5a4327781e",
   "metadata": {
    "slideshow": {
     "slide_type": "-"
    }
   },
   "source": [
    "<pre>Mais dicas:</pre>"
   ]
  },
  {
   "cell_type": "markdown",
   "id": "9fc27ebb-ad5d-47c9-b0c2-8d5611a1bfe9",
   "metadata": {},
   "source": [
    "\n",
    "\n",
    "<ul>\n",
    "    <li><code>Esc - m</code> muda a célula para o modo Markdown;</li>\n",
    "    <li><code>Esc - y</code> muda a célula para o modo code;</li>\n",
    "    <li><code>Esc - a</code> cria uma célula <b>a</b>cima;</li>\n",
    "    <li><code>Esc - b</code> cria uma célula a<b>b</b>aixo;</li>\n",
    "    <li><code>Esc - dd</code> <b>d</b>eleta uma célula a<b>b</b>aixo;</li>\n",
    "    <li><code>Shift - M</code> <b>m</b>escla células.</li>\n",
    "</ul>\n",
    "\n",
    "a = \"texto\"\n",
    "a\n",
    "\n"
   ]
  },
  {
   "cell_type": "markdown",
   "id": "cce23d30-16db-47c6-afbc-bea768bad601",
   "metadata": {
    "slideshow": {
     "slide_type": "slide"
    },
    "tags": []
   },
   "source": [
    "## Google Colab 📋"
   ]
  },
  {
   "cell_type": "markdown",
   "id": "9f88cc39-ec7a-4037-b4e3-25c327162172",
   "metadata": {
    "slideshow": {
     "slide_type": "-"
    }
   },
   "source": [
    "\"Colab allows anybody to write and execute arbitrary python code through the browser, and is especially well suited to machine learning, data analysis and education. More technically, Colab is a hosted Jupyter notebook service that requires no setup to use, while providing access free of charge to computing resources including GPUs.\""
   ]
  },
  {
   "cell_type": "markdown",
   "id": "4d942a2f-0ad2-4b2c-b481-81da39be5530",
   "metadata": {
    "slideshow": {
     "slide_type": "-"
    }
   },
   "source": [
    "<img src=\"https://3.bp.blogspot.com/-apoBeWFycKQ/XhKB8fEprwI/AAAAAAAACM4/Sl76yzNSNYwlShIBrheDAum8L9qRtWNdgCLcBGAsYHQ/s1600/colab.png\" width=\"100\" style=\"float: right;\">"
   ]
  },
  {
   "cell_type": "markdown",
   "id": "f9e6ecc7-bd7f-4adb-88ba-4f1749a37fb9",
   "metadata": {
    "slideshow": {
     "slide_type": "-"
    }
   },
   "source": [
    "👉 Não carece de instalação, basta explorar: <a href='https://colab.research.google.com'>colab.research.google.com</a>"
   ]
  },
  {
   "cell_type": "markdown",
   "id": "f2914dd5-1933-4f7b-9f0b-6ade2a17d53e",
   "metadata": {
    "slideshow": {
     "slide_type": "slide"
    },
    "tags": []
   },
   "source": [
    "## Mais Ambientes de Desenvolvimento 🔬"
   ]
  },
  {
   "cell_type": "markdown",
   "id": "447b2ca6-fadb-4011-a73e-33bd478dec71",
   "metadata": {
    "slideshow": {
     "slide_type": "-"
    }
   },
   "source": [
    "Para o nosso curso, é suficiente escrever programas, testar iterativamente e depurar por partes em notebooks.\n",
    "\n",
    "Caso precise de recursos adicionais, seguem exemplos de ambientes de desenvolvimento integrado (IDE).\n",
    "\n",
    "<ul>\n",
    "    <li><a href='https://code.visualstudio.com/'>VisualStudio Code</a>: gratuito;</li>\n",
    "    <li><a href='https://www.pydev.org/'>PyDev</a>: gratuito, construído na plataforma Eclipse;</li>\n",
    "    <li><a href='https://www.jetbrains.com/pycharm/'>PyCharm</a>: assinatura para usuários comerciais, gratuito para desenvolvedores de código aberto;</li>\n",
    "    <li><a href='https://www.spyder-ide.org/'>Spyder</a>: gratuito, fornecido com o Anaconda;</li>\n",
    "    <li><a href='https://www.activestate.com/products/komodo-ide/'>Komodo IDE</a>: comercial.</li>\n",
    "</ul>"
   ]
  },
  {
   "cell_type": "markdown",
   "id": "4b0a8a9c-f697-40ac-859f-15e70dd14587",
   "metadata": {
    "slideshow": {
     "slide_type": "-"
    }
   },
   "source": [
    "👉 Vamos investir um tempo explorando o Stack Overflow Annual Developer Survey: <a href='https://insights.stackoverflow.com/survey'>Annual Developer Survey</a>"
   ]
  }
 ],
 "metadata": {
  "celltoolbar": "Slideshow",
  "kernelspec": {
   "display_name": "Python 3 (ipykernel)",
   "language": "python",
   "name": "python3"
  },
  "language_info": {
   "codemirror_mode": {
    "name": "ipython",
    "version": 3
   },
   "file_extension": ".py",
   "mimetype": "text/x-python",
   "name": "python",
   "nbconvert_exporter": "python",
   "pygments_lexer": "ipython3",
   "version": "3.12.4"
  },
  "toc": {
   "base_numbering": 1,
   "nav_menu": {},
   "number_sections": true,
   "sideBar": true,
   "skip_h1_title": false,
   "title_cell": "Table of Contents",
   "title_sidebar": "Contents",
   "toc_cell": false,
   "toc_position": {},
   "toc_section_display": true,
   "toc_window_display": false
  },
  "toc-autonumbering": false,
  "toc-showcode": false,
  "toc-showmarkdowntxt": false,
  "toc-showtags": false
 },
 "nbformat": 4,
 "nbformat_minor": 5
}
