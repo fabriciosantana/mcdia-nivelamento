{
 "cells": [
  {
   "cell_type": "markdown",
   "id": "4abe5a19-e3d8-4b34-be9a-40c1a7e4526b",
   "metadata": {
    "editable": true,
    "slideshow": {
     "slide_type": ""
    },
    "tags": []
   },
   "source": [
    "👉 <b>recomendo</b> fazer o curso do <a href=\"https://github.com/skills/introduction-to-github?tab=readme-ov-file#how-to-start-this-course\">GitHub</a> para execitar os conceitos."
   ]
  }
 ],
 "metadata": {
  "kernelspec": {
   "display_name": "Python 3 (ipykernel)",
   "language": "python",
   "name": "python3"
  },
  "language_info": {
   "codemirror_mode": {
    "name": "ipython",
    "version": 3
   },
   "file_extension": ".py",
   "mimetype": "text/x-python",
   "name": "python",
   "nbconvert_exporter": "python",
   "pygments_lexer": "ipython3",
   "version": "3.12.4"
  }
 },
 "nbformat": 4,
 "nbformat_minor": 5
}
