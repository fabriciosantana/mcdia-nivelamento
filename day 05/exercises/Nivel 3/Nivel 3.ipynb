{
 "cells": [
  {
   "cell_type": "markdown",
   "id": "89cb6975-2d81-49f2-b9ce-ed190b4e604f",
   "metadata": {},
   "source": [
    "# Introdução ao Python (cont'd) 🐍"
   ]
  },
  {
   "cell_type": "markdown",
   "id": "31f25970-1945-4166-8471-3730f6877495",
   "metadata": {},
   "source": [
    "## Estruturas de Dados 🏛️ 🎲"
   ]
  },
  {
   "cell_type": "markdown",
   "id": "d3b6cdaa-8961-4ee0-86d0-b7ea506d40d6",
   "metadata": {},
   "source": [
    "<pre>Para praticar o uso das estruturas de dados, vamos utilizar a seguinte lista contendo valores separados por vírgulas:</pre>"
   ]
  },
  {
   "cell_type": "code",
   "execution_count": 1,
   "id": "d718446d-8938-4277-8ccd-c7cd0381c1aa",
   "metadata": {
    "tags": []
   },
   "outputs": [],
   "source": [
    "lista_precos = [ 'morango, 27', 'manga, 13', 'mamão, 19', 'maçã, 18', 'marmelo, 5', 'mangaba, 11', 'macadâmia, 30', 'melancia, 23', \n",
    "                 'melão, 3', 'morango ,27', 'maracujá, 20', 'mexerica, 9', 'mirtilo, 26', 'maçã, 18', 'marmelo, 5', 'morango, 27']"
   ]
  },
  {
   "cell_type": "markdown",
   "id": "64e7a77e-a40a-4864-b54e-6489d4d0a219",
   "metadata": {
    "tags": []
   },
   "source": [
    "### Listas\n",
    "\n",
    "<pre>Para que possamos realizar cálculos envolvendo os preços existentes na lista, será necessário convertê-los para o tipo <b>int</b>.</pre>"
   ]
  },
  {
   "cell_type": "markdown",
   "id": "50d1cf5d-553c-41f9-aa4e-757a1a2df81f",
   "metadata": {
    "tags": []
   },
   "source": [
    "<pre>Crie uma nova lista <b>lista_convertida</b> em que os itens sejam formados pelo nome do produto e seu preço convertido para inteiro.</pre>"
   ]
  },
  {
   "cell_type": "markdown",
   "id": "d1ff4c8c-66f0-4c9d-a9f8-2abc7135e7d6",
   "metadata": {},
   "source": [
    "<details>\n",
    "  <summary>Resposta</summary>\n",
    "\n",
    "<br/>\n",
    "\n",
    "```python\n",
    "lista_convertida = []\n",
    "\n",
    "for nome, preco in [nome_e_preco.split(',') for nome_e_preco in lista_precos]:\n",
    "    preco = int(preco)\n",
    "    lista_convertida.append([nome, preco])\n",
    "```\n",
    "\n",
    "<br/>\n",
    "\n",
    "</details>"
   ]
  },
  {
   "cell_type": "code",
   "execution_count": null,
   "id": "168e17e1-103b-4b6d-9926-2bd02a6df2db",
   "metadata": {},
   "outputs": [],
   "source": []
  },
  {
   "cell_type": "markdown",
   "id": "f671bad2-f1f7-430b-9b60-40b2c3bebcf7",
   "metadata": {},
   "source": [
    "### Sequências 🎰"
   ]
  },
  {
   "cell_type": "markdown",
   "id": "ce8af6ce-849a-4ad1-901e-bcea17a741ac",
   "metadata": {
    "tags": []
   },
   "source": [
    "<pre>Usando a função <b>sorted</b> com o parâmetro nomeado <b>key</b>, ordene a lista de produtos em ordem decrescente de preços.</pre>"
   ]
  },
  {
   "cell_type": "markdown",
   "id": "df739052-bac7-47ce-b854-36e04c41ef85",
   "metadata": {},
   "source": [
    "<details>\n",
    "  <summary>Resposta</summary>\n",
    "\n",
    "<br/>\n",
    "\n",
    "```python\n",
    "lista_convertida = sorted(lista_convertida, key=lambda x:-x[1])\n",
    "\n",
    "<br/>\n",
    "\n",
    "</details>"
   ]
  },
  {
   "cell_type": "code",
   "execution_count": null,
   "id": "1cf81c0a-66b5-41b6-97cd-e6255754afec",
   "metadata": {},
   "outputs": [],
   "source": []
  },
  {
   "cell_type": "markdown",
   "id": "a3bce4d7-d12d-4a3e-baa5-b620d83e78eb",
   "metadata": {
    "tags": []
   },
   "source": [
    "<pre>Usando a função nativa <b>sum()</b>, calcule a soma dos preços de todos os itens presentes na lista <b>lista_invertida</b>.</pre>"
   ]
  },
  {
   "cell_type": "markdown",
   "id": "65f7cf5c-e74a-49b4-961b-f9e307144f07",
   "metadata": {},
   "source": [
    "<details>\n",
    "  <summary>Resposta</summary>\n",
    "\n",
    "<br/>\n",
    "\n",
    "```python\n",
    "sum([item[1] for item in lista_convertida])\n",
    "```\n",
    "<br/>\n",
    "\n",
    "</details>"
   ]
  },
  {
   "cell_type": "code",
   "execution_count": null,
   "id": "692bd7c0-b455-4309-b8b7-bc06106479f9",
   "metadata": {
    "tags": []
   },
   "outputs": [],
   "source": []
  },
  {
   "cell_type": "markdown",
   "id": "d5563c8c-5eb0-4a4a-9716-93aaf1d4c6cb",
   "metadata": {},
   "source": [
    "### Dicionários"
   ]
  },
  {
   "cell_type": "markdown",
   "id": "267b620d-92db-4317-879a-2cdc7e99b3c7",
   "metadata": {},
   "source": [
    "<pre>Crie um dicionário de nome <b>frequencia</b> com base na <b>lista_convertida</b>, em que cada chave seja o nome de uma fruta e o valor associado será a frequência com que a fruta correspondente aparece na <b>lista_convertida</b>.</pre>"
   ]
  },
  {
   "cell_type": "markdown",
   "id": "a302cdb3-a0b5-4e40-b31f-0e2e377036e2",
   "metadata": {},
   "source": [
    "<details>\n",
    "  <summary>Resposta</summary>\n",
    "\n",
    "<br/>\n",
    "\n",
    "```python\n",
    "frequencia = dict()\n",
    "\n",
    "for nome, _ in lista_convertida:\n",
    "    if nome not in frequencia:\n",
    "        frequencia[nome] = 1\n",
    "    else:\n",
    "        frequencia[nome] = frequencia[nome] + 1\n",
    "```\n",
    "<br/>\n",
    "\n",
    "</details>"
   ]
  },
  {
   "cell_type": "code",
   "execution_count": null,
   "id": "15f969ea-f221-4c33-a9cb-a6b3e65c8543",
   "metadata": {},
   "outputs": [],
   "source": []
  },
  {
   "cell_type": "markdown",
   "id": "31c01f40",
   "metadata": {},
   "source": [
    "<pre>Imprima a lista das chaves do dicionário <b>frequencia</b> que possuem valor associado (frequência) estritamente maior que 1.</pre>"
   ]
  },
  {
   "cell_type": "markdown",
   "id": "7edd53b4-f7a9-46d8-903c-d35e8af403cb",
   "metadata": {},
   "source": [
    "<details>\n",
    "  <summary>Resposta</summary>\n",
    "\n",
    "<br/>\n",
    "\n",
    "```python\n",
    "[produto for produto, vezes in frequencia.items() if vezes > 1]\n",
    "```\n",
    "<br/>\n",
    "\n",
    "</details>"
   ]
  },
  {
   "cell_type": "code",
   "execution_count": null,
   "id": "8c02c651",
   "metadata": {},
   "outputs": [],
   "source": []
  },
  {
   "cell_type": "markdown",
   "id": "c58c0fd8-59c6-4917-9bca-2520020f812b",
   "metadata": {},
   "source": [
    "### Conjuntos"
   ]
  },
  {
   "cell_type": "markdown",
   "id": "fc1c033b-ef39-4720-902c-a9b89e2b1564",
   "metadata": {},
   "source": [
    "<pre>Em diversos contextos, valores repetidos não devem estar presentes em uma base de dados. Para eliminá-los, pode-se utilizar um conjunto.</pre>"
   ]
  },
  {
   "cell_type": "markdown",
   "id": "346a5118-516f-4ee8-891c-cbffa129c14b",
   "metadata": {},
   "source": [
    "<pre>Crie um conjunto de nome <b>frutas</b> com base no dicionario frequência, em que conste apenas os nomes das frutas presentes no dicionário.</pre>"
   ]
  },
  {
   "cell_type": "markdown",
   "id": "95d324bc-9606-4708-83c7-bab5a4b50754",
   "metadata": {},
   "source": [
    "<details>\n",
    "  <summary>Resposta</summary>\n",
    "\n",
    "<br/>\n",
    "\n",
    "```python\n",
    "frutas = set(frequencia)\n",
    "```\n",
    "<br/>\n",
    "\n",
    "</details>"
   ]
  },
  {
   "cell_type": "code",
   "execution_count": null,
   "id": "35492a7e-7dba-4115-bd90-3a8a47f39588",
   "metadata": {},
   "outputs": [],
   "source": []
  },
  {
   "cell_type": "markdown",
   "id": "939220c5",
   "metadata": {},
   "source": [
    "### Funções🧑🏽‍🔧"
   ]
  },
  {
   "cell_type": "markdown",
   "id": "ddec128d-11db-45f6-ac7d-13fd54f8915f",
   "metadata": {},
   "source": [
    "<pre>Crie uma função <b>valor_pedido</b> que calcula o preço de um pedido, de acordo com a tabela de preços definida pelo dicionário \n",
    "<b>tabela_de_precos</b> abaixo e o pedido definido pela lista <b>pedido</b>.</pre>"
   ]
  },
  {
   "cell_type": "code",
   "execution_count": 2,
   "id": "a2a42f96",
   "metadata": {},
   "outputs": [],
   "source": [
    "tabela_de_precos = {'abacate': 12.1, 'banana': 4.3, 'caju': 3.2}\n",
    "\n",
    "pedido = ['abacate','banana']"
   ]
  },
  {
   "cell_type": "markdown",
   "id": "2720c6d9-c8e5-4070-894f-c426a76517e1",
   "metadata": {},
   "source": [
    "<details>\n",
    "  <summary>Resposta</summary>\n",
    "\n",
    "<br/>\n",
    "\n",
    "```python\n",
    "def valor_pedido(tabela_de_precos, pedido):\n",
    "    return sum([tabela_de_precos[fruta] for fruta in pedido])\n",
    "```\n",
    "<br/>\n",
    "\n",
    "</details>"
   ]
  },
  {
   "cell_type": "code",
   "execution_count": null,
   "id": "071697d1",
   "metadata": {},
   "outputs": [],
   "source": []
  },
  {
   "cell_type": "markdown",
   "id": "a59c9a29-fc6f-4d86-9b75-3a36602b49b0",
   "metadata": {},
   "source": [
    "### Erros 🚫 e tratamento de exceção ✅"
   ]
  },
  {
   "cell_type": "markdown",
   "id": "eaea9167-744d-4262-b80b-9480eaf9f64e",
   "metadata": {},
   "source": [
    "<pre>O que acontece se você adicionar <b>maçã</b> ao pedido e aplicar a função <b>valor_pedido(tabela_de_precos, pedido)</b>?</pre>"
   ]
  },
  {
   "cell_type": "code",
   "execution_count": 3,
   "id": "ec5ec36c-5da7-4178-a2dd-86a10c444adb",
   "metadata": {},
   "outputs": [],
   "source": [
    "pedido.append('maçã')"
   ]
  },
  {
   "cell_type": "code",
   "execution_count": null,
   "id": "581f29f3-6ed8-4218-af6e-1b76b82daf09",
   "metadata": {},
   "outputs": [],
   "source": [
    "#execute apenas quando a função valor_pedido tiver sido criada\n",
    "\n",
    "valor_pedido(tabela_de_precos, pedido)"
   ]
  },
  {
   "cell_type": "markdown",
   "id": "04e220a3-0014-4204-a720-fb2f4aacfa06",
   "metadata": {},
   "source": [
    "<pre>Caso a chave consultada não esteja presente no dicionário, uma exceção do tipo KeyError é lançada. Modifique o código da função <b>valor_pedido</b> para tratar a exceção <b>KeyError</b>, imprimindo uma mensagem de erro caso não tenha o produto na tabela de preços.</pre>"
   ]
  },
  {
   "cell_type": "markdown",
   "id": "a46f317f-a31a-4b0d-bf77-1d674960ec5b",
   "metadata": {},
   "source": [
    "<details>\n",
    "  <summary>Resposta</summary>\n",
    "\n",
    "<br/>\n",
    "\n",
    "```python\n",
    "def valor_pedido(tabela_de_precos, pedido):\n",
    "    try:\n",
    "        return sum([tabela_de_precos[fruta] for fruta in pedido])\n",
    "    except KeyError:\n",
    "        print(\"Pedido não realizado por ausência de produto na tabela de preços\")\n",
    "```\n",
    "<br/>\n",
    "\n",
    "</details>"
   ]
  },
  {
   "cell_type": "code",
   "execution_count": null,
   "id": "fb2e69cd",
   "metadata": {},
   "outputs": [],
   "source": []
  },
  {
   "cell_type": "markdown",
   "id": "b3931e0b-7e70-4d45-b1cf-29efe0794b3f",
   "metadata": {},
   "source": [
    "## Desafio ⚡️"
   ]
  },
  {
   "cell_type": "markdown",
   "id": "f5801d1d-fe78-4c9e-be51-9ed1008aee52",
   "metadata": {},
   "source": [
    "### Cifra de César"
   ]
  },
  {
   "cell_type": "markdown",
   "id": "a3fb5049-e209-4879-baee-9a82dce5eb7d",
   "metadata": {},
   "source": [
    "<blockquote>Em criptografia, a Cifra de César, também conhecida como cifra de troca, código de César ou troca de César, é uma das mais simples e conhecidas técnicas de criptografia. É um tipo de cifra de substituição na qual cada letra do texto é substituída por outra, que se apresenta no alfabeto abaixo dela um número fixo de vezes. Por exemplo, com uma troca de três posições, A seria substituído por D, B se tornaria E, e assim por diante.</blockquote>"
   ]
  },
  {
   "cell_type": "markdown",
   "id": "cd28d8ed-7399-4739-a423-68ca0917febd",
   "metadata": {},
   "source": [
    "<pre>O código abaixo implementa a Cifra de César. Tente entender o código e faça sua própria versão.</pre>"
   ]
  },
  {
   "cell_type": "code",
   "execution_count": 5,
   "id": "13acf3b6-37b3-43d9-af87-ea5fe5c20fcd",
   "metadata": {},
   "outputs": [],
   "source": [
    "alfabeto = [chr(maiuscula) for maiuscula in range(ord('A'), ord('Z') + 1)]\n",
    "\n",
    "cifra_letra = lambda letra, deslocamento: (alfabeto[deslocamento:] + alfabeto[:deslocamento])[alfabeto.index(letra.upper())]\n",
    "\n",
    "cifra_frase = lambda frase, deslocamento: ''.join(cifra_letra(letra, deslocamento)  if letra != ' ' else letra for letra in frase)\n",
    "\n",
    "decifra_frase = lambda frase, deslocamento: cifra_frase(frase, -deslocamento)"
   ]
  },
  {
   "cell_type": "markdown",
   "id": "e1366aaf-f9f8-4a82-b9b6-a46edd4c5ff8",
   "metadata": {},
   "source": [
    "<pre>Utilize os exemplos abaixo para verificar se a sua solução bate com a solução dada pelo professor.</pre>"
   ]
  },
  {
   "cell_type": "code",
   "execution_count": 6,
   "id": "8600c181-332c-4372-a52e-bcd38995295e",
   "metadata": {},
   "outputs": [
    {
     "data": {
      "text/plain": [
       "'PED HP LQWHOLJHQFLD DUWLILFLDO H FLHQFLD GH GDGRV'"
      ]
     },
     "execution_count": 6,
     "metadata": {},
     "output_type": "execute_result"
    }
   ],
   "source": [
    "cifra_frase('MBA em Inteligencia Artificial e Ciencia de Dados', 3)"
   ]
  },
  {
   "cell_type": "code",
   "execution_count": 7,
   "id": "47c4f480-a3e6-4ca6-a4f6-052c86d39eb2",
   "metadata": {},
   "outputs": [
    {
     "data": {
      "text/plain": [
       "'MBA EM INTELIGENCIA ARTIFICIAL E CIENCIA DE DADOS'"
      ]
     },
     "execution_count": 7,
     "metadata": {},
     "output_type": "execute_result"
    }
   ],
   "source": [
    "decifra_frase('PED HP LQWHOLJHQFLD DUWLILFLDO H FLHQFLD GH GDGRV', 3)"
   ]
  }
 ],
 "metadata": {
  "kernelspec": {
   "display_name": "Python 3 (ipykernel)",
   "language": "python",
   "name": "python3"
  },
  "language_info": {
   "codemirror_mode": {
    "name": "ipython",
    "version": 3
   },
   "file_extension": ".py",
   "mimetype": "text/x-python",
   "name": "python",
   "nbconvert_exporter": "python",
   "pygments_lexer": "ipython3",
   "version": "3.12.4"
  }
 },
 "nbformat": 4,
 "nbformat_minor": 5
}
