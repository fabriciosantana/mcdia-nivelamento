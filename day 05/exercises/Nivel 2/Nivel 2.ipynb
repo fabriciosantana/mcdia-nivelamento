{
 "cells": [
  {
   "cell_type": "markdown",
   "id": "9153626a-8618-4890-aa62-0e3113887727",
   "metadata": {
    "editable": true,
    "slideshow": {
     "slide_type": ""
    },
    "tags": []
   },
   "source": [
    "# Introdução ao Python (cont'd) 🐍"
   ]
  },
  {
   "cell_type": "markdown",
   "id": "5b007b46",
   "metadata": {},
   "source": [
    "## Estruturas de Dados 🏛️ 🎲"
   ]
  },
  {
   "cell_type": "markdown",
   "id": "f4221c4f",
   "metadata": {},
   "source": [
    "### Listas"
   ]
  },
  {
   "cell_type": "markdown",
   "id": "b92c4c06-1fad-471d-b5ef-8f83d78e8790",
   "metadata": {},
   "source": [
    "<pre>Utilize a lista <b>beatles</b> abaixo para executar as orientações posteriores.</pre>"
   ]
  },
  {
   "cell_type": "code",
   "execution_count": 1,
   "id": "5d94df42",
   "metadata": {},
   "outputs": [],
   "source": [
    "beatles = [\"John\", \"Paul\", \"George\", \"Ringo\"]"
   ]
  },
  {
   "cell_type": "markdown",
   "id": "6979208e",
   "metadata": {},
   "source": [
    "<pre>Manipule a lista <b>beatles</b> para que seus elementos venham na ordem invertida  (<i>e.g.</i> <b>John</b> será o último elemento da lista).</pre>"
   ]
  },
  {
   "cell_type": "markdown",
   "id": "463361f3-6b46-4e57-9f6b-2f57e5279b6f",
   "metadata": {},
   "source": [
    "<details>\n",
    "  <summary>Resposta</summary>\n",
    "\n",
    "<br/>\n",
    "\n",
    "```python\n",
    "beatles[::-1]\n",
    "```\n",
    "\n",
    "<br/>\n",
    "\n",
    "`Racional`: para inverter a ordem dos elementos, basta utilizar `slicing`/`fatiamento` com step `-1`.\n",
    "\n",
    "</details>"
   ]
  },
  {
   "cell_type": "code",
   "execution_count": null,
   "id": "487c7b91",
   "metadata": {
    "scrolled": true
   },
   "outputs": [],
   "source": []
  },
  {
   "cell_type": "markdown",
   "id": "e65edcd0",
   "metadata": {},
   "source": [
    "<pre>Manipule a lista <b>beatles</b> para que seus elementos tenham seus caracteres venham na ordem invertida (<i>e.g.</i> <b>John</b> vira <b>nhoJ</b>).</pre>"
   ]
  },
  {
   "cell_type": "markdown",
   "id": "3c93ece1-a2d8-42de-827e-46a341815281",
   "metadata": {},
   "source": [
    "👉 dica: tente utilizar `abrangência` (`list comprehension`) para focar o esforço em inverter a ordem dos caracteres."
   ]
  },
  {
   "cell_type": "markdown",
   "id": "9b4a8267-b334-4bc0-8c7b-485532185109",
   "metadata": {},
   "source": [
    "<details>\n",
    "  <summary>Resposta</summary>\n",
    "\n",
    "<br/>\n",
    "\n",
    "```python\n",
    "[beatle[::-1] for beatle in beatles]\n",
    "```\n",
    "\n",
    "<br/>\n",
    "\n",
    "`Racional`: para inverter a ordem dos caracteres de cada elemento, basta percorrer os elementos com `for` e utilizar `slicing`/`fatiamento` com step `-1` em cada elemento. Usamos a `abrangência` (`list comprehension`) para agregar um nível de dificuldade a mais.\n",
    "\n",
    "</details>"
   ]
  },
  {
   "cell_type": "code",
   "execution_count": null,
   "id": "364520f0",
   "metadata": {},
   "outputs": [],
   "source": []
  },
  {
   "cell_type": "markdown",
   "id": "cfcea403",
   "metadata": {},
   "source": [
    "<pre>Manipule a lista <b>beatles</b> para manter apenas o <b>Paul</b> e o <b>Ringo</b> com <b>slicing</b>/<b>fatiamento</b>.</pre>"
   ]
  },
  {
   "cell_type": "markdown",
   "id": "21eaf08a-ef3e-4d4e-826c-110d5df27fe0",
   "metadata": {},
   "source": [
    " 👉 dica: `Paul` e `Ringo` estão armazenados em índices ímpares."
   ]
  },
  {
   "cell_type": "markdown",
   "id": "ffd7ec31-260d-422b-86ff-30e30732f003",
   "metadata": {},
   "source": [
    "<details>\n",
    "  <summary>Resposta</summary>\n",
    "\n",
    "<br/>\n",
    "\n",
    "```python\n",
    "beatles[1:4:2]\n",
    "```\n",
    "\n",
    "<br/>\n",
    "\n",
    "`Racional`: para permanecer apenas com os elementos de índice ímpar, use `slicing`/`fatiamento` começando no índice 1, com condição de parada no tamanho da lista (`4` nesse caso) e `step` 2.\n",
    "\n",
    "</details>"
   ]
  },
  {
   "cell_type": "code",
   "execution_count": null,
   "id": "625ac041",
   "metadata": {
    "scrolled": true
   },
   "outputs": [],
   "source": []
  },
  {
   "cell_type": "markdown",
   "id": "7a6f57de",
   "metadata": {},
   "source": [
    "<pre>Desafio: inverta as posições de <b>John</b> e <b>Ringo</b> usando apenas um comando/uma linha.</pre>"
   ]
  },
  {
   "cell_type": "markdown",
   "id": "bbff8791-548e-4a28-be4b-801b6ede0b59",
   "metadata": {},
   "source": [
    "<details>\n",
    "  <summary>Resposta</summary>\n",
    "\n",
    "<br/>\n",
    "\n",
    "```python\n",
    "beatles[0], beatles[-1] = beatles[-1], beatles[0]\n",
    "```\n",
    "\n",
    "<br/>\n",
    "\n",
    "`Racional`: o Python avalia as expressões separadas por vírgula (<b>,</b>) antes da expressão de designação. Além disso, é possível realizar uma designação em que os elementos à esquerda do sinal de designação (<b>=</b>) receberão os valores dos elementos à direita do sinal, na mesma ordem em que ocorrem. \n",
    "\n",
    "</details>"
   ]
  },
  {
   "cell_type": "code",
   "execution_count": null,
   "id": "aa3ef913",
   "metadata": {},
   "outputs": [],
   "source": []
  },
  {
   "cell_type": "markdown",
   "id": "b894b551-25c3-4c42-ae73-b07a4eb879ca",
   "metadata": {},
   "source": [
    "## Desafio ⚡️"
   ]
  },
  {
   "cell_type": "markdown",
   "id": "2b96e60d",
   "metadata": {},
   "source": [
    "### Explorando as estatísticas brasileiras de comércio exterior"
   ]
  },
  {
   "cell_type": "markdown",
   "id": "85c23bb8-6e44-4daa-bb83-93b92b4a8d92",
   "metadata": {},
   "source": [
    "<pre>Na aula anterior, fizemos um exercício com os principais destinos das exportações brasileiras.</pre>"
   ]
  },
  {
   "cell_type": "markdown",
   "id": "39ceff30-6521-4470-a95d-16399b2db0d1",
   "metadata": {},
   "source": [
    "<pre>Vamos conferir as principais origens das importações brasileiras.</pre>"
   ]
  },
  {
   "cell_type": "code",
   "execution_count": 2,
   "id": "d687e921",
   "metadata": {},
   "outputs": [],
   "source": [
    "# Dados de 2022\n",
    "paises_origem = [\"China\", \"Estados Unidos\", \"Argentina\", \"Alemanha\", \"Índia\", \"Rússia\", \"Itália\", \"Coréia do Sul\", \"Arábia Saudita\", \"Japão\"]\n",
    "valor_bilhoes_usd = [60.744, 51.304, 13.100, 12.208, 8.850, 7.853, 5.569, 5.463, 5.306, 5.300]"
   ]
  },
  {
   "cell_type": "markdown",
   "id": "7b9dce60-1a19-46b6-a916-e3b5127497e6",
   "metadata": {},
   "source": [
    "#### Sequências 🎰"
   ]
  },
  {
   "cell_type": "markdown",
   "id": "34ad8e19-0a0f-4b7f-a687-8a7f2ce36a71",
   "metadata": {},
   "source": [
    "<pre>Usando a função enumerate, apresente a lista numerada das top 10 origens.</pre>"
   ]
  },
  {
   "cell_type": "markdown",
   "id": "e29198fd-4d41-4b6f-bfa6-a3445a064ef6",
   "metadata": {},
   "source": [
    "<pre>Por exemplo:\n",
    "\n",
    " * China\n",
    " * Estados Unidos\n",
    " * Argentina\n",
    " * ...</pre>\n"
   ]
  },
  {
   "cell_type": "markdown",
   "id": "b8451078-c310-41a2-b70d-b516394b4911",
   "metadata": {},
   "source": [
    "<details>\n",
    "  <summary>Resposta</summary>\n",
    "\n",
    "<br/>\n",
    "\n",
    "```python\n",
    "for posicao, país in enumerate(paises_origem, 1):\n",
    "    print(f\"{posicao} - {país}\")\n",
    "```\n",
    "\n",
    "<br/>\n",
    "\n",
    "`Racional`: para percorrer uma coleção de dados e precisar, no laço corrente, da atual posição do elemento + 1, utilize `enumerate(paises_origem, 1)`.\n",
    "\n",
    "</details>"
   ]
  },
  {
   "cell_type": "code",
   "execution_count": null,
   "id": "75362a39",
   "metadata": {},
   "outputs": [],
   "source": []
  },
  {
   "cell_type": "markdown",
   "id": "96f76155-65f5-48cd-98fe-cf4c0e3e3387",
   "metadata": {},
   "source": [
    "#### 🗞️ Extra! Abrangências"
   ]
  },
  {
   "cell_type": "markdown",
   "id": "a6e04e78-b1fd-4c37-ab4d-88378ccdc6c1",
   "metadata": {},
   "source": [
    "<pre>Junte as listas <b>paises_origem</b> e <b>valor_bilhoes_usd</b> em um dicionário em que a <b>chave</b> é o nome do país e o <b>valor associado</b> é o valor em bilhões de dólares daquele país.</pre>"
   ]
  },
  {
   "cell_type": "markdown",
   "id": "d2dbb0be-1294-4024-877a-c3b8383a94fd",
   "metadata": {},
   "source": [
    "👉 dica: utilize `zip` conjugado com `abrangência` (`dict comprehension`)"
   ]
  },
  {
   "cell_type": "markdown",
   "id": "2ada4aa0-a3e2-4e5c-b520-ddd73d9b6ddb",
   "metadata": {},
   "source": [
    "<details>\n",
    "  <summary>Resposta</summary>\n",
    "\n",
    "<br/>\n",
    "\n",
    "```python\n",
    "top_origens = {key: value for key, value in zip(paises_origem, valor_bilhoes_usd)}\n",
    "```\n",
    "\n",
    "<br/>\n",
    "\n",
    "`Racional`: para percorrer duas coleções de dados e precisar parear os elementos, utilize `zip`. Ademais, utilize `abrangência` (`dict comprehension`) para criar o dicionário com os elementos pareados do `zip`, em que o primeiro será a chave e o segundo será o seu valor associado.\n",
    "\n",
    "</details>"
   ]
  },
  {
   "cell_type": "markdown",
   "id": "dc6f0d76-635a-4014-8fc4-31bcaf7c2d56",
   "metadata": {},
   "source": [
    "<pre>Restrinja este novo dicionário aos países que exportaram mais de 10 bilhões de dólares para o Brasil em 2022.</pre>"
   ]
  },
  {
   "cell_type": "markdown",
   "id": "43a07f22-c876-4b5b-9f07-3b1281391feb",
   "metadata": {},
   "source": [
    "👉 dica: novamente utilize `abrangência` (`dict comprehension`), mas com `if` especificando o filtro desejado."
   ]
  },
  {
   "cell_type": "markdown",
   "id": "7eebbb1e-9500-4857-8062-dcdc157c0cd9",
   "metadata": {},
   "source": [
    "<details>\n",
    "  <summary>Resposta</summary>\n",
    "\n",
    "<br/>\n",
    "\n",
    "```python\n",
    "top_origens = {key: value for key, value in top_origens if value > 10}\n",
    "```\n",
    "\n",
    "<br/>\n",
    "\n",
    "`Racional`: para realizar um filtro no dicionário, basta adicionar uma expressão condicional com `if` ao final da `abrangência` (`dict comprehension`), antes da chave de encerramento (`}`).\n",
    "\n",
    "</details>"
   ]
  },
  {
   "cell_type": "code",
   "execution_count": null,
   "id": "011b240c-cc8f-4fca-b94a-6d83ecd3a6a3",
   "metadata": {},
   "outputs": [],
   "source": []
  }
 ],
 "metadata": {
  "kernelspec": {
   "display_name": "Python 3 (ipykernel)",
   "language": "python",
   "name": "python3"
  },
  "language_info": {
   "codemirror_mode": {
    "name": "ipython",
    "version": 3
   },
   "file_extension": ".py",
   "mimetype": "text/x-python",
   "name": "python",
   "nbconvert_exporter": "python",
   "pygments_lexer": "ipython3",
   "version": "3.12.4"
  },
  "toc": {
   "base_numbering": 1,
   "nav_menu": {},
   "number_sections": true,
   "sideBar": true,
   "skip_h1_title": false,
   "title_cell": "Table of Contents",
   "title_sidebar": "Contents",
   "toc_cell": false,
   "toc_position": {},
   "toc_section_display": true,
   "toc_window_display": false
  }
 },
 "nbformat": 4,
 "nbformat_minor": 5
}
