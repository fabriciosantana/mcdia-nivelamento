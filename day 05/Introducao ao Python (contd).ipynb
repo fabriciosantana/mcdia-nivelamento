{
 "cells": [
  {
   "cell_type": "markdown",
   "id": "c0cd81f5-3c89-4e3c-9b06-63006cb9fef6",
   "metadata": {
    "editable": true,
    "slideshow": {
     "slide_type": "-"
    },
    "tags": []
   },
   "source": [
    "# Introdução ao Python (cont'd) 🐍"
   ]
  },
  {
   "cell_type": "markdown",
   "id": "9c035674-766e-4f28-82f0-50af8acc71ac",
   "metadata": {
    "slideshow": {
     "slide_type": "-"
    },
    "tags": []
   },
   "source": [
    "## Sumário da Aula"
   ]
  },
  {
   "cell_type": "markdown",
   "id": "7922cb28-d8e4-44a8-a5bc-f6cd89413b4e",
   "metadata": {
    "editable": true,
    "slideshow": {
     "slide_type": "slide"
    },
    "tags": []
   },
   "source": [
    "<ul>\n",
    "    <li>Estruturas de Dados 🏛️ 🎲</li>\n",
    "    <li>Sequências 🎰</li>\n",
    "    <li>Funções🧑🏽‍🔧 (incluindo funções anônimas/lambda 🥷🏽)</li>\n",
    "    <li>Erros 🚫 e tratamento de exceção ✅</li>\n",
    "</ul>"
   ]
  },
  {
   "cell_type": "markdown",
   "id": "60d1cf3f-eeae-48f3-ba67-88a5bda65a02",
   "metadata": {
    "slideshow": {
     "slide_type": "slide"
    },
    "tags": []
   },
   "source": [
    "## Estruturas de Dados 🏛️ 🎲"
   ]
  },
  {
   "cell_type": "markdown",
   "id": "33fcd9ba-7c27-4e42-af47-30f6fd3bab04",
   "metadata": {
    "slideshow": {
     "slide_type": "-"
    }
   },
   "source": [
    "👉 Referência: <a href='https://docs.python.org/3/tutorial/datastructures.html'>docs.python.org</a>"
   ]
  },
  {
   "cell_type": "markdown",
   "id": "e73cdf1f-6798-40f0-913a-26aca090ac13",
   "metadata": {
    "slideshow": {
     "slide_type": "subslide"
    },
    "tags": []
   },
   "source": [
    "### Tuplas"
   ]
  },
  {
   "cell_type": "markdown",
   "id": "aa1a68dc-1a56-4764-b398-12c471516b9a",
   "metadata": {
    "slideshow": {
     "slide_type": "-"
    }
   },
   "source": [
    "🚨 Uma tupla é uma sequência imutável, de tamanho fixo, que armazena objetos do Python"
   ]
  },
  {
   "cell_type": "markdown",
   "id": "50ff47ce-4945-4483-b0d0-5bb2012826d0",
   "metadata": {
    "slideshow": {
     "slide_type": "subslide"
    }
   },
   "source": [
    "<pre>Você pode criar uma tupla...</pre>"
   ]
  },
  {
   "cell_type": "code",
   "execution_count": 1,
   "id": "200b3b77-852f-4cf7-8a57-27502329bd21",
   "metadata": {
    "slideshow": {
     "slide_type": "-"
    }
   },
   "outputs": [
    {
     "data": {
      "text/plain": [
       "('Brasil', 'Russia', 'India', 'China', 'Africa do Sul')"
      ]
     },
     "execution_count": 1,
     "metadata": {},
     "output_type": "execute_result"
    }
   ],
   "source": [
    "BRICS = ('Brasil', 'Russia', 'India', 'China', 'Africa do Sul')\n",
    "BRICS"
   ]
  },
  {
   "cell_type": "markdown",
   "id": "7495de7a-1885-4f59-98c1-5a25d42d4f7e",
   "metadata": {
    "slideshow": {
     "slide_type": "subslide"
    }
   },
   "source": [
    "<pre>... você pode acessar uma tupla...</pre>"
   ]
  },
  {
   "cell_type": "code",
   "execution_count": 2,
   "id": "e1297a72-081b-4b11-8094-4d4f16738a24",
   "metadata": {
    "slideshow": {
     "slide_type": "-"
    }
   },
   "outputs": [
    {
     "data": {
      "text/plain": [
       "'Brasil'"
      ]
     },
     "execution_count": 2,
     "metadata": {},
     "output_type": "execute_result"
    }
   ],
   "source": [
    "BRICS[0]"
   ]
  },
  {
   "cell_type": "code",
   "execution_count": 3,
   "id": "1380576e-2b2c-499b-93ea-6590124b315c",
   "metadata": {
    "slideshow": {
     "slide_type": "-"
    }
   },
   "outputs": [
    {
     "data": {
      "text/plain": [
       "'Russia'"
      ]
     },
     "execution_count": 3,
     "metadata": {},
     "output_type": "execute_result"
    }
   ],
   "source": [
    "BRICS[1]"
   ]
  },
  {
   "cell_type": "code",
   "execution_count": 4,
   "id": "06759e84-bb25-4cc2-8816-dfdc3c8872a4",
   "metadata": {
    "slideshow": {
     "slide_type": "-"
    }
   },
   "outputs": [
    {
     "data": {
      "text/plain": [
       "'India'"
      ]
     },
     "execution_count": 4,
     "metadata": {},
     "output_type": "execute_result"
    }
   ],
   "source": [
    "BRICS[2]"
   ]
  },
  {
   "cell_type": "markdown",
   "id": "51c798a6-c998-4fc1-ae70-db04259bc5b8",
   "metadata": {
    "slideshow": {
     "slide_type": "-"
    }
   },
   "source": [
    "<pre>... mas não pode alterá-la!</pre>"
   ]
  },
  {
   "cell_type": "code",
   "execution_count": 5,
   "id": "1829ae7a-7077-4f65-aca7-7cf7a3abb6b9",
   "metadata": {
    "slideshow": {
     "slide_type": "-"
    }
   },
   "outputs": [],
   "source": [
    "#BRICS[0] = 40"
   ]
  },
  {
   "cell_type": "markdown",
   "id": "8a26cbba-820c-46bc-b2d3-de7b291714d0",
   "metadata": {
    "slideshow": {
     "slide_type": "subslide"
    }
   },
   "source": [
    "<pre>Você pode aninhar uma tupla -- uma tupla dentro de outra -- porque ela é um objeto Python...</pre>"
   ]
  },
  {
   "cell_type": "code",
   "execution_count": 6,
   "id": "2763d80d-2757-48a7-b32c-e5192ef68e8e",
   "metadata": {
    "slideshow": {
     "slide_type": "-"
    }
   },
   "outputs": [
    {
     "data": {
      "text/plain": [
       "(('Brasil', 'Russia', 'India', 'China', 'Africa do Sul'),\n",
       " ('Arabia Saudita', 'Egito', 'Argentina', 'Irã'))"
      ]
     },
     "execution_count": 6,
     "metadata": {},
     "output_type": "execute_result"
    }
   ],
   "source": [
    "novo_BRICS = (('Brasil', 'Russia', 'India', 'China', 'Africa do Sul'),\\\n",
    "    ('Arabia Saudita', 'Egito', 'Argentina', 'Irã'))\n",
    "novo_BRICS"
   ]
  },
  {
   "cell_type": "code",
   "execution_count": 7,
   "id": "4c096fc9-307b-4e4e-a7f2-3aee815616da",
   "metadata": {
    "slideshow": {
     "slide_type": "-"
    }
   },
   "outputs": [
    {
     "data": {
      "text/plain": [
       "('Brasil', 'Russia', 'India', 'China', 'Africa do Sul')"
      ]
     },
     "execution_count": 7,
     "metadata": {},
     "output_type": "execute_result"
    }
   ],
   "source": [
    "novo_BRICS[0]"
   ]
  },
  {
   "cell_type": "code",
   "execution_count": 8,
   "id": "fa64ab57-8ceb-4a55-b209-3a53bfede566",
   "metadata": {
    "slideshow": {
     "slide_type": "-"
    }
   },
   "outputs": [
    {
     "data": {
      "text/plain": [
       "'Brasil'"
      ]
     },
     "execution_count": 8,
     "metadata": {},
     "output_type": "execute_result"
    }
   ],
   "source": [
    "novo_BRICS[0][0]"
   ]
  },
  {
   "cell_type": "markdown",
   "id": "fc5fb70e-72eb-4dfa-87e1-b2eb746e3a0a",
   "metadata": {
    "slideshow": {
     "slide_type": "subslide"
    }
   },
   "source": [
    "<pre>... bem como é possível concatenar tuplas e formar uma nova tupla...</pre>"
   ]
  },
  {
   "cell_type": "code",
   "execution_count": 9,
   "id": "a18c7463-bea9-4fd5-b725-113b4136063f",
   "metadata": {
    "slideshow": {
     "slide_type": "-"
    }
   },
   "outputs": [
    {
     "data": {
      "text/plain": [
       "('Brasil',\n",
       " 'Russia',\n",
       " 'India',\n",
       " 'China',\n",
       " 'Africa do Sul',\n",
       " 'Arabia Saudita',\n",
       " 'Egito',\n",
       " 'Argentina',\n",
       " 'Irã')"
      ]
     },
     "execution_count": 9,
     "metadata": {},
     "output_type": "execute_result"
    }
   ],
   "source": [
    "('Brasil', 'Russia', 'India', 'China', 'Africa do Sul') + \\\n",
    "    ('Arabia Saudita', 'Egito', 'Argentina', 'Irã')"
   ]
  },
  {
   "cell_type": "markdown",
   "id": "04773389-d461-49ca-857b-6c8b4424baae",
   "metadata": {
    "slideshow": {
     "slide_type": "subslide"
    }
   },
   "source": [
    "<pre>e para que servem as tuplas?</pre>"
   ]
  },
  {
   "cell_type": "markdown",
   "id": "981503f6-7368-48a5-a9b5-11107f848e00",
   "metadata": {
    "slideshow": {
     "slide_type": "-"
    }
   },
   "source": [
    "👉 permitir que uma função retorne mais de um valor"
   ]
  },
  {
   "cell_type": "code",
   "execution_count": 10,
   "id": "f1aa1205-13e0-4d7f-91c6-a5e0fec13dfc",
   "metadata": {
    "slideshow": {
     "slide_type": "-"
    }
   },
   "outputs": [],
   "source": [
    "def max_min(lista):\n",
    "    return max(lista), min(lista)"
   ]
  },
  {
   "cell_type": "code",
   "execution_count": 11,
   "id": "a1abd6ae",
   "metadata": {
    "slideshow": {
     "slide_type": "-"
    }
   },
   "outputs": [],
   "source": [
    "(maximo, minimo) = max_min((-1,0,1,2,3,4,5))"
   ]
  },
  {
   "cell_type": "code",
   "execution_count": 12,
   "id": "ac7b5e02-6518-43f9-af16-e0a11e6ae7d2",
   "metadata": {
    "slideshow": {
     "slide_type": "-"
    }
   },
   "outputs": [
    {
     "data": {
      "text/plain": [
       "5"
      ]
     },
     "execution_count": 12,
     "metadata": {},
     "output_type": "execute_result"
    }
   ],
   "source": [
    "maximo"
   ]
  },
  {
   "cell_type": "code",
   "execution_count": 13,
   "id": "b0b47b37-613e-43d9-b801-3f6707a22d60",
   "metadata": {
    "slideshow": {
     "slide_type": "-"
    }
   },
   "outputs": [
    {
     "data": {
      "text/plain": [
       "-1"
      ]
     },
     "execution_count": 13,
     "metadata": {},
     "output_type": "execute_result"
    }
   ],
   "source": [
    "minimo"
   ]
  },
  {
   "cell_type": "markdown",
   "id": "53da6b01-3cd4-4373-88e5-997ef8f7d823",
   "metadata": {
    "slideshow": {
     "slide_type": "subslide"
    }
   },
   "source": [
    "👉 não permitir que haja alteração dos elementos, quando assim o desejar"
   ]
  },
  {
   "cell_type": "code",
   "execution_count": 14,
   "id": "6c2d411c-ed97-4d36-ba3d-d1560efedd04",
   "metadata": {
    "slideshow": {
     "slide_type": "-"
    }
   },
   "outputs": [
    {
     "data": {
      "text/plain": [
       "(5,)"
      ]
     },
     "execution_count": 14,
     "metadata": {},
     "output_type": "execute_result"
    }
   ],
   "source": [
    "tup = (5,)\n",
    "tup"
   ]
  },
  {
   "cell_type": "code",
   "execution_count": 15,
   "id": "7755ae23-6529-4e75-a1e0-df2941138376",
   "metadata": {
    "slideshow": {
     "slide_type": "-"
    }
   },
   "outputs": [],
   "source": [
    "#tup[0] = 1"
   ]
  },
  {
   "cell_type": "markdown",
   "id": "5862621f-7b1a-41e7-bad1-164deee713ed",
   "metadata": {
    "slideshow": {
     "slide_type": "subslide"
    },
    "tags": []
   },
   "source": [
    "### Listas"
   ]
  },
  {
   "cell_type": "markdown",
   "id": "ba5ae285-ca21-40a4-b4da-0574096a26e2",
   "metadata": {
    "slideshow": {
     "slide_type": "-"
    }
   },
   "source": [
    "Em oposição às tuplas, as listas têm tamanhos variáveis e seu conteúdo pode ser modificado <i>in-place</i>."
   ]
  },
  {
   "cell_type": "markdown",
   "id": "de8e736c-60aa-451b-b9eb-8b701e372411",
   "metadata": {
    "slideshow": {
     "slide_type": "-"
    }
   },
   "source": [
    "<pre>Você pode criar uma lista...</pre>"
   ]
  },
  {
   "cell_type": "code",
   "execution_count": 16,
   "id": "2eb43d86-7956-4823-b8c0-bd66c4649955",
   "metadata": {
    "slideshow": {
     "slide_type": "-"
    }
   },
   "outputs": [
    {
     "data": {
      "text/plain": [
       "['Brasil', 'Russia', 'India', 'China', 'Africa do Sul']"
      ]
     },
     "execution_count": 16,
     "metadata": {},
     "output_type": "execute_result"
    }
   ],
   "source": [
    "#criando uma lista dos países do BRICS\n",
    "BRICS = ['Brasil', 'Russia', 'India', 'China', 'Africa do Sul']\n",
    "BRICS"
   ]
  },
  {
   "cell_type": "markdown",
   "id": "4682e559",
   "metadata": {
    "slideshow": {
     "slide_type": "-"
    }
   },
   "source": [
    "<pre>... você pode criar uma lista a partir de uma tupla...</pre>"
   ]
  },
  {
   "cell_type": "code",
   "execution_count": 17,
   "id": "f6cee4a8-c18c-4e5f-b026-984eaf8118a5",
   "metadata": {
    "slideshow": {
     "slide_type": "-"
    }
   },
   "outputs": [
    {
     "data": {
      "text/plain": [
       "['Brasil', 'Russia', 'India', 'China', 'Africa do Sul']"
      ]
     },
     "execution_count": 17,
     "metadata": {},
     "output_type": "execute_result"
    }
   ],
   "source": [
    "BRICS = list(('Brasil', 'Russia', 'India', 'China', 'Africa do Sul'))\n",
    "BRICS"
   ]
  },
  {
   "cell_type": "markdown",
   "id": "14e68d37-6b26-42e3-bd57-bf76e0d4f0e3",
   "metadata": {
    "slideshow": {
     "slide_type": "subslide"
    }
   },
   "source": [
    "<pre>... você pode acessar uma lista...</pre>"
   ]
  },
  {
   "cell_type": "code",
   "execution_count": 18,
   "id": "8e299e0b-40fd-4636-90e6-c3c941a41563",
   "metadata": {
    "slideshow": {
     "slide_type": "-"
    }
   },
   "outputs": [
    {
     "data": {
      "text/plain": [
       "'Brasil'"
      ]
     },
     "execution_count": 18,
     "metadata": {},
     "output_type": "execute_result"
    }
   ],
   "source": [
    "BRICS[0] "
   ]
  },
  {
   "cell_type": "code",
   "execution_count": 19,
   "id": "152c6ae1-f366-437b-be6a-e30c9403aa23",
   "metadata": {
    "slideshow": {
     "slide_type": "-"
    }
   },
   "outputs": [
    {
     "data": {
      "text/plain": [
       "'Russia'"
      ]
     },
     "execution_count": 19,
     "metadata": {},
     "output_type": "execute_result"
    }
   ],
   "source": [
    "BRICS[1]"
   ]
  },
  {
   "cell_type": "code",
   "execution_count": 20,
   "id": "a0fad5b7-b384-4126-8be3-4b923c5723bf",
   "metadata": {
    "slideshow": {
     "slide_type": "-"
    }
   },
   "outputs": [
    {
     "data": {
      "text/plain": [
       "'India'"
      ]
     },
     "execution_count": 20,
     "metadata": {},
     "output_type": "execute_result"
    }
   ],
   "source": [
    "BRICS[2]"
   ]
  },
  {
   "cell_type": "markdown",
   "id": "ea120785-0c87-4fef-b7c6-0b10870880ac",
   "metadata": {},
   "source": [
    "<pre>... e <b>pode</b> alterá-la!</pre>"
   ]
  },
  {
   "cell_type": "code",
   "execution_count": 21,
   "id": "35023449-1b65-4d13-88a3-5970d6cdba04",
   "metadata": {
    "slideshow": {
     "slide_type": "-"
    }
   },
   "outputs": [
    {
     "data": {
      "text/plain": [
       "['Brasil', 'Egito', 'India', 'China', 'Africa do Sul']"
      ]
     },
     "execution_count": 21,
     "metadata": {},
     "output_type": "execute_result"
    }
   ],
   "source": [
    "#supondo que o Egito entrou no lugar da Rússia:\n",
    "BRICS[1] = \"Egito\"\n",
    "BRICS"
   ]
  },
  {
   "cell_type": "markdown",
   "id": "bb0606f0-8e47-409a-bb2a-3c0a09724824",
   "metadata": {
    "slideshow": {
     "slide_type": "subslide"
    }
   },
   "source": [
    "<pre>Já que você pode alterá-la, você pode adicionar elementos...</pre>"
   ]
  },
  {
   "cell_type": "code",
   "execution_count": 22,
   "id": "504832f5-7daf-4fbe-bfab-a1d431abdf85",
   "metadata": {
    "slideshow": {
     "slide_type": "-"
    }
   },
   "outputs": [
    {
     "data": {
      "text/plain": [
       "['Brasil', 'Egito', 'India', 'China', 'Africa do Sul', 'Russia']"
      ]
     },
     "execution_count": 22,
     "metadata": {},
     "output_type": "execute_result"
    }
   ],
   "source": [
    "# Voltando com a Rússia para a lista\n",
    "BRICS.append('Russia')\n",
    "BRICS"
   ]
  },
  {
   "cell_type": "markdown",
   "id": "bf838b41-5736-44b0-ae4d-ba22a61a4d71",
   "metadata": {
    "slideshow": {
     "slide_type": "subslide"
    }
   },
   "source": [
    "<pre>... remover elementos...</pre>"
   ]
  },
  {
   "cell_type": "code",
   "execution_count": 23,
   "id": "b5fdb7d9-1c7e-442d-85c1-ef620fbbd94f",
   "metadata": {
    "slideshow": {
     "slide_type": "-"
    }
   },
   "outputs": [
    {
     "data": {
      "text/plain": [
       "['Brasil', 'Egito', 'India', 'China', 'Africa do Sul']"
      ]
     },
     "execution_count": 23,
     "metadata": {},
     "output_type": "execute_result"
    }
   ],
   "source": [
    "# .pop remove e retorna o último elemento de uma lista\n",
    "elemento = BRICS.pop()\n",
    "BRICS"
   ]
  },
  {
   "cell_type": "code",
   "execution_count": 24,
   "id": "72182e1d",
   "metadata": {
    "slideshow": {
     "slide_type": "-"
    }
   },
   "outputs": [
    {
     "data": {
      "text/plain": [
       "'Russia'"
      ]
     },
     "execution_count": 24,
     "metadata": {},
     "output_type": "execute_result"
    }
   ],
   "source": [
    "elemento"
   ]
  },
  {
   "cell_type": "code",
   "execution_count": 25,
   "id": "acf2eedc-ba0f-44e5-9fc2-2b5b9a4caedf",
   "metadata": {
    "slideshow": {
     "slide_type": "-"
    }
   },
   "outputs": [
    {
     "data": {
      "text/plain": [
       "['Brasil', 'India', 'China', 'Africa do Sul']"
      ]
     },
     "execution_count": 25,
     "metadata": {},
     "output_type": "execute_result"
    }
   ],
   "source": [
    "#posso usar o pop para um elemento em um índice específico\n",
    "BRICS.pop(1)\n",
    "BRICS"
   ]
  },
  {
   "cell_type": "code",
   "execution_count": 26,
   "id": "e6f25164-0c91-4d19-9210-b895491e9ef7",
   "metadata": {},
   "outputs": [
    {
     "data": {
      "text/plain": [
       "['Brasil', 'China', 'Africa do Sul']"
      ]
     },
     "execution_count": 26,
     "metadata": {},
     "output_type": "execute_result"
    }
   ],
   "source": [
    "# .remove apenas remove o elemento de uma lista\n",
    "BRICS.remove('India')\n",
    "BRICS"
   ]
  },
  {
   "cell_type": "markdown",
   "id": "95912430-3513-4505-8e4c-aaad698e1d06",
   "metadata": {
    "slideshow": {
     "slide_type": "subslide"
    }
   },
   "source": [
    "<pre>... e reordenar os elementos! </pre>"
   ]
  },
  {
   "cell_type": "code",
   "execution_count": 27,
   "id": "783f0aab-6861-4a81-a699-4fa784eac768",
   "metadata": {
    "slideshow": {
     "slide_type": "-"
    }
   },
   "outputs": [
    {
     "data": {
      "text/plain": [
       "['Brasil', 'China', 'Africa do Sul']"
      ]
     },
     "execution_count": 27,
     "metadata": {},
     "output_type": "execute_result"
    }
   ],
   "source": [
    "BRICS"
   ]
  },
  {
   "cell_type": "code",
   "execution_count": 28,
   "id": "52e546aa-c025-4a96-b946-426ab76b1a53",
   "metadata": {
    "slideshow": {
     "slide_type": "-"
    }
   },
   "outputs": [
    {
     "data": {
      "text/plain": [
       "['Africa do Sul', 'Brasil', 'China']"
      ]
     },
     "execution_count": 28,
     "metadata": {},
     "output_type": "execute_result"
    }
   ],
   "source": [
    "BRICS.sort()\n",
    "BRICS"
   ]
  },
  {
   "cell_type": "code",
   "execution_count": 29,
   "id": "5c295ac0-c5aa-46df-a376-dbf537b4556c",
   "metadata": {
    "slideshow": {
     "slide_type": "-"
    }
   },
   "outputs": [
    {
     "data": {
      "text/plain": [
       "['China', 'Brasil', 'Africa do Sul']"
      ]
     },
     "execution_count": 29,
     "metadata": {},
     "output_type": "execute_result"
    }
   ],
   "source": [
    "BRICS.sort(reverse=True)\n",
    "BRICS"
   ]
  },
  {
   "cell_type": "markdown",
   "id": "10e7c876-32d1-44fb-a67d-5dca71b75a69",
   "metadata": {
    "slideshow": {
     "slide_type": "subslide"
    }
   },
   "source": [
    "<pre>como lista é uma estrutura de tamanho variável, faz sentido buscar elementos.</pre>"
   ]
  },
  {
   "cell_type": "code",
   "execution_count": 30,
   "id": "b01a52d2-659b-47f6-85b8-d315fe34d5f7",
   "metadata": {
    "slideshow": {
     "slide_type": "-"
    }
   },
   "outputs": [
    {
     "data": {
      "text/plain": [
       "True"
      ]
     },
     "execution_count": 30,
     "metadata": {},
     "output_type": "execute_result"
    }
   ],
   "source": [
    "\"Brasil\" in BRICS"
   ]
  },
  {
   "cell_type": "code",
   "execution_count": 31,
   "id": "038ebcef-6b7f-47b2-b6e0-5d563726c78e",
   "metadata": {
    "slideshow": {
     "slide_type": "-"
    }
   },
   "outputs": [
    {
     "data": {
      "text/plain": [
       "True"
      ]
     },
     "execution_count": 31,
     "metadata": {},
     "output_type": "execute_result"
    }
   ],
   "source": [
    "\"China\" in BRICS"
   ]
  },
  {
   "cell_type": "code",
   "execution_count": 32,
   "id": "dad5df9f-54c0-4514-90fe-d7c9d0f0391a",
   "metadata": {
    "slideshow": {
     "slide_type": "-"
    }
   },
   "outputs": [
    {
     "data": {
      "text/plain": [
       "False"
      ]
     },
     "execution_count": 32,
     "metadata": {},
     "output_type": "execute_result"
    }
   ],
   "source": [
    "'Egito' in BRICS"
   ]
  },
  {
   "cell_type": "markdown",
   "id": "3de3bfeb-aa0f-4d38-9e36-f92a33caa46a",
   "metadata": {
    "slideshow": {
     "slide_type": "subslide"
    }
   },
   "source": [
    "<pre>por fim, vamos aprender o recurso de fatiamento -- lista[start:end:step]</pre>"
   ]
  },
  {
   "cell_type": "markdown",
   "id": "949452f3-c24d-4a77-a054-3b8f28bbda0a",
   "metadata": {
    "slideshow": {
     "slide_type": "-"
    }
   },
   "source": [
    "<img src='https://wesmckinney.com/book/images/pda3_0301.png' width=\"600\" style=\"float: left;\">"
   ]
  },
  {
   "cell_type": "code",
   "execution_count": 33,
   "id": "e90faa7c-4d3e-406a-81ff-808397cbacea",
   "metadata": {
    "slideshow": {
     "slide_type": "-"
    }
   },
   "outputs": [],
   "source": [
    "lst = ['H', 'E', 'L', 'L', 'O', '!']"
   ]
  },
  {
   "cell_type": "markdown",
   "id": "ffb153e4-08a8-4453-92a0-9e98e7db30f2",
   "metadata": {
    "slideshow": {
     "slide_type": "subslide"
    }
   },
   "source": [
    "<pre>Inicialmente, vamos aprender a usar o fatiamento com <i>start</i> e <i>end</i>...</pre>"
   ]
  },
  {
   "cell_type": "code",
   "execution_count": 34,
   "id": "853e08d4-e433-43c1-8826-234cbf7dc1fe",
   "metadata": {
    "slideshow": {
     "slide_type": "-"
    }
   },
   "outputs": [
    {
     "data": {
      "text/plain": [
       "['E', 'L', 'L', 'O']"
      ]
     },
     "execution_count": 34,
     "metadata": {},
     "output_type": "execute_result"
    }
   ],
   "source": [
    "lst[1:5]"
   ]
  },
  {
   "cell_type": "code",
   "execution_count": 35,
   "id": "7025d6ca-52fa-4610-912e-f751a0c90a82",
   "metadata": {
    "slideshow": {
     "slide_type": "-"
    }
   },
   "outputs": [
    {
     "data": {
      "text/plain": [
       "['H', 'E', 'L', 'I', 'O', '!']"
      ]
     },
     "execution_count": 35,
     "metadata": {},
     "output_type": "execute_result"
    }
   ],
   "source": [
    "lst[3:5] = ['I', 'O']\n",
    "lst"
   ]
  },
  {
   "cell_type": "code",
   "execution_count": 36,
   "id": "dc5371fd-c563-416e-b2ce-d415f1044fc1",
   "metadata": {
    "slideshow": {
     "slide_type": "-"
    }
   },
   "outputs": [
    {
     "data": {
      "text/plain": [
       "['H', 'E', 'L', 'I', 'O']"
      ]
     },
     "execution_count": 36,
     "metadata": {},
     "output_type": "execute_result"
    }
   ],
   "source": [
    "lst[:5]"
   ]
  },
  {
   "cell_type": "code",
   "execution_count": 37,
   "id": "1636d6c1-33d1-458e-becb-341b876023b6",
   "metadata": {
    "slideshow": {
     "slide_type": "-"
    }
   },
   "outputs": [
    {
     "data": {
      "text/plain": [
       "['I', 'O', '!']"
      ]
     },
     "execution_count": 37,
     "metadata": {},
     "output_type": "execute_result"
    }
   ],
   "source": [
    "lst[3:]"
   ]
  },
  {
   "cell_type": "code",
   "execution_count": 38,
   "id": "be945416-5aee-41bd-b869-52aaab5773fe",
   "metadata": {
    "slideshow": {
     "slide_type": "-"
    }
   },
   "outputs": [
    {
     "data": {
      "text/plain": [
       "['L', 'I', 'O', '!']"
      ]
     },
     "execution_count": 38,
     "metadata": {},
     "output_type": "execute_result"
    }
   ],
   "source": [
    "lst[-4:]"
   ]
  },
  {
   "cell_type": "code",
   "execution_count": 39,
   "id": "2a4423d5-846e-4997-ba44-fe351ba1d2de",
   "metadata": {
    "slideshow": {
     "slide_type": "-"
    }
   },
   "outputs": [
    {
     "data": {
      "text/plain": [
       "['H', 'E', 'L', 'I']"
      ]
     },
     "execution_count": 39,
     "metadata": {},
     "output_type": "execute_result"
    }
   ],
   "source": [
    "lst[-6:-2]"
   ]
  },
  {
   "cell_type": "markdown",
   "id": "1fd49f05-3fdd-46fb-9504-666a7fdd19d6",
   "metadata": {
    "slideshow": {
     "slide_type": "subslide"
    }
   },
   "source": [
    "<pre>... com <i>step</i>, fica um pouco mais complexo, mas interessante na mesma medida.</pre>"
   ]
  },
  {
   "cell_type": "code",
   "execution_count": 40,
   "id": "66c2c287-b739-4398-8555-c28cf045aff4",
   "metadata": {
    "slideshow": {
     "slide_type": "-"
    },
    "tags": []
   },
   "outputs": [
    {
     "data": {
      "text/plain": [
       "['H', 'L', 'O']"
      ]
     },
     "execution_count": 40,
     "metadata": {},
     "output_type": "execute_result"
    }
   ],
   "source": [
    "lst[::2] # lista que contém apenas elementos com índices pares"
   ]
  },
  {
   "cell_type": "code",
   "execution_count": 41,
   "id": "2114fa4a-0a54-4ae1-850f-9785a3c98d9b",
   "metadata": {
    "slideshow": {
     "slide_type": "-"
    },
    "tags": []
   },
   "outputs": [
    {
     "data": {
      "text/plain": [
       "['!', 'O', 'I', 'L', 'E', 'H']"
      ]
     },
     "execution_count": 41,
     "metadata": {},
     "output_type": "execute_result"
    }
   ],
   "source": [
    "lst[::-1] # obtém a lista inversa"
   ]
  },
  {
   "cell_type": "markdown",
   "id": "2f359033-026b-4536-9f66-675b5ed54026",
   "metadata": {
    "slideshow": {
     "slide_type": "subslide"
    }
   },
   "source": [
    "<pre>aninhar, concatenar, copiar e desempacotar são igualmente possíveis em listas, mas lembre-se dos colchetes!</pre>"
   ]
  },
  {
   "cell_type": "markdown",
   "id": "d8750779-82ca-480a-8662-ccbaeb018f18",
   "metadata": {
    "slideshow": {
     "slide_type": "-"
    }
   },
   "source": [
    "👉 dica: concatenar com o método <i>.extends</i> é mais rápido que concatenar com <i>+</i>.\n",
    "\n",
    "o primeiro (<i>.extends</i>) adiciona os elementos da segunda lista na primeira e; <br />\n",
    "o segundo (<i>+</i>) cria uma terceira lista"
   ]
  },
  {
   "cell_type": "code",
   "execution_count": 42,
   "id": "56e73f8a-5dec-4268-860b-31ce373a7358",
   "metadata": {
    "slideshow": {
     "slide_type": "-"
    }
   },
   "outputs": [
    {
     "data": {
      "text/plain": [
       "[[4, 5, 6], [4, 5, 6]]"
      ]
     },
     "execution_count": 42,
     "metadata": {},
     "output_type": "execute_result"
    }
   ],
   "source": [
    "# Vamos ver exemplos com números\n",
    "nested_lst = [[4,5,6], [4,5,6]]\n",
    "nested_lst"
   ]
  },
  {
   "cell_type": "code",
   "execution_count": 43,
   "id": "3e32b257-3a88-4635-a46d-3eed5c822d9d",
   "metadata": {
    "slideshow": {
     "slide_type": "-"
    }
   },
   "outputs": [
    {
     "data": {
      "text/plain": [
       "[4, 5, 6, 4, 5, 6]"
      ]
     },
     "execution_count": 43,
     "metadata": {},
     "output_type": "execute_result"
    }
   ],
   "source": [
    "[4,5,6] + [4,5,6]"
   ]
  },
  {
   "cell_type": "code",
   "execution_count": 44,
   "id": "cceb979c-f9fc-4a8f-989c-1db361eab482",
   "metadata": {
    "slideshow": {
     "slide_type": "-"
    }
   },
   "outputs": [
    {
     "data": {
      "text/plain": [
       "[4, 5, 6, 4, 5, 6]"
      ]
     },
     "execution_count": 44,
     "metadata": {},
     "output_type": "execute_result"
    }
   ],
   "source": [
    "lst = [4,5,6]\n",
    "lst.extend([4,5,6])\n",
    "lst"
   ]
  },
  {
   "cell_type": "code",
   "execution_count": 45,
   "id": "47af6f2a-2b23-4c5a-976b-7d6e53ea4e68",
   "metadata": {
    "slideshow": {
     "slide_type": "-"
    }
   },
   "outputs": [
    {
     "data": {
      "text/plain": [
       "[4, 5, 6, 4, 5, 6]"
      ]
     },
     "execution_count": 45,
     "metadata": {},
     "output_type": "execute_result"
    }
   ],
   "source": [
    "[4,5,6]*2"
   ]
  },
  {
   "cell_type": "code",
   "execution_count": 46,
   "id": "a3f759ac-a49c-42a9-8328-005f67a48d2a",
   "metadata": {
    "slideshow": {
     "slide_type": "subslide"
    }
   },
   "outputs": [],
   "source": [
    "a, b, c = [4,5,6]"
   ]
  },
  {
   "cell_type": "code",
   "execution_count": 47,
   "id": "50f0be01-8f24-4475-aed7-6f3fd51c4552",
   "metadata": {
    "slideshow": {
     "slide_type": "-"
    }
   },
   "outputs": [
    {
     "data": {
      "text/plain": [
       "4"
      ]
     },
     "execution_count": 47,
     "metadata": {},
     "output_type": "execute_result"
    }
   ],
   "source": [
    "a"
   ]
  },
  {
   "cell_type": "code",
   "execution_count": 48,
   "id": "4656a2a2-6408-4f4b-8f47-cf5e2c4ad5cc",
   "metadata": {
    "slideshow": {
     "slide_type": "-"
    }
   },
   "outputs": [
    {
     "data": {
      "text/plain": [
       "5"
      ]
     },
     "execution_count": 48,
     "metadata": {},
     "output_type": "execute_result"
    }
   ],
   "source": [
    "b"
   ]
  },
  {
   "cell_type": "code",
   "execution_count": 49,
   "id": "f10b21fc-898e-4d21-b4e8-40f6be67e192",
   "metadata": {
    "slideshow": {
     "slide_type": "-"
    }
   },
   "outputs": [
    {
     "data": {
      "text/plain": [
       "6"
      ]
     },
     "execution_count": 49,
     "metadata": {},
     "output_type": "execute_result"
    }
   ],
   "source": [
    "c"
   ]
  },
  {
   "cell_type": "markdown",
   "id": "236fc4e8-3940-4f82-bb37-49c8614924ed",
   "metadata": {
    "slideshow": {
     "slide_type": "subslide"
    },
    "tags": []
   },
   "source": [
    "### Dicionário"
   ]
  },
  {
   "cell_type": "markdown",
   "id": "f9e16c66-275b-4dd8-b0b6-61e111c45f1f",
   "metadata": {
    "slideshow": {
     "slide_type": "-"
    }
   },
   "source": [
    "<pre>conhecido na literatura como tabela de dispersão, armazena uma coleção de pares (!) <i>chave-valor</i> de tamanho flexível, em que chave e valor são objetos Python -- mas a chave precisa ser imutável!</pre>\n",
    "\n",
    "👉 dica: dicionário provavelmente é a estrutura de dados nativa mais importante do Python, pois é extremamente rápido."
   ]
  },
  {
   "cell_type": "markdown",
   "id": "c1fd1ae6-bfd8-4835-9ab9-d482fdf9aa41",
   "metadata": {
    "slideshow": {
     "slide_type": "subslide"
    }
   },
   "source": [
    "<pre>Você pode criar um dicionário...</pre>"
   ]
  },
  {
   "cell_type": "code",
   "execution_count": 50,
   "id": "4d6a34fe-da4d-4100-9734-d0901511effb",
   "metadata": {
    "slideshow": {
     "slide_type": "-"
    }
   },
   "outputs": [
    {
     "data": {
      "text/plain": [
       "{'Canada': 38.25, 'Brasil': 214.3}"
      ]
     },
     "execution_count": 50,
     "metadata": {},
     "output_type": "execute_result"
    }
   ],
   "source": [
    "# população em milhões\n",
    "\n",
    "populacao = {'Canada': 38.25, 'Brasil': 214.3}\n",
    "populacao"
   ]
  },
  {
   "cell_type": "code",
   "execution_count": 51,
   "id": "12e7ca7f",
   "metadata": {},
   "outputs": [
    {
     "data": {
      "text/plain": [
       "{'a': 'algum valor', 'b': [1, 2, 3, 4]}"
      ]
     },
     "execution_count": 51,
     "metadata": {},
     "output_type": "execute_result"
    }
   ],
   "source": [
    "# aceita diferentes tipos de dados\n",
    "d1 = {'a': 'algum valor', 'b': [1, 2, 3, 4]}\n",
    "d1"
   ]
  },
  {
   "cell_type": "markdown",
   "id": "33f80faa-0b7e-4628-87df-96cd9072a0da",
   "metadata": {
    "slideshow": {
     "slide_type": "-"
    }
   },
   "source": [
    "<pre>... você pode acessar um dicionário com a chave...</pre>"
   ]
  },
  {
   "cell_type": "code",
   "execution_count": 52,
   "id": "fbdab80c-057b-4bb9-968b-f7f598a8166d",
   "metadata": {
    "slideshow": {
     "slide_type": "-"
    }
   },
   "outputs": [
    {
     "data": {
      "text/plain": [
       "214.3"
      ]
     },
     "execution_count": 52,
     "metadata": {},
     "output_type": "execute_result"
    }
   ],
   "source": [
    "populacao['Brasil']"
   ]
  },
  {
   "cell_type": "code",
   "execution_count": 53,
   "id": "c254fc9d-ce0c-4071-acab-aea0db38d725",
   "metadata": {
    "slideshow": {
     "slide_type": "-"
    }
   },
   "outputs": [
    {
     "data": {
      "text/plain": [
       "'não encontramos!'"
      ]
     },
     "execution_count": 53,
     "metadata": {},
     "output_type": "execute_result"
    }
   ],
   "source": [
    "populacao.get('EUA', 'não encontramos!')"
   ]
  },
  {
   "cell_type": "markdown",
   "id": "1728c5d6-8cdb-44db-8787-a30978af129d",
   "metadata": {
    "slideshow": {
     "slide_type": "subslide"
    }
   },
   "source": [
    "<pre>... e <b>pode</b> alterar o valor associado a uma chave!</pre>"
   ]
  },
  {
   "cell_type": "code",
   "execution_count": 54,
   "id": "8e9f81df-7eb3-4a4e-85e7-1164f25b86cf",
   "metadata": {
    "slideshow": {
     "slide_type": "-"
    }
   },
   "outputs": [
    {
     "data": {
      "text/plain": [
       "{'Canada': 38.25, 'Brasil': 215}"
      ]
     },
     "execution_count": 54,
     "metadata": {},
     "output_type": "execute_result"
    }
   ],
   "source": [
    "# população do Brasil aumentou para 215 milhões\n",
    "populacao['Brasil'] = 215\n",
    "populacao"
   ]
  },
  {
   "cell_type": "markdown",
   "id": "32703363-efca-406b-b5ad-6607837e4407",
   "metadata": {
    "slideshow": {
     "slide_type": "-"
    }
   },
   "source": [
    "<pre>Já que você pode alterá-lo, você pode adicionar novos pares <i>chave-valor</i>...</pre>"
   ]
  },
  {
   "cell_type": "code",
   "execution_count": 55,
   "id": "54fb12ab-5834-4f70-a9f5-1d7e0179ccfb",
   "metadata": {
    "slideshow": {
     "slide_type": "-"
    }
   },
   "outputs": [
    {
     "data": {
      "text/plain": [
       "{'Canada': 38.25,\n",
       " 'Brasil': 215,\n",
       " 'EUA': '331.9 milhões',\n",
       " 'pais': 'qualquer valor'}"
      ]
     },
     "execution_count": 55,
     "metadata": {},
     "output_type": "execute_result"
    }
   ],
   "source": [
    "populacao['EUA'] = '331.9 milhões'\n",
    "populacao['pais'] = 'qualquer valor'\n",
    "populacao"
   ]
  },
  {
   "cell_type": "code",
   "execution_count": 56,
   "id": "d689edda",
   "metadata": {},
   "outputs": [
    {
     "data": {
      "text/plain": [
       "{'Canada': 38.25, 'Brasil': 215, 'EUA': 331.9, 'pais': 'qualquer valor'}"
      ]
     },
     "execution_count": 56,
     "metadata": {},
     "output_type": "execute_result"
    }
   ],
   "source": [
    "#atualizando novamente\n",
    "populacao['EUA'] = 331.9\n",
    "populacao"
   ]
  },
  {
   "cell_type": "markdown",
   "id": "ca51b20a-dd71-4e14-b86c-3893358186fd",
   "metadata": {
    "slideshow": {
     "slide_type": "subslide"
    }
   },
   "source": [
    "<pre>... remover chaves (e consequentemente seus valores associados)...</pre>"
   ]
  },
  {
   "cell_type": "code",
   "execution_count": 57,
   "id": "fde78378-2d80-4e38-bdfa-7828ac9e8073",
   "metadata": {
    "slideshow": {
     "slide_type": "-"
    }
   },
   "outputs": [
    {
     "data": {
      "text/plain": [
       "{'Canada': 38.25, 'Brasil': 215, 'EUA': 331.9}"
      ]
     },
     "execution_count": 57,
     "metadata": {},
     "output_type": "execute_result"
    }
   ],
   "source": [
    "del populacao['pais']\n",
    "populacao"
   ]
  },
  {
   "cell_type": "code",
   "execution_count": 58,
   "id": "d2086f30-4e8c-47c6-b3e6-fd2ae32a17d8",
   "metadata": {
    "slideshow": {
     "slide_type": "-"
    }
   },
   "outputs": [
    {
     "data": {
      "text/plain": [
       "331.9"
      ]
     },
     "execution_count": 58,
     "metadata": {},
     "output_type": "execute_result"
    }
   ],
   "source": [
    "populacao_EUA = populacao.pop(\"EUA\")\n",
    "populacao_EUA"
   ]
  },
  {
   "cell_type": "code",
   "execution_count": 59,
   "id": "fb19b757-abbe-4088-9816-72db7b7d15ca",
   "metadata": {
    "slideshow": {
     "slide_type": "-"
    }
   },
   "outputs": [
    {
     "data": {
      "text/plain": [
       "{'Canada': 38.25, 'Brasil': 215}"
      ]
     },
     "execution_count": 59,
     "metadata": {},
     "output_type": "execute_result"
    }
   ],
   "source": [
    "populacao"
   ]
  },
  {
   "cell_type": "markdown",
   "id": "73f776df-005c-48d1-a839-3f2e78e8ad00",
   "metadata": {
    "slideshow": {
     "slide_type": "subslide"
    }
   },
   "source": [
    "<pre>... mas <b>não é possível</b> (re)ordenar as chaves! a ordem das chaves é a ordem em que foram inseridas.</pre>"
   ]
  },
  {
   "cell_type": "code",
   "execution_count": 60,
   "id": "dda7a79c-3cfa-47c7-ace4-2e469576322e",
   "metadata": {
    "slideshow": {
     "slide_type": "-"
    }
   },
   "outputs": [
    {
     "data": {
      "text/plain": [
       "dict_keys(['Canada', 'Brasil'])"
      ]
     },
     "execution_count": 60,
     "metadata": {},
     "output_type": "execute_result"
    }
   ],
   "source": [
    "populacao.keys()"
   ]
  },
  {
   "cell_type": "code",
   "execution_count": 61,
   "id": "1ecc5cb4-2d42-4721-8e52-9ce41ade26d1",
   "metadata": {
    "slideshow": {
     "slide_type": "-"
    }
   },
   "outputs": [
    {
     "data": {
      "text/plain": [
       "dict_values([38.25, 215])"
      ]
     },
     "execution_count": 61,
     "metadata": {},
     "output_type": "execute_result"
    }
   ],
   "source": [
    "populacao.values()"
   ]
  },
  {
   "cell_type": "code",
   "execution_count": 62,
   "id": "d070254c-77eb-44fe-9f7a-967361a85162",
   "metadata": {
    "slideshow": {
     "slide_type": "-"
    }
   },
   "outputs": [
    {
     "data": {
      "text/plain": [
       "dict_items([('Canada', 38.25), ('Brasil', 215)])"
      ]
     },
     "execution_count": 62,
     "metadata": {},
     "output_type": "execute_result"
    }
   ],
   "source": [
    "populacao.items()"
   ]
  },
  {
   "cell_type": "markdown",
   "id": "be2d02d1-8410-479b-a332-e50e9691a9e9",
   "metadata": {
    "slideshow": {
     "slide_type": "subslide"
    }
   },
   "source": [
    "<pre>como dicionário é uma estrutura de tamanho variável, faz sentido buscar chaves...</pre>"
   ]
  },
  {
   "cell_type": "code",
   "execution_count": 63,
   "id": "5b9c6c16-cf8c-4903-9be4-d0d16791dd1e",
   "metadata": {
    "slideshow": {
     "slide_type": "-"
    }
   },
   "outputs": [
    {
     "data": {
      "text/plain": [
       "True"
      ]
     },
     "execution_count": 63,
     "metadata": {},
     "output_type": "execute_result"
    }
   ],
   "source": [
    "'Brasil' in populacao"
   ]
  },
  {
   "cell_type": "code",
   "execution_count": 64,
   "id": "3f0f1cce-3714-4e0f-bcd0-29f60f8268cf",
   "metadata": {
    "slideshow": {
     "slide_type": "-"
    }
   },
   "outputs": [
    {
     "data": {
      "text/plain": [
       "False"
      ]
     },
     "execution_count": 64,
     "metadata": {},
     "output_type": "execute_result"
    }
   ],
   "source": [
    "'Egito' in populacao"
   ]
  },
  {
   "cell_type": "markdown",
   "id": "6f4ae786-db2e-4d66-a2b0-640d00d6ab3b",
   "metadata": {
    "slideshow": {
     "slide_type": "subslide"
    }
   },
   "source": [
    "<pre>aninhar, concatenar, copiar e desempacotar são possíveis em dicionários, mas com adaptações.</pre>"
   ]
  },
  {
   "cell_type": "markdown",
   "id": "21061dd5-f632-4581-afda-31f095dc547d",
   "metadata": {
    "slideshow": {
     "slide_type": "-"
    }
   },
   "source": [
    "👉 dica: não concatenamos com dicionário, mas sim mesclamos com o método <i>.update</i>\n",
    "\n",
    "🚨 não existe o operador <i>+</i>, nem o operador <i>*</i>."
   ]
  },
  {
   "cell_type": "code",
   "execution_count": 65,
   "id": "3b4fb9a3",
   "metadata": {
    "slideshow": {
     "slide_type": "-"
    }
   },
   "outputs": [
    {
     "data": {
      "text/plain": [
       "{'Brasil': {'populacao': '214.3 milhões', 'lingua': 'portugues'},\n",
       " 'Canada': {'populacao': '38.25 milhões', 'lingua': 'ingles'}}"
      ]
     },
     "execution_count": 65,
     "metadata": {},
     "output_type": "execute_result"
    }
   ],
   "source": [
    "# E se além do tamanho da população, \n",
    "# quero inserir no meu dicionário as linguas faladas no país?\n",
    "paises = {\n",
    "    'Brasil':{\n",
    "        'populacao':'214.3 milhões',\n",
    "        'lingua': 'portugues'\n",
    "    },\n",
    "    'Canada': {\n",
    "        'populacao':'38.25 milhões',\n",
    "        'lingua':'ingles'\n",
    "    }\n",
    "}\n",
    "paises"
   ]
  },
  {
   "cell_type": "code",
   "execution_count": 66,
   "id": "7235b044",
   "metadata": {
    "slideshow": {
     "slide_type": "subslide"
    }
   },
   "outputs": [
    {
     "data": {
      "text/plain": [
       "{'Brasil': {'populacao': '214.3 milhões', 'lingua': 'portugues'},\n",
       " 'Canada': {'populacao': '38.25 milhões', 'lingua': ['ingles', 'frances']}}"
      ]
     },
     "execution_count": 66,
     "metadata": {},
     "output_type": "execute_result"
    }
   ],
   "source": [
    "# Mas no Canadá também se fala francês \n",
    "paises = {\n",
    "    'Brasil':{\n",
    "        'populacao':'214.3 milhões',\n",
    "        'lingua': 'portugues'\n",
    "        },\n",
    "    'Canada': {\n",
    "        'populacao':'38.25 milhões',\n",
    "        'lingua': ['ingles', 'frances']\n",
    "        }\n",
    "}\n",
    "paises"
   ]
  },
  {
   "cell_type": "code",
   "execution_count": 67,
   "id": "5711d676",
   "metadata": {
    "slideshow": {
     "slide_type": "-"
    }
   },
   "outputs": [
    {
     "data": {
      "text/plain": [
       "'portugues'"
      ]
     },
     "execution_count": 67,
     "metadata": {},
     "output_type": "execute_result"
    }
   ],
   "source": [
    "# Acessando a lingua falada no Brasil\n",
    "paises['Brasil']['lingua']"
   ]
  },
  {
   "cell_type": "code",
   "execution_count": 68,
   "id": "1eaf1ad5-b5a6-42c2-8e4c-fbdc9aa3c4ef",
   "metadata": {
    "slideshow": {
     "slide_type": "subslide"
    }
   },
   "outputs": [
    {
     "data": {
      "text/plain": [
       "{'Brasil': {'populacao': '214.3 milhões', 'lingua': 'portugues'},\n",
       " 'Canada': {'populacao': '38.25 milhões', 'lingua': ['ingles', 'frances']}}"
      ]
     },
     "execution_count": 68,
     "metadata": {},
     "output_type": "execute_result"
    }
   ],
   "source": [
    "paises.copy()"
   ]
  },
  {
   "cell_type": "markdown",
   "id": "1a1baffd-cd76-4e1b-9386-e9778b443e41",
   "metadata": {
    "slideshow": {
     "slide_type": "subslide"
    },
    "tags": []
   },
   "source": [
    "### Conjunto"
   ]
  },
  {
   "cell_type": "markdown",
   "id": "2a982079-2273-4fa7-a5ec-027d5d687cd1",
   "metadata": {
    "slideshow": {
     "slide_type": "-"
    }
   },
   "source": [
    "<pre>Um conjunto (set) é uma coleção não ordenada de elementos únicos.</pre>"
   ]
  },
  {
   "cell_type": "markdown",
   "id": "7155f9ca-f16a-4339-9bea-a3c2d3c50e4f",
   "metadata": {
    "slideshow": {
     "slide_type": "-"
    }
   },
   "source": [
    "👉 dica: podemos pensar neles como dicionários, mas somente com as chaves, sem os valores."
   ]
  },
  {
   "cell_type": "markdown",
   "id": "a0b58668-6bf7-44ad-b8f4-2179630229b4",
   "metadata": {
    "slideshow": {
     "slide_type": "subslide"
    }
   },
   "source": [
    "<pre>Você pode criar um conjunto...</pre>"
   ]
  },
  {
   "cell_type": "code",
   "execution_count": 69,
   "id": "26718b02-6412-49ef-8e9b-f3e5d302e824",
   "metadata": {
    "slideshow": {
     "slide_type": "-"
    }
   },
   "outputs": [
    {
     "data": {
      "text/plain": [
       "set()"
      ]
     },
     "execution_count": 69,
     "metadata": {},
     "output_type": "execute_result"
    }
   ],
   "source": [
    "s1 = set()\n",
    "s1"
   ]
  },
  {
   "cell_type": "code",
   "execution_count": 70,
   "id": "f807fa36-aaed-432c-b1ae-f75d6aa6ddd2",
   "metadata": {
    "slideshow": {
     "slide_type": "-"
    }
   },
   "outputs": [
    {
     "data": {
      "text/plain": [
       "{'Africa do Sul', 'Brasil', 'China', 'India', 'Russia'}"
      ]
     },
     "execution_count": 70,
     "metadata": {},
     "output_type": "execute_result"
    }
   ],
   "source": [
    "s1 = {'Brasil', 'Russia', 'India', 'China', 'Africa do Sul'}\n",
    "s1"
   ]
  },
  {
   "cell_type": "markdown",
   "id": "075f1fa3-5ddf-4c1c-af4f-f74b54869fc8",
   "metadata": {
    "slideshow": {
     "slide_type": "subslide"
    }
   },
   "source": [
    "<pre>em que o seu grande diferencial é o uso de operações específicas da teoria de conjuntos.</pre>"
   ]
  },
  {
   "cell_type": "code",
   "execution_count": 71,
   "id": "6f5ee40a-e907-41f0-a786-e9c53ef4218f",
   "metadata": {
    "slideshow": {
     "slide_type": "-"
    }
   },
   "outputs": [],
   "source": [
    "a = {'Brasil', 'Russia', 'India', 'China', 'Africa do Sul'}\n",
    "b = {'Brasil', 'Russia', 'India', 'China', 'Africa do Sul', 'Arabia Saudita', 'Egito', 'Argentina', 'Irã'}"
   ]
  },
  {
   "cell_type": "code",
   "execution_count": 72,
   "id": "d3caacbc-7562-4666-8bbd-6e7fb648dd02",
   "metadata": {
    "slideshow": {
     "slide_type": "-"
    }
   },
   "outputs": [
    {
     "data": {
      "text/plain": [
       "{'Africa do Sul',\n",
       " 'Arabia Saudita',\n",
       " 'Argentina',\n",
       " 'Brasil',\n",
       " 'China',\n",
       " 'Egito',\n",
       " 'India',\n",
       " 'Irã',\n",
       " 'Russia'}"
      ]
     },
     "execution_count": 72,
     "metadata": {},
     "output_type": "execute_result"
    }
   ],
   "source": [
    "a.union(b)"
   ]
  },
  {
   "cell_type": "code",
   "execution_count": 73,
   "id": "78635a9b-7a43-4d24-9456-b87a043dfe0e",
   "metadata": {
    "slideshow": {
     "slide_type": "-"
    }
   },
   "outputs": [
    {
     "data": {
      "text/plain": [
       "{'Africa do Sul', 'Brasil', 'China', 'India', 'Russia'}"
      ]
     },
     "execution_count": 73,
     "metadata": {},
     "output_type": "execute_result"
    }
   ],
   "source": [
    "a.intersection(b)"
   ]
  },
  {
   "cell_type": "code",
   "execution_count": 74,
   "id": "389e379a-8e5d-4e6b-906f-7fa68a7cf2b6",
   "metadata": {
    "slideshow": {
     "slide_type": "-"
    }
   },
   "outputs": [
    {
     "data": {
      "text/plain": [
       "set()"
      ]
     },
     "execution_count": 74,
     "metadata": {},
     "output_type": "execute_result"
    }
   ],
   "source": [
    "a.difference(b)"
   ]
  },
  {
   "cell_type": "code",
   "execution_count": 75,
   "id": "26339b02-15b4-44ce-9b3a-585c73f019ba",
   "metadata": {
    "slideshow": {
     "slide_type": "-"
    }
   },
   "outputs": [
    {
     "data": {
      "text/plain": [
       "{'Arabia Saudita', 'Argentina', 'Egito', 'Irã'}"
      ]
     },
     "execution_count": 75,
     "metadata": {},
     "output_type": "execute_result"
    }
   ],
   "source": [
    "b.difference(a)"
   ]
  },
  {
   "cell_type": "markdown",
   "id": "b2751595-12cf-4025-ae19-789f7bb875fb",
   "metadata": {
    "slideshow": {
     "slide_type": "subslide"
    }
   },
   "source": [
    "#### Quadro-resumo dos métodos de operação em conjuntos do Python"
   ]
  },
  {
   "cell_type": "markdown",
   "id": "f4a6a532-7202-46a3-a85e-31aef488f7a6",
   "metadata": {
    "slideshow": {
     "slide_type": "-"
    }
   },
   "source": [
    "<table>\n",
    "    <tr><th>Função</th><th>Sintaxe Alternativa</th><th>Descrição</th></tr>\n",
    "    <tr><td>a.add(x)</td><td>N/A</td><td>Adiciona o elemento x ao conjunto a</td></tr>\n",
    "    <tr><td>a.clear()</td><td>N/A</td><td>Reinicia o conjunto a deixando-o em um estado vazio, descartando todos os seus elementos</td></tr>\n",
    "    <tr><td>a.remove(x)</td><td>N/A</td><td>Remove o elemento x do conjunto a</td></tr>\n",
    "    <tr><td>a.pop()</td><td>N/A</td><td>Remove um elemento arbitrário do conjunto a, gerando um KeyError se o conjunto estiver vazio</td></tr>\n",
    "    <tr><td>a.union(b)</td><td>a | b</td><td>Todos os elementos únicos em a e b</td></tr>\n",
    "    <tr><td>a.update(b)</td><td>a |= b</td><td>Define o conteúdo de a como a união dos elementos em a e b</td></tr>\n",
    "    <tr><td>a.intersection(b)</td><td>a & b</td><td>Todos os elementos tanto em a quanto em b</td></tr>\n",
    "    <tr><td>a.intersection_update(b)</td><td>a &= b</td><td>Define o conteúdo de a como a interseccão dos elementos em a e em b</td></tr>\n",
    "    <tr><td>a.difference(b)</td><td>a - b</td><td>Os elementos em a que não estão em b</td></tr>\n",
    "    <tr><td>a.difference_update(b)</td><td>a -= b</td><td>Define a com os elementos que estão em a, mas que não estão em b</td></tr>\n",
    "    <tr><td>a.symmetric_difference(b)</td><td>a ^ b</td><td>Todos os elementos que estão em a ou em b, mas não em ambos</td></tr>\n",
    "    <tr><td>a.symmetric_difference_update(b)</td><td>a ^= b</td><td>Define a para que contenha os elementos que estão em a ou em b, mas não em ambos</td></tr>\n",
    "    <tr><td>a.issubset(b)</td><td>N/A</td><td>True se os elementos de a estiverem todos contidos em b</td></tr>\n",
    "    <tr><td>a.issuperset(b)</td><td>N/A</td><td>True se os elementos de b estiverem todos contidos em a</td></tr>\n",
    "    <tr><td>a.isdisjoint(b)</td><td>N/A</td><td>True se a e b não tiverem elementos em comum</td></tr>\n",
    "</table>"
   ]
  },
  {
   "cell_type": "markdown",
   "id": "cee51e52-2872-4272-ad87-ec32a9b48e4c",
   "metadata": {
    "slideshow": {
     "slide_type": "subslide"
    },
    "tags": []
   },
   "source": [
    "### Quadro-resumo da Sintaxe das Estruturas de Dados 🏛️ 🎲"
   ]
  },
  {
   "cell_type": "markdown",
   "id": "02ca5343-09d9-46f3-a166-c2dd7bbc0640",
   "metadata": {
    "slideshow": {
     "slide_type": "-"
    }
   },
   "source": [
    "<table>\n",
    "    <tr><th>Estrutura de Dados</th><th>Notação</th></tr>\n",
    "    <tr><td>Tupla</td><td><b>(</b>elemento_1, elemento_2<b>)</b></td></tr>\n",
    "    <tr><td>Lista</td><td><b>[</b>elemento_1, elemento_2<b>]</b></td></tr>\n",
    "    <tr><td>Dicionário</td><td><b>{</b>elemento_1_chave: elemento_1_valor, elemento_1_chave: elemento_2_valor<b>}</b></td></tr>\n",
    "    <tr><td>Conjunto</td><td><b>{</b>elemento_1, elemento_2<b>}</b></td></tr>\n",
    "</table>"
   ]
  },
  {
   "cell_type": "markdown",
   "id": "4f011b47-70bb-45f8-853a-974197b5354f",
   "metadata": {
    "slideshow": {
     "slide_type": "subslide"
    },
    "tags": []
   },
   "source": [
    "### 🗞️ Extra! Abrangências"
   ]
  },
  {
   "cell_type": "markdown",
   "id": "ae8215d6-7163-48ff-8a08-6a3ee57713a2",
   "metadata": {
    "slideshow": {
     "slide_type": "-"
    }
   },
   "source": [
    "<pre>A maneira pythônica de criar listas, dicionários e conjuntos com uma linha!</pre>"
   ]
  },
  {
   "cell_type": "code",
   "execution_count": 76,
   "id": "6a32294c-bc48-44d5-8eca-cc05bef83846",
   "metadata": {
    "slideshow": {
     "slide_type": "-"
    }
   },
   "outputs": [],
   "source": [
    "BRICS = ['Brasil', 'Russia', 'India', 'China', 'Africa do Sul']"
   ]
  },
  {
   "cell_type": "markdown",
   "id": "97c5fdb0-ebf0-4357-9f1f-51cd1725bae3",
   "metadata": {
    "slideshow": {
     "slide_type": "subslide"
    }
   },
   "source": [
    "#### List comprehension"
   ]
  },
  {
   "cell_type": "markdown",
   "id": "572e1abb-c309-47a5-af0c-0d9ee4e89d5d",
   "metadata": {
    "slideshow": {
     "slide_type": "-"
    }
   },
   "source": [
    "<table>\n",
    "<tr><th colspan='2'>Formas Distintas de Criar a Mesma Lista</th><th></th></tr>\n",
    "<tr><th>Expressão #01</th><th>Expressão #02</th></tr>\n",
    "<tr><td>\n",
    "<code>result = []\n",
    "for value in collection:\n",
    "    if condition:\n",
    "        result.append(expr)</code>\n",
    "</td><td>\n",
    "<code>result = [expr for value in collection if condition]</code>\n",
    "</td></tr>\n",
    "</table>"
   ]
  },
  {
   "cell_type": "code",
   "execution_count": 77,
   "id": "dd8cfa01-1b78-4baa-a6bb-863836d9718e",
   "metadata": {
    "slideshow": {
     "slide_type": "-"
    }
   },
   "outputs": [
    {
     "data": {
      "text/plain": [
       "['Brasil', 'Russia', 'India', 'China', 'Africa do Sul']"
      ]
     },
     "execution_count": 77,
     "metadata": {},
     "output_type": "execute_result"
    }
   ],
   "source": [
    "BRICS"
   ]
  },
  {
   "cell_type": "code",
   "execution_count": 78,
   "id": "a0759a3a-66d9-44fd-8b55-f44ddfe9c00d",
   "metadata": {
    "slideshow": {
     "slide_type": "-"
    }
   },
   "outputs": [
    {
     "data": {
      "text/plain": [
       "['BRASIL', 'RUSSIA', 'AFRICA DO SUL']"
      ]
     },
     "execution_count": 78,
     "metadata": {},
     "output_type": "execute_result"
    }
   ],
   "source": [
    "lst = []\n",
    "for x in BRICS:\n",
    "    if len(x) > 5:\n",
    "        lst.append(x.upper())\n",
    "lst"
   ]
  },
  {
   "cell_type": "code",
   "execution_count": 79,
   "id": "9d25f22a-8daf-4e6a-8fef-cda55e99ed56",
   "metadata": {
    "slideshow": {
     "slide_type": "-"
    }
   },
   "outputs": [
    {
     "data": {
      "text/plain": [
       "['BRASIL', 'RUSSIA', 'AFRICA DO SUL']"
      ]
     },
     "execution_count": 79,
     "metadata": {},
     "output_type": "execute_result"
    }
   ],
   "source": [
    "[x.upper() for x in BRICS if len(x) > 5]"
   ]
  },
  {
   "cell_type": "markdown",
   "id": "679ea99d-3e97-4c82-9df7-ae7751197a61",
   "metadata": {
    "slideshow": {
     "slide_type": "subslide"
    }
   },
   "source": [
    "#### Dict comprehension"
   ]
  },
  {
   "cell_type": "markdown",
   "id": "5ca0002b-4fbf-4584-ace1-f6c106619fcd",
   "metadata": {
    "slideshow": {
     "slide_type": "-"
    }
   },
   "source": [
    "<table>\n",
    "<tr><th colspan='2'>Formas Distintas de Criar o Mesmo Dicionário</th><th></th></tr>\n",
    "<tr><th>Expressão #01</th><th>Expressão #02</th></tr>\n",
    "<tr><td>\n",
    "<code>result = {}\n",
    "for value in collection:\n",
    "    if condition:\n",
    "        result[expr1] = expr2</code>\n",
    "</td><td>\n",
    "<code>result = {expr1: expr2 for value in collection if condition}</code>\n",
    "</td></tr>\n",
    "</table>"
   ]
  },
  {
   "cell_type": "code",
   "execution_count": 80,
   "id": "baaa724e-3449-4c36-aa5f-bf36f019902d",
   "metadata": {
    "slideshow": {
     "slide_type": "-"
    }
   },
   "outputs": [
    {
     "data": {
      "text/plain": [
       "['Brasil', 'Russia', 'India', 'China', 'Africa do Sul']"
      ]
     },
     "execution_count": 80,
     "metadata": {},
     "output_type": "execute_result"
    }
   ],
   "source": [
    "BRICS"
   ]
  },
  {
   "cell_type": "code",
   "execution_count": 81,
   "id": "256a42fc-5bdb-42db-b70d-c29dfa39bcf3",
   "metadata": {
    "slideshow": {
     "slide_type": "-"
    }
   },
   "outputs": [
    {
     "data": {
      "text/plain": [
       "{'BRASIL': 6, 'RUSSIA': 6, 'AFRICA DO SUL': 13}"
      ]
     },
     "execution_count": 81,
     "metadata": {},
     "output_type": "execute_result"
    }
   ],
   "source": [
    "result = {}\n",
    "for value in BRICS:\n",
    "    if len(value) > 5:\n",
    "        result[value.upper()] = len(value)\n",
    "result"
   ]
  },
  {
   "cell_type": "code",
   "execution_count": 82,
   "id": "3ea4a355-39f1-4ea7-ae1b-4690fcfa6e98",
   "metadata": {
    "slideshow": {
     "slide_type": "-"
    }
   },
   "outputs": [
    {
     "data": {
      "text/plain": [
       "{'BRASIL': 6, 'RUSSIA': 6, 'AFRICA DO SUL': 13}"
      ]
     },
     "execution_count": 82,
     "metadata": {},
     "output_type": "execute_result"
    }
   ],
   "source": [
    "{value.upper(): len(value) for value in BRICS if len(value) > 5}"
   ]
  },
  {
   "cell_type": "markdown",
   "id": "5fa5456c-07d1-4b91-bce4-7a35e0d76259",
   "metadata": {
    "slideshow": {
     "slide_type": "subslide"
    }
   },
   "source": [
    "#### Set comprehension"
   ]
  },
  {
   "cell_type": "markdown",
   "id": "a4e38c92-6ed3-4b7d-a217-937734dfd37f",
   "metadata": {
    "slideshow": {
     "slide_type": "-"
    }
   },
   "source": [
    "<table>\n",
    "<tr><th colspan='2'>Formas Distintas de Criar o Mesmo Conjunto</th></tr>\n",
    "<tr><th>Expressão #01</th><th>Expressão #02</th></tr>\n",
    "<tr><td>\n",
    "<code>result = set()\n",
    "for value in collection:\n",
    "    if condition:\n",
    "        result.add(expr)</code>\n",
    "</td><td>\n",
    "<code>result = {value in collection if condition}</code>\n",
    "</td></tr>\n",
    "</table>"
   ]
  },
  {
   "cell_type": "code",
   "execution_count": 83,
   "id": "569844e1-ec47-440f-954d-43aac807cbe8",
   "metadata": {
    "slideshow": {
     "slide_type": "-"
    }
   },
   "outputs": [
    {
     "data": {
      "text/plain": [
       "['Brasil', 'Russia', 'India', 'China', 'Africa do Sul']"
      ]
     },
     "execution_count": 83,
     "metadata": {},
     "output_type": "execute_result"
    }
   ],
   "source": [
    "BRICS"
   ]
  },
  {
   "cell_type": "code",
   "execution_count": 84,
   "id": "3f016423-c61c-45ad-b5fe-b7bb48967507",
   "metadata": {
    "slideshow": {
     "slide_type": "-"
    }
   },
   "outputs": [
    {
     "data": {
      "text/plain": [
       "{'AFRICA DO SUL', 'BRASIL', 'RUSSIA'}"
      ]
     },
     "execution_count": 84,
     "metadata": {},
     "output_type": "execute_result"
    }
   ],
   "source": [
    "result = set()\n",
    "for value in BRICS:\n",
    "    if len(value) > 5:\n",
    "        result.add(value.upper())\n",
    "result"
   ]
  },
  {
   "cell_type": "code",
   "execution_count": 85,
   "id": "ed48ed11-ae7f-4eed-ba70-b17cb69a35ae",
   "metadata": {
    "slideshow": {
     "slide_type": "-"
    }
   },
   "outputs": [
    {
     "data": {
      "text/plain": [
       "{'AFRICA DO SUL', 'BRASIL', 'RUSSIA'}"
      ]
     },
     "execution_count": 85,
     "metadata": {},
     "output_type": "execute_result"
    }
   ],
   "source": [
    "{value.upper() for value in BRICS if len(value) > 5}"
   ]
  },
  {
   "cell_type": "markdown",
   "id": "aeb59310-191d-4454-a9d2-1b88a725b792",
   "metadata": {
    "slideshow": {
     "slide_type": "slide"
    },
    "tags": []
   },
   "source": [
    "## Sequências 🎰"
   ]
  },
  {
   "cell_type": "markdown",
   "id": "4613bd3a-bd1a-4d65-93e8-52df3f328093",
   "metadata": {
    "slideshow": {
     "slide_type": "-"
    }
   },
   "source": [
    "👉 Referência: <a href='https://docs.python.org/3/tutorial/datastructures.html#looping-techniques'>docs.python.org</a>"
   ]
  },
  {
   "cell_type": "markdown",
   "id": "686f4fc0-b6f1-446f-aed4-b1906dd096d7",
   "metadata": {
    "slideshow": {
     "slide_type": "subslide"
    },
    "tags": []
   },
   "source": [
    "### enumerate"
   ]
  },
  {
   "cell_type": "markdown",
   "id": "03bdc2ba-bd41-4f30-a297-de0025687455",
   "metadata": {
    "slideshow": {
     "slide_type": "-"
    }
   },
   "source": [
    "<pre>é comum: percorrer uma coleção de dados e precisar, no laço corrente, da atual posição do elemento</pre>"
   ]
  },
  {
   "cell_type": "markdown",
   "id": "93751083-264e-4b9e-be0c-c0ae4532e724",
   "metadata": {
    "slideshow": {
     "slide_type": "-"
    }
   },
   "source": [
    "👉 dica: pode não parecer, mas acredite: é extremamente comum!"
   ]
  },
  {
   "cell_type": "markdown",
   "id": "ef585287-d004-47ff-97b3-3cf35e822231",
   "metadata": {
    "slideshow": {
     "slide_type": "-"
    }
   },
   "source": [
    "<code>for index, value in enumerate(collection):\n",
    "    faça algo</code>"
   ]
  },
  {
   "cell_type": "code",
   "execution_count": 86,
   "id": "730cdf86-a244-4563-bc8f-9d853bf9066d",
   "metadata": {
    "slideshow": {
     "slide_type": "-"
    }
   },
   "outputs": [
    {
     "name": "stdout",
     "output_type": "stream",
     "text": [
      "0 10\n",
      "1 20\n",
      "2 30\n",
      "3 40\n"
     ]
    }
   ],
   "source": [
    "for index, value in enumerate([10,20,30,40]):\n",
    "    print(index, value)"
   ]
  },
  {
   "cell_type": "markdown",
   "id": "eb45382b-bfaa-4f10-8684-2b3b24f47a6a",
   "metadata": {
    "slideshow": {
     "slide_type": "subslide"
    },
    "tags": []
   },
   "source": [
    "### sorted"
   ]
  },
  {
   "cell_type": "markdown",
   "id": "89ec38cb-8d5d-4bf4-85e4-507eb9815c72",
   "metadata": {
    "slideshow": {
     "slide_type": "-"
    }
   },
   "source": [
    "<pre>é comum: percorrer uma coleção de dados com o método <i>sorted</i>, que ordena uma estrutura de dados</pre>"
   ]
  },
  {
   "cell_type": "markdown",
   "id": "45346a01-a997-4ed5-a69b-e79eb28b904a",
   "metadata": {
    "slideshow": {
     "slide_type": "-"
    }
   },
   "source": [
    "👉 dica: o método <i>sorted</i> aceita os mesmos parâmetros do método <i>sort</i>, mas o primeiro gera uma nova coleção, enquanto o segundo opera <i>in-place</i>."
   ]
  },
  {
   "cell_type": "code",
   "execution_count": 87,
   "id": "81a83211-f758-4d22-a9c0-5f52806399b1",
   "metadata": {
    "slideshow": {
     "slide_type": "-"
    }
   },
   "outputs": [
    {
     "data": {
      "text/plain": [
       "[0, 1, 2, 2, 3, 6, 7]"
      ]
     },
     "execution_count": 87,
     "metadata": {},
     "output_type": "execute_result"
    }
   ],
   "source": [
    "sorted([7, 1, 2, 6, 0, 3, 2])"
   ]
  },
  {
   "cell_type": "code",
   "execution_count": 88,
   "id": "67b94382-b1f3-40c7-8c66-b72404da13c7",
   "metadata": {
    "slideshow": {
     "slide_type": "-"
    }
   },
   "outputs": [
    {
     "data": {
      "text/plain": [
       "['a', 'c', 'd', 'i', 'o', 'r', 'r']"
      ]
     },
     "execution_count": 88,
     "metadata": {},
     "output_type": "execute_result"
    }
   ],
   "source": [
    "sorted('corrida')"
   ]
  },
  {
   "cell_type": "markdown",
   "id": "04732d79-57a5-4195-b3d9-07b3f9ff0168",
   "metadata": {
    "slideshow": {
     "slide_type": "subslide"
    },
    "tags": []
   },
   "source": [
    "### zip"
   ]
  },
  {
   "cell_type": "markdown",
   "id": "598f58a5-9557-4638-bb3b-b722fc2334f7",
   "metadata": {
    "slideshow": {
     "slide_type": "-"
    }
   },
   "source": [
    "<pre>é comum: parear elementos de coleções distintas com o método <i>zip</i></pre>"
   ]
  },
  {
   "cell_type": "markdown",
   "id": "c5a88cce-fbde-414f-8150-050ad75c8262",
   "metadata": {
    "slideshow": {
     "slide_type": "-"
    }
   },
   "source": [
    "👉 dica: <i>zip</i> pode receber um número arbitrário de coleções, e o número de elementos que ele produz é determinado pela coleção mais curta"
   ]
  },
  {
   "cell_type": "code",
   "execution_count": 89,
   "id": "75286ebb-df97-40ad-a634-ded6c61b4361",
   "metadata": {
    "slideshow": {
     "slide_type": "-"
    }
   },
   "outputs": [
    {
     "name": "stdout",
     "output_type": "stream",
     "text": [
      "(1, 'um', 'one', 'un')\n",
      "(2, 'dois', 'two', 'deux')\n",
      "(3, 'tres', 'three', 'trois')\n"
     ]
    }
   ],
   "source": [
    "ordinal = [1, 2, 3]\n",
    "portugues = ['um', 'dois', 'tres', 'quatro']\n",
    "ingles = ['one', 'two', 'three']\n",
    "frances = ['un', 'deux', 'trois']\n",
    "\n",
    "for tupla in zip(ordinal, portugues, ingles, frances):\n",
    "    print(tupla)"
   ]
  },
  {
   "cell_type": "markdown",
   "id": "05748203-9800-4c0e-95b7-1cf8f70733e6",
   "metadata": {
    "slideshow": {
     "slide_type": "subslide"
    },
    "tags": []
   },
   "source": [
    "### reversed"
   ]
  },
  {
   "cell_type": "markdown",
   "id": "8492cc8a-6877-46d0-affc-a94329eee65b",
   "metadata": {
    "slideshow": {
     "slide_type": "-"
    }
   },
   "source": [
    "<pre>é comum: inverter a ordem de uma coleção com o método <i>reversed</i></pre>"
   ]
  },
  {
   "cell_type": "code",
   "execution_count": 90,
   "id": "e738830a-96b3-4514-85a4-8bc21084d301",
   "metadata": {
    "slideshow": {
     "slide_type": "-"
    }
   },
   "outputs": [
    {
     "name": "stdout",
     "output_type": "stream",
     "text": [
      "assim à ai aia a missa"
     ]
    }
   ],
   "source": [
    "for c in reversed('assim a aia ia à missa'):\n",
    "    print(c, end='')\n",
    "#Millôr Fernandes"
   ]
  },
  {
   "cell_type": "code",
   "execution_count": 91,
   "id": "f065a70d-7a76-41b2-8d34-f8fac42a529b",
   "metadata": {
    "slideshow": {
     "slide_type": "-"
    }
   },
   "outputs": [
    {
     "name": "stdout",
     "output_type": "stream",
     "text": [
      "rir obrev everb o ,rir"
     ]
    }
   ],
   "source": [
    "for c in reversed('rir, o breve verbo rir'):\n",
    "    print(c, end='')\n",
    "#Laerte"
   ]
  },
  {
   "cell_type": "code",
   "execution_count": 92,
   "id": "e8050f31-13ce-4b85-8c86-a6f09f405be5",
   "metadata": {
    "slideshow": {
     "slide_type": "-"
    }
   },
   "outputs": [
    {
     "name": "stdout",
     "output_type": "stream",
     "text": [
      "atere agansib arit atirabis nagaeR éta"
     ]
    }
   ],
   "source": [
    "for c in reversed('até Reagan sibarita tira bisnaga ereta'):\n",
    "    print(c, end='')\n",
    "#Chico Buarque"
   ]
  },
  {
   "cell_type": "code",
   "execution_count": 93,
   "id": "b505f975-e215-4822-9487-4cb4e170b145",
   "metadata": {
    "slideshow": {
     "slide_type": "-"
    }
   },
   "outputs": [
    {
     "name": "stdout",
     "output_type": "stream",
     "text": [
      "ir enerI"
     ]
    }
   ],
   "source": [
    "for c in reversed('Irene ri'):\n",
    "    print(c, end='')\n",
    "#Caetano Veloso"
   ]
  },
  {
   "cell_type": "markdown",
   "id": "85938398-218b-44fe-9355-5ee80f109696",
   "metadata": {
    "slideshow": {
     "slide_type": "subslide"
    }
   },
   "source": [
    "👉 dica de leitura: \n",
    "<ul>\n",
    "    <li><a href='https://piaui.folha.uol.com.br/materia/ai-e-luta-patuleia/'>AÍ É LUTA, PATULÉIA!</a> (para palíndromo); e</li>\n",
    "    <li><a href='https://en.wikipedia.org/wiki/Sator_Square'>Quadrado Sator</a> (para word square)</li>\n",
    "</ul>"
   ]
  },
  {
   "cell_type": "code",
   "execution_count": 94,
   "id": "44aefa5e-1012-4f4c-8100-10d3ac39432e",
   "metadata": {
    "slideshow": {
     "slide_type": "-"
    }
   },
   "outputs": [
    {
     "data": {
      "image/jpeg": "[encoded data removed]",
      "text/html": [
       "\n",
       "        <iframe\n",
       "            width=\"400\"\n",
       "            height=\"300\"\n",
       "            src=\"https://www.youtube.com/embed/w6PN3NCQjQg\"\n",
       "            frameborder=\"0\"\n",
       "            allowfullscreen\n",
       "            \n",
       "        ></iframe>\n",
       "        "
      ],
      "text/plain": [
       "<IPython.lib.display.YouTubeVideo at 0x10570eb10>"
      ]
     },
     "execution_count": 94,
     "metadata": {},
     "output_type": "execute_result"
    }
   ],
   "source": [
    "from IPython.display import YouTubeVideo\n",
    "YouTubeVideo(id='w6PN3NCQjQg')"
   ]
  },
  {
   "cell_type": "markdown",
   "id": "8e23533e-8677-4d59-a001-63ce0721c23c",
   "metadata": {
    "slideshow": {
     "slide_type": "slide"
    },
    "tags": []
   },
   "source": [
    "## Funções🧑🏽‍🔧 (inclui funções anônimas/lambda 🥷🏽) "
   ]
  },
  {
   "cell_type": "markdown",
   "id": "5c6562e1-46ff-4d9d-91e5-929cf764679f",
   "metadata": {
    "slideshow": {
     "slide_type": "-"
    }
   },
   "source": [
    "<pre>As funções são o principal e mais importante método de organização de código e reutilização em Python.</pre>"
   ]
  },
  {
   "cell_type": "markdown",
   "id": "63c72f39-ca6d-4524-82fd-e7de04c19b60",
   "metadata": {
    "slideshow": {
     "slide_type": "-"
    }
   },
   "source": [
    "Você pode definir sua função:\n",
    "<ul>\n",
    "    <li>com a palavra reservada <i>def</i>;</li>\n",
    "    <li>com argumentos entre parênteses e separados por vírgula;</li>\n",
    "    <li>e um comando opcional de retorno com a palavra reservada <i>return</i></li>\n",
    "</ul>"
   ]
  },
  {
   "cell_type": "markdown",
   "id": "bc2518bb-6ead-4506-8058-a76dd4112980",
   "metadata": {
    "slideshow": {
     "slide_type": "-"
    }
   },
   "source": [
    "👉 Referência: <a href='https://docs.python.org/3/tutorial/controlflow.html#defining-functions'>docs.python.org</a>"
   ]
  },
  {
   "cell_type": "code",
   "execution_count": 95,
   "id": "5fb43446-91c5-49df-b726-09336bbd144c",
   "metadata": {
    "slideshow": {
     "slide_type": "subslide"
    }
   },
   "outputs": [],
   "source": [
    "def my_function(x, y):\n",
    "    return x + y"
   ]
  },
  {
   "cell_type": "code",
   "execution_count": 96,
   "id": "3e16b34a-7730-4610-be31-cd902aff85e7",
   "metadata": {
    "slideshow": {
     "slide_type": "-"
    }
   },
   "outputs": [
    {
     "data": {
      "text/plain": [
       "3"
      ]
     },
     "execution_count": 96,
     "metadata": {},
     "output_type": "execute_result"
    }
   ],
   "source": [
    "my_function(1, 2)"
   ]
  },
  {
   "cell_type": "code",
   "execution_count": 97,
   "id": "7600beb2-5563-4c65-9bea-9db9e3b91ecb",
   "metadata": {
    "slideshow": {
     "slide_type": "-"
    }
   },
   "outputs": [],
   "source": [
    "def function_without_return(x):\n",
    "    print(x)"
   ]
  },
  {
   "cell_type": "code",
   "execution_count": 98,
   "id": "38bb9b61-3c8a-47ee-b7c0-e5b0a4a771dc",
   "metadata": {
    "slideshow": {
     "slide_type": "-"
    }
   },
   "outputs": [
    {
     "name": "stdout",
     "output_type": "stream",
     "text": [
      "hello!\n"
     ]
    }
   ],
   "source": [
    "function_without_return(\"hello!\")"
   ]
  },
  {
   "cell_type": "markdown",
   "id": "aa2b54f5-bd70-4a79-b885-390154e6cd29",
   "metadata": {
    "slideshow": {
     "slide_type": "-"
    }
   },
   "source": [
    "<pre>Você pode atribuir o valor retornado pela função para uma variável</pre>"
   ]
  },
  {
   "cell_type": "code",
   "execution_count": 99,
   "id": "874862af-8ac7-4179-9ff0-4f0bb02bbde2",
   "metadata": {
    "slideshow": {
     "slide_type": "-"
    }
   },
   "outputs": [
    {
     "data": {
      "text/plain": [
       "3"
      ]
     },
     "execution_count": 99,
     "metadata": {},
     "output_type": "execute_result"
    }
   ],
   "source": [
    "result = my_function(1, 2)\n",
    "result"
   ]
  },
  {
   "cell_type": "markdown",
   "id": "d7299e89-9b50-41f9-93f1-bed6eb195b33",
   "metadata": {
    "slideshow": {
     "slide_type": "subslide"
    }
   },
   "source": [
    "<pre>Você pode ter argumentos posicionais (<i>positional arguments</i>) e argumentos nomeados (<i>keyword arguments</i>).</pre>"
   ]
  },
  {
   "cell_type": "markdown",
   "id": "2abd13b7-ee59-4027-984a-c028341eefca",
   "metadata": {
    "slideshow": {
     "slide_type": "-"
    }
   },
   "source": [
    "<ul>\n",
    "<li>Argumentos nomeados: opcionais, que recebem um valor padrão (por atribuição);</li>\n",
    "<li>Argumentos posicionais: obrigatórios, que não recebem um valor padrão; e</li>\n",
    "</ul>\n",
    "\n",
    "🚨 Os argumentos nomeados devem vir depois dos argumentos posicionais, caso existam."
   ]
  },
  {
   "cell_type": "code",
   "execution_count": 100,
   "id": "264113ae-c355-4ad5-a807-f70500b53a65",
   "metadata": {
    "slideshow": {
     "slide_type": "-"
    }
   },
   "outputs": [],
   "source": [
    "def my_function2(x, y, z=1.5):\n",
    "    if z > 1:\n",
    "        return z * (x + y)\n",
    "    else:\n",
    "        return z / (x + y)"
   ]
  },
  {
   "cell_type": "code",
   "execution_count": 101,
   "id": "76e1ee2a-a3ba-4cb5-8b13-617f21ff7aac",
   "metadata": {
    "slideshow": {
     "slide_type": "-"
    }
   },
   "outputs": [
    {
     "data": {
      "text/plain": [
       "0.06363636363636363"
      ]
     },
     "execution_count": 101,
     "metadata": {},
     "output_type": "execute_result"
    }
   ],
   "source": [
    "my_function2(5, 6, z=0.7)"
   ]
  },
  {
   "cell_type": "code",
   "execution_count": 102,
   "id": "108f0949-be1d-452d-a0b0-e5bc5fc1ec34",
   "metadata": {
    "slideshow": {
     "slide_type": "-"
    }
   },
   "outputs": [
    {
     "data": {
      "text/plain": [
       "35.49"
      ]
     },
     "execution_count": 102,
     "metadata": {},
     "output_type": "execute_result"
    }
   ],
   "source": [
    "my_function2(3.14, 7, 3.5)"
   ]
  },
  {
   "cell_type": "code",
   "execution_count": 103,
   "id": "d56d8b64-eb32-4303-952f-26f93d743ce1",
   "metadata": {
    "slideshow": {
     "slide_type": "-"
    }
   },
   "outputs": [
    {
     "data": {
      "text/plain": [
       "45.0"
      ]
     },
     "execution_count": 103,
     "metadata": {},
     "output_type": "execute_result"
    }
   ],
   "source": [
    "my_function2(10, 20)"
   ]
  },
  {
   "cell_type": "markdown",
   "id": "78d56387-a605-46fc-8e71-43acec09aec3",
   "metadata": {
    "slideshow": {
     "slide_type": "subslide"
    },
    "tags": []
   },
   "source": [
    "### Escopo (📭 🆚 📪)"
   ]
  },
  {
   "cell_type": "markdown",
   "id": "b6350f10-de1f-4410-8f15-608db295abc0",
   "metadata": {
    "slideshow": {
     "slide_type": "-"
    }
   },
   "source": [
    "<pre>Cuidado! As funções podem acessar variáveis em dois escopos diferentes: <b>global</b> e <b>local</b>.</pre>\n",
    "\n",
    "👉 dica: evite usar o escopo global"
   ]
  },
  {
   "cell_type": "code",
   "execution_count": 104,
   "id": "c69a55c4-4e7f-4680-9fe8-433b2eceb00b",
   "metadata": {
    "slideshow": {
     "slide_type": "-"
    }
   },
   "outputs": [
    {
     "name": "stdout",
     "output_type": "stream",
     "text": [
      "[1, 2, 3, 4, 5, 6]\n",
      "[1, 2, 3, 4, 5, 6]\n"
     ]
    }
   ],
   "source": [
    "a = [1, 2, 3]\n",
    "def func():\n",
    "    global a\n",
    "    a.extend([4, 5, 6])\n",
    "    print(a)\n",
    "    \n",
    "func()\n",
    "print(a)"
   ]
  },
  {
   "cell_type": "code",
   "execution_count": 105,
   "id": "f76e188d-6859-4235-8484-d7942cdbef16",
   "metadata": {
    "slideshow": {
     "slide_type": "-"
    }
   },
   "outputs": [
    {
     "name": "stdout",
     "output_type": "stream",
     "text": [
      "[1, 2, 3, 4, 5, 6]\n",
      "[1, 2, 3]\n"
     ]
    }
   ],
   "source": [
    "a = [1, 2, 3]\n",
    "def func():\n",
    "    a = [1, 2, 3]\n",
    "    a.extend([4, 5, 6])\n",
    "    print(a)\n",
    "    \n",
    "func()\n",
    "print(a)"
   ]
  },
  {
   "cell_type": "markdown",
   "id": "7175a7e5-e3b5-4964-b99e-398af3d2694f",
   "metadata": {
    "slideshow": {
     "slide_type": "subslide"
    },
    "tags": []
   },
   "source": [
    "### Múltiplos Retornos 🥞"
   ]
  },
  {
   "cell_type": "markdown",
   "id": "5948b4a9-b040-479e-ba17-e7f46b9ba9ae",
   "metadata": {
    "slideshow": {
     "slide_type": "-"
    }
   },
   "source": [
    "<pre>Você pode retornar mais de um valor, como vimos em <i>tuplas</i>...</pre>"
   ]
  },
  {
   "cell_type": "code",
   "execution_count": 106,
   "id": "db3180f0-ced9-45ae-ae15-15005abb2d4d",
   "metadata": {
    "slideshow": {
     "slide_type": "-"
    }
   },
   "outputs": [],
   "source": [
    "def f():\n",
    "    a = 5\n",
    "    b = 6\n",
    "    c = 7\n",
    "    return a, b, c\n",
    "a, b, c = f()"
   ]
  },
  {
   "cell_type": "code",
   "execution_count": 107,
   "id": "997b41cd-b58b-4fd3-944d-476c2c6da5c4",
   "metadata": {
    "slideshow": {
     "slide_type": "-"
    }
   },
   "outputs": [
    {
     "data": {
      "text/plain": [
       "5"
      ]
     },
     "execution_count": 107,
     "metadata": {},
     "output_type": "execute_result"
    }
   ],
   "source": [
    "a"
   ]
  },
  {
   "cell_type": "code",
   "execution_count": 108,
   "id": "3fb42f50-da7a-4b8b-9336-f8e74cdcc348",
   "metadata": {
    "slideshow": {
     "slide_type": "-"
    }
   },
   "outputs": [
    {
     "data": {
      "text/plain": [
       "6"
      ]
     },
     "execution_count": 108,
     "metadata": {},
     "output_type": "execute_result"
    }
   ],
   "source": [
    "b"
   ]
  },
  {
   "cell_type": "code",
   "execution_count": 109,
   "id": "f403cb8f-a999-402c-9102-c26e9457756e",
   "metadata": {
    "slideshow": {
     "slide_type": "-"
    }
   },
   "outputs": [
    {
     "data": {
      "text/plain": [
       "7"
      ]
     },
     "execution_count": 109,
     "metadata": {},
     "output_type": "execute_result"
    }
   ],
   "source": [
    "c"
   ]
  },
  {
   "cell_type": "markdown",
   "id": "30ed27e2-9f7b-4eca-b1a0-f70c44e0f0a1",
   "metadata": {
    "slideshow": {
     "slide_type": "subslide"
    },
    "tags": []
   },
   "source": [
    "### Funções Anônimas/Lambda 🥷"
   ]
  },
  {
   "cell_type": "markdown",
   "id": "8432fc33-932a-4473-a1b4-05fd00d40df0",
   "metadata": {
    "slideshow": {
     "slide_type": "-"
    },
    "tags": []
   },
   "source": [
    "<pre>As funções anônimas são funções em Python que podem ser definidas sem um nome formal.</pre>"
   ]
  },
  {
   "cell_type": "markdown",
   "id": "d439a5ce-6c59-42bd-8ea9-cf4cb7814b58",
   "metadata": {
    "slideshow": {
     "slide_type": "-"
    },
    "tags": []
   },
   "source": [
    "👉 dica: essa é uma forma de escrever funções, constituídas de uma única instrução, cujo resultado é o valor de retorno."
   ]
  },
  {
   "cell_type": "code",
   "execution_count": 110,
   "id": "63c44d5d-7df0-4f9c-9ef8-64e656d0ab02",
   "metadata": {
    "slideshow": {
     "slide_type": "-"
    },
    "tags": []
   },
   "outputs": [
    {
     "data": {
      "text/plain": [
       "<function __main__.<lambda>(x)>"
      ]
     },
     "execution_count": 110,
     "metadata": {},
     "output_type": "execute_result"
    }
   ],
   "source": [
    "(lambda x: x*2)"
   ]
  },
  {
   "cell_type": "code",
   "execution_count": 111,
   "id": "94a8edca-0dd1-4fa1-bd6d-a00337a5e247",
   "metadata": {
    "slideshow": {
     "slide_type": "-"
    },
    "tags": []
   },
   "outputs": [
    {
     "data": {
      "text/plain": [
       "4"
      ]
     },
     "execution_count": 111,
     "metadata": {},
     "output_type": "execute_result"
    }
   ],
   "source": [
    "(lambda x: x*2)(2)"
   ]
  },
  {
   "cell_type": "markdown",
   "id": "3d32f0bc-d45f-40a2-b9b1-29bc0cb19a76",
   "metadata": {
    "slideshow": {
     "slide_type": "subslide"
    }
   },
   "source": [
    "<pre>Para tornar mais claro, perceba que a função anônima acima equivale à função abaixo.</pre>"
   ]
  },
  {
   "cell_type": "code",
   "execution_count": 112,
   "id": "c54ef2ee-d022-4ac8-85f1-cfac99817c8f",
   "metadata": {
    "slideshow": {
     "slide_type": "-"
    }
   },
   "outputs": [],
   "source": [
    "def short_function(x):\n",
    "    return x * 2"
   ]
  },
  {
   "cell_type": "code",
   "execution_count": 113,
   "id": "f82b3f34-da43-40fe-87cf-cb89cdba6000",
   "metadata": {
    "slideshow": {
     "slide_type": "-"
    }
   },
   "outputs": [
    {
     "data": {
      "text/plain": [
       "4"
      ]
     },
     "execution_count": 113,
     "metadata": {},
     "output_type": "execute_result"
    }
   ],
   "source": [
    "short_function(2)"
   ]
  },
  {
   "cell_type": "markdown",
   "id": "7b768978-1060-4fc6-8a99-f2c90fdc50e2",
   "metadata": {
    "slideshow": {
     "slide_type": "-"
    }
   },
   "source": [
    "<pre>Note que você pode atribuir a função anônima a uma variável, que assumirá o nome formal da função</pre>"
   ]
  },
  {
   "cell_type": "code",
   "execution_count": 114,
   "id": "a772752f-0655-4ec2-bc77-9b043f11f0c8",
   "metadata": {
    "slideshow": {
     "slide_type": "-"
    }
   },
   "outputs": [],
   "source": [
    "short_function = lambda x: x*2"
   ]
  },
  {
   "cell_type": "code",
   "execution_count": 115,
   "id": "b3044942-2c81-4957-99e1-6f84459eab79",
   "metadata": {
    "slideshow": {
     "slide_type": "-"
    }
   },
   "outputs": [
    {
     "data": {
      "text/plain": [
       "4"
      ]
     },
     "execution_count": 115,
     "metadata": {},
     "output_type": "execute_result"
    }
   ],
   "source": [
    "short_function(2)"
   ]
  },
  {
   "cell_type": "markdown",
   "id": "204b6acc-f3a2-4b4b-b346-31d855970a7c",
   "metadata": {
    "slideshow": {
     "slide_type": "subslide"
    }
   },
   "source": [
    "👉 mais dica: importante para análise de dados porque muitas vezes as funções de transformação de dados aceitarão funções como argumentos"
   ]
  },
  {
   "cell_type": "code",
   "execution_count": 116,
   "id": "c6bdd0c8-17ec-404c-be1e-7fae8e76101d",
   "metadata": {
    "slideshow": {
     "slide_type": "-"
    }
   },
   "outputs": [
    {
     "data": {
      "text/plain": [
       "{'Ceará', 'Distrito Federal'}"
      ]
     },
     "execution_count": 116,
     "metadata": {},
     "output_type": "execute_result"
    }
   ],
   "source": [
    "raw_states = [' Ceará ', 'CEará', 'ceará', 'distrito Federal', \n",
    "              '    Distrito Federal']\n",
    "\n",
    "def limpar_estados(raw_states, clean_operation):\n",
    "    return set([clean_operation(state) for state in raw_states])\n",
    "\n",
    "def limpar_estado(raw_state):\n",
    "    return raw_state.lstrip().rstrip().title()\n",
    "\n",
    "limpar_estados(raw_states, limpar_estado)"
   ]
  },
  {
   "cell_type": "code",
   "execution_count": 117,
   "id": "5974bac3-055c-461a-851a-3a980881ccaf",
   "metadata": {
    "slideshow": {
     "slide_type": "-"
    }
   },
   "outputs": [
    {
     "data": {
      "text/plain": [
       "{'Ceará', 'Distrito Federal'}"
      ]
     },
     "execution_count": 117,
     "metadata": {},
     "output_type": "execute_result"
    }
   ],
   "source": [
    "raw_states = [' Ceará ', 'CEará', 'ceará', 'distrito Federal', \n",
    "              '    Distrito Federal']\n",
    "\n",
    "limpar_estados = lambda raw_states, clean_operation: set([clean_operation(state) for state in raw_states])\n",
    "\n",
    "#muito comum em análise de dados\n",
    "limpar_estados(raw_states, lambda x: x.lstrip().rstrip().title())"
   ]
  },
  {
   "cell_type": "markdown",
   "id": "eb964e60",
   "metadata": {
    "slideshow": {
     "slide_type": "subslide"
    }
   },
   "source": [
    "👉 curiosidade: por que lambda é palavra reservada para função anônima? \n",
    "\n",
    "As funções anônimas têm origem no trabalho de <a href='https://en.wikipedia.org/wiki/Alonzo_Church'>Alonzo Church</a> sobre sua invenção chamada <a href='https://en.wikipedia.org/wiki/Lambda_calculus'>cálculo lambda</a>, onde todas as funções são <a href='https://en.wikipedia.org/wiki/Anonymous_function'>funções anônimas</a>. "
   ]
  },
  {
   "cell_type": "markdown",
   "id": "01c9b47b",
   "metadata": {
    "slideshow": {
     "slide_type": "subslide"
    }
   },
   "source": [
    "### 🚨 Palavras Reservadas"
   ]
  },
  {
   "cell_type": "markdown",
   "id": "4dd524b4-d89a-4261-a262-59e295acedf6",
   "metadata": {
    "slideshow": {
     "slide_type": "-"
    }
   },
   "source": [
    "<pre>Em Python, algumas palavras têm um significado especial.</pre>"
   ]
  },
  {
   "cell_type": "markdown",
   "id": "d571b6fc-f066-4c6b-af58-2088a21a9cda",
   "metadata": {
    "slideshow": {
     "slide_type": "-"
    }
   },
   "source": [
    "<pre>Não podemos usá-las para outras finalidades, como nome da função ou da variável.</pre>"
   ]
  },
  {
   "cell_type": "code",
   "execution_count": 118,
   "id": "4d7e266a-6ca2-4b68-b972-05413b36ce39",
   "metadata": {
    "slideshow": {
     "slide_type": "-"
    }
   },
   "outputs": [
    {
     "name": "stdout",
     "output_type": "stream",
     "text": [
      "['False', 'None', 'True', 'and', 'as', 'assert', 'async', 'await', 'break', 'class', 'continue', 'def', 'del', 'elif', 'else', 'except', 'finally', 'for', 'from', 'global', 'if', 'import', 'in', 'is', 'lambda', 'nonlocal', 'not', 'or', 'pass', 'raise', 'return', 'try', 'while', 'with', 'yield']\n"
     ]
    }
   ],
   "source": [
    "from keyword import kwlist\n",
    "\n",
    "print(kwlist)"
   ]
  },
  {
   "cell_type": "markdown",
   "id": "76e6e716-526d-48a3-b3e3-9ed3b437183b",
   "metadata": {
    "slideshow": {
     "slide_type": "slide"
    },
    "tags": []
   },
   "source": [
    "## Erros 🚫 e tratamento de exceção ✅"
   ]
  },
  {
   "cell_type": "markdown",
   "id": "499c2711-732d-4e78-8ccc-b68aac01fb80",
   "metadata": {
    "slideshow": {
     "slide_type": "-"
    }
   },
   "source": [
    "<pre>Tratar erros ou exceções de modo elegante é uma parte importante na construção de programas robustos.</pre>"
   ]
  },
  {
   "cell_type": "markdown",
   "id": "e203bc44-d367-46dc-b725-d187984b9dd4",
   "metadata": {
    "slideshow": {
     "slide_type": "-"
    }
   },
   "source": [
    "👉 dica: Em aplicações de análise de dados, muitas funções servem somente para determinados tipos de entrada."
   ]
  },
  {
   "cell_type": "markdown",
   "id": "31b13ea6-2c0f-4616-b6ed-761fe14fbbd5",
   "metadata": {
    "slideshow": {
     "slide_type": "-"
    }
   },
   "source": [
    "👉 Referência: <a href='https://docs.python.org/3/reference/executionmodel.html#exceptions'>docs.python.org</a>"
   ]
  },
  {
   "cell_type": "markdown",
   "id": "0cf6c0b1-538b-4a16-a2d7-3cb28e9c1c99",
   "metadata": {
    "slideshow": {
     "slide_type": "subslide"
    }
   },
   "source": [
    "<pre>Você pode usar a função <i>float</i> para fazer cast de uma string para um número de ponto flutuante...</pre>"
   ]
  },
  {
   "cell_type": "code",
   "execution_count": 119,
   "id": "24bbb8fc-1fc2-46f9-99c0-c0acc7ce034e",
   "metadata": {
    "slideshow": {
     "slide_type": "-"
    }
   },
   "outputs": [],
   "source": [
    "def converte_para_float(x):\n",
    "    return float(x)"
   ]
  },
  {
   "cell_type": "code",
   "execution_count": 120,
   "id": "933d4fbb-0cde-4238-9a5f-27c632c526ca",
   "metadata": {
    "slideshow": {
     "slide_type": "-"
    },
    "tags": []
   },
   "outputs": [
    {
     "data": {
      "text/plain": [
       "3.14"
      ]
     },
     "execution_count": 120,
     "metadata": {},
     "output_type": "execute_result"
    }
   ],
   "source": [
    "converte_para_float('3.14')"
   ]
  },
  {
   "cell_type": "markdown",
   "id": "4e017f8a-3332-4b6f-aab5-7721ee516567",
   "metadata": {
    "slideshow": {
     "slide_type": "-"
    }
   },
   "source": [
    "<pre>... porém a função falha se os dados de entrada forem string, informando o erro <i>ValueError</i>!</pre>"
   ]
  },
  {
   "cell_type": "code",
   "execution_count": 121,
   "id": "80ae4780-889c-45c7-9186-575c1478b22c",
   "metadata": {
    "slideshow": {
     "slide_type": "-"
    }
   },
   "outputs": [],
   "source": [
    "# converte_para_float('frase')"
   ]
  },
  {
   "cell_type": "markdown",
   "id": "09791ddb-a355-4bb3-be99-cdfc67d1f44b",
   "metadata": {
    "slideshow": {
     "slide_type": "subslide"
    }
   },
   "source": [
    "<pre>Você pode tratar o erro de forma elegante com as palavras-chave <i>try</i>/<i>except</i>, capturando o erro <i>ValueError</i>...</pre>"
   ]
  },
  {
   "cell_type": "code",
   "execution_count": 122,
   "id": "8dfc054d-e547-4698-bfa3-e65dccd93eae",
   "metadata": {
    "slideshow": {
     "slide_type": "-"
    }
   },
   "outputs": [],
   "source": [
    "def converte_para_float(x):\n",
    "    try:\n",
    "        return float(x)\n",
    "    except ValueError:\n",
    "        return x"
   ]
  },
  {
   "cell_type": "code",
   "execution_count": 123,
   "id": "24f12fba-9e39-46b2-bbf4-edf11dd5c645",
   "metadata": {
    "slideshow": {
     "slide_type": "-"
    }
   },
   "outputs": [
    {
     "data": {
      "text/plain": [
       "3.14"
      ]
     },
     "execution_count": 123,
     "metadata": {},
     "output_type": "execute_result"
    }
   ],
   "source": [
    "converte_para_float('3.14')"
   ]
  },
  {
   "cell_type": "code",
   "execution_count": 124,
   "id": "55f9139e-e700-40e3-8732-9c126176743c",
   "metadata": {
    "slideshow": {
     "slide_type": "-"
    }
   },
   "outputs": [
    {
     "data": {
      "text/plain": [
       "'frase'"
      ]
     },
     "execution_count": 124,
     "metadata": {},
     "output_type": "execute_result"
    }
   ],
   "source": [
    "converte_para_float('frase')"
   ]
  },
  {
   "cell_type": "markdown",
   "id": "124e827e-1e0e-4d1a-889a-c4a47547f4a0",
   "metadata": {
    "slideshow": {
     "slide_type": "subslide"
    }
   },
   "source": [
    "<pre>... porém a função falha se os dados de entrada forem tuplas, agora informando o erro <i>TypeError</i>!</pre>"
   ]
  },
  {
   "cell_type": "code",
   "execution_count": 125,
   "id": "99a9b58d-9715-45cd-8734-992d197e115e",
   "metadata": {
    "slideshow": {
     "slide_type": "-"
    }
   },
   "outputs": [],
   "source": [
    "# converte_para_float((1,2))"
   ]
  },
  {
   "cell_type": "markdown",
   "id": "1638485c-48da-4d54-9701-f8bace9464fb",
   "metadata": {
    "slideshow": {
     "slide_type": "-"
    }
   },
   "source": [
    "<pre>Você pode capturar vários tipos de exceção escrevendo uma tupla de tipos de exceção (com parênteses)</pre>"
   ]
  },
  {
   "cell_type": "code",
   "execution_count": 126,
   "id": "6aab2abf-6c41-4ce7-9d61-5639dfdcae03",
   "metadata": {
    "slideshow": {
     "slide_type": "-"
    }
   },
   "outputs": [],
   "source": [
    "def converte_para_float(x):\n",
    "    try:\n",
    "        return float(x)\n",
    "    except (ValueError, TypeError):\n",
    "        return x"
   ]
  },
  {
   "cell_type": "code",
   "execution_count": 127,
   "id": "90562c7e-7dae-446e-8793-85b1558d3490",
   "metadata": {
    "slideshow": {
     "slide_type": "-"
    }
   },
   "outputs": [
    {
     "data": {
      "text/plain": [
       "3.14"
      ]
     },
     "execution_count": 127,
     "metadata": {},
     "output_type": "execute_result"
    }
   ],
   "source": [
    "converte_para_float('3.14')"
   ]
  },
  {
   "cell_type": "code",
   "execution_count": 128,
   "id": "6da8be0c-b9db-4cc4-80c2-c1e99fa7d361",
   "metadata": {
    "slideshow": {
     "slide_type": "-"
    }
   },
   "outputs": [
    {
     "data": {
      "text/plain": [
       "'frase'"
      ]
     },
     "execution_count": 128,
     "metadata": {},
     "output_type": "execute_result"
    }
   ],
   "source": [
    "converte_para_float('frase')"
   ]
  },
  {
   "cell_type": "code",
   "execution_count": 129,
   "id": "4014c6b2-ae39-4877-b84f-dae53523961a",
   "metadata": {
    "slideshow": {
     "slide_type": "-"
    }
   },
   "outputs": [
    {
     "data": {
      "text/plain": [
       "(1, 2)"
      ]
     },
     "execution_count": 129,
     "metadata": {},
     "output_type": "execute_result"
    }
   ],
   "source": [
    "converte_para_float((1,2))"
   ]
  },
  {
   "cell_type": "markdown",
   "id": "23699e4d-d0c2-4f3f-b58e-ed7eb5154221",
   "metadata": {
    "slideshow": {
     "slide_type": "subslide"
    }
   },
   "source": [
    "<ul>\n",
    "    <li>por fim, você pode ter um código que execute <b>somente se</b> o <i>try</i> for bem-sucedido usando <i>else</i>; e</li>\n",
    "    <li>você pode ter um código que sempre execute, independentemente de o código no bloco try ter sido bem-sucedido, usando <i>finally</i>.</li>\n",
    "</ul>\n"
   ]
  },
  {
   "cell_type": "code",
   "execution_count": 130,
   "id": "42da7273-c2a1-48d0-bcd1-cfd0d686e125",
   "metadata": {
    "slideshow": {
     "slide_type": "-"
    }
   },
   "outputs": [],
   "source": [
    "def converte_para_float(x):\n",
    "    try:\n",
    "        y = float(x)\n",
    "    except (ValueError, TypeError):\n",
    "        print('deu erro')\n",
    "        return x\n",
    "    else:\n",
    "        print('funcionou')\n",
    "        return y\n",
    "    finally:\n",
    "        print('vou sempre executar, independentemente do resultado')"
   ]
  },
  {
   "cell_type": "code",
   "execution_count": 131,
   "id": "dc179855-326d-44a7-a21b-12d7f45f50cd",
   "metadata": {
    "slideshow": {
     "slide_type": "subslide"
    }
   },
   "outputs": [
    {
     "name": "stdout",
     "output_type": "stream",
     "text": [
      "funcionou\n",
      "vou sempre executar, independentemente do resultado\n"
     ]
    },
    {
     "data": {
      "text/plain": [
       "3.14"
      ]
     },
     "execution_count": 131,
     "metadata": {},
     "output_type": "execute_result"
    }
   ],
   "source": [
    "converte_para_float('3.14')"
   ]
  },
  {
   "cell_type": "code",
   "execution_count": 132,
   "id": "5f1b66a9-4ac5-4ace-b2b7-8dab2fffc0cd",
   "metadata": {
    "slideshow": {
     "slide_type": "-"
    }
   },
   "outputs": [
    {
     "name": "stdout",
     "output_type": "stream",
     "text": [
      "deu erro\n",
      "vou sempre executar, independentemente do resultado\n"
     ]
    },
    {
     "data": {
      "text/plain": [
       "'frase'"
      ]
     },
     "execution_count": 132,
     "metadata": {},
     "output_type": "execute_result"
    }
   ],
   "source": [
    "converte_para_float('frase')"
   ]
  },
  {
   "cell_type": "code",
   "execution_count": 133,
   "id": "7d3e87c0-dd26-4bfa-8e60-576093ea41c4",
   "metadata": {
    "slideshow": {
     "slide_type": "-"
    },
    "tags": []
   },
   "outputs": [
    {
     "name": "stdout",
     "output_type": "stream",
     "text": [
      "deu erro\n",
      "vou sempre executar, independentemente do resultado\n"
     ]
    },
    {
     "data": {
      "text/plain": [
       "(1, 2)"
      ]
     },
     "execution_count": 133,
     "metadata": {},
     "output_type": "execute_result"
    }
   ],
   "source": [
    "converte_para_float((1,2))"
   ]
  },
  {
   "cell_type": "markdown",
   "id": "aaac50e7-5402-4c7d-b251-02e33d46c5ce",
   "metadata": {},
   "source": [
    "<font size=7><center><code>Executem todo este caderno...</code></center></font>"
   ]
  }
 ],
 "metadata": {
  "celltoolbar": "Slideshow",
  "kernelspec": {
   "display_name": "Python 3 (ipykernel)",
   "language": "python",
   "name": "python3"
  },
  "language_info": {
   "codemirror_mode": {
    "name": "ipython",
    "version": 3
   },
   "file_extension": ".py",
   "mimetype": "text/x-python",
   "name": "python",
   "nbconvert_exporter": "python",
   "pygments_lexer": "ipython3",
   "version": "3.12.4"
  },
  "toc": {
   "base_numbering": 1,
   "nav_menu": {},
   "number_sections": true,
   "sideBar": true,
   "skip_h1_title": false,
   "title_cell": "Table of Contents",
   "title_sidebar": "Contents",
   "toc_cell": false,
   "toc_position": {},
   "toc_section_display": true,
   "toc_window_display": false
  }
 },
 "nbformat": 4,
 "nbformat_minor": 5
}
